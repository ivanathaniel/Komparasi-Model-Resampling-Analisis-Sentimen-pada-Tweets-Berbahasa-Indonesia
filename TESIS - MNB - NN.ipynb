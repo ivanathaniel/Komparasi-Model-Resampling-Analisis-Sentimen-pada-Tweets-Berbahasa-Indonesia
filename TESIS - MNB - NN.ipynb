{
 "cells": [
  {
   "cell_type": "code",
   "execution_count": null,
   "metadata": {
    "colab": {
     "base_uri": "https://localhost:8080/",
     "height": 35
    },
    "colab_type": "code",
    "id": "_zAi1UaKdLpz",
    "outputId": "ef5975ca-795d-4324-e4b3-b5eff549bbdd"
   },
   "outputs": [
    {
     "name": "stdout",
     "output_type": "stream",
     "text": [
      "Drive already mounted at /content/drive; to attempt to forcibly remount, call drive.mount(\"/content/drive\", force_remount=True).\n"
     ]
    }
   ],
   "source": [
    "from google.colab import drive\n",
    "drive.mount('/content/drive')"
   ]
  },
  {
   "cell_type": "code",
   "execution_count": null,
   "metadata": {
    "colab": {
     "base_uri": "https://localhost:8080/",
     "height": 108
    },
    "colab_type": "code",
    "id": "8URXdSl5dRS4",
    "outputId": "f9793066-a2fd-4fce-9423-0f6fe5bd94c3"
   },
   "outputs": [
    {
     "name": "stdout",
     "output_type": "stream",
     "text": [
      "Collecting sastrawi\n",
      "\u001b[?25l  Downloading https://files.pythonhosted.org/packages/6f/4b/bab676953da3103003730b8fcdfadbdd20f333d4add10af949dd5c51e6ed/Sastrawi-1.0.1-py2.py3-none-any.whl (209kB)\n",
      "\r",
      "\u001b[K     |█▋                              | 10kB 16.7MB/s eta 0:00:01\r",
      "\u001b[K     |███▏                            | 20kB 1.7MB/s eta 0:00:01\r",
      "\u001b[K     |████▊                           | 30kB 2.2MB/s eta 0:00:01\r",
      "\u001b[K     |██████▎                         | 40kB 2.5MB/s eta 0:00:01\r",
      "\u001b[K     |███████▉                        | 51kB 1.9MB/s eta 0:00:01\r",
      "\u001b[K     |█████████▍                      | 61kB 2.3MB/s eta 0:00:01\r",
      "\u001b[K     |███████████                     | 71kB 2.5MB/s eta 0:00:01\r",
      "\u001b[K     |████████████▌                   | 81kB 2.7MB/s eta 0:00:01\r",
      "\u001b[K     |██████████████                  | 92kB 2.9MB/s eta 0:00:01\r",
      "\u001b[K     |███████████████▋                | 102kB 2.8MB/s eta 0:00:01\r",
      "\u001b[K     |█████████████████▏              | 112kB 2.8MB/s eta 0:00:01\r",
      "\u001b[K     |██████████████████▊             | 122kB 2.8MB/s eta 0:00:01\r",
      "\u001b[K     |████████████████████▎           | 133kB 2.8MB/s eta 0:00:01\r",
      "\u001b[K     |█████████████████████▉          | 143kB 2.8MB/s eta 0:00:01\r",
      "\u001b[K     |███████████████████████▍        | 153kB 2.8MB/s eta 0:00:01\r",
      "\u001b[K     |█████████████████████████       | 163kB 2.8MB/s eta 0:00:01\r",
      "\u001b[K     |██████████████████████████▋     | 174kB 2.8MB/s eta 0:00:01\r",
      "\u001b[K     |████████████████████████████▏   | 184kB 2.8MB/s eta 0:00:01\r",
      "\u001b[K     |█████████████████████████████▊  | 194kB 2.8MB/s eta 0:00:01\r",
      "\u001b[K     |███████████████████████████████▎| 204kB 2.8MB/s eta 0:00:01\r",
      "\u001b[K     |████████████████████████████████| 215kB 2.8MB/s \n",
      "\u001b[?25hInstalling collected packages: sastrawi\n",
      "Successfully installed sastrawi-1.0.1\n"
     ]
    }
   ],
   "source": [
    "pip install sastrawi"
   ]
  },
  {
   "cell_type": "code",
   "execution_count": null,
   "metadata": {
    "colab": {},
    "colab_type": "code",
    "id": "2zOkb4u1dS8M"
   },
   "outputs": [],
   "source": [
    "import numpy as np\n",
    "import pandas as pd\n",
    "import os\n",
    "import collections\n",
    "import re\n",
    "import string\n",
    "from Sastrawi.Stemmer.StemmerFactory import StemmerFactory\n",
    "from Sastrawi.StopWordRemover.StopWordRemoverFactory import StopWordRemoverFactory\n",
    "\n",
    "from sklearn.naive_bayes import MultinomialNB, ComplementNB\n",
    "from sklearn.feature_extraction.text import TfidfVectorizer, CountVectorizer\n",
    "from sklearn.feature_extraction.text import TfidfTransformer\n",
    "from sklearn.model_selection import StratifiedKFold, train_test_split\n",
    "from sklearn.metrics import accuracy_score, precision_score, recall_score, f1_score, classification_report, confusion_matrix\n",
    "from sklearn.preprocessing import LabelEncoder\n",
    "\n",
    "from imblearn.pipeline import make_pipeline\n",
    "from imblearn.over_sampling import SMOTE\n",
    "from imblearn.under_sampling import TomekLinks\n",
    "from imblearn.combine import SMOTETomek\n",
    "\n",
    "\n",
    "import keras\n",
    "from keras import backend as K\n",
    "from keras import regularizers\n",
    "from keras.models import Sequential, Model, load_model\n",
    "from keras.layers import Input, InputLayer, Embedding, Dense, Add, Concatenate, ZeroPadding1D, Dropout, SpatialDropout1D, Activation\n",
    "from keras.layers import Conv1D, MaxPooling1D, GlobalAveragePooling1D, GlobalMaxPool1D, AveragePooling1D, BatchNormalization, Flatten, SimpleRNN, Bidirectional, concatenate\n",
    "from keras.layers.recurrent import LSTM, GRU\n",
    "from keras.optimizers import Adam, SGD, Adagrad, Adadelta, RMSprop, Nadam\n",
    "from keras.losses import categorical_crossentropy\n",
    "from keras.layers.normalization import BatchNormalization\n",
    "from keras.preprocessing import text, sequence\n",
    "from keras.preprocessing.text import Tokenizer\n",
    "from keras.preprocessing.sequence import pad_sequences\n",
    "from keras.callbacks import EarlyStopping, TensorBoard, ModelCheckpoint, ReduceLROnPlateau\n",
    "from keras.utils.vis_utils import plot_model\n",
    "from keras.utils import np_utils\n",
    "\n",
    "import matplotlib.pyplot as plt\n",
    "\n",
    "from gensim.models.wrappers import FastText\n",
    "from gensim.models import Word2Vec, KeyedVectors"
   ]
  },
  {
   "cell_type": "code",
   "execution_count": null,
   "metadata": {
    "colab": {},
    "colab_type": "code",
    "id": "SJgvTcr-dUeG"
   },
   "outputs": [],
   "source": [
    "maranatha_df = pd.read_excel('MARANATHAv2_filtered_index.xls')\n",
    "marnath_df = pd.read_excel('MARNATHv2_filtered_index.xls')\n",
    "marnat_df = pd.read_excel('MARNATv2_filtered_index.xls')"
   ]
  },
  {
   "cell_type": "code",
   "execution_count": null,
   "metadata": {
    "colab": {
     "base_uri": "https://localhost:8080/",
     "height": 407
    },
    "colab_type": "code",
    "id": "aeT22yJodUrM",
    "outputId": "398894c0-1032-4e0f-bcba-b204c4dad14b"
   },
   "outputs": [
    {
     "data": {
      "text/html": [
       "<div>\n",
       "<style scoped>\n",
       "    .dataframe tbody tr th:only-of-type {\n",
       "        vertical-align: middle;\n",
       "    }\n",
       "\n",
       "    .dataframe tbody tr th {\n",
       "        vertical-align: top;\n",
       "    }\n",
       "\n",
       "    .dataframe thead th {\n",
       "        text-align: right;\n",
       "    }\n",
       "</style>\n",
       "<table border=\"1\" class=\"dataframe\">\n",
       "  <thead>\n",
       "    <tr style=\"text-align: right;\">\n",
       "      <th></th>\n",
       "      <th>Datetime</th>\n",
       "      <th>Text</th>\n",
       "      <th>Sentiment</th>\n",
       "    </tr>\n",
       "  </thead>\n",
       "  <tbody>\n",
       "    <tr>\n",
       "      <th>0</th>\n",
       "      <td>2019-12-30 17:41:29+00:00</td>\n",
       "      <td>Ini ketika di Maranatha Bandung bulan Juli kem...</td>\n",
       "      <td>Neutral</td>\n",
       "    </tr>\n",
       "    <tr>\n",
       "      <th>1</th>\n",
       "      <td>2019-12-30 17:09:36+00:00</td>\n",
       "      <td>yakin anak maranatha tidak ada yang main twitter</td>\n",
       "      <td>Neutral</td>\n",
       "    </tr>\n",
       "    <tr>\n",
       "      <th>2</th>\n",
       "      <td>2019-12-30 16:20:08+00:00</td>\n",
       "      <td>Ini waktu pertama temu sama di angkringan mara...</td>\n",
       "      <td>Neutral</td>\n",
       "    </tr>\n",
       "    <tr>\n",
       "      <th>3</th>\n",
       "      <td>2019-12-30 15:52:50+00:00</td>\n",
       "      <td>telkom unpar maranatha tau itu saja bandung wkwkw</td>\n",
       "      <td>Positive</td>\n",
       "    </tr>\n",
       "    <tr>\n",
       "      <th>4</th>\n",
       "      <td>2019-12-30 14:25:56+00:00</td>\n",
       "      <td>mohon maaf baru balas. . ini pergelaran juli l...</td>\n",
       "      <td>Positive</td>\n",
       "    </tr>\n",
       "    <tr>\n",
       "      <th>...</th>\n",
       "      <td>...</td>\n",
       "      <td>...</td>\n",
       "      <td>...</td>\n",
       "    </tr>\n",
       "    <tr>\n",
       "      <th>5362</th>\n",
       "      <td>2018-01-13 04:31:00+00:00</td>\n",
       "      <td>Dan hasil keluar sama marnat dan dua aku terim...</td>\n",
       "      <td>Neutral</td>\n",
       "    </tr>\n",
       "    <tr>\n",
       "      <th>5363</th>\n",
       "      <td>2018-01-10 15:00:03+00:00</td>\n",
       "      <td>Bandung tau aku Unpar hi / arsitektur Unisba i...</td>\n",
       "      <td>Positive</td>\n",
       "    </tr>\n",
       "    <tr>\n",
       "      <th>5364</th>\n",
       "      <td>2018-01-07 15:13:59+00:00</td>\n",
       "      <td>untuk yang mau ambil hukum di unpar, hukum unp...</td>\n",
       "      <td>Neutral</td>\n",
       "    </tr>\n",
       "    <tr>\n",
       "      <th>5365</th>\n",
       "      <td>2018-01-07 07:42:38+00:00</td>\n",
       "      <td>Semoga jadi dosen di marnat supaya tidak enak</td>\n",
       "      <td>Neutral</td>\n",
       "    </tr>\n",
       "    <tr>\n",
       "      <th>5366</th>\n",
       "      <td>2018-01-05 14:09:51+00:00</td>\n",
       "      <td>di foto ini saja , berasa kesan anak manajemen...</td>\n",
       "      <td>Neutral</td>\n",
       "    </tr>\n",
       "  </tbody>\n",
       "</table>\n",
       "<p>5367 rows × 3 columns</p>\n",
       "</div>"
      ],
      "text/plain": [
       "                       Datetime  ... Sentiment\n",
       "0     2019-12-30 17:41:29+00:00  ...   Neutral\n",
       "1     2019-12-30 17:09:36+00:00  ...   Neutral\n",
       "2     2019-12-30 16:20:08+00:00  ...   Neutral\n",
       "3     2019-12-30 15:52:50+00:00  ...  Positive\n",
       "4     2019-12-30 14:25:56+00:00  ...  Positive\n",
       "...                         ...  ...       ...\n",
       "5362  2018-01-13 04:31:00+00:00  ...   Neutral\n",
       "5363  2018-01-10 15:00:03+00:00  ...  Positive\n",
       "5364  2018-01-07 15:13:59+00:00  ...   Neutral\n",
       "5365  2018-01-07 07:42:38+00:00  ...   Neutral\n",
       "5366  2018-01-05 14:09:51+00:00  ...   Neutral\n",
       "\n",
       "[5367 rows x 3 columns]"
      ]
     },
     "execution_count": 7,
     "metadata": {
      "tags": []
     },
     "output_type": "execute_result"
    }
   ],
   "source": [
    "data = [maranatha_df, marnath_df, marnat_df]\n",
    "join_df = pd.concat(data)\n",
    "join_df.drop_duplicates()\n",
    "join_df.reset_index(drop=True, inplace=True)\n",
    "join_df.dropna(inplace=True)\n",
    "join_df.sort_values(by='Datetime', ascending=False)\n",
    "join_df['Sentiment'] = join_df.Sentiment.map({9:0, 0:0, 1:1, -1:-1})\n",
    "join_df['Sentiment'] = join_df.Sentiment.map({0:'Neutral', 1:'Positive', -1:'Negative'})\n",
    "join_df"
   ]
  },
  {
   "cell_type": "code",
   "execution_count": null,
   "metadata": {
    "colab": {},
    "colab_type": "code",
    "id": "fUI23Oa3dWL4"
   },
   "outputs": [],
   "source": [
    "factorystemmer = StemmerFactory()\n",
    "stemmer = factorystemmer.create_stemmer()\n",
    "\n",
    "factorystop = StopWordRemoverFactory()\n",
    "stopwords = factorystop.create_stop_word_remover()\n",
    "\n",
    "def clean_text(text):\n",
    "    text = text.lower() #ubah text menjadi lower case\n",
    "    text = re.sub('[%s]' % re.escape(string.punctuation), ' ', text) #hapus tanda baca\n",
    "    text = re.sub('[‘’“”…]', '', text) #hapus tanda baca lain\n",
    "    text = re.sub('[0-9]+', '', text) #hapus angka\n",
    "    text = re.sub('(?:a{0,2}h{1,2}a{0,2}){2,}h?', '', text) #hapus haha-ahah pattern\n",
    "    text = re.sub('(?:e{0,2}h{1,2}e{0,2}){2,}h?', '', text) #hapus hehe-eheh pattern\n",
    "    text = re.sub('(?:i{0,2}h{1,2}i{0,2}){2,}h?', '', text) #hapus hihi-ihih pattern\n",
    "    text = re.sub(r'\\b[wk]*(?:wk|kw)[wk]*\\b', '', text) #hapus wkwk-kwkw pattern\n",
    "    text = re.sub(r'\\s—\\s', '', text) #hapus spasi berlebih\n",
    "    text = re.sub(r'http\\S+', '', text) #hapus link\n",
    "    text = ''.join([i for i in text if not i.isdigit()]) # Remove digits\n",
    "    #text = re.sub('maranatha', '', text) #hapus keyword input maranatha\n",
    "    #text = re.sub('marnath', '', text) #hapus keyword input marnath\n",
    "    #text = re.sub('marnat', '', text) #hapus keyword input marnat\n",
    "    text = stemmer.stem(text) #stemming\n",
    "    text = stopwords.remove(text) #hapus stopwords\n",
    "    return text"
   ]
  },
  {
   "cell_type": "code",
   "execution_count": null,
   "metadata": {
    "colab": {
     "base_uri": "https://localhost:8080/",
     "height": 54
    },
    "colab_type": "code",
    "id": "7WVZoXNidYCE",
    "outputId": "29e5fa21-87e6-4ac9-c28d-d03e72efaa5f"
   },
   "outputs": [
    {
     "name": "stdout",
     "output_type": "stream",
     "text": [
      "CPU times: user 6min 52s, sys: 67.9 ms, total: 6min 52s\n",
      "Wall time: 6min 53s\n"
     ]
    }
   ],
   "source": [
    "%%time\n",
    "\n",
    "text_cleaner = []\n",
    "\n",
    "for text in join_df.Text:\n",
    "    text_cleaner.append(clean_text(text))"
   ]
  },
  {
   "cell_type": "code",
   "execution_count": null,
   "metadata": {
    "colab": {
     "base_uri": "https://localhost:8080/",
     "height": 407
    },
    "colab_type": "code",
    "id": "x51IRcyPdZkJ",
    "outputId": "acf0dda2-77e9-436b-84e6-081a0881f5d2"
   },
   "outputs": [
    {
     "data": {
      "text/html": [
       "<div>\n",
       "<style scoped>\n",
       "    .dataframe tbody tr th:only-of-type {\n",
       "        vertical-align: middle;\n",
       "    }\n",
       "\n",
       "    .dataframe tbody tr th {\n",
       "        vertical-align: top;\n",
       "    }\n",
       "\n",
       "    .dataframe thead th {\n",
       "        text-align: right;\n",
       "    }\n",
       "</style>\n",
       "<table border=\"1\" class=\"dataframe\">\n",
       "  <thead>\n",
       "    <tr style=\"text-align: right;\">\n",
       "      <th></th>\n",
       "      <th>Datetime</th>\n",
       "      <th>Text</th>\n",
       "      <th>Sentiment</th>\n",
       "      <th>New_Text</th>\n",
       "    </tr>\n",
       "  </thead>\n",
       "  <tbody>\n",
       "    <tr>\n",
       "      <th>0</th>\n",
       "      <td>2019-12-30 17:41:29+00:00</td>\n",
       "      <td>Ini ketika di Maranatha Bandung bulan Juli kem...</td>\n",
       "      <td>Neutral</td>\n",
       "      <td>ketika maranatha bandung bulan juli kemarin di...</td>\n",
       "    </tr>\n",
       "    <tr>\n",
       "      <th>1</th>\n",
       "      <td>2019-12-30 17:09:36+00:00</td>\n",
       "      <td>yakin anak maranatha tidak ada yang main twitter</td>\n",
       "      <td>Neutral</td>\n",
       "      <td>yakin anak maranatha ada main twitter</td>\n",
       "    </tr>\n",
       "    <tr>\n",
       "      <th>2</th>\n",
       "      <td>2019-12-30 16:20:08+00:00</td>\n",
       "      <td>Ini waktu pertama temu sama di angkringan mara...</td>\n",
       "      <td>Neutral</td>\n",
       "      <td>waktu pertama temu sama angkring maranatha</td>\n",
       "    </tr>\n",
       "    <tr>\n",
       "      <th>3</th>\n",
       "      <td>2019-12-30 15:52:50+00:00</td>\n",
       "      <td>telkom unpar maranatha tau itu saja bandung wkwkw</td>\n",
       "      <td>Positive</td>\n",
       "      <td>telkom unpar maranatha tau saja bandung</td>\n",
       "    </tr>\n",
       "    <tr>\n",
       "      <th>4</th>\n",
       "      <td>2019-12-30 14:25:56+00:00</td>\n",
       "      <td>mohon maaf baru balas. . ini pergelaran juli l...</td>\n",
       "      <td>Positive</td>\n",
       "      <td>mohon maaf baru balas gelar juli lalu gelar wa...</td>\n",
       "    </tr>\n",
       "    <tr>\n",
       "      <th>...</th>\n",
       "      <td>...</td>\n",
       "      <td>...</td>\n",
       "      <td>...</td>\n",
       "      <td>...</td>\n",
       "    </tr>\n",
       "    <tr>\n",
       "      <th>5362</th>\n",
       "      <td>2018-01-13 04:31:00+00:00</td>\n",
       "      <td>Dan hasil keluar sama marnat dan dua aku terim...</td>\n",
       "      <td>Neutral</td>\n",
       "      <td>hasil keluar sama marnat dua aku terima aku ta...</td>\n",
       "    </tr>\n",
       "    <tr>\n",
       "      <th>5363</th>\n",
       "      <td>2018-01-10 15:00:03+00:00</td>\n",
       "      <td>Bandung tau aku Unpar hi / arsitektur Unisba i...</td>\n",
       "      <td>Positive</td>\n",
       "      <td>bandung tau aku unpar hi arsitektur unisba ilk...</td>\n",
       "    </tr>\n",
       "    <tr>\n",
       "      <th>5364</th>\n",
       "      <td>2018-01-07 15:13:59+00:00</td>\n",
       "      <td>untuk yang mau ambil hukum di unpar, hukum unp...</td>\n",
       "      <td>Neutral</td>\n",
       "      <td>yang mau ambil hukum unpar hukum unpar jurus y...</td>\n",
       "    </tr>\n",
       "    <tr>\n",
       "      <th>5365</th>\n",
       "      <td>2018-01-07 07:42:38+00:00</td>\n",
       "      <td>Semoga jadi dosen di marnat supaya tidak enak</td>\n",
       "      <td>Neutral</td>\n",
       "      <td>moga jadi dosen marnat tidak enak</td>\n",
       "    </tr>\n",
       "    <tr>\n",
       "      <th>5366</th>\n",
       "      <td>2018-01-05 14:09:51+00:00</td>\n",
       "      <td>di foto ini saja , berasa kesan anak manajemen...</td>\n",
       "      <td>Neutral</td>\n",
       "      <td>foto saja asa kesan anak manajemen bisnis marn...</td>\n",
       "    </tr>\n",
       "  </tbody>\n",
       "</table>\n",
       "<p>5367 rows × 4 columns</p>\n",
       "</div>"
      ],
      "text/plain": [
       "                       Datetime  ...                                           New_Text\n",
       "0     2019-12-30 17:41:29+00:00  ...  ketika maranatha bandung bulan juli kemarin di...\n",
       "1     2019-12-30 17:09:36+00:00  ...              yakin anak maranatha ada main twitter\n",
       "2     2019-12-30 16:20:08+00:00  ...         waktu pertama temu sama angkring maranatha\n",
       "3     2019-12-30 15:52:50+00:00  ...            telkom unpar maranatha tau saja bandung\n",
       "4     2019-12-30 14:25:56+00:00  ...  mohon maaf baru balas gelar juli lalu gelar wa...\n",
       "...                         ...  ...                                                ...\n",
       "5362  2018-01-13 04:31:00+00:00  ...  hasil keluar sama marnat dua aku terima aku ta...\n",
       "5363  2018-01-10 15:00:03+00:00  ...  bandung tau aku unpar hi arsitektur unisba ilk...\n",
       "5364  2018-01-07 15:13:59+00:00  ...  yang mau ambil hukum unpar hukum unpar jurus y...\n",
       "5365  2018-01-07 07:42:38+00:00  ...                  moga jadi dosen marnat tidak enak\n",
       "5366  2018-01-05 14:09:51+00:00  ...  foto saja asa kesan anak manajemen bisnis marn...\n",
       "\n",
       "[5367 rows x 4 columns]"
      ]
     },
     "execution_count": 10,
     "metadata": {
      "tags": []
     },
     "output_type": "execute_result"
    }
   ],
   "source": [
    "new_text = pd.DataFrame({'New_Text' : text_cleaner})\n",
    "clean_df = pd.concat([join_df, new_text], axis = 1)\n",
    "clean_df.replace('', np.nan, inplace=True)\n",
    "clean_df.dropna(inplace=True)\n",
    "clean_df.reset_index(drop=True, inplace=True)\n",
    "clean_df"
   ]
  },
  {
   "cell_type": "code",
   "execution_count": null,
   "metadata": {
    "colab": {},
    "colab_type": "code",
    "id": "m6OnWYmPXYSJ"
   },
   "outputs": [],
   "source": [
    "def clean_text_token(text):\n",
    "    text = re.sub(r'[^\\w\\d\\s]+', '', text) # Remove punctuation\n",
    "    text = re.sub('[%s]' % re.escape(string.punctuation), ' ', text) #hapus tanda baca\n",
    "    text = re.sub('[‘’“”…]', '', text) #hapus tanda baca lain\n",
    "    text = re.sub('[0-9]+', '', text) #hapus angka\n",
    "    text = re.sub('(?:a{0,2}h{1,2}a{0,2}){2,}h?', '', text) #hapus haha-ahah pattern\n",
    "    text = re.sub('(?:e{0,2}h{1,2}e{0,2}){2,}h?', '', text) #hapus hehe-eheh pattern\n",
    "    text = re.sub('(?:i{0,2}h{1,2}i{0,2}){2,}h?', '', text) #hapus hihi-ihih pattern\n",
    "    text = re.sub(r'\\b[wk]*(?:wk|kw)[wk]*\\b', '', text) #hapus wkwk-kwkw pattern\n",
    "    text = re.sub(r'\\s—\\s', '', text) #hapus spasi berlebih\n",
    "    text = re.sub(r'http\\S+', '', text) #hapus link\n",
    "    text = ''.join([i for i in text if not i.isdigit()]) # Remove digits\n",
    "    text = stemmer.stem(text) #stemming\n",
    "    text = stopwords.remove(text) #hapus stopwords\n",
    "    text = text.split()\n",
    "    return text\n",
    "\n",
    "clean_df['Tokenize'] = clean_df['Text'].apply(lambda x: clean_text_token(x))"
   ]
  },
  {
   "cell_type": "code",
   "execution_count": null,
   "metadata": {
    "colab": {
     "base_uri": "https://localhost:8080/",
     "height": 580
    },
    "colab_type": "code",
    "id": "sByrxprExZMi",
    "outputId": "16e130ec-99e2-4468-ac7b-eca5a61bdb53"
   },
   "outputs": [
    {
     "data": {
      "text/html": [
       "<div>\n",
       "<style scoped>\n",
       "    .dataframe tbody tr th:only-of-type {\n",
       "        vertical-align: middle;\n",
       "    }\n",
       "\n",
       "    .dataframe tbody tr th {\n",
       "        vertical-align: top;\n",
       "    }\n",
       "\n",
       "    .dataframe thead th {\n",
       "        text-align: right;\n",
       "    }\n",
       "</style>\n",
       "<table border=\"1\" class=\"dataframe\">\n",
       "  <thead>\n",
       "    <tr style=\"text-align: right;\">\n",
       "      <th></th>\n",
       "      <th>Datetime</th>\n",
       "      <th>Text</th>\n",
       "      <th>Sentiment</th>\n",
       "      <th>New_Text</th>\n",
       "      <th>Tokenize</th>\n",
       "    </tr>\n",
       "  </thead>\n",
       "  <tbody>\n",
       "    <tr>\n",
       "      <th>0</th>\n",
       "      <td>2019-12-30 17:41:29+00:00</td>\n",
       "      <td>Ini ketika di Maranatha Bandung bulan Juli kem...</td>\n",
       "      <td>Neutral</td>\n",
       "      <td>ketika maranatha bandung bulan juli kemarin di...</td>\n",
       "      <td>[ketika, maranatha, bandung, bulan, juli, kema...</td>\n",
       "    </tr>\n",
       "    <tr>\n",
       "      <th>1</th>\n",
       "      <td>2019-12-30 17:09:36+00:00</td>\n",
       "      <td>yakin anak maranatha tidak ada yang main twitter</td>\n",
       "      <td>Neutral</td>\n",
       "      <td>yakin anak maranatha ada main twitter</td>\n",
       "      <td>[yakin, anak, maranatha, ada, main, twitter]</td>\n",
       "    </tr>\n",
       "    <tr>\n",
       "      <th>2</th>\n",
       "      <td>2019-12-30 16:20:08+00:00</td>\n",
       "      <td>Ini waktu pertama temu sama di angkringan mara...</td>\n",
       "      <td>Neutral</td>\n",
       "      <td>waktu pertama temu sama angkring maranatha</td>\n",
       "      <td>[waktu, pertama, temu, sama, angkring, maranatha]</td>\n",
       "    </tr>\n",
       "    <tr>\n",
       "      <th>3</th>\n",
       "      <td>2019-12-30 15:52:50+00:00</td>\n",
       "      <td>telkom unpar maranatha tau itu saja bandung wkwkw</td>\n",
       "      <td>Positive</td>\n",
       "      <td>telkom unpar maranatha tau saja bandung</td>\n",
       "      <td>[telkom, unpar, maranatha, tau, saja, bandung]</td>\n",
       "    </tr>\n",
       "    <tr>\n",
       "      <th>4</th>\n",
       "      <td>2019-12-30 14:25:56+00:00</td>\n",
       "      <td>mohon maaf baru balas. . ini pergelaran juli l...</td>\n",
       "      <td>Positive</td>\n",
       "      <td>mohon maaf baru balas gelar juli lalu gelar wa...</td>\n",
       "      <td>[mohon, maaf, baru, balas, gelar, juli, lalu, ...</td>\n",
       "    </tr>\n",
       "    <tr>\n",
       "      <th>...</th>\n",
       "      <td>...</td>\n",
       "      <td>...</td>\n",
       "      <td>...</td>\n",
       "      <td>...</td>\n",
       "      <td>...</td>\n",
       "    </tr>\n",
       "    <tr>\n",
       "      <th>5362</th>\n",
       "      <td>2018-01-13 04:31:00+00:00</td>\n",
       "      <td>Dan hasil keluar sama marnat dan dua aku terim...</td>\n",
       "      <td>Neutral</td>\n",
       "      <td>hasil keluar sama marnat dua aku terima aku ta...</td>\n",
       "      <td>[hasil, keluar, sama, marnat, dua, aku, terima...</td>\n",
       "    </tr>\n",
       "    <tr>\n",
       "      <th>5363</th>\n",
       "      <td>2018-01-10 15:00:03+00:00</td>\n",
       "      <td>Bandung tau aku Unpar hi / arsitektur Unisba i...</td>\n",
       "      <td>Positive</td>\n",
       "      <td>bandung tau aku unpar hi arsitektur unisba ilk...</td>\n",
       "      <td>[bandung, tau, aku, unpar, hi, arsitektur, uni...</td>\n",
       "    </tr>\n",
       "    <tr>\n",
       "      <th>5364</th>\n",
       "      <td>2018-01-07 15:13:59+00:00</td>\n",
       "      <td>untuk yang mau ambil hukum di unpar, hukum unp...</td>\n",
       "      <td>Neutral</td>\n",
       "      <td>yang mau ambil hukum unpar hukum unpar jurus y...</td>\n",
       "      <td>[yang, mau, ambil, hukum, unpar, hukum, unpar,...</td>\n",
       "    </tr>\n",
       "    <tr>\n",
       "      <th>5365</th>\n",
       "      <td>2018-01-07 07:42:38+00:00</td>\n",
       "      <td>Semoga jadi dosen di marnat supaya tidak enak</td>\n",
       "      <td>Neutral</td>\n",
       "      <td>moga jadi dosen marnat tidak enak</td>\n",
       "      <td>[moga, jadi, dosen, marnat, tidak, enak]</td>\n",
       "    </tr>\n",
       "    <tr>\n",
       "      <th>5366</th>\n",
       "      <td>2018-01-05 14:09:51+00:00</td>\n",
       "      <td>di foto ini saja , berasa kesan anak manajemen...</td>\n",
       "      <td>Neutral</td>\n",
       "      <td>foto saja asa kesan anak manajemen bisnis marn...</td>\n",
       "      <td>[foto, saja, asa, kesan, anak, manajemen, bisn...</td>\n",
       "    </tr>\n",
       "  </tbody>\n",
       "</table>\n",
       "<p>5367 rows × 5 columns</p>\n",
       "</div>"
      ],
      "text/plain": [
       "                       Datetime  ...                                           Tokenize\n",
       "0     2019-12-30 17:41:29+00:00  ...  [ketika, maranatha, bandung, bulan, juli, kema...\n",
       "1     2019-12-30 17:09:36+00:00  ...       [yakin, anak, maranatha, ada, main, twitter]\n",
       "2     2019-12-30 16:20:08+00:00  ...  [waktu, pertama, temu, sama, angkring, maranatha]\n",
       "3     2019-12-30 15:52:50+00:00  ...     [telkom, unpar, maranatha, tau, saja, bandung]\n",
       "4     2019-12-30 14:25:56+00:00  ...  [mohon, maaf, baru, balas, gelar, juli, lalu, ...\n",
       "...                         ...  ...                                                ...\n",
       "5362  2018-01-13 04:31:00+00:00  ...  [hasil, keluar, sama, marnat, dua, aku, terima...\n",
       "5363  2018-01-10 15:00:03+00:00  ...  [bandung, tau, aku, unpar, hi, arsitektur, uni...\n",
       "5364  2018-01-07 15:13:59+00:00  ...  [yang, mau, ambil, hukum, unpar, hukum, unpar,...\n",
       "5365  2018-01-07 07:42:38+00:00  ...           [moga, jadi, dosen, marnat, tidak, enak]\n",
       "5366  2018-01-05 14:09:51+00:00  ...  [foto, saja, asa, kesan, anak, manajemen, bisn...\n",
       "\n",
       "[5367 rows x 5 columns]"
      ]
     },
     "execution_count": 12,
     "metadata": {
      "tags": []
     },
     "output_type": "execute_result"
    }
   ],
   "source": [
    "clean_df"
   ]
  },
  {
   "cell_type": "code",
   "execution_count": null,
   "metadata": {
    "colab": {},
    "colab_type": "code",
    "id": "oQ_pzX-b55J0"
   },
   "outputs": [],
   "source": [
    "#clean_df.to_excel('tesis_clean_df.xls', index=False)"
   ]
  },
  {
   "cell_type": "code",
   "execution_count": null,
   "metadata": {
    "colab": {},
    "colab_type": "code",
    "id": "djA-5JGLIxwS"
   },
   "outputs": [],
   "source": [
    "data = clean_df[['New_Text', 'Sentiment', 'Tokenize']]"
   ]
  },
  {
   "cell_type": "code",
   "execution_count": null,
   "metadata": {
    "colab": {
     "base_uri": "https://localhost:8080/",
     "height": 798
    },
    "colab_type": "code",
    "id": "O8eYEVA9JBeD",
    "outputId": "109dbd99-eb89-4ad6-dbcd-5fe32b5f0e14"
   },
   "outputs": [
    {
     "data": {
      "text/html": [
       "<div>\n",
       "<style scoped>\n",
       "    .dataframe tbody tr th:only-of-type {\n",
       "        vertical-align: middle;\n",
       "    }\n",
       "\n",
       "    .dataframe tbody tr th {\n",
       "        vertical-align: top;\n",
       "    }\n",
       "\n",
       "    .dataframe thead th {\n",
       "        text-align: right;\n",
       "    }\n",
       "</style>\n",
       "<table border=\"1\" class=\"dataframe\">\n",
       "  <thead>\n",
       "    <tr style=\"text-align: right;\">\n",
       "      <th></th>\n",
       "      <th>New_Text</th>\n",
       "      <th>Sentiment</th>\n",
       "      <th>Tokenize</th>\n",
       "    </tr>\n",
       "  </thead>\n",
       "  <tbody>\n",
       "    <tr>\n",
       "      <th>0</th>\n",
       "      <td>ketika maranatha bandung bulan juli kemarin di...</td>\n",
       "      <td>Neutral</td>\n",
       "      <td>[ketika, maranatha, bandung, bulan, juli, kema...</td>\n",
       "    </tr>\n",
       "    <tr>\n",
       "      <th>1</th>\n",
       "      <td>yakin anak maranatha ada main twitter</td>\n",
       "      <td>Neutral</td>\n",
       "      <td>[yakin, anak, maranatha, ada, main, twitter]</td>\n",
       "    </tr>\n",
       "    <tr>\n",
       "      <th>2</th>\n",
       "      <td>waktu pertama temu sama angkring maranatha</td>\n",
       "      <td>Neutral</td>\n",
       "      <td>[waktu, pertama, temu, sama, angkring, maranatha]</td>\n",
       "    </tr>\n",
       "    <tr>\n",
       "      <th>3</th>\n",
       "      <td>telkom unpar maranatha tau saja bandung</td>\n",
       "      <td>Positive</td>\n",
       "      <td>[telkom, unpar, maranatha, tau, saja, bandung]</td>\n",
       "    </tr>\n",
       "    <tr>\n",
       "      <th>4</th>\n",
       "      <td>mohon maaf baru balas gelar juli lalu gelar wa...</td>\n",
       "      <td>Positive</td>\n",
       "      <td>[mohon, maaf, baru, balas, gelar, juli, lalu, ...</td>\n",
       "    </tr>\n",
       "    <tr>\n",
       "      <th>5</th>\n",
       "      <td>iya juga mahasiswa universitas maranatha jurus...</td>\n",
       "      <td>Neutral</td>\n",
       "      <td>[iya, juga, mahasiswa, universitas, maranatha,...</td>\n",
       "    </tr>\n",
       "    <tr>\n",
       "      <th>6</th>\n",
       "      <td>regu alumni maranatha</td>\n",
       "      <td>Positive</td>\n",
       "      <td>[regu, alumni, maranatha]</td>\n",
       "    </tr>\n",
       "    <tr>\n",
       "      <th>7</th>\n",
       "      <td>unjani maranatha bhakti kencana kalau salah un...</td>\n",
       "      <td>Positive</td>\n",
       "      <td>[unjani, maranatha, bhakti, kencana, kalau, sa...</td>\n",
       "    </tr>\n",
       "    <tr>\n",
       "      <th>8</th>\n",
       "      <td>teman aku maranatha</td>\n",
       "      <td>Neutral</td>\n",
       "      <td>[teman, aku, maranatha]</td>\n",
       "    </tr>\n",
       "    <tr>\n",
       "      <th>9</th>\n",
       "      <td>teman aku maranatha bandung fakultas dokter gigi</td>\n",
       "      <td>Positive</td>\n",
       "      <td>[teman, aku, maranatha, bandung, fakultas, dok...</td>\n",
       "    </tr>\n",
       "    <tr>\n",
       "      <th>10</th>\n",
       "      <td>yang daerah kampus maranatha enak onigiri indo...</td>\n",
       "      <td>Positive</td>\n",
       "      <td>[yang, daerah, kampus, maranatha, enak, onigir...</td>\n",
       "    </tr>\n",
       "    <tr>\n",
       "      <th>11</th>\n",
       "      <td>dekat maranatha</td>\n",
       "      <td>Positive</td>\n",
       "      <td>[dekat, maranatha]</td>\n",
       "    </tr>\n",
       "    <tr>\n",
       "      <th>12</th>\n",
       "      <td>pilih akhir memang mama tante aku lulus kampus...</td>\n",
       "      <td>Positive</td>\n",
       "      <td>[pilih, akhir, memang, mama, tante, aku, lulus...</td>\n",
       "    </tr>\n",
       "    <tr>\n",
       "      <th>13</th>\n",
       "      <td>unpar maranatha paling</td>\n",
       "      <td>Positive</td>\n",
       "      <td>[unpar, maranatha, paling]</td>\n",
       "    </tr>\n",
       "    <tr>\n",
       "      <th>14</th>\n",
       "      <td>kelas sultan unpar maranatha kelas macet telko...</td>\n",
       "      <td>Positive</td>\n",
       "      <td>[kelas, sultan, unpar, maranatha, kelas, macet...</td>\n",
       "    </tr>\n",
       "    <tr>\n",
       "      <th>15</th>\n",
       "      <td>telkom unpar maranatha bus</td>\n",
       "      <td>Positive</td>\n",
       "      <td>[telkom, unpar, maranatha, bus]</td>\n",
       "    </tr>\n",
       "    <tr>\n",
       "      <th>16</th>\n",
       "      <td>hayo jangan dekat dekat maranatha bukan</td>\n",
       "      <td>Positive</td>\n",
       "      <td>[hayo, jangan, dekat, dekat, maranatha, bukan]</td>\n",
       "    </tr>\n",
       "    <tr>\n",
       "      <th>17</th>\n",
       "      <td>pempek pak raden di lemah neundeut dekat maran...</td>\n",
       "      <td>Neutral</td>\n",
       "      <td>[pempek, pak, raden, di, lemah, neundeut, deka...</td>\n",
       "    </tr>\n",
       "    <tr>\n",
       "      <th>18</th>\n",
       "      <td>foto sama terima beasiswa osc itenas maranatha...</td>\n",
       "      <td>Neutral</td>\n",
       "      <td>[foto, sama, terima, beasiswa, osc, itenas, ma...</td>\n",
       "    </tr>\n",
       "    <tr>\n",
       "      <th>19</th>\n",
       "      <td>jalan terus buah batu bojong soang baru lampu ...</td>\n",
       "      <td>Negative</td>\n",
       "      <td>[jalan, terus, buah, batu, bojong, soang, baru...</td>\n",
       "    </tr>\n",
       "    <tr>\n",
       "      <th>20</th>\n",
       "      <td>maranatha mahal banyak cina kata cantik cantik...</td>\n",
       "      <td>Negative</td>\n",
       "      <td>[maranatha, mahal, banyak, cina, kata, cantik,...</td>\n",
       "    </tr>\n",
       "    <tr>\n",
       "      <th>21</th>\n",
       "      <td>bonus totebag maranatha teh gelas karet nasi k...</td>\n",
       "      <td>Neutral</td>\n",
       "      <td>[bonus, totebag, maranatha, teh, gelas, karet,...</td>\n",
       "    </tr>\n",
       "    <tr>\n",
       "      <th>22</th>\n",
       "      <td>kemarin baru buka depan maranatha</td>\n",
       "      <td>Neutral</td>\n",
       "      <td>[kemarin, baru, buka, depan, maranatha]</td>\n",
       "    </tr>\n",
       "    <tr>\n",
       "      <th>23</th>\n",
       "      <td>bapak dulu kuliah maranatha ajar agama kristen...</td>\n",
       "      <td>Positive</td>\n",
       "      <td>[bapak, dulu, kuliah, maranatha, ajar, agama, ...</td>\n",
       "    </tr>\n",
       "    <tr>\n",
       "      <th>24</th>\n",
       "      <td>jangan kuliah maranatha kalau bukan orang cina</td>\n",
       "      <td>Negative</td>\n",
       "      <td>[jangan, kuliah, maranatha, kalau, bukan, oran...</td>\n",
       "    </tr>\n",
       "  </tbody>\n",
       "</table>\n",
       "</div>"
      ],
      "text/plain": [
       "                                             New_Text  ...                                           Tokenize\n",
       "0   ketika maranatha bandung bulan juli kemarin di...  ...  [ketika, maranatha, bandung, bulan, juli, kema...\n",
       "1               yakin anak maranatha ada main twitter  ...       [yakin, anak, maranatha, ada, main, twitter]\n",
       "2          waktu pertama temu sama angkring maranatha  ...  [waktu, pertama, temu, sama, angkring, maranatha]\n",
       "3             telkom unpar maranatha tau saja bandung  ...     [telkom, unpar, maranatha, tau, saja, bandung]\n",
       "4   mohon maaf baru balas gelar juli lalu gelar wa...  ...  [mohon, maaf, baru, balas, gelar, juli, lalu, ...\n",
       "5   iya juga mahasiswa universitas maranatha jurus...  ...  [iya, juga, mahasiswa, universitas, maranatha,...\n",
       "6                               regu alumni maranatha  ...                          [regu, alumni, maranatha]\n",
       "7   unjani maranatha bhakti kencana kalau salah un...  ...  [unjani, maranatha, bhakti, kencana, kalau, sa...\n",
       "8                                 teman aku maranatha  ...                            [teman, aku, maranatha]\n",
       "9    teman aku maranatha bandung fakultas dokter gigi  ...  [teman, aku, maranatha, bandung, fakultas, dok...\n",
       "10  yang daerah kampus maranatha enak onigiri indo...  ...  [yang, daerah, kampus, maranatha, enak, onigir...\n",
       "11                                    dekat maranatha  ...                                 [dekat, maranatha]\n",
       "12  pilih akhir memang mama tante aku lulus kampus...  ...  [pilih, akhir, memang, mama, tante, aku, lulus...\n",
       "13                             unpar maranatha paling  ...                         [unpar, maranatha, paling]\n",
       "14  kelas sultan unpar maranatha kelas macet telko...  ...  [kelas, sultan, unpar, maranatha, kelas, macet...\n",
       "15                         telkom unpar maranatha bus  ...                    [telkom, unpar, maranatha, bus]\n",
       "16            hayo jangan dekat dekat maranatha bukan  ...     [hayo, jangan, dekat, dekat, maranatha, bukan]\n",
       "17  pempek pak raden di lemah neundeut dekat maran...  ...  [pempek, pak, raden, di, lemah, neundeut, deka...\n",
       "18  foto sama terima beasiswa osc itenas maranatha...  ...  [foto, sama, terima, beasiswa, osc, itenas, ma...\n",
       "19  jalan terus buah batu bojong soang baru lampu ...  ...  [jalan, terus, buah, batu, bojong, soang, baru...\n",
       "20  maranatha mahal banyak cina kata cantik cantik...  ...  [maranatha, mahal, banyak, cina, kata, cantik,...\n",
       "21  bonus totebag maranatha teh gelas karet nasi k...  ...  [bonus, totebag, maranatha, teh, gelas, karet,...\n",
       "22                  kemarin baru buka depan maranatha  ...            [kemarin, baru, buka, depan, maranatha]\n",
       "23  bapak dulu kuliah maranatha ajar agama kristen...  ...  [bapak, dulu, kuliah, maranatha, ajar, agama, ...\n",
       "24     jangan kuliah maranatha kalau bukan orang cina  ...  [jangan, kuliah, maranatha, kalau, bukan, oran...\n",
       "\n",
       "[25 rows x 3 columns]"
      ]
     },
     "execution_count": 14,
     "metadata": {
      "tags": []
     },
     "output_type": "execute_result"
    }
   ],
   "source": [
    "data.head(25)"
   ]
  },
  {
   "cell_type": "markdown",
   "metadata": {
    "colab_type": "text",
    "id": "nu8l3n2yQeN5"
   },
   "source": [
    "### **Multinomial Naive Bayes**"
   ]
  },
  {
   "cell_type": "code",
   "execution_count": null,
   "metadata": {
    "colab": {},
    "colab_type": "code",
    "id": "RlRB6S04dcd5"
   },
   "outputs": [],
   "source": [
    "tvec3 = TfidfVectorizer(ngram_range=(1, 3)) #tfidf trigram\n",
    "cvec3 = CountVectorizer(ngram_range=(1, 3))\n",
    "mnb = MultinomialNB()\n",
    "cnb = ComplementNB()"
   ]
  },
  {
   "cell_type": "markdown",
   "metadata": {
    "colab_type": "text",
    "id": "J-NB8_aYQmDU"
   },
   "source": [
    "#### Pipeline"
   ]
  },
  {
   "cell_type": "code",
   "execution_count": null,
   "metadata": {
    "colab": {},
    "colab_type": "code",
    "id": "gSsBeH1cdrKu"
   },
   "outputs": [],
   "source": [
    "#MultinomialNB classifier\n",
    "def mnb_cv(splits, X, Y, pipeline, average_method):\n",
    "    \n",
    "    kfoldmnb = StratifiedKFold(n_splits=splits, shuffle=True, random_state=5)\n",
    "    #accuracymnb = []\n",
    "    precisionmnb = []\n",
    "    recallmnb = []\n",
    "    f1mnb = []\n",
    "    for train, test in kfoldmnb.split(X, Y):\n",
    "        mnb_fit = pipeline.fit(X[train], Y[train])\n",
    "        predictionmnb = mnb_fit.predict(X[test])\n",
    "        scoresmnb = mnb_fit.score(X[test],Y[test])\n",
    "        class_names = ['Negative','Neutral','Positive']\n",
    "        cm = confusion_matrix((Y[test]), predictionmnb)\n",
    "        mnbdf_cm = pd.DataFrame(cm, index=class_names, columns=class_names)\n",
    "        \n",
    "    \n",
    "        #accuracymnb.append(scoresmnb * 100)\n",
    "        #print('Accuracy: ', scoresmnb * 100)\n",
    "        precisionmnb.append(precision_score(Y[test], predictionmnb, average=average_method)*100)\n",
    "        print(' '*10, class_names)\n",
    "        print('Precision:',precision_score(Y[test], predictionmnb, average=None))\n",
    "        recallmnb.append(recall_score(Y[test], predictionmnb, average=average_method)*100)\n",
    "        print('Recall:   ',recall_score(Y[test], predictionmnb, average=None))\n",
    "        f1mnb.append(f1_score(Y[test], predictionmnb, average=average_method)*100)\n",
    "        print('F1 score: ',f1_score(Y[test], predictionmnb, average=None))\n",
    "        print('-'*50)\n",
    "\n",
    "        #mnbaccumean = np.mean(accuracymnb)\n",
    "        mnbprecmean = np.mean(precisionmnb)\n",
    "        mnbrecamean = np.mean(recallmnb)\n",
    "        mnbf1scmean = np.mean(f1mnb)\n",
    "            \n",
    "    #print('Accuracy: %.2f%% (+/- %.2f%%)' % (mnbaccumean, np.std(accuracymnb)))\n",
    "    print('Precision: %.2f%% (+/- %.2f%%)' % (mnbprecmean, np.std(precisionmnb)))\n",
    "    print('Recall: %.2f%% (+/- %.2f%%)' % (mnbrecamean, np.std(recallmnb)))\n",
    "    print('F1 score: %.2f%% (+/- %.2f%%)' % (mnbf1scmean, np.std(f1mnb)))\n",
    "    print(' ')\n",
    "    print('Confusion matrix\\n', mnbdf_cm)\n",
    "    return kfoldmnb, precisionmnb, recallmnb, f1mnb"
   ]
  },
  {
   "cell_type": "code",
   "execution_count": null,
   "metadata": {
    "colab": {},
    "colab_type": "code",
    "id": "FBtpTkwQuEJa"
   },
   "outputs": [],
   "source": [
    "from imblearn.over_sampling import RandomOverSampler\n",
    "from imblearn.under_sampling import RandomUnderSampler"
   ]
  },
  {
   "cell_type": "code",
   "execution_count": null,
   "metadata": {
    "colab": {},
    "colab_type": "code",
    "id": "_2-p9A0EiI9p"
   },
   "outputs": [],
   "source": [
    "# Resampling Over Sampling\n",
    "ROSnb = RandomOverSampler(sampling_strategy='not majority', random_state=5)\n",
    "SMOTEnb = SMOTE(sampling_strategy='not majority', random_state=5)\n",
    "\n",
    "# Resampling Under Sampling\n",
    "RUSnb = RandomUnderSampler(sampling_strategy='not minority', random_state=5)\n",
    "TOMnb = TomekLinks(sampling_strategy='majority')\n",
    "\n",
    "# Resampling SMOTETomek\n",
    "SMOTETomnb = SMOTETomek(random_state=5, \n",
    "                       smote=SMOTE(sampling_strategy='not majority', random_state=5), \n",
    "                       tomek=TomekLinks(sampling_strategy='majority')\n",
    "                        )"
   ]
  },
  {
   "cell_type": "code",
   "execution_count": null,
   "metadata": {
    "colab": {},
    "colab_type": "code",
    "id": "XD2vHldfiNmA"
   },
   "outputs": [],
   "source": [
    "mnb_SMOTETOM_tvec3_pipeline = make_pipeline(tvec3, SMOTETomnb, mnb) #trigram"
   ]
  },
  {
   "cell_type": "code",
   "execution_count": null,
   "metadata": {
    "colab": {
     "base_uri": "https://localhost:8080/",
     "height": 1000
    },
    "colab_type": "code",
    "id": "m5VyHTUciQTS",
    "outputId": "189f7393-32ca-4efc-a021-ed786a2a36f2"
   },
   "outputs": [
    {
     "name": "stderr",
     "output_type": "stream",
     "text": [
      "/usr/local/lib/python3.6/dist-packages/sklearn/utils/deprecation.py:87: FutureWarning: Function safe_indexing is deprecated; safe_indexing is deprecated in version 0.22 and will be removed in version 0.24.\n",
      "  warnings.warn(msg, category=FutureWarning)\n"
     ]
    },
    {
     "name": "stdout",
     "output_type": "stream",
     "text": [
      "           ['Negative', 'Neutral', 'Positive']\n",
      "Precision: [0.27586207 0.85964912 0.43382353]\n",
      "Recall:    [0.65306122 0.62659847 0.60824742]\n",
      "F1 score:  [0.38787879 0.72485207 0.50643777]\n",
      "--------------------------------------------------\n"
     ]
    },
    {
     "name": "stderr",
     "output_type": "stream",
     "text": [
      "/usr/local/lib/python3.6/dist-packages/sklearn/utils/deprecation.py:87: FutureWarning: Function safe_indexing is deprecated; safe_indexing is deprecated in version 0.22 and will be removed in version 0.24.\n",
      "  warnings.warn(msg, category=FutureWarning)\n"
     ]
    },
    {
     "name": "stdout",
     "output_type": "stream",
     "text": [
      "           ['Negative', 'Neutral', 'Positive']\n",
      "Precision: [0.25471698 0.87234043 0.44295302]\n",
      "Recall:    [0.55102041 0.62915601 0.68041237]\n",
      "F1 score:  [0.3483871  0.73105498 0.53658537]\n",
      "--------------------------------------------------\n"
     ]
    },
    {
     "name": "stderr",
     "output_type": "stream",
     "text": [
      "/usr/local/lib/python3.6/dist-packages/sklearn/utils/deprecation.py:87: FutureWarning: Function safe_indexing is deprecated; safe_indexing is deprecated in version 0.22 and will be removed in version 0.24.\n",
      "  warnings.warn(msg, category=FutureWarning)\n"
     ]
    },
    {
     "name": "stdout",
     "output_type": "stream",
     "text": [
      "           ['Negative', 'Neutral', 'Positive']\n",
      "Precision: [0.25490196 0.89160839 0.51006711]\n",
      "Recall:    [0.53061224 0.65217391 0.78350515]\n",
      "F1 score:  [0.34437086 0.75332349 0.61788618]\n",
      "--------------------------------------------------\n"
     ]
    },
    {
     "name": "stderr",
     "output_type": "stream",
     "text": [
      "/usr/local/lib/python3.6/dist-packages/sklearn/utils/deprecation.py:87: FutureWarning: Function safe_indexing is deprecated; safe_indexing is deprecated in version 0.22 and will be removed in version 0.24.\n",
      "  warnings.warn(msg, category=FutureWarning)\n"
     ]
    },
    {
     "name": "stdout",
     "output_type": "stream",
     "text": [
      "           ['Negative', 'Neutral', 'Positive']\n",
      "Precision: [0.26956522 0.88235294 0.4       ]\n",
      "Recall:    [0.63265306 0.61381074 0.6185567 ]\n",
      "F1 score:  [0.37804878 0.7239819  0.48582996]\n",
      "--------------------------------------------------\n"
     ]
    },
    {
     "name": "stderr",
     "output_type": "stream",
     "text": [
      "/usr/local/lib/python3.6/dist-packages/sklearn/utils/deprecation.py:87: FutureWarning: Function safe_indexing is deprecated; safe_indexing is deprecated in version 0.22 and will be removed in version 0.24.\n",
      "  warnings.warn(msg, category=FutureWarning)\n"
     ]
    },
    {
     "name": "stdout",
     "output_type": "stream",
     "text": [
      "           ['Negative', 'Neutral', 'Positive']\n",
      "Precision: [0.24545455 0.87769784 0.44295302]\n",
      "Recall:    [0.55102041 0.62404092 0.68041237]\n",
      "F1 score:  [0.33962264 0.72944694 0.53658537]\n",
      "--------------------------------------------------\n"
     ]
    },
    {
     "name": "stderr",
     "output_type": "stream",
     "text": [
      "/usr/local/lib/python3.6/dist-packages/sklearn/utils/deprecation.py:87: FutureWarning: Function safe_indexing is deprecated; safe_indexing is deprecated in version 0.22 and will be removed in version 0.24.\n",
      "  warnings.warn(msg, category=FutureWarning)\n"
     ]
    },
    {
     "name": "stdout",
     "output_type": "stream",
     "text": [
      "           ['Negative', 'Neutral', 'Positive']\n",
      "Precision: [0.30927835 0.87412587 0.42207792]\n",
      "Recall:    [0.6122449  0.63938619 0.67010309]\n",
      "F1 score:  [0.4109589  0.73855244 0.51792829]\n",
      "--------------------------------------------------\n"
     ]
    },
    {
     "name": "stderr",
     "output_type": "stream",
     "text": [
      "/usr/local/lib/python3.6/dist-packages/sklearn/utils/deprecation.py:87: FutureWarning: Function safe_indexing is deprecated; safe_indexing is deprecated in version 0.22 and will be removed in version 0.24.\n",
      "  warnings.warn(msg, category=FutureWarning)\n"
     ]
    },
    {
     "name": "stdout",
     "output_type": "stream",
     "text": [
      "           ['Negative', 'Neutral', 'Positive']\n",
      "Precision: [0.28099174 0.86868687 0.46218487]\n",
      "Recall:    [0.68       0.66153846 0.56701031]\n",
      "F1 score:  [0.39766082 0.7510917  0.50925926]\n",
      "--------------------------------------------------\n"
     ]
    },
    {
     "name": "stderr",
     "output_type": "stream",
     "text": [
      "/usr/local/lib/python3.6/dist-packages/sklearn/utils/deprecation.py:87: FutureWarning: Function safe_indexing is deprecated; safe_indexing is deprecated in version 0.22 and will be removed in version 0.24.\n",
      "  warnings.warn(msg, category=FutureWarning)\n"
     ]
    },
    {
     "name": "stdout",
     "output_type": "stream",
     "text": [
      "           ['Negative', 'Neutral', 'Positive']\n",
      "Precision: [0.31313131 0.88552189 0.46428571]\n",
      "Recall:    [0.63265306 0.67435897 0.67010309]\n",
      "F1 score:  [0.41891892 0.76564774 0.54852321]\n",
      "--------------------------------------------------\n"
     ]
    },
    {
     "name": "stderr",
     "output_type": "stream",
     "text": [
      "/usr/local/lib/python3.6/dist-packages/sklearn/utils/deprecation.py:87: FutureWarning: Function safe_indexing is deprecated; safe_indexing is deprecated in version 0.22 and will be removed in version 0.24.\n",
      "  warnings.warn(msg, category=FutureWarning)\n"
     ]
    },
    {
     "name": "stdout",
     "output_type": "stream",
     "text": [
      "           ['Negative', 'Neutral', 'Positive']\n",
      "Precision: [0.24193548 0.88043478 0.45588235]\n",
      "Recall:    [0.6122449  0.62307692 0.63917526]\n",
      "F1 score:  [0.34682081 0.72972973 0.53218884]\n",
      "--------------------------------------------------\n"
     ]
    },
    {
     "name": "stderr",
     "output_type": "stream",
     "text": [
      "/usr/local/lib/python3.6/dist-packages/sklearn/utils/deprecation.py:87: FutureWarning: Function safe_indexing is deprecated; safe_indexing is deprecated in version 0.22 and will be removed in version 0.24.\n",
      "  warnings.warn(msg, category=FutureWarning)\n"
     ]
    },
    {
     "name": "stdout",
     "output_type": "stream",
     "text": [
      "           ['Negative', 'Neutral', 'Positive']\n",
      "Precision: [0.27272727 0.87719298 0.43421053]\n",
      "Recall:    [0.55102041 0.64102564 0.68041237]\n",
      "F1 score:  [0.36486486 0.74074074 0.53012048]\n",
      "--------------------------------------------------\n",
      "Precision: 53.19% (+/- 1.21%)\n",
      "Recall: 63.30% (+/- 1.38%)\n",
      "F1 score: 54.82% (+/- 1.53%)\n",
      " \n",
      "Confusion matrix\n",
      "           Negative  Neutral  Positive\n",
      "Negative        27       16         6\n",
      "Neutral         60      250        80\n",
      "Positive        12       19        66\n"
     ]
    }
   ],
   "source": [
    "mnbsmotetomtvec3 = mnb_cv(10, data.New_Text, data.Sentiment, mnb_SMOTETOM_tvec3_pipeline, 'macro')"
   ]
  },
  {
   "cell_type": "markdown",
   "metadata": {
    "colab_type": "text",
    "id": "MMfmKx6RQus3"
   },
   "source": [
    "#### Non Pipeline"
   ]
  },
  {
   "cell_type": "code",
   "execution_count": null,
   "metadata": {
    "colab": {},
    "colab_type": "code",
    "id": "_UlWxfrTiaa1"
   },
   "outputs": [],
   "source": [
    "X = data.New_Text\n",
    "Y = data.Sentiment"
   ]
  },
  {
   "cell_type": "code",
   "execution_count": null,
   "metadata": {
    "colab": {},
    "colab_type": "code",
    "id": "n7pAouW7S9W0"
   },
   "outputs": [],
   "source": [
    "xtrain, xtest, ytrain, ytest = train_test_split(X, Y, shuffle=True, random_state = 5, stratify = Y)"
   ]
  },
  {
   "cell_type": "code",
   "execution_count": null,
   "metadata": {
    "colab": {},
    "colab_type": "code",
    "id": "z5Hy_Jmv2Rbs"
   },
   "outputs": [],
   "source": [
    "xtraintvec = tvec3.fit_transform(xtrain)"
   ]
  },
  {
   "cell_type": "code",
   "execution_count": null,
   "metadata": {
    "colab": {
     "base_uri": "https://localhost:8080/",
     "height": 74
    },
    "colab_type": "code",
    "id": "DFQXR6T32TgB",
    "outputId": "791a7b8b-8f03-4399-ac43-8dd516e89c15"
   },
   "outputs": [
    {
     "name": "stderr",
     "output_type": "stream",
     "text": [
      "/usr/local/lib/python3.6/dist-packages/sklearn/utils/deprecation.py:87: FutureWarning: Function safe_indexing is deprecated; safe_indexing is deprecated in version 0.22 and will be removed in version 0.24.\n",
      "  warnings.warn(msg, category=FutureWarning)\n"
     ]
    }
   ],
   "source": [
    "xres, yres = SMOTETomnb.fit_resample(xtraintvec, ytrain)"
   ]
  },
  {
   "cell_type": "code",
   "execution_count": null,
   "metadata": {
    "colab": {
     "base_uri": "https://localhost:8080/",
     "height": 35
    },
    "colab_type": "code",
    "id": "Lda3CHusn0QJ",
    "outputId": "2b4b7045-5c43-401d-bb7e-572e6a34136e"
   },
   "outputs": [
    {
     "data": {
      "text/plain": [
       "((8787, 60917), (8787,), (1342,), (1342,))"
      ]
     },
     "execution_count": 50,
     "metadata": {
      "tags": []
     },
     "output_type": "execute_result"
    }
   ],
   "source": [
    "xres.shape, yres.shape, xtest.shape, ytest.shape"
   ]
  },
  {
   "cell_type": "code",
   "execution_count": null,
   "metadata": {
    "colab": {
     "base_uri": "https://localhost:8080/",
     "height": 72
    },
    "colab_type": "code",
    "id": "97iokM1MoPCE",
    "outputId": "f9918699-5b78-4616-9db9-a5cfb609af5c"
   },
   "outputs": [
    {
     "name": "stdout",
     "output_type": "stream",
     "text": [
      "Hasil SMOTETomek pada train data label positive: 3125\n",
      "Hasil SMOTETomek pada train data label neutral: 3125\n",
      "Hasil SMOTETomek pada train data label negative: 3125\n"
     ]
    }
   ],
   "source": [
    "pos_weight = len([s for s in yresskf if s=='Positive'])\n",
    "neg_weight = len([s for s in yresskf if s=='Negative'])\n",
    "neu_weight = len([s for s in yresskf if s=='Neutral'])\n",
    "print('Hasil SMOTETomek pada train data label positive: %s' %(pos_weight))\n",
    "print('Hasil SMOTETomek pada train data label neutral: %s' %(neu_weight))\n",
    "print('Hasil SMOTETomek pada train data label negative: %s' %(neg_weight))"
   ]
  },
  {
   "cell_type": "code",
   "execution_count": null,
   "metadata": {
    "colab": {
     "base_uri": "https://localhost:8080/",
     "height": 72
    },
    "colab_type": "code",
    "id": "Hs7y-RE0o0tZ",
    "outputId": "85048dac-cdc9-409a-c53f-8d25f8c9d959"
   },
   "outputs": [
    {
     "name": "stdout",
     "output_type": "stream",
     "text": [
      "242\n",
      "123\n",
      "965\n"
     ]
    }
   ],
   "source": [
    "pos_weight = len([s for s in ytest if s=='Positive'])\n",
    "neg_weight = len([s for s in ytest if s=='Negative'])\n",
    "neu_weight = len([s for s in ytest if s=='Neutral'])\n",
    "print(pos_weight)\n",
    "print(neg_weight)\n",
    "print(neu_weight)"
   ]
  },
  {
   "cell_type": "code",
   "execution_count": null,
   "metadata": {
    "colab": {},
    "colab_type": "code",
    "id": "Ge4-9EI02VeN"
   },
   "outputs": [],
   "source": [
    "xtesttvec = tvec3.transform(xtest)\n",
    "mnb.fit(xres, yres)\n",
    "preds = mnb.predict(xtesttvec)"
   ]
  },
  {
   "cell_type": "code",
   "execution_count": null,
   "metadata": {
    "colab": {},
    "colab_type": "code",
    "id": "NGGs-90b2Yvp"
   },
   "outputs": [],
   "source": [
    "score = mnb.score(xtesttvec, ytest)"
   ]
  },
  {
   "cell_type": "code",
   "execution_count": null,
   "metadata": {
    "colab": {
     "base_uri": "https://localhost:8080/",
     "height": 199
    },
    "colab_type": "code",
    "id": "-iOXzf-H2amH",
    "outputId": "251cbf9f-708b-45f1-8457-694c04dc1052"
   },
   "outputs": [
    {
     "name": "stdout",
     "output_type": "stream",
     "text": [
      "              precision    recall  f1-score   support\n",
      "\n",
      "    Negative       0.26      0.65      0.37       123\n",
      "     Neutral       0.86      0.60      0.71       965\n",
      "    Positive       0.45      0.64      0.52       242\n",
      "\n",
      "    accuracy                           0.61      1330\n",
      "   macro avg       0.52      0.63      0.53      1330\n",
      "weighted avg       0.73      0.61      0.64      1330\n",
      "\n"
     ]
    }
   ],
   "source": [
    "print(classification_report(ytest, preds))"
   ]
  },
  {
   "cell_type": "code",
   "execution_count": null,
   "metadata": {
    "colab": {
     "base_uri": "https://localhost:8080/",
     "height": 163
    },
    "colab_type": "code",
    "id": "smUgPiDi63Gi",
    "outputId": "64b4dbe8-6474-4290-e8a8-56b550ff9262"
   },
   "outputs": [
    {
     "name": "stdout",
     "output_type": "stream",
     "text": [
      "           ['Negative', 'Neutral', 'Positive']\n",
      "Precision: [0.25889968 0.85798817 0.44637681]\n",
      "Recall:    [0.6504065  0.60103627 0.63636364]\n",
      "F1 score:  [0.37037037 0.70688605 0.52470187]\n",
      "          \n",
      "Precision: 52.11% (+/- 0.25%)\n",
      "Recall: 62.93% (+/- 0.02%)\n",
      "F1 score: 53.40% (+/- 0.14%)\n"
     ]
    }
   ],
   "source": [
    "class_names = ['Negative','Neutral','Positive']\n",
    "\n",
    "print(' '*10, class_names)\n",
    "print('Precision:',precision_score(ytest, preds, average=None))\n",
    "print('Recall:   ',recall_score(ytest, preds, average=None))\n",
    "print('F1 score: ',f1_score(ytest, preds, average=None))\n",
    "print(' '*10)\n",
    "print('Precision: %.2f%% (+/- %.2f%%)' % (np.mean(precision_score(ytest, preds, average=None)*100), np.std(precision_score(ytest, preds, average=None))))\n",
    "print('Recall: %.2f%% (+/- %.2f%%)' % (np.mean(recall_score(ytest, preds, average=None)*100), np.std(recall_score(ytest, preds, average=None))))\n",
    "print('F1 score: %.2f%% (+/- %.2f%%)' % (np.mean(f1_score(ytest, preds, average=None)*100), np.std(f1_score(ytest, preds, average=None))))"
   ]
  },
  {
   "cell_type": "code",
   "execution_count": null,
   "metadata": {
    "colab": {
     "base_uri": "https://localhost:8080/",
     "height": 108
    },
    "colab_type": "code",
    "id": "Dn0vbavfIYb7",
    "outputId": "c9eafaf5-fd62-4f62-a559-bcd956587519"
   },
   "outputs": [
    {
     "name": "stdout",
     "output_type": "stream",
     "text": [
      "Confusion matrix\n",
      "           Negative  Neutral  Positive\n",
      "Negative        80       35         8\n",
      "Neutral        202      580       183\n",
      "Positive        27       61       154\n"
     ]
    }
   ],
   "source": [
    "mnbcm = confusion_matrix((ytest), preds)\n",
    "mnbcm_df = pd.DataFrame(mnbcm, index=class_names, columns=class_names)\n",
    "print('Confusion matrix\\n', mnbcm_df)"
   ]
  },
  {
   "cell_type": "markdown",
   "metadata": {
    "colab_type": "text",
    "id": "OY9x0mwS4dqy"
   },
   "source": [
    "##### Non Pipeline Stritified KFold ver"
   ]
  },
  {
   "cell_type": "markdown",
   "metadata": {
    "colab_type": "text",
    "id": "O2vAZuaSb4qv"
   },
   "source": [
    "###### X = Tokenize"
   ]
  },
  {
   "cell_type": "code",
   "execution_count": null,
   "metadata": {
    "colab": {},
    "colab_type": "code",
    "id": "oAJigo0BW0pF"
   },
   "outputs": [],
   "source": [
    "#X = data.Tokenize\n",
    "#X = [str (item) for item in X]\n",
    "#X = np.array(X)\n",
    "#Y = data.Sentiment"
   ]
  },
  {
   "cell_type": "code",
   "execution_count": null,
   "metadata": {
    "colab": {
     "base_uri": "https://localhost:8080/",
     "height": 183
    },
    "colab_type": "code",
    "id": "f_Vpd_J8XsQs",
    "outputId": "b5f9e89c-78b2-4d75-eba6-1d062854d412"
   },
   "outputs": [
    {
     "data": {
      "text/plain": [
       "array([\"['ketika', 'maranatha', 'bandung', 'bulan', 'juli', 'kemarin', 'di', 'culik', 'tabuh']\",\n",
       "       \"['yakin', 'anak', 'maranatha', 'ada', 'main', 'twitter']\",\n",
       "       \"['waktu', 'pertama', 'temu', 'sama', 'angkring', 'maranatha']\",\n",
       "       ...,\n",
       "       \"['yang', 'mau', 'ambil', 'hukum', 'unpar', 'hukum', 'unpar', 'jurus', 'yang', 'ada', 'jurus', 'aku', 'tau', 'atmajaya', 'pancasila', 'marnat', 'di', 'guru', 'tinggi', 'negeri', 'aku', 'tau']\",\n",
       "       \"['moga', 'jadi', 'dosen', 'marnat', 'tidak', 'enak']\",\n",
       "       \"['foto', 'saja', 'asa', 'kesan', 'anak', 'manajemen', 'bisnis', 'marnat', 'sedang', 'selesai', 'presentasi', 'langsung', 'pergi', 'braga']\"],\n",
       "      dtype='<U431')"
      ]
     },
     "execution_count": 51,
     "metadata": {
      "tags": []
     },
     "output_type": "execute_result"
    }
   ],
   "source": [
    "#X"
   ]
  },
  {
   "cell_type": "markdown",
   "metadata": {
    "colab_type": "text",
    "id": "0JEwZSpwcBG1"
   },
   "source": [
    "###### Stritified KFold"
   ]
  },
  {
   "cell_type": "code",
   "execution_count": null,
   "metadata": {
    "colab": {
     "base_uri": "https://localhost:8080/",
     "height": 1000
    },
    "colab_type": "code",
    "id": "VU9qAkeSw1wB",
    "outputId": "5249f7b7-bccc-466f-ae39-8a194c0f7b9b"
   },
   "outputs": [
    {
     "name": "stderr",
     "output_type": "stream",
     "text": [
      "/usr/local/lib/python3.6/dist-packages/sklearn/utils/deprecation.py:87: FutureWarning: Function safe_indexing is deprecated; safe_indexing is deprecated in version 0.22 and will be removed in version 0.24.\n",
      "  warnings.warn(msg, category=FutureWarning)\n"
     ]
    },
    {
     "name": "stdout",
     "output_type": "stream",
     "text": [
      "          \n",
      "Accuracy:  62.290502793296085\n",
      "           ['Negative', 'Neutral', 'Positive']\n",
      "Precision: [0.2605042  0.87613843 0.43902439]\n",
      "Recall:    [0.63265306 0.61508951 0.64948454]\n",
      "F1 score:  [0.36904762 0.72276484 0.52390852]\n",
      "--------------------------------------------------\n",
      "Precision: 52.52% (+/- 0.26%)\n",
      "Recall: 63.24% (+/- 0.01%)\n",
      "F1 score: 53.86% (+/- 0.14%)\n",
      "Confusion matrix\n",
      "           Negative  Neutral  Positive\n",
      "Negative        62       26        10\n",
      "Neutral        150      481       151\n",
      "Positive        26       42       126\n"
     ]
    },
    {
     "name": "stderr",
     "output_type": "stream",
     "text": [
      "/usr/local/lib/python3.6/dist-packages/sklearn/utils/deprecation.py:87: FutureWarning: Function safe_indexing is deprecated; safe_indexing is deprecated in version 0.22 and will be removed in version 0.24.\n",
      "  warnings.warn(msg, category=FutureWarning)\n"
     ]
    },
    {
     "name": "stdout",
     "output_type": "stream",
     "text": [
      "          \n",
      "Accuracy:  63.50093109869647\n",
      "           ['Negative', 'Neutral', 'Positive']\n",
      "Precision: [0.24186047 0.87676056 0.45360825]\n",
      "Recall:    [0.52525253 0.63764405 0.68041237]\n",
      "F1 score:  [0.33121019 0.73832468 0.5443299 ]\n",
      "--------------------------------------------------\n",
      "Precision: 52.41% (+/- 0.26%)\n",
      "Recall: 61.44% (+/- 0.07%)\n",
      "F1 score: 53.80% (+/- 0.17%)\n",
      "Confusion matrix\n",
      "           Negative  Neutral  Positive\n",
      "Negative        52       31        16\n",
      "Neutral        140      498       143\n",
      "Positive        23       39       132\n"
     ]
    },
    {
     "name": "stderr",
     "output_type": "stream",
     "text": [
      "/usr/local/lib/python3.6/dist-packages/sklearn/utils/deprecation.py:87: FutureWarning: Function safe_indexing is deprecated; safe_indexing is deprecated in version 0.22 and will be removed in version 0.24.\n",
      "  warnings.warn(msg, category=FutureWarning)\n"
     ]
    },
    {
     "name": "stdout",
     "output_type": "stream",
     "text": [
      "          \n",
      "Accuracy:  65.05125815470643\n",
      "           ['Negative', 'Neutral', 'Positive']\n",
      "Precision: [0.29015544 0.8791019  0.44186047]\n",
      "Recall:    [0.57142857 0.65172855 0.68556701]\n",
      "F1 score:  [0.38487973 0.74852941 0.53737374]\n",
      "--------------------------------------------------\n",
      "Precision: 53.70% (+/- 0.25%)\n",
      "Recall: 63.62% (+/- 0.05%)\n",
      "F1 score: 55.69% (+/- 0.15%)\n",
      "Confusion matrix\n",
      "           Negative  Neutral  Positive\n",
      "Negative        56       30        12\n",
      "Neutral        116      509       156\n",
      "Positive        21       40       133\n"
     ]
    },
    {
     "name": "stderr",
     "output_type": "stream",
     "text": [
      "/usr/local/lib/python3.6/dist-packages/sklearn/utils/deprecation.py:87: FutureWarning: Function safe_indexing is deprecated; safe_indexing is deprecated in version 0.22 and will be removed in version 0.24.\n",
      "  warnings.warn(msg, category=FutureWarning)\n"
     ]
    },
    {
     "name": "stdout",
     "output_type": "stream",
     "text": [
      "          \n",
      "Accuracy:  64.6784715750233\n",
      "           ['Negative', 'Neutral', 'Positive']\n",
      "Precision: [0.30136986 0.875      0.43333333]\n",
      "Recall:    [0.67346939 0.65428937 0.60309278]\n",
      "F1 score:  [0.41640379 0.74871795 0.50431034]\n",
      "--------------------------------------------------\n",
      "Precision: 53.66% (+/- 0.25%)\n",
      "Recall: 64.36% (+/- 0.03%)\n",
      "F1 score: 55.65% (+/- 0.14%)\n",
      "Confusion matrix\n",
      "           Negative  Neutral  Positive\n",
      "Negative        66       21        11\n",
      "Neutral        128      511       142\n",
      "Positive        25       52       117\n"
     ]
    },
    {
     "name": "stderr",
     "output_type": "stream",
     "text": [
      "/usr/local/lib/python3.6/dist-packages/sklearn/utils/deprecation.py:87: FutureWarning: Function safe_indexing is deprecated; safe_indexing is deprecated in version 0.22 and will be removed in version 0.24.\n",
      "  warnings.warn(msg, category=FutureWarning)\n"
     ]
    },
    {
     "name": "stdout",
     "output_type": "stream",
     "text": [
      "          \n",
      "Accuracy:  64.58527493010251\n",
      "           ['Negative', 'Neutral', 'Positive']\n",
      "Precision: [0.2735426  0.88327526 0.45289855]\n",
      "Recall:    [0.62244898 0.64916773 0.6443299 ]\n",
      "F1 score:  [0.38006231 0.74833948 0.53191489]\n",
      "--------------------------------------------------\n",
      "Precision: 53.66% (+/- 0.26%)\n",
      "Recall: 63.86% (+/- 0.01%)\n",
      "F1 score: 55.34% (+/- 0.15%)\n",
      "Confusion matrix\n",
      "           Negative  Neutral  Positive\n",
      "Negative        61       25        12\n",
      "Neutral        135      507       139\n",
      "Positive        27       42       125\n"
     ]
    }
   ],
   "source": [
    "skf = StratifiedKFold(n_splits=5, shuffle=True, random_state=5)\n",
    "\n",
    "accuracymnbskf = []\n",
    "precisionmnbskf = []\n",
    "recallmnbskf = []\n",
    "f1mnbskf = []\n",
    "for train_skf, test_skf in skf.split(X, Y):\n",
    "  xtraintvecskf = tvec3.fit_transform(X[train_skf])\n",
    "  xtesttvecskf = tvec3.transform(X[test_skf])\n",
    "  xresskf, yresskf = SMOTETomnb.fit_resample(xtraintvecskf, Y[train_skf])\n",
    "  mnb_fitskf = mnb.fit(xresskf, yresskf)\n",
    "  predictionmnbskf = mnb_fitskf.predict(xtesttvecskf)\n",
    "  scoresmnbskf = mnb_fitskf.score(xtesttvecskf, Y[test_skf])\n",
    "  class_names_skf = ['Negative','Neutral','Positive']\n",
    "  cmskf = confusion_matrix((Y[test_skf]), predictionmnbskf)\n",
    "  mnbdf_cmskf = pd.DataFrame(cmskf, index=class_names_skf, columns=class_names_skf)\n",
    "\n",
    "  print(' '*10)\n",
    "  accuracymnbskf.append(scoresmnbskf * 100)\n",
    "  print('Accuracy: ', scoresmnbskf * 100)\n",
    "  print(' '*10, class_names_skf)\n",
    "  precisionmnbskf.append(precision_score(Y[test_skf], predictionmnbskf, average='macro')*100)\n",
    "  print('Precision:',precision_score(Y[test_skf], predictionmnbskf, average=None))\n",
    "  recallmnbskf.append(recall_score(Y[test_skf], predictionmnbskf, average='macro')*100)\n",
    "  print('Recall:   ',recall_score(Y[test_skf], predictionmnbskf, average=None))\n",
    "  f1mnbskf.append(f1_score(Y[test_skf], predictionmnbskf, average='macro')*100)\n",
    "  print('F1 score: ',f1_score(Y[test_skf], predictionmnbskf, average=None))\n",
    "  print('-'*50)\n",
    "  print('Precision: %.2f%% (+/- %.2f%%)' % (np.mean(precision_score(Y[test_skf], predictionmnbskf, average=None)*100), \n",
    "                                            np.std(precision_score(Y[test_skf], predictionmnbskf, average=None))))\n",
    "  print('Recall: %.2f%% (+/- %.2f%%)' % (np.mean(recall_score(Y[test_skf], predictionmnbskf, average=None)*100), \n",
    "                                         np.std(recall_score(Y[test_skf], predictionmnbskf, average=None))))\n",
    "  print('F1 score: %.2f%% (+/- %.2f%%)' % (np.mean(f1_score(Y[test_skf], predictionmnbskf, average=None)*100), \n",
    "                                           np.std(f1_score(Y[test_skf], predictionmnbskf, average=None))))\n",
    "  print('Confusion matrix\\n', mnbdf_cmskf)"
   ]
  },
  {
   "cell_type": "markdown",
   "metadata": {
    "colab_type": "text",
    "id": "B_vCwDsNCPlt"
   },
   "source": [
    "#### Test Classifier MNB"
   ]
  },
  {
   "cell_type": "markdown",
   "metadata": {
    "colab_type": "text",
    "id": "4oK_DLvUluim"
   },
   "source": [
    "##### Download test data"
   ]
  },
  {
   "cell_type": "code",
   "execution_count": null,
   "metadata": {
    "colab": {
     "base_uri": "https://localhost:8080/",
     "height": 90
    },
    "colab_type": "code",
    "id": "2sw1dDmEl_gr",
    "outputId": "3e8a7fbe-69ac-4b73-daa1-4752d3c0a91b"
   },
   "outputs": [
    {
     "name": "stdout",
     "output_type": "stream",
     "text": [
      "Requirement already satisfied: GetOldTweets3 in /usr/local/lib/python3.6/dist-packages (0.0.11)\n",
      "Requirement already satisfied: lxml>=3.5.0 in /usr/local/lib/python3.6/dist-packages (from GetOldTweets3) (4.2.6)\n",
      "Requirement already satisfied: pyquery>=1.2.10 in /usr/local/lib/python3.6/dist-packages (from GetOldTweets3) (1.4.1)\n",
      "Requirement already satisfied: cssselect>0.7.9 in /usr/local/lib/python3.6/dist-packages (from pyquery>=1.2.10->GetOldTweets3) (1.1.0)\n"
     ]
    }
   ],
   "source": [
    "pip install GetOldTweets3"
   ]
  },
  {
   "cell_type": "code",
   "execution_count": null,
   "metadata": {
    "colab": {},
    "colab_type": "code",
    "id": "p6Z4WU8Eltdf"
   },
   "outputs": [],
   "source": [
    "import GetOldTweets3 as got"
   ]
  },
  {
   "cell_type": "code",
   "execution_count": null,
   "metadata": {
    "colab": {},
    "colab_type": "code",
    "id": "rKeNWEgWmBAq"
   },
   "outputs": [],
   "source": [
    "# Function that pulls tweets based on a general search query and turns to csv file\n",
    "\n",
    "# Parameters: (text query you want to search), (max number of most recent tweets to pull from)\n",
    "def text_query_to_csv(text_query, count):\n",
    "    # Creation of query object\n",
    "    tweetCriteria = got.manager.TweetCriteria().setQuerySearch(text_query)\\\n",
    "                                                .setLang('id')\\\n",
    "                                                .setMaxTweets(count)\\\n",
    "                                                .setSince(start_date)\\\n",
    "                                                .setUntil(end_date)\n",
    "    # Creation of list that contains all tweets\n",
    "    tweets = got.manager.TweetManager.getTweets(tweetCriteria)\n",
    "\n",
    "    text_tweets = [[tweet.date, tweet.text] for tweet in tweets]\n",
    "\n",
    "    tweets_df = pd.DataFrame(text_tweets, columns = ['Datetime', 'Text'])\n",
    "\n",
    "    tweets_df.to_csv('{}-{}-tweets.csv'.format(text_query, int(count)), sep=',')\n",
    "    \n",
    "text_query1 = 'maranatha'\n",
    "text_query2 = 'marnath'\n",
    "text_query3 = 'marnat'\n",
    "start_date = '2020-02-01'\n",
    "end_date = '2020-05-31'\n",
    "count = 0"
   ]
  },
  {
   "cell_type": "code",
   "execution_count": null,
   "metadata": {
    "colab": {},
    "colab_type": "code",
    "id": "qbPDPSD3oNFT"
   },
   "outputs": [],
   "source": [
    "text_query_to_csv(text_query1, count)"
   ]
  },
  {
   "cell_type": "code",
   "execution_count": null,
   "metadata": {
    "colab": {},
    "colab_type": "code",
    "id": "T6qu0y8QoByf"
   },
   "outputs": [],
   "source": [
    "text_query_to_csv(text_query2, count)"
   ]
  },
  {
   "cell_type": "code",
   "execution_count": null,
   "metadata": {
    "colab": {},
    "colab_type": "code",
    "id": "bYONDgcwoCFn"
   },
   "outputs": [],
   "source": [
    "text_query_to_csv(text_query3, count)"
   ]
  },
  {
   "cell_type": "code",
   "execution_count": null,
   "metadata": {
    "colab": {},
    "colab_type": "code",
    "id": "QahhkMDgoY76"
   },
   "outputs": [],
   "source": [
    "test_maranatha_df = pd.read_csv('/content/maranatha-0-tweets.csv')\n",
    "test_marnath_df = pd.read_csv('/content/marnath-0-tweets.csv')\n",
    "test_marnat_df = pd.read_csv('/content/marnat-0-tweets.csv')"
   ]
  },
  {
   "cell_type": "code",
   "execution_count": null,
   "metadata": {
    "colab": {
     "base_uri": "https://localhost:8080/",
     "height": 407
    },
    "colab_type": "code",
    "id": "MxrkO9Wrpcgd",
    "outputId": "842a7d4a-0a29-430c-ec48-24d2cbea1442"
   },
   "outputs": [
    {
     "data": {
      "text/html": [
       "<div>\n",
       "<style scoped>\n",
       "    .dataframe tbody tr th:only-of-type {\n",
       "        vertical-align: middle;\n",
       "    }\n",
       "\n",
       "    .dataframe tbody tr th {\n",
       "        vertical-align: top;\n",
       "    }\n",
       "\n",
       "    .dataframe thead th {\n",
       "        text-align: right;\n",
       "    }\n",
       "</style>\n",
       "<table border=\"1\" class=\"dataframe\">\n",
       "  <thead>\n",
       "    <tr style=\"text-align: right;\">\n",
       "      <th></th>\n",
       "      <th>Unnamed: 0</th>\n",
       "      <th>Datetime</th>\n",
       "      <th>Text</th>\n",
       "    </tr>\n",
       "  </thead>\n",
       "  <tbody>\n",
       "    <tr>\n",
       "      <th>0</th>\n",
       "      <td>0</td>\n",
       "      <td>2020-05-30 22:44:47+00:00</td>\n",
       "      <td>Ya, Cina Maranatha karena peduli soal Saya dan...</td>\n",
       "    </tr>\n",
       "    <tr>\n",
       "      <th>1</th>\n",
       "      <td>1</td>\n",
       "      <td>2020-05-30 22:44:09+00:00</td>\n",
       "      <td>Kalau virus Corona itu, berasal atau karena.. ...</td>\n",
       "    </tr>\n",
       "    <tr>\n",
       "      <th>2</th>\n",
       "      <td>2</td>\n",
       "      <td>2020-05-30 20:12:20+00:00</td>\n",
       "      <td>unpar? ciputra? atmajaya? sampoerna? maranatha...</td>\n",
       "    </tr>\n",
       "    <tr>\n",
       "      <th>3</th>\n",
       "      <td>3</td>\n",
       "      <td>2020-05-30 18:39:08+00:00</td>\n",
       "      <td>kenapa ga Maranatha Bandung aja</td>\n",
       "    </tr>\n",
       "    <tr>\n",
       "      <th>4</th>\n",
       "      <td>4</td>\n",
       "      <td>2020-05-30 18:20:31+00:00</td>\n",
       "      <td>blm bisa Rt lgi di setrap ini akun sy katanya...</td>\n",
       "    </tr>\n",
       "    <tr>\n",
       "      <th>...</th>\n",
       "      <td>...</td>\n",
       "      <td>...</td>\n",
       "      <td>...</td>\n",
       "    </tr>\n",
       "    <tr>\n",
       "      <th>1583</th>\n",
       "      <td>752</td>\n",
       "      <td>2020-02-02 04:47:26+00:00</td>\n",
       "      <td>Temen si yolla tah, marnat husein teh tinggal ...</td>\n",
       "    </tr>\n",
       "    <tr>\n",
       "      <th>1584</th>\n",
       "      <td>753</td>\n",
       "      <td>2020-02-01 20:47:23+00:00</td>\n",
       "      <td>Senin ketemu di marnat</td>\n",
       "    </tr>\n",
       "    <tr>\n",
       "      <th>1585</th>\n",
       "      <td>754</td>\n",
       "      <td>2020-02-01 19:19:49+00:00</td>\n",
       "      <td>Nak marnat bund ?</td>\n",
       "    </tr>\n",
       "    <tr>\n",
       "      <th>1586</th>\n",
       "      <td>755</td>\n",
       "      <td>2020-02-01 14:43:44+00:00</td>\n",
       "      <td>Euy info dong,kos kos an elite daerah cimahi a...</td>\n",
       "    </tr>\n",
       "    <tr>\n",
       "      <th>1587</th>\n",
       "      <td>756</td>\n",
       "      <td>2020-02-01 07:17:41+00:00</td>\n",
       "      <td>ya ngapain atuh,, orcin aja nuntut ilmu ke mar...</td>\n",
       "    </tr>\n",
       "  </tbody>\n",
       "</table>\n",
       "<p>1588 rows × 3 columns</p>\n",
       "</div>"
      ],
      "text/plain": [
       "      Unnamed: 0  ...                                               Text\n",
       "0              0  ...  Ya, Cina Maranatha karena peduli soal Saya dan...\n",
       "1              1  ...  Kalau virus Corona itu, berasal atau karena.. ...\n",
       "2              2  ...  unpar? ciputra? atmajaya? sampoerna? maranatha...\n",
       "3              3  ...                    kenapa ga Maranatha Bandung aja\n",
       "4              4  ...   blm bisa Rt lgi di setrap ini akun sy katanya...\n",
       "...          ...  ...                                                ...\n",
       "1583         752  ...  Temen si yolla tah, marnat husein teh tinggal ...\n",
       "1584         753  ...                             Senin ketemu di marnat\n",
       "1585         754  ...                                  Nak marnat bund ?\n",
       "1586         755  ...  Euy info dong,kos kos an elite daerah cimahi a...\n",
       "1587         756  ...  ya ngapain atuh,, orcin aja nuntut ilmu ke mar...\n",
       "\n",
       "[1588 rows x 3 columns]"
      ]
     },
     "execution_count": 31,
     "metadata": {
      "tags": []
     },
     "output_type": "execute_result"
    }
   ],
   "source": [
    "test_data = [test_maranatha_df, test_marnath_df, test_marnat_df]\n",
    "test_df = pd.concat(test_data)\n",
    "test_df.drop_duplicates()\n",
    "test_df.reset_index(drop=True, inplace=True)\n",
    "test_df.dropna(inplace=True)\n",
    "test_df.sort_values(by='Datetime', ascending=False)\n",
    "test_df"
   ]
  },
  {
   "cell_type": "code",
   "execution_count": null,
   "metadata": {
    "colab": {
     "base_uri": "https://localhost:8080/",
     "height": 74
    },
    "colab_type": "code",
    "id": "d-uKxKac0d92",
    "outputId": "458a4691-ce76-4156-8bdd-e7e13c65c577"
   },
   "outputs": [
    {
     "name": "stderr",
     "output_type": "stream",
     "text": [
      "/usr/local/lib/python3.6/dist-packages/sklearn/utils/deprecation.py:87: FutureWarning: Function safe_indexing is deprecated; safe_indexing is deprecated in version 0.22 and will be removed in version 0.24.\n",
      "  warnings.warn(msg, category=FutureWarning)\n"
     ]
    }
   ],
   "source": [
    "mnb_pipeline = mnb_SMOTETOM_tvec3_pipeline.fit(xtrain, ytrain)\n",
    "mnb_non_pipeline = mnb.fit(xres, yres)"
   ]
  },
  {
   "cell_type": "code",
   "execution_count": null,
   "metadata": {
    "colab": {},
    "colab_type": "code",
    "id": "HijuoiWT1rd3"
   },
   "outputs": [],
   "source": [
    "test_text = test_df['Text']"
   ]
  },
  {
   "cell_type": "code",
   "execution_count": null,
   "metadata": {
    "colab": {
     "base_uri": "https://localhost:8080/",
     "height": 254
    },
    "colab_type": "code",
    "id": "uo5kJvpi1uL8",
    "outputId": "a3f25d0f-d63e-469a-9e18-0c4a499f8e69"
   },
   "outputs": [
    {
     "name": "stdout",
     "output_type": "stream",
     "text": [
      "Input Text = 0       Ya, Cina Maranatha karena peduli soal Saya dan...\n",
      "1       Kalau virus Corona itu, berasal atau karena.. ...\n",
      "2       unpar? ciputra? atmajaya? sampoerna? maranatha...\n",
      "3                         kenapa ga Maranatha Bandung aja\n",
      "4        blm bisa Rt lgi di setrap ini akun sy katanya...\n",
      "                              ...                        \n",
      "1583    Temen si yolla tah, marnat husein teh tinggal ...\n",
      "1584                               Senin ketemu di marnat\n",
      "1585                                    Nak marnat bund ?\n",
      "1586    Euy info dong,kos kos an elite daerah cimahi a...\n",
      "1587    ya ngapain atuh,, orcin aja nuntut ilmu ke mar...\n",
      "Name: Text, Length: 1588, dtype: object \n",
      " Predicted = ['Negative' 'Negative' 'Negative' ... 'Neutral' 'Neutral' 'Neutral']\n"
     ]
    }
   ],
   "source": [
    "predict_mnb_pipeline = mnb_pipeline.predict(test_text)\n",
    "print('Input Text = %s \\n Predicted = %s' % (test_text, predict_mnb_pipeline))"
   ]
  },
  {
   "cell_type": "code",
   "execution_count": null,
   "metadata": {
    "colab": {},
    "colab_type": "code",
    "id": "jG1fsVgN6RxR"
   },
   "outputs": [],
   "source": [
    "test_text_non_pipeline = tvec3.transform(test_text)"
   ]
  },
  {
   "cell_type": "markdown",
   "metadata": {
    "colab_type": "text",
    "id": "j9DJphdr2gfQ"
   },
   "source": [
    "##### Test Tweets February-Mei 2020"
   ]
  },
  {
   "cell_type": "code",
   "execution_count": null,
   "metadata": {
    "colab": {},
    "colab_type": "code",
    "id": "luLNL97d2nqM"
   },
   "outputs": [],
   "source": [
    "maranatha_test_df = pd.read_excel('/content/drive/My Drive/Tesis/MARANATHA_TEST_NEW_nonindex_norm.xls')\n",
    "marnath_test_df = pd.read_excel('/content/drive/My Drive/Tesis/MARNATH_TEST_nonindex_norm.xls')\n",
    "marnat_test_df = pd.read_excel('/content/drive/My Drive/Tesis/MARNAT_TEST_nonindex_norm.xls')"
   ]
  },
  {
   "cell_type": "code",
   "execution_count": null,
   "metadata": {
    "colab": {
     "base_uri": "https://localhost:8080/",
     "height": 407
    },
    "colab_type": "code",
    "id": "8GAUMvFp3onm",
    "outputId": "c6da03a4-e85e-4bd4-f77a-2bcf798d6caa"
   },
   "outputs": [
    {
     "data": {
      "text/html": [
       "<div>\n",
       "<style scoped>\n",
       "    .dataframe tbody tr th:only-of-type {\n",
       "        vertical-align: middle;\n",
       "    }\n",
       "\n",
       "    .dataframe tbody tr th {\n",
       "        vertical-align: top;\n",
       "    }\n",
       "\n",
       "    .dataframe thead th {\n",
       "        text-align: right;\n",
       "    }\n",
       "</style>\n",
       "<table border=\"1\" class=\"dataframe\">\n",
       "  <thead>\n",
       "    <tr style=\"text-align: right;\">\n",
       "      <th></th>\n",
       "      <th>Datetime</th>\n",
       "      <th>Text</th>\n",
       "      <th>Sentiment</th>\n",
       "    </tr>\n",
       "  </thead>\n",
       "  <tbody>\n",
       "    <tr>\n",
       "      <th>0</th>\n",
       "      <td>2020-05-30 22:44:47+00:00</td>\n",
       "      <td>Ya, Cina MARANATHA karena peduli soal Saya dan...</td>\n",
       "      <td>Positive</td>\n",
       "    </tr>\n",
       "    <tr>\n",
       "      <th>1</th>\n",
       "      <td>2020-05-30 22:44:09+00:00</td>\n",
       "      <td>Kalau virus Corona itu, berasal atau karena.. ...</td>\n",
       "      <td>Neutral</td>\n",
       "    </tr>\n",
       "    <tr>\n",
       "      <th>2</th>\n",
       "      <td>2020-05-30 20:12:20+00:00</td>\n",
       "      <td>unpar? ciputra? atmajaya? sampoerna? MARANATHA...</td>\n",
       "      <td>Neutral</td>\n",
       "    </tr>\n",
       "    <tr>\n",
       "      <th>3</th>\n",
       "      <td>2020-05-30 18:39:08+00:00</td>\n",
       "      <td>kenapa tidak MARANATHA Bandung saja</td>\n",
       "      <td>Neutral</td>\n",
       "    </tr>\n",
       "    <tr>\n",
       "      <th>4</th>\n",
       "      <td>2020-05-30 12:35:27+00:00</td>\n",
       "      <td>Di Unpar dan MARANATHA Bandung. tinggal di kot...</td>\n",
       "      <td>Neutral</td>\n",
       "    </tr>\n",
       "    <tr>\n",
       "      <th>...</th>\n",
       "      <td>...</td>\n",
       "      <td>...</td>\n",
       "      <td>...</td>\n",
       "    </tr>\n",
       "    <tr>\n",
       "      <th>1196</th>\n",
       "      <td>2020-02-02 11:47:46+00:00</td>\n",
       "      <td>Angkringan marnat bisa tambah bayar tidak</td>\n",
       "      <td>Neutral</td>\n",
       "    </tr>\n",
       "    <tr>\n",
       "      <th>1197</th>\n",
       "      <td>2020-02-02 04:47:26+00:00</td>\n",
       "      <td>Teman dia, marnat husein hanya langkah</td>\n",
       "      <td>Neutral</td>\n",
       "    </tr>\n",
       "    <tr>\n",
       "      <th>1198</th>\n",
       "      <td>2020-02-01 20:47:23+00:00</td>\n",
       "      <td>Senin temu di marnat</td>\n",
       "      <td>Neutral</td>\n",
       "    </tr>\n",
       "    <tr>\n",
       "      <th>1199</th>\n",
       "      <td>2020-02-01 14:43:44+00:00</td>\n",
       "      <td>Tolong info,kost bagus daerah cimahi atau bela...</td>\n",
       "      <td>Positive</td>\n",
       "    </tr>\n",
       "    <tr>\n",
       "      <th>1200</th>\n",
       "      <td>2020-02-01 07:17:41+00:00</td>\n",
       "      <td>ya untuk apa dia saja tuntut ilmu ke marnat</td>\n",
       "      <td>Neutral</td>\n",
       "    </tr>\n",
       "  </tbody>\n",
       "</table>\n",
       "<p>1201 rows × 3 columns</p>\n",
       "</div>"
      ],
      "text/plain": [
       "                       Datetime  ... Sentiment\n",
       "0     2020-05-30 22:44:47+00:00  ...  Positive\n",
       "1     2020-05-30 22:44:09+00:00  ...   Neutral\n",
       "2     2020-05-30 20:12:20+00:00  ...   Neutral\n",
       "3     2020-05-30 18:39:08+00:00  ...   Neutral\n",
       "4     2020-05-30 12:35:27+00:00  ...   Neutral\n",
       "...                         ...  ...       ...\n",
       "1196  2020-02-02 11:47:46+00:00  ...   Neutral\n",
       "1197  2020-02-02 04:47:26+00:00  ...   Neutral\n",
       "1198  2020-02-01 20:47:23+00:00  ...   Neutral\n",
       "1199  2020-02-01 14:43:44+00:00  ...  Positive\n",
       "1200  2020-02-01 07:17:41+00:00  ...   Neutral\n",
       "\n",
       "[1201 rows x 3 columns]"
      ]
     },
     "execution_count": 94,
     "metadata": {
      "tags": []
     },
     "output_type": "execute_result"
    }
   ],
   "source": [
    "data_test = [maranatha_test_df, marnath_test_df, marnat_test_df]\n",
    "test_df = pd.concat(data_test)\n",
    "test_df.drop_duplicates()\n",
    "test_df.reset_index(drop=True, inplace=True)\n",
    "test_df.dropna(inplace=True)\n",
    "test_df.sort_values(by='Datetime', ascending=False)\n",
    "test_df['Sentiment'] = test_df.Sentiment.map({0:'Neutral', 1:'Positive', -1:'Negative'})\n",
    "test_df"
   ]
  },
  {
   "cell_type": "code",
   "execution_count": null,
   "metadata": {
    "colab": {
     "base_uri": "https://localhost:8080/",
     "height": 54
    },
    "colab_type": "code",
    "id": "t288hLcE6KUy",
    "outputId": "cee836fa-195a-454b-c649-7d92f6efcc92"
   },
   "outputs": [
    {
     "name": "stdout",
     "output_type": "stream",
     "text": [
      "CPU times: user 37.3 s, sys: 9.88 ms, total: 37.3 s\n",
      "Wall time: 37.3 s\n"
     ]
    }
   ],
   "source": [
    "%%time\n",
    "\n",
    "test_text_cleaner = []\n",
    "\n",
    "for text in test_df.Text:\n",
    "    test_text_cleaner.append(clean_text(text))"
   ]
  },
  {
   "cell_type": "code",
   "execution_count": null,
   "metadata": {
    "colab": {
     "base_uri": "https://localhost:8080/",
     "height": 407
    },
    "colab_type": "code",
    "id": "3i9Nrq3N6eaH",
    "outputId": "bdf2b0c7-2dcd-41d9-d6bc-ca9addee1c36"
   },
   "outputs": [
    {
     "data": {
      "text/html": [
       "<div>\n",
       "<style scoped>\n",
       "    .dataframe tbody tr th:only-of-type {\n",
       "        vertical-align: middle;\n",
       "    }\n",
       "\n",
       "    .dataframe tbody tr th {\n",
       "        vertical-align: top;\n",
       "    }\n",
       "\n",
       "    .dataframe thead th {\n",
       "        text-align: right;\n",
       "    }\n",
       "</style>\n",
       "<table border=\"1\" class=\"dataframe\">\n",
       "  <thead>\n",
       "    <tr style=\"text-align: right;\">\n",
       "      <th></th>\n",
       "      <th>Datetime</th>\n",
       "      <th>Text</th>\n",
       "      <th>Sentiment</th>\n",
       "      <th>New_Test_Text</th>\n",
       "    </tr>\n",
       "  </thead>\n",
       "  <tbody>\n",
       "    <tr>\n",
       "      <th>0</th>\n",
       "      <td>2020-05-30 22:44:47+00:00</td>\n",
       "      <td>Ya, Cina MARANATHA karena peduli soal Saya dan...</td>\n",
       "      <td>Positive</td>\n",
       "      <td>cina maranatha peduli soal dan karina mungkin</td>\n",
       "    </tr>\n",
       "    <tr>\n",
       "      <th>1</th>\n",
       "      <td>2020-05-30 22:44:09+00:00</td>\n",
       "      <td>Kalau virus Corona itu, berasal atau karena.. ...</td>\n",
       "      <td>Neutral</td>\n",
       "      <td>kalau virus corona asal karena cina maranatha</td>\n",
       "    </tr>\n",
       "    <tr>\n",
       "      <th>2</th>\n",
       "      <td>2020-05-30 20:12:20+00:00</td>\n",
       "      <td>unpar? ciputra? atmajaya? sampoerna? MARANATHA...</td>\n",
       "      <td>Neutral</td>\n",
       "      <td>unpar ciputra atmajaya sampoerna maranatha bus...</td>\n",
       "    </tr>\n",
       "    <tr>\n",
       "      <th>3</th>\n",
       "      <td>2020-05-30 18:39:08+00:00</td>\n",
       "      <td>kenapa tidak MARANATHA Bandung saja</td>\n",
       "      <td>Neutral</td>\n",
       "      <td>tidak maranatha bandung</td>\n",
       "    </tr>\n",
       "    <tr>\n",
       "      <th>4</th>\n",
       "      <td>2020-05-30 12:35:27+00:00</td>\n",
       "      <td>Di Unpar dan MARANATHA Bandung. tinggal di kot...</td>\n",
       "      <td>Neutral</td>\n",
       "      <td>unpar maranatha bandung tinggal kota mana</td>\n",
       "    </tr>\n",
       "    <tr>\n",
       "      <th>...</th>\n",
       "      <td>...</td>\n",
       "      <td>...</td>\n",
       "      <td>...</td>\n",
       "      <td>...</td>\n",
       "    </tr>\n",
       "    <tr>\n",
       "      <th>1196</th>\n",
       "      <td>2020-02-02 11:47:46+00:00</td>\n",
       "      <td>Angkringan marnat bisa tambah bayar tidak</td>\n",
       "      <td>Neutral</td>\n",
       "      <td>angkring marnat tambah bayar</td>\n",
       "    </tr>\n",
       "    <tr>\n",
       "      <th>1197</th>\n",
       "      <td>2020-02-02 04:47:26+00:00</td>\n",
       "      <td>Teman dia, marnat husein hanya langkah</td>\n",
       "      <td>Neutral</td>\n",
       "      <td>teman marnat husein langkah</td>\n",
       "    </tr>\n",
       "    <tr>\n",
       "      <th>1198</th>\n",
       "      <td>2020-02-01 20:47:23+00:00</td>\n",
       "      <td>Senin temu di marnat</td>\n",
       "      <td>Neutral</td>\n",
       "      <td>senin temu marnat</td>\n",
       "    </tr>\n",
       "    <tr>\n",
       "      <th>1199</th>\n",
       "      <td>2020-02-01 14:43:44+00:00</td>\n",
       "      <td>Tolong info,kost bagus daerah cimahi atau bela...</td>\n",
       "      <td>Positive</td>\n",
       "      <td>info kost bagus daerah cimahi belakang marnat</td>\n",
       "    </tr>\n",
       "    <tr>\n",
       "      <th>1200</th>\n",
       "      <td>2020-02-01 07:17:41+00:00</td>\n",
       "      <td>ya untuk apa dia saja tuntut ilmu ke marnat</td>\n",
       "      <td>Neutral</td>\n",
       "      <td>untuk apa saja tuntut ilmu marnat</td>\n",
       "    </tr>\n",
       "  </tbody>\n",
       "</table>\n",
       "<p>1201 rows × 4 columns</p>\n",
       "</div>"
      ],
      "text/plain": [
       "                       Datetime  ...                                      New_Test_Text\n",
       "0     2020-05-30 22:44:47+00:00  ...      cina maranatha peduli soal dan karina mungkin\n",
       "1     2020-05-30 22:44:09+00:00  ...      kalau virus corona asal karena cina maranatha\n",
       "2     2020-05-30 20:12:20+00:00  ...  unpar ciputra atmajaya sampoerna maranatha bus...\n",
       "3     2020-05-30 18:39:08+00:00  ...                            tidak maranatha bandung\n",
       "4     2020-05-30 12:35:27+00:00  ...          unpar maranatha bandung tinggal kota mana\n",
       "...                         ...  ...                                                ...\n",
       "1196  2020-02-02 11:47:46+00:00  ...                       angkring marnat tambah bayar\n",
       "1197  2020-02-02 04:47:26+00:00  ...                        teman marnat husein langkah\n",
       "1198  2020-02-01 20:47:23+00:00  ...                                  senin temu marnat\n",
       "1199  2020-02-01 14:43:44+00:00  ...      info kost bagus daerah cimahi belakang marnat\n",
       "1200  2020-02-01 07:17:41+00:00  ...                  untuk apa saja tuntut ilmu marnat\n",
       "\n",
       "[1201 rows x 4 columns]"
      ]
     },
     "execution_count": 96,
     "metadata": {
      "tags": []
     },
     "output_type": "execute_result"
    }
   ],
   "source": [
    "new_test_text = pd.DataFrame({'New_Test_Text' : test_text_cleaner})\n",
    "new_test_df = pd.concat([test_df, new_test_text], axis = 1)\n",
    "new_test_df.replace('', np.nan, inplace=True)\n",
    "new_test_df.dropna(inplace=True)\n",
    "new_test_df.reset_index(drop=True, inplace=True)\n",
    "new_test_df"
   ]
  },
  {
   "cell_type": "code",
   "execution_count": null,
   "metadata": {
    "colab": {},
    "colab_type": "code",
    "id": "qeDnIsNH8hYy"
   },
   "outputs": [],
   "source": [
    "new_test_df['Tokenize'] = new_test_df['Text'].apply(lambda x: clean_text_token(x))"
   ]
  },
  {
   "cell_type": "code",
   "execution_count": null,
   "metadata": {
    "colab": {
     "base_uri": "https://localhost:8080/",
     "height": 580
    },
    "colab_type": "code",
    "id": "o59av3CM8tgj",
    "outputId": "7e8adb05-17b6-4c4e-f3f8-6dc2129dec01"
   },
   "outputs": [
    {
     "data": {
      "text/html": [
       "<div>\n",
       "<style scoped>\n",
       "    .dataframe tbody tr th:only-of-type {\n",
       "        vertical-align: middle;\n",
       "    }\n",
       "\n",
       "    .dataframe tbody tr th {\n",
       "        vertical-align: top;\n",
       "    }\n",
       "\n",
       "    .dataframe thead th {\n",
       "        text-align: right;\n",
       "    }\n",
       "</style>\n",
       "<table border=\"1\" class=\"dataframe\">\n",
       "  <thead>\n",
       "    <tr style=\"text-align: right;\">\n",
       "      <th></th>\n",
       "      <th>Datetime</th>\n",
       "      <th>Text</th>\n",
       "      <th>Sentiment</th>\n",
       "      <th>New_Test_Text</th>\n",
       "      <th>Tokenize</th>\n",
       "    </tr>\n",
       "  </thead>\n",
       "  <tbody>\n",
       "    <tr>\n",
       "      <th>0</th>\n",
       "      <td>2020-05-30 22:44:47+00:00</td>\n",
       "      <td>Ya, Cina MARANATHA karena peduli soal Saya dan...</td>\n",
       "      <td>Positive</td>\n",
       "      <td>cina maranatha peduli soal dan karina mungkin</td>\n",
       "      <td>[cina, maranatha, peduli, soal, dan, karina, m...</td>\n",
       "    </tr>\n",
       "    <tr>\n",
       "      <th>1</th>\n",
       "      <td>2020-05-30 22:44:09+00:00</td>\n",
       "      <td>Kalau virus Corona itu, berasal atau karena.. ...</td>\n",
       "      <td>Neutral</td>\n",
       "      <td>kalau virus corona asal karena cina maranatha</td>\n",
       "      <td>[kalau, virus, corona, asal, karena, cina, mar...</td>\n",
       "    </tr>\n",
       "    <tr>\n",
       "      <th>2</th>\n",
       "      <td>2020-05-30 20:12:20+00:00</td>\n",
       "      <td>unpar? ciputra? atmajaya? sampoerna? MARANATHA...</td>\n",
       "      <td>Neutral</td>\n",
       "      <td>unpar ciputra atmajaya sampoerna maranatha bus...</td>\n",
       "      <td>[unpar, ciputra, atmajaya, sampoerna, maranath...</td>\n",
       "    </tr>\n",
       "    <tr>\n",
       "      <th>3</th>\n",
       "      <td>2020-05-30 18:39:08+00:00</td>\n",
       "      <td>kenapa tidak MARANATHA Bandung saja</td>\n",
       "      <td>Neutral</td>\n",
       "      <td>tidak maranatha bandung</td>\n",
       "      <td>[tidak, maranatha, bandung]</td>\n",
       "    </tr>\n",
       "    <tr>\n",
       "      <th>4</th>\n",
       "      <td>2020-05-30 12:35:27+00:00</td>\n",
       "      <td>Di Unpar dan MARANATHA Bandung. tinggal di kot...</td>\n",
       "      <td>Neutral</td>\n",
       "      <td>unpar maranatha bandung tinggal kota mana</td>\n",
       "      <td>[unpar, maranatha, bandung, tinggal, kota, mana]</td>\n",
       "    </tr>\n",
       "    <tr>\n",
       "      <th>...</th>\n",
       "      <td>...</td>\n",
       "      <td>...</td>\n",
       "      <td>...</td>\n",
       "      <td>...</td>\n",
       "      <td>...</td>\n",
       "    </tr>\n",
       "    <tr>\n",
       "      <th>1196</th>\n",
       "      <td>2020-02-02 11:47:46+00:00</td>\n",
       "      <td>Angkringan marnat bisa tambah bayar tidak</td>\n",
       "      <td>Neutral</td>\n",
       "      <td>angkring marnat tambah bayar</td>\n",
       "      <td>[angkring, marnat, tambah, bayar]</td>\n",
       "    </tr>\n",
       "    <tr>\n",
       "      <th>1197</th>\n",
       "      <td>2020-02-02 04:47:26+00:00</td>\n",
       "      <td>Teman dia, marnat husein hanya langkah</td>\n",
       "      <td>Neutral</td>\n",
       "      <td>teman marnat husein langkah</td>\n",
       "      <td>[teman, marnat, husein, langkah]</td>\n",
       "    </tr>\n",
       "    <tr>\n",
       "      <th>1198</th>\n",
       "      <td>2020-02-01 20:47:23+00:00</td>\n",
       "      <td>Senin temu di marnat</td>\n",
       "      <td>Neutral</td>\n",
       "      <td>senin temu marnat</td>\n",
       "      <td>[senin, temu, marnat]</td>\n",
       "    </tr>\n",
       "    <tr>\n",
       "      <th>1199</th>\n",
       "      <td>2020-02-01 14:43:44+00:00</td>\n",
       "      <td>Tolong info,kost bagus daerah cimahi atau bela...</td>\n",
       "      <td>Positive</td>\n",
       "      <td>info kost bagus daerah cimahi belakang marnat</td>\n",
       "      <td>[infokost, bagus, daerah, cimahi, belakang, ma...</td>\n",
       "    </tr>\n",
       "    <tr>\n",
       "      <th>1200</th>\n",
       "      <td>2020-02-01 07:17:41+00:00</td>\n",
       "      <td>ya untuk apa dia saja tuntut ilmu ke marnat</td>\n",
       "      <td>Neutral</td>\n",
       "      <td>untuk apa saja tuntut ilmu marnat</td>\n",
       "      <td>[untuk, apa, saja, tuntut, ilmu, marnat]</td>\n",
       "    </tr>\n",
       "  </tbody>\n",
       "</table>\n",
       "<p>1201 rows × 5 columns</p>\n",
       "</div>"
      ],
      "text/plain": [
       "                       Datetime  ...                                           Tokenize\n",
       "0     2020-05-30 22:44:47+00:00  ...  [cina, maranatha, peduli, soal, dan, karina, m...\n",
       "1     2020-05-30 22:44:09+00:00  ...  [kalau, virus, corona, asal, karena, cina, mar...\n",
       "2     2020-05-30 20:12:20+00:00  ...  [unpar, ciputra, atmajaya, sampoerna, maranath...\n",
       "3     2020-05-30 18:39:08+00:00  ...                        [tidak, maranatha, bandung]\n",
       "4     2020-05-30 12:35:27+00:00  ...   [unpar, maranatha, bandung, tinggal, kota, mana]\n",
       "...                         ...  ...                                                ...\n",
       "1196  2020-02-02 11:47:46+00:00  ...                  [angkring, marnat, tambah, bayar]\n",
       "1197  2020-02-02 04:47:26+00:00  ...                   [teman, marnat, husein, langkah]\n",
       "1198  2020-02-01 20:47:23+00:00  ...                              [senin, temu, marnat]\n",
       "1199  2020-02-01 14:43:44+00:00  ...  [infokost, bagus, daerah, cimahi, belakang, ma...\n",
       "1200  2020-02-01 07:17:41+00:00  ...           [untuk, apa, saja, tuntut, ilmu, marnat]\n",
       "\n",
       "[1201 rows x 5 columns]"
      ]
     },
     "execution_count": 98,
     "metadata": {
      "tags": []
     },
     "output_type": "execute_result"
    }
   ],
   "source": [
    "new_test_df"
   ]
  },
  {
   "cell_type": "code",
   "execution_count": null,
   "metadata": {
    "colab": {
     "base_uri": "https://localhost:8080/",
     "height": 407
    },
    "colab_type": "code",
    "id": "WSZmcelW84Yt",
    "outputId": "2005d3f9-6abe-4f84-9915-81fb8cbf3b9d"
   },
   "outputs": [
    {
     "data": {
      "text/html": [
       "<div>\n",
       "<style scoped>\n",
       "    .dataframe tbody tr th:only-of-type {\n",
       "        vertical-align: middle;\n",
       "    }\n",
       "\n",
       "    .dataframe tbody tr th {\n",
       "        vertical-align: top;\n",
       "    }\n",
       "\n",
       "    .dataframe thead th {\n",
       "        text-align: right;\n",
       "    }\n",
       "</style>\n",
       "<table border=\"1\" class=\"dataframe\">\n",
       "  <thead>\n",
       "    <tr style=\"text-align: right;\">\n",
       "      <th></th>\n",
       "      <th>New_Test_Text</th>\n",
       "      <th>Sentiment</th>\n",
       "      <th>Tokenize</th>\n",
       "    </tr>\n",
       "  </thead>\n",
       "  <tbody>\n",
       "    <tr>\n",
       "      <th>0</th>\n",
       "      <td>cina maranatha peduli soal dan karina mungkin</td>\n",
       "      <td>Positive</td>\n",
       "      <td>[cina, maranatha, peduli, soal, dan, karina, m...</td>\n",
       "    </tr>\n",
       "    <tr>\n",
       "      <th>1</th>\n",
       "      <td>kalau virus corona asal karena cina maranatha</td>\n",
       "      <td>Neutral</td>\n",
       "      <td>[kalau, virus, corona, asal, karena, cina, mar...</td>\n",
       "    </tr>\n",
       "    <tr>\n",
       "      <th>2</th>\n",
       "      <td>unpar ciputra atmajaya sampoerna maranatha bus...</td>\n",
       "      <td>Neutral</td>\n",
       "      <td>[unpar, ciputra, atmajaya, sampoerna, maranath...</td>\n",
       "    </tr>\n",
       "    <tr>\n",
       "      <th>3</th>\n",
       "      <td>tidak maranatha bandung</td>\n",
       "      <td>Neutral</td>\n",
       "      <td>[tidak, maranatha, bandung]</td>\n",
       "    </tr>\n",
       "    <tr>\n",
       "      <th>4</th>\n",
       "      <td>unpar maranatha bandung tinggal kota mana</td>\n",
       "      <td>Neutral</td>\n",
       "      <td>[unpar, maranatha, bandung, tinggal, kota, mana]</td>\n",
       "    </tr>\n",
       "    <tr>\n",
       "      <th>...</th>\n",
       "      <td>...</td>\n",
       "      <td>...</td>\n",
       "      <td>...</td>\n",
       "    </tr>\n",
       "    <tr>\n",
       "      <th>1196</th>\n",
       "      <td>angkring marnat tambah bayar</td>\n",
       "      <td>Neutral</td>\n",
       "      <td>[angkring, marnat, tambah, bayar]</td>\n",
       "    </tr>\n",
       "    <tr>\n",
       "      <th>1197</th>\n",
       "      <td>teman marnat husein langkah</td>\n",
       "      <td>Neutral</td>\n",
       "      <td>[teman, marnat, husein, langkah]</td>\n",
       "    </tr>\n",
       "    <tr>\n",
       "      <th>1198</th>\n",
       "      <td>senin temu marnat</td>\n",
       "      <td>Neutral</td>\n",
       "      <td>[senin, temu, marnat]</td>\n",
       "    </tr>\n",
       "    <tr>\n",
       "      <th>1199</th>\n",
       "      <td>info kost bagus daerah cimahi belakang marnat</td>\n",
       "      <td>Positive</td>\n",
       "      <td>[infokost, bagus, daerah, cimahi, belakang, ma...</td>\n",
       "    </tr>\n",
       "    <tr>\n",
       "      <th>1200</th>\n",
       "      <td>untuk apa saja tuntut ilmu marnat</td>\n",
       "      <td>Neutral</td>\n",
       "      <td>[untuk, apa, saja, tuntut, ilmu, marnat]</td>\n",
       "    </tr>\n",
       "  </tbody>\n",
       "</table>\n",
       "<p>1201 rows × 3 columns</p>\n",
       "</div>"
      ],
      "text/plain": [
       "                                          New_Test_Text  ...                                           Tokenize\n",
       "0         cina maranatha peduli soal dan karina mungkin  ...  [cina, maranatha, peduli, soal, dan, karina, m...\n",
       "1         kalau virus corona asal karena cina maranatha  ...  [kalau, virus, corona, asal, karena, cina, mar...\n",
       "2     unpar ciputra atmajaya sampoerna maranatha bus...  ...  [unpar, ciputra, atmajaya, sampoerna, maranath...\n",
       "3                               tidak maranatha bandung  ...                        [tidak, maranatha, bandung]\n",
       "4             unpar maranatha bandung tinggal kota mana  ...   [unpar, maranatha, bandung, tinggal, kota, mana]\n",
       "...                                                 ...  ...                                                ...\n",
       "1196                       angkring marnat tambah bayar  ...                  [angkring, marnat, tambah, bayar]\n",
       "1197                        teman marnat husein langkah  ...                   [teman, marnat, husein, langkah]\n",
       "1198                                  senin temu marnat  ...                              [senin, temu, marnat]\n",
       "1199      info kost bagus daerah cimahi belakang marnat  ...  [infokost, bagus, daerah, cimahi, belakang, ma...\n",
       "1200                  untuk apa saja tuntut ilmu marnat  ...           [untuk, apa, saja, tuntut, ilmu, marnat]\n",
       "\n",
       "[1201 rows x 3 columns]"
      ]
     },
     "execution_count": 99,
     "metadata": {
      "tags": []
     },
     "output_type": "execute_result"
    }
   ],
   "source": [
    "test_data = new_test_df[['New_Test_Text', 'Sentiment', 'Tokenize']]\n",
    "test_data"
   ]
  },
  {
   "cell_type": "code",
   "execution_count": null,
   "metadata": {
    "colab": {
     "base_uri": "https://localhost:8080/",
     "height": 74
    },
    "colab_type": "code",
    "id": "lbaXSbcD9zsv",
    "outputId": "a2a32c95-5932-4d95-fdb5-3d0b91ef87f4"
   },
   "outputs": [
    {
     "name": "stderr",
     "output_type": "stream",
     "text": [
      "/usr/local/lib/python3.6/dist-packages/sklearn/utils/deprecation.py:87: FutureWarning: Function safe_indexing is deprecated; safe_indexing is deprecated in version 0.22 and will be removed in version 0.24.\n",
      "  warnings.warn(msg, category=FutureWarning)\n"
     ]
    }
   ],
   "source": [
    "mnb_pipeline = mnb_SMOTETOM_tvec3_pipeline.fit(xtrain, ytrain)"
   ]
  },
  {
   "cell_type": "code",
   "execution_count": null,
   "metadata": {
    "colab": {},
    "colab_type": "code",
    "id": "5db2r-Zb3pMj"
   },
   "outputs": [],
   "source": [
    "test_text = test_data['New_Test_Text']"
   ]
  },
  {
   "cell_type": "code",
   "execution_count": null,
   "metadata": {
    "colab": {
     "base_uri": "https://localhost:8080/",
     "height": 254
    },
    "colab_type": "code",
    "id": "VnT-Qsrt96qa",
    "outputId": "37a76ee0-c10d-4bfd-d2ea-b36bb1efcb9c"
   },
   "outputs": [
    {
     "name": "stdout",
     "output_type": "stream",
     "text": [
      "Input Text = 0           cina maranatha peduli soal dan karina mungkin\n",
      "1           kalau virus corona asal karena cina maranatha\n",
      "2       unpar ciputra atmajaya sampoerna maranatha bus...\n",
      "3                                 tidak maranatha bandung\n",
      "4               unpar maranatha bandung tinggal kota mana\n",
      "                              ...                        \n",
      "1196                         angkring marnat tambah bayar\n",
      "1197                          teman marnat husein langkah\n",
      "1198                                    senin temu marnat\n",
      "1199        info kost bagus daerah cimahi belakang marnat\n",
      "1200                    untuk apa saja tuntut ilmu marnat\n",
      "Name: New_Test_Text, Length: 1201, dtype: object \n",
      " Predicted = ['Neutral' 'Negative' 'Positive' ... 'Neutral' 'Neutral' 'Neutral']\n"
     ]
    }
   ],
   "source": [
    "predict_mnb_pipeline = mnb_pipeline.predict(test_text)\n",
    "print('Input Text = %s \\n Predicted = %s' % (test_text, predict_mnb_pipeline))"
   ]
  },
  {
   "cell_type": "code",
   "execution_count": null,
   "metadata": {
    "colab": {
     "base_uri": "https://localhost:8080/",
     "height": 407
    },
    "colab_type": "code",
    "id": "qydr8w7e962p",
    "outputId": "feed69c8-8e47-4e1c-f7fa-e9badb19d9b7"
   },
   "outputs": [
    {
     "data": {
      "text/html": [
       "<div>\n",
       "<style scoped>\n",
       "    .dataframe tbody tr th:only-of-type {\n",
       "        vertical-align: middle;\n",
       "    }\n",
       "\n",
       "    .dataframe tbody tr th {\n",
       "        vertical-align: top;\n",
       "    }\n",
       "\n",
       "    .dataframe thead th {\n",
       "        text-align: right;\n",
       "    }\n",
       "</style>\n",
       "<table border=\"1\" class=\"dataframe\">\n",
       "  <thead>\n",
       "    <tr style=\"text-align: right;\">\n",
       "      <th></th>\n",
       "      <th>Datetime</th>\n",
       "      <th>Text</th>\n",
       "      <th>Sentiment</th>\n",
       "      <th>Predict Sentiment</th>\n",
       "    </tr>\n",
       "  </thead>\n",
       "  <tbody>\n",
       "    <tr>\n",
       "      <th>0</th>\n",
       "      <td>2020-05-30 22:44:47+00:00</td>\n",
       "      <td>Ya, Cina MARANATHA karena peduli soal Saya dan...</td>\n",
       "      <td>Positive</td>\n",
       "      <td>Neutral</td>\n",
       "    </tr>\n",
       "    <tr>\n",
       "      <th>1</th>\n",
       "      <td>2020-05-30 22:44:09+00:00</td>\n",
       "      <td>Kalau virus Corona itu, berasal atau karena.. ...</td>\n",
       "      <td>Neutral</td>\n",
       "      <td>Negative</td>\n",
       "    </tr>\n",
       "    <tr>\n",
       "      <th>2</th>\n",
       "      <td>2020-05-30 20:12:20+00:00</td>\n",
       "      <td>unpar? ciputra? atmajaya? sampoerna? MARANATHA...</td>\n",
       "      <td>Neutral</td>\n",
       "      <td>Positive</td>\n",
       "    </tr>\n",
       "    <tr>\n",
       "      <th>3</th>\n",
       "      <td>2020-05-30 18:39:08+00:00</td>\n",
       "      <td>kenapa tidak MARANATHA Bandung saja</td>\n",
       "      <td>Neutral</td>\n",
       "      <td>Neutral</td>\n",
       "    </tr>\n",
       "    <tr>\n",
       "      <th>4</th>\n",
       "      <td>2020-05-30 12:35:27+00:00</td>\n",
       "      <td>Di Unpar dan MARANATHA Bandung. tinggal di kot...</td>\n",
       "      <td>Neutral</td>\n",
       "      <td>Neutral</td>\n",
       "    </tr>\n",
       "    <tr>\n",
       "      <th>...</th>\n",
       "      <td>...</td>\n",
       "      <td>...</td>\n",
       "      <td>...</td>\n",
       "      <td>...</td>\n",
       "    </tr>\n",
       "    <tr>\n",
       "      <th>1196</th>\n",
       "      <td>2020-02-02 11:47:46+00:00</td>\n",
       "      <td>Angkringan marnat bisa tambah bayar tidak</td>\n",
       "      <td>Neutral</td>\n",
       "      <td>Negative</td>\n",
       "    </tr>\n",
       "    <tr>\n",
       "      <th>1197</th>\n",
       "      <td>2020-02-02 04:47:26+00:00</td>\n",
       "      <td>Teman dia, marnat husein hanya langkah</td>\n",
       "      <td>Neutral</td>\n",
       "      <td>Neutral</td>\n",
       "    </tr>\n",
       "    <tr>\n",
       "      <th>1198</th>\n",
       "      <td>2020-02-01 20:47:23+00:00</td>\n",
       "      <td>Senin temu di marnat</td>\n",
       "      <td>Neutral</td>\n",
       "      <td>Neutral</td>\n",
       "    </tr>\n",
       "    <tr>\n",
       "      <th>1199</th>\n",
       "      <td>2020-02-01 14:43:44+00:00</td>\n",
       "      <td>Tolong info,kost bagus daerah cimahi atau bela...</td>\n",
       "      <td>Positive</td>\n",
       "      <td>Neutral</td>\n",
       "    </tr>\n",
       "    <tr>\n",
       "      <th>1200</th>\n",
       "      <td>2020-02-01 07:17:41+00:00</td>\n",
       "      <td>ya untuk apa dia saja tuntut ilmu ke marnat</td>\n",
       "      <td>Neutral</td>\n",
       "      <td>Neutral</td>\n",
       "    </tr>\n",
       "  </tbody>\n",
       "</table>\n",
       "<p>1201 rows × 4 columns</p>\n",
       "</div>"
      ],
      "text/plain": [
       "                       Datetime  ... Predict Sentiment\n",
       "0     2020-05-30 22:44:47+00:00  ...           Neutral\n",
       "1     2020-05-30 22:44:09+00:00  ...          Negative\n",
       "2     2020-05-30 20:12:20+00:00  ...          Positive\n",
       "3     2020-05-30 18:39:08+00:00  ...           Neutral\n",
       "4     2020-05-30 12:35:27+00:00  ...           Neutral\n",
       "...                         ...  ...               ...\n",
       "1196  2020-02-02 11:47:46+00:00  ...          Negative\n",
       "1197  2020-02-02 04:47:26+00:00  ...           Neutral\n",
       "1198  2020-02-01 20:47:23+00:00  ...           Neutral\n",
       "1199  2020-02-01 14:43:44+00:00  ...           Neutral\n",
       "1200  2020-02-01 07:17:41+00:00  ...           Neutral\n",
       "\n",
       "[1201 rows x 4 columns]"
      ]
     },
     "execution_count": 102,
     "metadata": {
      "tags": []
     },
     "output_type": "execute_result"
    }
   ],
   "source": [
    "predict_sentiment = pd.DataFrame({'Predict Sentiment' : predict_mnb_pipeline})\n",
    "predict_df = pd.concat([test_df, predict_sentiment], axis = 1)\n",
    "predict_df.replace('', np.nan, inplace=True)\n",
    "predict_df.dropna(inplace=True)\n",
    "predict_df.reset_index(drop=True, inplace=True)\n",
    "predict_df"
   ]
  },
  {
   "cell_type": "code",
   "execution_count": null,
   "metadata": {
    "colab": {},
    "colab_type": "code",
    "id": "uJYGo9eY97BC"
   },
   "outputs": [],
   "source": [
    "predict_df.to_excel('/content/drive/My Drive/Colab Notebooks/tesis_mnb_tvec_smotetomek_predict_NONKEYWORD_norm_TEST.xls', index=False)"
   ]
  },
  {
   "cell_type": "markdown",
   "metadata": {
    "colab_type": "text",
    "id": "rd4DVP_NP_tk"
   },
   "source": [
    "### **Split Dataset**"
   ]
  },
  {
   "cell_type": "markdown",
   "metadata": {
    "colab_type": "text",
    "id": "zMvEMfNVQPpt"
   },
   "source": [
    "#### Split Dataset"
   ]
  },
  {
   "cell_type": "code",
   "execution_count": null,
   "metadata": {
    "colab": {},
    "colab_type": "code",
    "id": "X0s4NJYnbUK-"
   },
   "outputs": [],
   "source": [
    "def tokenize(msg):\n",
    "    clean = [char for char in msg if char not in string.punctuation]\n",
    "    clean = ''.join(clean)\n",
    "    return clean.lower().split()\n",
    "\n",
    "def find_maxlen(reviews):\n",
    "    longest = 0\n",
    "    strlong = \"test\"\n",
    "    for review in reviews:\n",
    "        if len(tokenize(review)) > longest:\n",
    "            longest = len(tokenize(review))\n",
    "            strlong = review\n",
    "    return longest"
   ]
  },
  {
   "cell_type": "code",
   "execution_count": null,
   "metadata": {
    "colab": {
     "base_uri": "https://localhost:8080/",
     "height": 35
    },
    "colab_type": "code",
    "id": "HEkZ7z6_bVhL",
    "outputId": "682e6b3a-0098-47eb-94e3-4ffd9197892e"
   },
   "outputs": [
    {
     "data": {
      "text/plain": [
       "43"
      ]
     },
     "execution_count": 45,
     "metadata": {
      "tags": []
     },
     "output_type": "execute_result"
    }
   ],
   "source": [
    "find_maxlen(data['New_Text'])"
   ]
  },
  {
   "cell_type": "code",
   "execution_count": null,
   "metadata": {
    "colab": {
     "base_uri": "https://localhost:8080/",
     "height": 35
    },
    "colab_type": "code",
    "id": "NfM59FQbXjm8",
    "outputId": "bf362aba-cf52-45e3-eab2-afdf1b816581"
   },
   "outputs": [
    {
     "name": "stdout",
     "output_type": "stream",
     "text": [
      "Number of Unique Tokens 6347\n"
     ]
    }
   ],
   "source": [
    "tokenizer = Tokenizer()\n",
    "tokenizer.fit_on_texts(data.Tokenize)\n",
    "sequences = tokenizer.texts_to_sequences(data.Tokenize)\n",
    "\n",
    "word_index = tokenizer.word_index\n",
    "print('Number of Unique Tokens',len(word_index))"
   ]
  },
  {
   "cell_type": "code",
   "execution_count": null,
   "metadata": {
    "colab": {},
    "colab_type": "code",
    "id": "psp2J_SOy2pN"
   },
   "outputs": [],
   "source": [
    "MAX_SEQUENCE_LENGTH = 50\n",
    "MAX_NB_WORDS = 6500"
   ]
  },
  {
   "cell_type": "code",
   "execution_count": null,
   "metadata": {
    "colab": {},
    "colab_type": "code",
    "id": "gjsIgDhUyIXv"
   },
   "outputs": [],
   "source": [
    "label_names = ['Neutral', 'Positive', 'Negative']"
   ]
  },
  {
   "cell_type": "code",
   "execution_count": null,
   "metadata": {
    "colab": {},
    "colab_type": "code",
    "id": "gazgNZqpU54N"
   },
   "outputs": [],
   "source": [
    "from sklearn.preprocessing import LabelEncoder\n",
    "from keras.utils import np_utils\n",
    "\n",
    "train_y = data['Sentiment'].values\n",
    "label_encoder = LabelEncoder()\n",
    "label_encoder.fit(train_y)\n",
    "y = np_utils.to_categorical((label_encoder.transform(train_y)))"
   ]
  },
  {
   "cell_type": "code",
   "execution_count": null,
   "metadata": {
    "colab": {
     "base_uri": "https://localhost:8080/",
     "height": 54
    },
    "colab_type": "code",
    "id": "DNDZtfoUXjzG",
    "outputId": "4ed1f541-2976-46cd-9126-e214bacbdc1f"
   },
   "outputs": [
    {
     "name": "stdout",
     "output_type": "stream",
     "text": [
      "Shape of Data Tensor: (5318, 50)\n",
      "Shape of Label Tensor: (5318, 3)\n"
     ]
    }
   ],
   "source": [
    "x = pad_sequences(sequences, maxlen=MAX_SEQUENCE_LENGTH)\n",
    "#y = data[label_names].values\n",
    "\n",
    "print('Shape of Data Tensor:', x.shape)\n",
    "print('Shape of Label Tensor:', y.shape)"
   ]
  },
  {
   "cell_type": "code",
   "execution_count": null,
   "metadata": {
    "colab": {
     "base_uri": "https://localhost:8080/",
     "height": 454
    },
    "colab_type": "code",
    "id": "XgcIuaOiU6C2",
    "outputId": "a5c728d6-6a80-41d5-99f4-83bc4619079e"
   },
   "outputs": [
    {
     "data": {
      "text/plain": [
       "array([[0., 1., 0.],\n",
       "       [0., 1., 0.],\n",
       "       [0., 0., 1.],\n",
       "       [0., 0., 1.],\n",
       "       [0., 1., 0.],\n",
       "       [0., 0., 1.],\n",
       "       [0., 0., 1.],\n",
       "       [0., 1., 0.],\n",
       "       [0., 0., 1.],\n",
       "       [0., 0., 1.],\n",
       "       [0., 0., 1.],\n",
       "       [0., 0., 1.],\n",
       "       [0., 0., 1.],\n",
       "       [0., 0., 1.],\n",
       "       [0., 0., 1.],\n",
       "       [0., 0., 1.],\n",
       "       [0., 1., 0.],\n",
       "       [0., 1., 0.],\n",
       "       [1., 0., 0.],\n",
       "       [1., 0., 0.],\n",
       "       [0., 1., 0.],\n",
       "       [0., 1., 0.],\n",
       "       [0., 0., 1.],\n",
       "       [1., 0., 0.]], dtype=float32)"
      ]
     },
     "execution_count": 51,
     "metadata": {
      "tags": []
     },
     "output_type": "execute_result"
    }
   ],
   "source": [
    "y[1:25]"
   ]
  },
  {
   "cell_type": "code",
   "execution_count": null,
   "metadata": {
    "colab": {},
    "colab_type": "code",
    "id": "8vT7QTy5yACu"
   },
   "outputs": [],
   "source": [
    "x_train, x_val_test, y_train, y_val_test = train_test_split(x, y, test_size=0.3, random_state=5, stratify=y)\n",
    "x_val, x_test, y_val, y_test = train_test_split(x_val_test, y_val_test, test_size=0.5, random_state=5, stratify=y_val_test)"
   ]
  },
  {
   "cell_type": "code",
   "execution_count": null,
   "metadata": {
    "colab": {
     "base_uri": "https://localhost:8080/",
     "height": 146
    },
    "colab_type": "code",
    "id": "RP7xVk3yzmRW",
    "outputId": "e49bd0b8-b85d-4ad7-cfca-2cc4f86a0187"
   },
   "outputs": [
    {
     "name": "stderr",
     "output_type": "stream",
     "text": [
      "/usr/local/lib/python3.6/dist-packages/sklearn/utils/deprecation.py:87: FutureWarning: Function safe_indexing is deprecated; safe_indexing is deprecated in version 0.22 and will be removed in version 0.24.\n",
      "  warnings.warn(msg, category=FutureWarning)\n",
      "/usr/local/lib/python3.6/dist-packages/sklearn/utils/deprecation.py:87: FutureWarning: Function safe_indexing is deprecated; safe_indexing is deprecated in version 0.22 and will be removed in version 0.24.\n",
      "  warnings.warn(msg, category=FutureWarning)\n",
      "/usr/local/lib/python3.6/dist-packages/sklearn/utils/deprecation.py:87: FutureWarning: Function safe_indexing is deprecated; safe_indexing is deprecated in version 0.22 and will be removed in version 0.24.\n",
      "  warnings.warn(msg, category=FutureWarning)\n"
     ]
    }
   ],
   "source": [
    "x_res, y_res = SMOTETomnb.fit_resample(x_train, y_train)"
   ]
  },
  {
   "cell_type": "markdown",
   "metadata": {
    "colab_type": "text",
    "id": "ngkbqFMcQK_X"
   },
   "source": [
    "#### Split Dataset TFIDF"
   ]
  },
  {
   "cell_type": "code",
   "execution_count": null,
   "metadata": {
    "colab": {},
    "colab_type": "code",
    "id": "OdOgJ5xIqGrV"
   },
   "outputs": [],
   "source": [
    "x2 = data.New_Text"
   ]
  },
  {
   "cell_type": "code",
   "execution_count": null,
   "metadata": {
    "colab": {},
    "colab_type": "code",
    "id": "yhsz0JsXquUZ"
   },
   "outputs": [],
   "source": [
    "x2train, x2val_test, y2train, y2val_test = train_test_split(x2, y, random_state = 5, stratify = y)\n",
    "x2val, x2test, y2val, y2test = train_test_split(x2val_test, y2val_test, random_state = 5, stratify = y2val_test)"
   ]
  },
  {
   "cell_type": "code",
   "execution_count": null,
   "metadata": {
    "colab": {},
    "colab_type": "code",
    "id": "90Nppvz7q55V"
   },
   "outputs": [],
   "source": [
    "td = 1000\n",
    "vec = TfidfVectorizer(max_features=td, ngram_range=(1,3))"
   ]
  },
  {
   "cell_type": "code",
   "execution_count": null,
   "metadata": {
    "colab": {},
    "colab_type": "code",
    "id": "pbxh7UnjrA4S"
   },
   "outputs": [],
   "source": [
    "x2train_vec = vec.fit_transform(x2train)\n",
    "x2val_vec = vec.transform(x2val)\n",
    "x2test_vec = vec.transform(x2test)"
   ]
  },
  {
   "cell_type": "code",
   "execution_count": null,
   "metadata": {
    "colab": {
     "base_uri": "https://localhost:8080/",
     "height": 35
    },
    "colab_type": "code",
    "id": "N4WHxASdgfeb",
    "outputId": "d118b93e-1c04-4b04-eacb-dcf516032d33"
   },
   "outputs": [
    {
     "data": {
      "text/plain": [
       "((4025, 1000), (1006, 1000), (336, 1000))"
      ]
     },
     "execution_count": 51,
     "metadata": {
      "tags": []
     },
     "output_type": "execute_result"
    }
   ],
   "source": [
    "x2train_vec.shape, x2val_vec.shape, x2test_vec.shape"
   ]
  },
  {
   "cell_type": "code",
   "execution_count": null,
   "metadata": {
    "colab": {
     "base_uri": "https://localhost:8080/",
     "height": 74
    },
    "colab_type": "code",
    "id": "l-D1XJiQrScM",
    "outputId": "44b57e83-76d7-4a8f-8161-d763c983225d"
   },
   "outputs": [
    {
     "name": "stderr",
     "output_type": "stream",
     "text": [
      "/usr/local/lib/python3.6/dist-packages/sklearn/utils/deprecation.py:87: FutureWarning: Function safe_indexing is deprecated; safe_indexing is deprecated in version 0.22 and will be removed in version 0.24.\n",
      "  warnings.warn(msg, category=FutureWarning)\n"
     ]
    }
   ],
   "source": [
    "x2res, y2res = SMOTETomnb.fit_resample(x2train_vec, y2train)"
   ]
  },
  {
   "cell_type": "markdown",
   "metadata": {
    "colab_type": "text",
    "id": "z5U10zFdPanK"
   },
   "source": [
    "### **Embbeding Matrix**"
   ]
  },
  {
   "cell_type": "markdown",
   "metadata": {
    "colab_type": "text",
    "id": "2mbkelbGPlU6"
   },
   "source": [
    "#### Download Fasttext"
   ]
  },
  {
   "cell_type": "code",
   "execution_count": null,
   "metadata": {
    "colab": {
     "base_uri": "https://localhost:8080/",
     "height": 217
    },
    "colab_type": "code",
    "id": "OOOSDm9zclys",
    "outputId": "225dbece-1fc9-403a-ac4e-5526b54db31a"
   },
   "outputs": [
    {
     "name": "stdout",
     "output_type": "stream",
     "text": [
      "--2020-07-24 10:50:35--  https://dl.fbaipublicfiles.com/fasttext/vectors-crawl/cc.id.300.vec.gz\n",
      "Resolving dl.fbaipublicfiles.com (dl.fbaipublicfiles.com)... 104.22.75.142, 172.67.9.4, 104.22.74.142, ...\n",
      "Connecting to dl.fbaipublicfiles.com (dl.fbaipublicfiles.com)|104.22.75.142|:443... connected.\n",
      "HTTP request sent, awaiting response... 200 OK\n",
      "Length: 1227018698 (1.1G) [binary/octet-stream]\n",
      "Saving to: ‘cc.id.300.vec.gz’\n",
      "\n",
      "cc.id.300.vec.gz    100%[===================>]   1.14G  12.3MB/s    in 97s     \n",
      "\n",
      "2020-07-24 10:52:13 (12.1 MB/s) - ‘cc.id.300.vec.gz’ saved [1227018698/1227018698]\n",
      "\n"
     ]
    }
   ],
   "source": [
    "!wget https://dl.fbaipublicfiles.com/fasttext/vectors-crawl/cc.id.300.vec.gz"
   ]
  },
  {
   "cell_type": "code",
   "execution_count": null,
   "metadata": {
    "colab": {},
    "colab_type": "code",
    "id": "2CxIp9txeLLo"
   },
   "outputs": [],
   "source": [
    "!gunzip '/content/cc.id.300.vec.gz'"
   ]
  },
  {
   "cell_type": "markdown",
   "metadata": {
    "colab_type": "text",
    "id": "u7q0236PuIFu"
   },
   "source": [
    "#### FASTTEXT Embedding Matrix"
   ]
  },
  {
   "cell_type": "code",
   "execution_count": null,
   "metadata": {
    "colab": {
     "base_uri": "https://localhost:8080/",
     "height": 35
    },
    "colab_type": "code",
    "id": "vkwWvO8acl5r",
    "outputId": "03ae7c24-8f69-4a43-ef27-159b191278d3"
   },
   "outputs": [
    {
     "name": "stdout",
     "output_type": "stream",
     "text": [
      "Total 2000000 word vectors in FastText.\n"
     ]
    }
   ],
   "source": [
    "embeddings_index = {}\n",
    "f = open('/content/cc.id.300.vec',encoding='utf8')\n",
    "for line in f:\n",
    "    values = line.split()\n",
    "    word = values[0]\n",
    "    coefs = np.asarray(values[1:], dtype='float32')\n",
    "    embeddings_index[word] = coefs\n",
    "f.close()\n",
    "\n",
    "print('Total %s word vectors in FastText.' % len(embeddings_index))"
   ]
  },
  {
   "cell_type": "code",
   "execution_count": null,
   "metadata": {
    "colab": {},
    "colab_type": "code",
    "id": "EPDYgQRK1RQ_"
   },
   "outputs": [],
   "source": [
    "EMBEDDING_DIM=300"
   ]
  },
  {
   "cell_type": "code",
   "execution_count": null,
   "metadata": {
    "colab": {},
    "colab_type": "code",
    "id": "RCK-zL_EcmBA"
   },
   "outputs": [],
   "source": [
    "embedding_matrix = np.random.random((len(word_index) + 1, EMBEDDING_DIM))\n",
    "for word, i in word_index.items():\n",
    "    embedding_vector = embeddings_index.get(word)\n",
    "    if embedding_vector is not None:\n",
    "        # words not found in embedding index will be all-zeros.\n",
    "        embedding_matrix[i] = embedding_vector"
   ]
  },
  {
   "cell_type": "markdown",
   "metadata": {
    "colab_type": "text",
    "id": "qu-S5C66KUkF"
   },
   "source": [
    "### SET NN"
   ]
  },
  {
   "cell_type": "code",
   "execution_count": null,
   "metadata": {
    "colab": {},
    "colab_type": "code",
    "id": "hnvpO-YaZKz8"
   },
   "outputs": [],
   "source": [
    "num_classes = len(label_names)"
   ]
  },
  {
   "cell_type": "code",
   "execution_count": null,
   "metadata": {
    "colab": {},
    "colab_type": "code",
    "id": "kUXT7HD9fEBS"
   },
   "outputs": [],
   "source": [
    "adam = Adam(learning_rate=0.001)\n",
    "sgd = SGD(lr=0.01, momentum=0.0, decay=0.0, nesterov=False)\n",
    "adagrad = Adagrad(learning_rate=0.01)\n",
    "adadelta = Adadelta(learning_rate=1.0, rho=0.95)\n",
    "rmsprop = RMSprop(learning_rate=0.001, rho=0.9)\n",
    "nadam = Nadam(learning_rate=0.002, beta_1=0.9, beta_2=0.999)"
   ]
  },
  {
   "cell_type": "code",
   "execution_count": null,
   "metadata": {
    "colab": {},
    "colab_type": "code",
    "id": "YqZctqt6N38R"
   },
   "outputs": [],
   "source": [
    "def predict(sentences, model):\n",
    "  y_prob = model.predict(sentences)\n",
    "  y_prob = y_prob.squeeze()\n",
    "  y_pred = (y_prob > 0.5) \n",
    "  return y_pred\n",
    "\n",
    "def predict_vec(sentences, model):\n",
    "    y2prob = model.predict(x2test_vec)\n",
    "    y2prob = y2prob.squeeze()\n",
    "    y2pred = (y2prob > 0.5) \n",
    "    return y2pred"
   ]
  },
  {
   "cell_type": "code",
   "execution_count": null,
   "metadata": {
    "colab": {},
    "colab_type": "code",
    "id": "K_i7LAULVY1T"
   },
   "outputs": [],
   "source": [
    "def f1(y_true, y_pred):\n",
    "  true_positives = K.sum(K.round(K.clip(y_true * y_pred, 0, 1)))\n",
    "  possible_positives = K.sum(K.round(K.clip(y_true, 0, 1)))\n",
    "  predicted_positives = K.sum(K.round(K.clip(y_pred, 0, 1)))\n",
    "  precision = true_positives / (predicted_positives + K.epsilon())\n",
    "  recall = true_positives / (possible_positives + K.epsilon())\n",
    "  f1_val = 2*(precision*recall)/(precision+recall+K.epsilon())\n",
    "  return f1_val\n",
    "\n",
    "def f1_vec(y_true, y2pred):\n",
    "    true_positives = K.sum(K.round(K.clip(y_true * y2pred, 0, 1)))\n",
    "    possible_positives = K.sum(K.round(K.clip(y_true, 0, 1)))\n",
    "    predicted_positives = K.sum(K.round(K.clip(y2pred, 0, 1)))\n",
    "    precision = true_positives / (predicted_positives + K.epsilon())\n",
    "    recall = true_positives / (possible_positives + K.epsilon())\n",
    "    f1_val_vec = 2*(precision*recall)/(precision+recall+K.epsilon())\n",
    "    return f1_val_vec"
   ]
  },
  {
   "cell_type": "code",
   "execution_count": null,
   "metadata": {
    "colab": {},
    "colab_type": "code",
    "id": "QQyVCLB8K22A"
   },
   "outputs": [],
   "source": [
    "def TP(y_true, y_pred):\n",
    "  tp = K.sum(K.round(K.clip(y_true * y_pred, 0, 1))) # TP\n",
    "  y_pos = K.round(K.clip(y_true, 0, 1))\n",
    "  n_pos = K.sum(y_pos)\n",
    "  y_neg = 1 - y_pos\n",
    "  n_neg = K.sum(y_neg)\n",
    "  n = n_pos + n_neg\n",
    "  return tp/n\n",
    "\n",
    "def TN(y_true, y_pred):\n",
    "  y_pos = K.round(K.clip(y_true, 0, 1))\n",
    "  n_pos = K.sum(y_pos)\n",
    "  y_neg = 1 - y_pos\n",
    "  n_neg = K.sum(y_neg)\n",
    "  n = n_pos + n_neg\n",
    "  y_pred_pos = K.round(K.clip(y_pred, 0, 1))\n",
    "  y_pred_neg = 1 - y_pred_pos\n",
    "  tn = K.sum(K.round(K.clip(y_neg * y_pred_neg, 0, 1))) # TN\n",
    "  return tn/n"
   ]
  },
  {
   "cell_type": "markdown",
   "metadata": {
    "colab_type": "text",
    "id": "2OSj3a0jXLqJ"
   },
   "source": [
    "### **CNN LSTM TEST**"
   ]
  },
  {
   "cell_type": "code",
   "execution_count": null,
   "metadata": {
    "colab": {
     "base_uri": "https://localhost:8080/",
     "height": 346
    },
    "colab_type": "code",
    "id": "Fw-QY_HQsNwn",
    "outputId": "09ecf2cd-9856-4325-d424-d477e155962f"
   },
   "outputs": [
    {
     "name": "stdout",
     "output_type": "stream",
     "text": [
      "Collecting keras-self-attention\n",
      "  Downloading https://files.pythonhosted.org/packages/15/6b/c804924a056955fa1f3ff767945187103cfc851ba9bd0fc5a6c6bc18e2eb/keras-self-attention-0.46.0.tar.gz\n",
      "Requirement already satisfied: numpy in /usr/local/lib/python3.6/dist-packages (from keras-self-attention) (1.18.5)\n",
      "Requirement already satisfied: Keras in /usr/local/lib/python3.6/dist-packages (from keras-self-attention) (2.3.1)\n",
      "Requirement already satisfied: six>=1.9.0 in /usr/local/lib/python3.6/dist-packages (from Keras->keras-self-attention) (1.15.0)\n",
      "Requirement already satisfied: keras-preprocessing>=1.0.5 in /usr/local/lib/python3.6/dist-packages (from Keras->keras-self-attention) (1.1.2)\n",
      "Requirement already satisfied: scipy>=0.14 in /usr/local/lib/python3.6/dist-packages (from Keras->keras-self-attention) (1.4.1)\n",
      "Requirement already satisfied: pyyaml in /usr/local/lib/python3.6/dist-packages (from Keras->keras-self-attention) (3.13)\n",
      "Requirement already satisfied: h5py in /usr/local/lib/python3.6/dist-packages (from Keras->keras-self-attention) (2.10.0)\n",
      "Requirement already satisfied: keras-applications>=1.0.6 in /usr/local/lib/python3.6/dist-packages (from Keras->keras-self-attention) (1.0.8)\n",
      "Building wheels for collected packages: keras-self-attention\n",
      "  Building wheel for keras-self-attention (setup.py) ... \u001b[?25l\u001b[?25hdone\n",
      "  Created wheel for keras-self-attention: filename=keras_self_attention-0.46.0-cp36-none-any.whl size=17278 sha256=a8defc3e956206dc8bad0452a5811b0fef67f575035557eb3ed89ccf6f963005\n",
      "  Stored in directory: /root/.cache/pip/wheels/d2/2e/80/fec4c05eb23c8e13b790e26d207d6e0ffe8013fad8c6bdd4d2\n",
      "Successfully built keras-self-attention\n",
      "Installing collected packages: keras-self-attention\n",
      "Successfully installed keras-self-attention-0.46.0\n"
     ]
    }
   ],
   "source": [
    "pip install keras-self-attention"
   ]
  },
  {
   "cell_type": "code",
   "execution_count": null,
   "metadata": {
    "colab": {},
    "colab_type": "code",
    "id": "A91avU7dsOub"
   },
   "outputs": [],
   "source": [
    "from keras_self_attention import SeqSelfAttention"
   ]
  },
  {
   "cell_type": "code",
   "execution_count": null,
   "metadata": {
    "colab": {
     "base_uri": "https://localhost:8080/",
     "height": 74
    },
    "colab_type": "code",
    "id": "idX7set7qEZw",
    "outputId": "6c32d8d9-7eb0-4674-e8d9-8834f8885b8e"
   },
   "outputs": [
    {
     "name": "stderr",
     "output_type": "stream",
     "text": [
      "/usr/local/lib/python3.6/dist-packages/tensorflow/python/framework/indexed_slices.py:434: UserWarning: Converting sparse IndexedSlices to a dense Tensor of unknown shape. This may consume a large amount of memory.\n",
      "  \"Converting sparse IndexedSlices to a dense Tensor of unknown shape. \"\n"
     ]
    }
   ],
   "source": [
    "from keras.models import load_model\n",
    "\n",
    "model_cnn_lstm = load_model('/content/drive/My Drive/Tesis/Hasil NN Tesis/CNN LSTM/tesis_model_cnn_lstm_unres2.h5', \n",
    "                            custom_objects={'SeqSelfAttention': SeqSelfAttention, 'f1':f1})"
   ]
  },
  {
   "cell_type": "code",
   "execution_count": null,
   "metadata": {
    "colab": {},
    "colab_type": "code",
    "id": "Ij_z2vUTAl3q"
   },
   "outputs": [],
   "source": [
    "cnn_lstm_text = test_data['Tokenize']"
   ]
  },
  {
   "cell_type": "code",
   "execution_count": null,
   "metadata": {
    "colab": {},
    "colab_type": "code",
    "id": "AE4bv46nCVlO"
   },
   "outputs": [],
   "source": [
    "test_tokenizer = Tokenizer()\n",
    "test_tokenizer.fit_on_texts(cnn_lstm_text)\n",
    "test_seq = test_tokenizer.texts_to_sequences(cnn_lstm_text)\n",
    "\n",
    "test_padded = pad_sequences(test_seq, maxlen=MAX_SEQUENCE_LENGTH)"
   ]
  },
  {
   "cell_type": "code",
   "execution_count": null,
   "metadata": {
    "colab": {},
    "colab_type": "code",
    "id": "FDxTLHsUqdM9"
   },
   "outputs": [],
   "source": [
    "predict_cnn_lstm = predict(test_padded, model_cnn_lstm)"
   ]
  },
  {
   "cell_type": "code",
   "execution_count": null,
   "metadata": {
    "colab": {
     "base_uri": "https://localhost:8080/",
     "height": 145
    },
    "colab_type": "code",
    "id": "dVE-9tKqu2-H",
    "outputId": "c62e8436-226b-44d0-fc44-19a871f2d1b2"
   },
   "outputs": [
    {
     "data": {
      "text/plain": [
       "array([[False,  True, False],\n",
       "       [ True, False, False],\n",
       "       [False, False,  True],\n",
       "       ...,\n",
       "       [False,  True, False],\n",
       "       [False,  True, False],\n",
       "       [False,  True, False]])"
      ]
     },
     "execution_count": 107,
     "metadata": {
      "tags": []
     },
     "output_type": "execute_result"
    }
   ],
   "source": [
    "predict_cnn_lstm"
   ]
  },
  {
   "cell_type": "code",
   "execution_count": null,
   "metadata": {
    "colab": {},
    "colab_type": "code",
    "id": "sTSqE_tozPtm"
   },
   "outputs": [],
   "source": [
    "predict_sentiment_cnn_lstm = pd.DataFrame(predict_cnn_lstm, columns=['Negative', 'Neutral', 'Positive'])"
   ]
  },
  {
   "cell_type": "code",
   "execution_count": null,
   "metadata": {
    "colab": {
     "base_uri": "https://localhost:8080/",
     "height": 407
    },
    "colab_type": "code",
    "id": "5uuvj_l84HJI",
    "outputId": "ec7623bd-0194-48a4-e4ae-fe71929973c9"
   },
   "outputs": [
    {
     "data": {
      "text/html": [
       "<div>\n",
       "<style scoped>\n",
       "    .dataframe tbody tr th:only-of-type {\n",
       "        vertical-align: middle;\n",
       "    }\n",
       "\n",
       "    .dataframe tbody tr th {\n",
       "        vertical-align: top;\n",
       "    }\n",
       "\n",
       "    .dataframe thead th {\n",
       "        text-align: right;\n",
       "    }\n",
       "</style>\n",
       "<table border=\"1\" class=\"dataframe\">\n",
       "  <thead>\n",
       "    <tr style=\"text-align: right;\">\n",
       "      <th></th>\n",
       "      <th>Negative</th>\n",
       "      <th>Neutral</th>\n",
       "      <th>Positive</th>\n",
       "    </tr>\n",
       "  </thead>\n",
       "  <tbody>\n",
       "    <tr>\n",
       "      <th>0</th>\n",
       "      <td>False</td>\n",
       "      <td>True</td>\n",
       "      <td>False</td>\n",
       "    </tr>\n",
       "    <tr>\n",
       "      <th>1</th>\n",
       "      <td>True</td>\n",
       "      <td>False</td>\n",
       "      <td>False</td>\n",
       "    </tr>\n",
       "    <tr>\n",
       "      <th>2</th>\n",
       "      <td>False</td>\n",
       "      <td>False</td>\n",
       "      <td>True</td>\n",
       "    </tr>\n",
       "    <tr>\n",
       "      <th>3</th>\n",
       "      <td>False</td>\n",
       "      <td>False</td>\n",
       "      <td>True</td>\n",
       "    </tr>\n",
       "    <tr>\n",
       "      <th>4</th>\n",
       "      <td>False</td>\n",
       "      <td>True</td>\n",
       "      <td>False</td>\n",
       "    </tr>\n",
       "    <tr>\n",
       "      <th>...</th>\n",
       "      <td>...</td>\n",
       "      <td>...</td>\n",
       "      <td>...</td>\n",
       "    </tr>\n",
       "    <tr>\n",
       "      <th>1196</th>\n",
       "      <td>False</td>\n",
       "      <td>True</td>\n",
       "      <td>False</td>\n",
       "    </tr>\n",
       "    <tr>\n",
       "      <th>1197</th>\n",
       "      <td>False</td>\n",
       "      <td>True</td>\n",
       "      <td>False</td>\n",
       "    </tr>\n",
       "    <tr>\n",
       "      <th>1198</th>\n",
       "      <td>False</td>\n",
       "      <td>True</td>\n",
       "      <td>False</td>\n",
       "    </tr>\n",
       "    <tr>\n",
       "      <th>1199</th>\n",
       "      <td>False</td>\n",
       "      <td>True</td>\n",
       "      <td>False</td>\n",
       "    </tr>\n",
       "    <tr>\n",
       "      <th>1200</th>\n",
       "      <td>False</td>\n",
       "      <td>True</td>\n",
       "      <td>False</td>\n",
       "    </tr>\n",
       "  </tbody>\n",
       "</table>\n",
       "<p>1201 rows × 3 columns</p>\n",
       "</div>"
      ],
      "text/plain": [
       "      Negative  Neutral  Positive\n",
       "0        False     True     False\n",
       "1         True    False     False\n",
       "2        False    False      True\n",
       "3        False    False      True\n",
       "4        False     True     False\n",
       "...        ...      ...       ...\n",
       "1196     False     True     False\n",
       "1197     False     True     False\n",
       "1198     False     True     False\n",
       "1199     False     True     False\n",
       "1200     False     True     False\n",
       "\n",
       "[1201 rows x 3 columns]"
      ]
     },
     "execution_count": 109,
     "metadata": {
      "tags": []
     },
     "output_type": "execute_result"
    }
   ],
   "source": [
    "predict_sentiment_cnn_lstm"
   ]
  },
  {
   "cell_type": "code",
   "execution_count": null,
   "metadata": {
    "colab": {
     "base_uri": "https://localhost:8080/",
     "height": 235
    },
    "colab_type": "code",
    "id": "-zpJLsg0wFGr",
    "outputId": "33c28883-8de0-48f2-8c09-845ce986321a"
   },
   "outputs": [
    {
     "data": {
      "text/plain": [
       "0        Neutral\n",
       "1       Negative\n",
       "2       Positive\n",
       "3       Positive\n",
       "4        Neutral\n",
       "          ...   \n",
       "1196     Neutral\n",
       "1197     Neutral\n",
       "1198     Neutral\n",
       "1199     Neutral\n",
       "1200     Neutral\n",
       "Length: 1201, dtype: object"
      ]
     },
     "execution_count": 110,
     "metadata": {
      "tags": []
     },
     "output_type": "execute_result"
    }
   ],
   "source": [
    "def label_sentiment (row):\n",
    "  if row['Negative'] == True :\n",
    "    return 'Negative'\n",
    "  if row['Neutral'] == True :\n",
    "    return 'Neutral'\n",
    "  if row['Positive'] == True :\n",
    "    return 'Positive'\n",
    "  return None\n",
    "\n",
    "predict_sentiment_cnn_lstm.apply(lambda row: label_sentiment(row), axis=1)"
   ]
  },
  {
   "cell_type": "code",
   "execution_count": null,
   "metadata": {
    "colab": {},
    "colab_type": "code",
    "id": "PpMWUSsgOC6V"
   },
   "outputs": [],
   "source": [
    "predict_df['CNN-LSTM Predict Sentiment'] = predict_sentiment_cnn_lstm.apply(lambda row: label_sentiment(row), axis=1)"
   ]
  },
  {
   "cell_type": "code",
   "execution_count": null,
   "metadata": {
    "colab": {
     "base_uri": "https://localhost:8080/",
     "height": 407
    },
    "colab_type": "code",
    "id": "Ut5RiBspODGr",
    "outputId": "26276030-d381-4fd8-fe5c-834b7179dd66"
   },
   "outputs": [
    {
     "data": {
      "text/html": [
       "<div>\n",
       "<style scoped>\n",
       "    .dataframe tbody tr th:only-of-type {\n",
       "        vertical-align: middle;\n",
       "    }\n",
       "\n",
       "    .dataframe tbody tr th {\n",
       "        vertical-align: top;\n",
       "    }\n",
       "\n",
       "    .dataframe thead th {\n",
       "        text-align: right;\n",
       "    }\n",
       "</style>\n",
       "<table border=\"1\" class=\"dataframe\">\n",
       "  <thead>\n",
       "    <tr style=\"text-align: right;\">\n",
       "      <th></th>\n",
       "      <th>Datetime</th>\n",
       "      <th>Text</th>\n",
       "      <th>Sentiment</th>\n",
       "      <th>Predict Sentiment</th>\n",
       "      <th>CNN-LSTM Predict Sentiment</th>\n",
       "    </tr>\n",
       "  </thead>\n",
       "  <tbody>\n",
       "    <tr>\n",
       "      <th>0</th>\n",
       "      <td>2020-05-30 22:44:47+00:00</td>\n",
       "      <td>Ya, Cina MARANATHA karena peduli soal Saya dan...</td>\n",
       "      <td>Positive</td>\n",
       "      <td>Neutral</td>\n",
       "      <td>Neutral</td>\n",
       "    </tr>\n",
       "    <tr>\n",
       "      <th>1</th>\n",
       "      <td>2020-05-30 22:44:09+00:00</td>\n",
       "      <td>Kalau virus Corona itu, berasal atau karena.. ...</td>\n",
       "      <td>Neutral</td>\n",
       "      <td>Negative</td>\n",
       "      <td>Negative</td>\n",
       "    </tr>\n",
       "    <tr>\n",
       "      <th>2</th>\n",
       "      <td>2020-05-30 20:12:20+00:00</td>\n",
       "      <td>unpar? ciputra? atmajaya? sampoerna? MARANATHA...</td>\n",
       "      <td>Neutral</td>\n",
       "      <td>Positive</td>\n",
       "      <td>Positive</td>\n",
       "    </tr>\n",
       "    <tr>\n",
       "      <th>3</th>\n",
       "      <td>2020-05-30 18:39:08+00:00</td>\n",
       "      <td>kenapa tidak MARANATHA Bandung saja</td>\n",
       "      <td>Neutral</td>\n",
       "      <td>Neutral</td>\n",
       "      <td>Positive</td>\n",
       "    </tr>\n",
       "    <tr>\n",
       "      <th>4</th>\n",
       "      <td>2020-05-30 12:35:27+00:00</td>\n",
       "      <td>Di Unpar dan MARANATHA Bandung. tinggal di kot...</td>\n",
       "      <td>Neutral</td>\n",
       "      <td>Neutral</td>\n",
       "      <td>Neutral</td>\n",
       "    </tr>\n",
       "    <tr>\n",
       "      <th>...</th>\n",
       "      <td>...</td>\n",
       "      <td>...</td>\n",
       "      <td>...</td>\n",
       "      <td>...</td>\n",
       "      <td>...</td>\n",
       "    </tr>\n",
       "    <tr>\n",
       "      <th>1196</th>\n",
       "      <td>2020-02-02 11:47:46+00:00</td>\n",
       "      <td>Angkringan marnat bisa tambah bayar tidak</td>\n",
       "      <td>Neutral</td>\n",
       "      <td>Negative</td>\n",
       "      <td>Neutral</td>\n",
       "    </tr>\n",
       "    <tr>\n",
       "      <th>1197</th>\n",
       "      <td>2020-02-02 04:47:26+00:00</td>\n",
       "      <td>Teman dia, marnat husein hanya langkah</td>\n",
       "      <td>Neutral</td>\n",
       "      <td>Neutral</td>\n",
       "      <td>Neutral</td>\n",
       "    </tr>\n",
       "    <tr>\n",
       "      <th>1198</th>\n",
       "      <td>2020-02-01 20:47:23+00:00</td>\n",
       "      <td>Senin temu di marnat</td>\n",
       "      <td>Neutral</td>\n",
       "      <td>Neutral</td>\n",
       "      <td>Neutral</td>\n",
       "    </tr>\n",
       "    <tr>\n",
       "      <th>1199</th>\n",
       "      <td>2020-02-01 14:43:44+00:00</td>\n",
       "      <td>Tolong info,kost bagus daerah cimahi atau bela...</td>\n",
       "      <td>Positive</td>\n",
       "      <td>Neutral</td>\n",
       "      <td>Neutral</td>\n",
       "    </tr>\n",
       "    <tr>\n",
       "      <th>1200</th>\n",
       "      <td>2020-02-01 07:17:41+00:00</td>\n",
       "      <td>ya untuk apa dia saja tuntut ilmu ke marnat</td>\n",
       "      <td>Neutral</td>\n",
       "      <td>Neutral</td>\n",
       "      <td>Neutral</td>\n",
       "    </tr>\n",
       "  </tbody>\n",
       "</table>\n",
       "<p>1201 rows × 5 columns</p>\n",
       "</div>"
      ],
      "text/plain": [
       "                       Datetime  ... CNN-LSTM Predict Sentiment\n",
       "0     2020-05-30 22:44:47+00:00  ...                    Neutral\n",
       "1     2020-05-30 22:44:09+00:00  ...                   Negative\n",
       "2     2020-05-30 20:12:20+00:00  ...                   Positive\n",
       "3     2020-05-30 18:39:08+00:00  ...                   Positive\n",
       "4     2020-05-30 12:35:27+00:00  ...                    Neutral\n",
       "...                         ...  ...                        ...\n",
       "1196  2020-02-02 11:47:46+00:00  ...                    Neutral\n",
       "1197  2020-02-02 04:47:26+00:00  ...                    Neutral\n",
       "1198  2020-02-01 20:47:23+00:00  ...                    Neutral\n",
       "1199  2020-02-01 14:43:44+00:00  ...                    Neutral\n",
       "1200  2020-02-01 07:17:41+00:00  ...                    Neutral\n",
       "\n",
       "[1201 rows x 5 columns]"
      ]
     },
     "execution_count": 112,
     "metadata": {
      "tags": []
     },
     "output_type": "execute_result"
    }
   ],
   "source": [
    "predict_df"
   ]
  },
  {
   "cell_type": "code",
   "execution_count": null,
   "metadata": {
    "colab": {},
    "colab_type": "code",
    "id": "5ltsg7eYUO0s"
   },
   "outputs": [],
   "source": [
    "#predict_df.to_excel('/content/drive/My Drive/Colab Notebooks/tesis_mnb_cnn_predict_norm.xls', index=False)"
   ]
  },
  {
   "cell_type": "code",
   "execution_count": null,
   "metadata": {
    "colab": {
     "base_uri": "https://localhost:8080/",
     "height": 74
    },
    "colab_type": "code",
    "id": "yTYI2v8FV13T",
    "outputId": "edc51924-f297-4c5a-aa9e-03c6c39abf6f"
   },
   "outputs": [
    {
     "name": "stderr",
     "output_type": "stream",
     "text": [
      "/usr/local/lib/python3.6/dist-packages/tensorflow/python/framework/indexed_slices.py:434: UserWarning: Converting sparse IndexedSlices to a dense Tensor of unknown shape. This may consume a large amount of memory.\n",
      "  \"Converting sparse IndexedSlices to a dense Tensor of unknown shape. \"\n"
     ]
    }
   ],
   "source": [
    "model_cnn_lstm_test_res = load_model('/content/drive/My Drive/Tesis/Hasil NN Tesis/CNN LSTM/tesis_model_cnn_lstm_res.h5', \n",
    "                            custom_objects={'SeqSelfAttention': SeqSelfAttention, 'f1':f1})"
   ]
  },
  {
   "cell_type": "code",
   "execution_count": null,
   "metadata": {
    "colab": {},
    "colab_type": "code",
    "id": "AWKn0drKV2EE"
   },
   "outputs": [],
   "source": [
    "predict_cnn_lstm_test_res = predict(test_padded, model_cnn_lstm_test_res)"
   ]
  },
  {
   "cell_type": "code",
   "execution_count": null,
   "metadata": {
    "colab": {
     "base_uri": "https://localhost:8080/",
     "height": 145
    },
    "colab_type": "code",
    "id": "TG1dTDEmV2Sb",
    "outputId": "80d78c55-9347-4d26-952e-715bf962126d"
   },
   "outputs": [
    {
     "data": {
      "text/plain": [
       "array([[False,  True, False],\n",
       "       [False,  True, False],\n",
       "       [False, False,  True],\n",
       "       ...,\n",
       "       [False,  True, False],\n",
       "       [False,  True, False],\n",
       "       [False,  True, False]])"
      ]
     },
     "execution_count": 114,
     "metadata": {
      "tags": []
     },
     "output_type": "execute_result"
    }
   ],
   "source": [
    "predict_cnn_lstm_test_res"
   ]
  },
  {
   "cell_type": "code",
   "execution_count": null,
   "metadata": {
    "colab": {},
    "colab_type": "code",
    "id": "huK02vm2V2jQ"
   },
   "outputs": [],
   "source": [
    "predict_sentiment_cnn_lstm_res = pd.DataFrame(predict_cnn_lstm_test_res, columns=['Negative', 'Neutral', 'Positive'])"
   ]
  },
  {
   "cell_type": "code",
   "execution_count": null,
   "metadata": {
    "colab": {
     "base_uri": "https://localhost:8080/",
     "height": 407
    },
    "colab_type": "code",
    "id": "txEJmH4XV2zu",
    "outputId": "a280544a-8d74-4950-c308-8ab8f66c6d38"
   },
   "outputs": [
    {
     "data": {
      "text/html": [
       "<div>\n",
       "<style scoped>\n",
       "    .dataframe tbody tr th:only-of-type {\n",
       "        vertical-align: middle;\n",
       "    }\n",
       "\n",
       "    .dataframe tbody tr th {\n",
       "        vertical-align: top;\n",
       "    }\n",
       "\n",
       "    .dataframe thead th {\n",
       "        text-align: right;\n",
       "    }\n",
       "</style>\n",
       "<table border=\"1\" class=\"dataframe\">\n",
       "  <thead>\n",
       "    <tr style=\"text-align: right;\">\n",
       "      <th></th>\n",
       "      <th>Negative</th>\n",
       "      <th>Neutral</th>\n",
       "      <th>Positive</th>\n",
       "    </tr>\n",
       "  </thead>\n",
       "  <tbody>\n",
       "    <tr>\n",
       "      <th>0</th>\n",
       "      <td>False</td>\n",
       "      <td>True</td>\n",
       "      <td>False</td>\n",
       "    </tr>\n",
       "    <tr>\n",
       "      <th>1</th>\n",
       "      <td>False</td>\n",
       "      <td>True</td>\n",
       "      <td>False</td>\n",
       "    </tr>\n",
       "    <tr>\n",
       "      <th>2</th>\n",
       "      <td>False</td>\n",
       "      <td>False</td>\n",
       "      <td>True</td>\n",
       "    </tr>\n",
       "    <tr>\n",
       "      <th>3</th>\n",
       "      <td>False</td>\n",
       "      <td>True</td>\n",
       "      <td>False</td>\n",
       "    </tr>\n",
       "    <tr>\n",
       "      <th>4</th>\n",
       "      <td>False</td>\n",
       "      <td>True</td>\n",
       "      <td>False</td>\n",
       "    </tr>\n",
       "    <tr>\n",
       "      <th>...</th>\n",
       "      <td>...</td>\n",
       "      <td>...</td>\n",
       "      <td>...</td>\n",
       "    </tr>\n",
       "    <tr>\n",
       "      <th>1196</th>\n",
       "      <td>False</td>\n",
       "      <td>True</td>\n",
       "      <td>False</td>\n",
       "    </tr>\n",
       "    <tr>\n",
       "      <th>1197</th>\n",
       "      <td>False</td>\n",
       "      <td>True</td>\n",
       "      <td>False</td>\n",
       "    </tr>\n",
       "    <tr>\n",
       "      <th>1198</th>\n",
       "      <td>False</td>\n",
       "      <td>True</td>\n",
       "      <td>False</td>\n",
       "    </tr>\n",
       "    <tr>\n",
       "      <th>1199</th>\n",
       "      <td>False</td>\n",
       "      <td>True</td>\n",
       "      <td>False</td>\n",
       "    </tr>\n",
       "    <tr>\n",
       "      <th>1200</th>\n",
       "      <td>False</td>\n",
       "      <td>True</td>\n",
       "      <td>False</td>\n",
       "    </tr>\n",
       "  </tbody>\n",
       "</table>\n",
       "<p>1201 rows × 3 columns</p>\n",
       "</div>"
      ],
      "text/plain": [
       "      Negative  Neutral  Positive\n",
       "0        False     True     False\n",
       "1        False     True     False\n",
       "2        False    False      True\n",
       "3        False     True     False\n",
       "4        False     True     False\n",
       "...        ...      ...       ...\n",
       "1196     False     True     False\n",
       "1197     False     True     False\n",
       "1198     False     True     False\n",
       "1199     False     True     False\n",
       "1200     False     True     False\n",
       "\n",
       "[1201 rows x 3 columns]"
      ]
     },
     "execution_count": 116,
     "metadata": {
      "tags": []
     },
     "output_type": "execute_result"
    }
   ],
   "source": [
    "predict_sentiment_cnn_lstm_res"
   ]
  },
  {
   "cell_type": "code",
   "execution_count": null,
   "metadata": {
    "colab": {},
    "colab_type": "code",
    "id": "ub5ECEwEWrB5"
   },
   "outputs": [],
   "source": [
    "predict_df['CNN-LSTM-SmoteTomek Predict Sentiment'] = predict_sentiment_cnn_lstm_res.apply(lambda row: label_sentiment(row), axis=1)"
   ]
  },
  {
   "cell_type": "code",
   "execution_count": null,
   "metadata": {
    "colab": {
     "base_uri": "https://localhost:8080/",
     "height": 597
    },
    "colab_type": "code",
    "id": "q4_9uRutWrO_",
    "outputId": "1f3e09d2-ac50-41ec-85a9-5106ca6f4669"
   },
   "outputs": [
    {
     "data": {
      "text/html": [
       "<div>\n",
       "<style scoped>\n",
       "    .dataframe tbody tr th:only-of-type {\n",
       "        vertical-align: middle;\n",
       "    }\n",
       "\n",
       "    .dataframe tbody tr th {\n",
       "        vertical-align: top;\n",
       "    }\n",
       "\n",
       "    .dataframe thead th {\n",
       "        text-align: right;\n",
       "    }\n",
       "</style>\n",
       "<table border=\"1\" class=\"dataframe\">\n",
       "  <thead>\n",
       "    <tr style=\"text-align: right;\">\n",
       "      <th></th>\n",
       "      <th>Datetime</th>\n",
       "      <th>Text</th>\n",
       "      <th>Sentiment</th>\n",
       "      <th>Predict Sentiment</th>\n",
       "      <th>CNN-LSTM Predict Sentiment</th>\n",
       "      <th>CNN-LSTM-SmoteTomek Predict Sentiment</th>\n",
       "    </tr>\n",
       "  </thead>\n",
       "  <tbody>\n",
       "    <tr>\n",
       "      <th>0</th>\n",
       "      <td>2020-05-30 22:44:47+00:00</td>\n",
       "      <td>Ya, Cina MARANATHA karena peduli soal Saya dan...</td>\n",
       "      <td>Positive</td>\n",
       "      <td>Neutral</td>\n",
       "      <td>Neutral</td>\n",
       "      <td>Neutral</td>\n",
       "    </tr>\n",
       "    <tr>\n",
       "      <th>1</th>\n",
       "      <td>2020-05-30 22:44:09+00:00</td>\n",
       "      <td>Kalau virus Corona itu, berasal atau karena.. ...</td>\n",
       "      <td>Neutral</td>\n",
       "      <td>Negative</td>\n",
       "      <td>Negative</td>\n",
       "      <td>Neutral</td>\n",
       "    </tr>\n",
       "    <tr>\n",
       "      <th>2</th>\n",
       "      <td>2020-05-30 20:12:20+00:00</td>\n",
       "      <td>unpar? ciputra? atmajaya? sampoerna? MARANATHA...</td>\n",
       "      <td>Neutral</td>\n",
       "      <td>Positive</td>\n",
       "      <td>Positive</td>\n",
       "      <td>Positive</td>\n",
       "    </tr>\n",
       "    <tr>\n",
       "      <th>3</th>\n",
       "      <td>2020-05-30 18:39:08+00:00</td>\n",
       "      <td>kenapa tidak MARANATHA Bandung saja</td>\n",
       "      <td>Neutral</td>\n",
       "      <td>Neutral</td>\n",
       "      <td>Positive</td>\n",
       "      <td>Neutral</td>\n",
       "    </tr>\n",
       "    <tr>\n",
       "      <th>4</th>\n",
       "      <td>2020-05-30 12:35:27+00:00</td>\n",
       "      <td>Di Unpar dan MARANATHA Bandung. tinggal di kot...</td>\n",
       "      <td>Neutral</td>\n",
       "      <td>Neutral</td>\n",
       "      <td>Neutral</td>\n",
       "      <td>Neutral</td>\n",
       "    </tr>\n",
       "    <tr>\n",
       "      <th>...</th>\n",
       "      <td>...</td>\n",
       "      <td>...</td>\n",
       "      <td>...</td>\n",
       "      <td>...</td>\n",
       "      <td>...</td>\n",
       "      <td>...</td>\n",
       "    </tr>\n",
       "    <tr>\n",
       "      <th>1196</th>\n",
       "      <td>2020-02-02 11:47:46+00:00</td>\n",
       "      <td>Angkringan marnat bisa tambah bayar tidak</td>\n",
       "      <td>Neutral</td>\n",
       "      <td>Negative</td>\n",
       "      <td>Neutral</td>\n",
       "      <td>Neutral</td>\n",
       "    </tr>\n",
       "    <tr>\n",
       "      <th>1197</th>\n",
       "      <td>2020-02-02 04:47:26+00:00</td>\n",
       "      <td>Teman dia, marnat husein hanya langkah</td>\n",
       "      <td>Neutral</td>\n",
       "      <td>Neutral</td>\n",
       "      <td>Neutral</td>\n",
       "      <td>Neutral</td>\n",
       "    </tr>\n",
       "    <tr>\n",
       "      <th>1198</th>\n",
       "      <td>2020-02-01 20:47:23+00:00</td>\n",
       "      <td>Senin temu di marnat</td>\n",
       "      <td>Neutral</td>\n",
       "      <td>Neutral</td>\n",
       "      <td>Neutral</td>\n",
       "      <td>Neutral</td>\n",
       "    </tr>\n",
       "    <tr>\n",
       "      <th>1199</th>\n",
       "      <td>2020-02-01 14:43:44+00:00</td>\n",
       "      <td>Tolong info,kost bagus daerah cimahi atau bela...</td>\n",
       "      <td>Positive</td>\n",
       "      <td>Neutral</td>\n",
       "      <td>Neutral</td>\n",
       "      <td>Neutral</td>\n",
       "    </tr>\n",
       "    <tr>\n",
       "      <th>1200</th>\n",
       "      <td>2020-02-01 07:17:41+00:00</td>\n",
       "      <td>ya untuk apa dia saja tuntut ilmu ke marnat</td>\n",
       "      <td>Neutral</td>\n",
       "      <td>Neutral</td>\n",
       "      <td>Neutral</td>\n",
       "      <td>Neutral</td>\n",
       "    </tr>\n",
       "  </tbody>\n",
       "</table>\n",
       "<p>1201 rows × 6 columns</p>\n",
       "</div>"
      ],
      "text/plain": [
       "                       Datetime  ... CNN-LSTM-SmoteTomek Predict Sentiment\n",
       "0     2020-05-30 22:44:47+00:00  ...                               Neutral\n",
       "1     2020-05-30 22:44:09+00:00  ...                               Neutral\n",
       "2     2020-05-30 20:12:20+00:00  ...                              Positive\n",
       "3     2020-05-30 18:39:08+00:00  ...                               Neutral\n",
       "4     2020-05-30 12:35:27+00:00  ...                               Neutral\n",
       "...                         ...  ...                                   ...\n",
       "1196  2020-02-02 11:47:46+00:00  ...                               Neutral\n",
       "1197  2020-02-02 04:47:26+00:00  ...                               Neutral\n",
       "1198  2020-02-01 20:47:23+00:00  ...                               Neutral\n",
       "1199  2020-02-01 14:43:44+00:00  ...                               Neutral\n",
       "1200  2020-02-01 07:17:41+00:00  ...                               Neutral\n",
       "\n",
       "[1201 rows x 6 columns]"
      ]
     },
     "execution_count": 118,
     "metadata": {
      "tags": []
     },
     "output_type": "execute_result"
    }
   ],
   "source": [
    "predict_df"
   ]
  },
  {
   "cell_type": "code",
   "execution_count": null,
   "metadata": {
    "colab": {},
    "colab_type": "code",
    "id": "WQ0BN4I-XBkL"
   },
   "outputs": [],
   "source": [
    "predict_df.to_excel('/content/drive/My Drive/Colab Notebooks/tesis_mnb_cnn_res_predict_sum_norm_TEST.xls', index=False)"
   ]
  },
  {
   "cell_type": "markdown",
   "metadata": {
    "colab_type": "text",
    "id": "bAm3Qrvcg-mo"
   },
   "source": [
    "### **NN**"
   ]
  },
  {
   "cell_type": "markdown",
   "metadata": {
    "colab_type": "text",
    "id": "1HPvhpNZ36-0"
   },
   "source": [
    "### **RNN**"
   ]
  },
  {
   "cell_type": "code",
   "execution_count": null,
   "metadata": {
    "colab": {
     "base_uri": "https://localhost:8080/",
     "height": 781
    },
    "colab_type": "code",
    "id": "Eh8gmqo1UODT",
    "outputId": "8c7a1263-bba8-46ff-f5c0-0a41267883c9"
   },
   "outputs": [
    {
     "name": "stdout",
     "output_type": "stream",
     "text": [
      "Model RNN UNRES\n",
      "Model: \"model_1\"\n",
      "_________________________________________________________________\n",
      "Layer (type)                 Output Shape              Param #   \n",
      "=================================================================\n",
      "input_1 (InputLayer)         (None, 50)                0         \n",
      "_________________________________________________________________\n",
      "embedding_1 (Embedding)      (None, 50, 300)           1905000   \n",
      "_________________________________________________________________\n",
      "spatial_dropout1d_1 (Spatial (None, 50, 300)           0         \n",
      "_________________________________________________________________\n",
      "simple_rnn_2 (SimpleRNN)     (None, 16)                5072      \n",
      "_________________________________________________________________\n",
      "dropout_1 (Dropout)          (None, 16)                0         \n",
      "_________________________________________________________________\n",
      "dense_1 (Dense)              (None, 3)                 51        \n",
      "=================================================================\n",
      "Total params: 1,910,123\n",
      "Trainable params: 1,910,123\n",
      "Non-trainable params: 0\n",
      "_________________________________________________________________\n",
      "Model RNN RES\n",
      "Model: \"model_2\"\n",
      "_________________________________________________________________\n",
      "Layer (type)                 Output Shape              Param #   \n",
      "=================================================================\n",
      "input_1 (InputLayer)         (None, 50)                0         \n",
      "_________________________________________________________________\n",
      "embedding_1 (Embedding)      (None, 50, 300)           1905000   \n",
      "_________________________________________________________________\n",
      "spatial_dropout1d_1 (Spatial (None, 50, 300)           0         \n",
      "_________________________________________________________________\n",
      "simple_rnn_2 (SimpleRNN)     (None, 16)                5072      \n",
      "_________________________________________________________________\n",
      "dropout_1 (Dropout)          (None, 16)                0         \n",
      "_________________________________________________________________\n",
      "dense_1 (Dense)              (None, 3)                 51        \n",
      "=================================================================\n",
      "Total params: 1,910,123\n",
      "Trainable params: 1,910,123\n",
      "Non-trainable params: 0\n",
      "_________________________________________________________________\n"
     ]
    }
   ],
   "source": [
    "dropout_rate = 0.5\n",
    "output_size = 16\n",
    "maxlen = MAX_SEQUENCE_LENGTH\n",
    "rnn_activation = 'tanh' #'relu' \n",
    "\n",
    "inputs = Input(shape=(maxlen,))\n",
    "embedding_layer = Embedding(len(word_index) + 1,\n",
    "                            EMBEDDING_DIM,\n",
    "                            weights=[embedding_matrix],\n",
    "                            trainable=True)\n",
    "embedding = embedding_layer(inputs)\n",
    "\n",
    "#emb2 = Embedding(embedding_matrix.shape[0], embedding_matrix.shape[1], \n",
    "#                 weights=[embedding_matrix], trainable=True)(inputs)\n",
    "\n",
    "s_drop = SpatialDropout1D(dropout_rate)(embedding)\n",
    "rnn = SimpleRNN(units=output_size, activation=rnn_activation, return_sequences=True)(s_drop)\n",
    "rnn = SimpleRNN(units=output_size, activation=rnn_activation, return_sequences=False)(s_drop)\n",
    "drop = Dropout(dropout_rate)(rnn)\n",
    "output = Dense(units=num_classes, activation='softmax')(drop)\n",
    "\n",
    "model_rnn_unres = Model(inputs, output)\n",
    "model_rnn_res = Model(inputs, output)\n",
    "\n",
    "\n",
    "model_rnn_unres.compile(loss='categorical_crossentropy', metrics=['acc', f1], optimizer=rmsprop)\n",
    "model_rnn_res.compile(loss='categorical_crossentropy', metrics=['acc', f1], optimizer=rmsprop)\n",
    "\n",
    "callbacks_unres = [EarlyStopping(monitor='val_loss', verbose= 1, patience=20, mode='auto'), \n",
    "                   ModelCheckpoint('/content/drive/My Drive/Tesis/Hasil NN Tesis/RNN/tesis_model_rnn_unres.h5', monitor='val_loss', verbose=1, save_best_only=True, mode='auto'), \n",
    "                   ReduceLROnPlateau(monitor='val_loss', factor=0.2, patience=4, min_lr=0.001)]\n",
    "\n",
    "callbacks_res = [EarlyStopping(monitor='val_loss', verbose= 1, patience=20, mode='auto'), \n",
    "                   ModelCheckpoint('/content/drive/My Drive/Tesis/Hasil NN Tesis/RNN/tesis_model_rnn_res.h5', monitor='val_loss', verbose=1, save_best_only=True, mode='auto'), \n",
    "                   ReduceLROnPlateau(monitor='val_loss', factor=0.2, patience=4, min_lr=0.001)]\n",
    "\n",
    "print('Model RNN UNRES')\n",
    "model_rnn_unres.summary()\n",
    "print('Model RNN RES')\n",
    "model_rnn_res.summary()"
   ]
  },
  {
   "cell_type": "code",
   "execution_count": null,
   "metadata": {
    "colab": {
     "base_uri": "https://localhost:8080/",
     "height": 1000
    },
    "colab_type": "code",
    "id": "E-Yk2vbjgMO6",
    "outputId": "2d3d77dd-cc5e-4716-ae69-5f9750615bfb"
   },
   "outputs": [
    {
     "name": "stderr",
     "output_type": "stream",
     "text": [
      "/usr/local/lib/python3.6/dist-packages/tensorflow/python/framework/indexed_slices.py:434: UserWarning: Converting sparse IndexedSlices to a dense Tensor of unknown shape. This may consume a large amount of memory.\n",
      "  \"Converting sparse IndexedSlices to a dense Tensor of unknown shape. \"\n"
     ]
    },
    {
     "name": "stdout",
     "output_type": "stream",
     "text": [
      "Train on 3756 samples, validate on 805 samples\n",
      "Epoch 1/100\n",
      "3756/3756 [==============================] - 19s 5ms/step - loss: 0.7713 - acc: 0.7183 - f1: 0.7021 - val_loss: 0.6561 - val_acc: 0.7640 - val_f1: 0.7669\n",
      "\n",
      "Epoch 00001: val_loss improved from inf to 0.65612, saving model to /content/drive/My Drive/Tesis/Hasil NN Tesis/RNN/tesis_model_rnn_unres.h5\n",
      "Epoch 2/100\n",
      "3756/3756 [==============================] - 19s 5ms/step - loss: 0.5800 - acc: 0.7923 - f1: 0.7848 - val_loss: 0.6556 - val_acc: 0.7453 - val_f1: 0.7386\n",
      "\n",
      "Epoch 00002: val_loss improved from 0.65612 to 0.65560, saving model to /content/drive/My Drive/Tesis/Hasil NN Tesis/RNN/tesis_model_rnn_unres.h5\n",
      "Epoch 3/100\n",
      "3756/3756 [==============================] - 18s 5ms/step - loss: 0.4639 - acc: 0.8384 - f1: 0.8351 - val_loss: 0.6594 - val_acc: 0.7739 - val_f1: 0.7552\n",
      "\n",
      "Epoch 00003: val_loss did not improve from 0.65560\n",
      "Epoch 4/100\n",
      "3756/3756 [==============================] - 18s 5ms/step - loss: 0.3838 - acc: 0.8677 - f1: 0.8669 - val_loss: 0.6731 - val_acc: 0.7702 - val_f1: 0.7705\n",
      "\n",
      "Epoch 00004: val_loss did not improve from 0.65560\n",
      "Epoch 5/100\n",
      "3756/3756 [==============================] - 18s 5ms/step - loss: 0.3311 - acc: 0.8903 - f1: 0.8904 - val_loss: 0.7185 - val_acc: 0.7565 - val_f1: 0.7468\n",
      "\n",
      "Epoch 00005: val_loss did not improve from 0.65560\n",
      "Epoch 6/100\n",
      "3756/3756 [==============================] - 18s 5ms/step - loss: 0.2947 - acc: 0.9073 - f1: 0.9069 - val_loss: 0.7430 - val_acc: 0.7491 - val_f1: 0.7358\n",
      "\n",
      "Epoch 00006: val_loss did not improve from 0.65560\n",
      "Epoch 7/100\n",
      "3756/3756 [==============================] - 18s 5ms/step - loss: 0.2786 - acc: 0.9113 - f1: 0.9105 - val_loss: 0.7649 - val_acc: 0.7528 - val_f1: 0.7411\n",
      "\n",
      "Epoch 00007: val_loss did not improve from 0.65560\n",
      "Epoch 8/100\n",
      "3756/3756 [==============================] - 18s 5ms/step - loss: 0.2479 - acc: 0.9247 - f1: 0.9242 - val_loss: 0.7767 - val_acc: 0.7714 - val_f1: 0.7571\n",
      "\n",
      "Epoch 00008: val_loss did not improve from 0.65560\n",
      "Epoch 9/100\n",
      "3756/3756 [==============================] - 18s 5ms/step - loss: 0.2250 - acc: 0.9273 - f1: 0.9269 - val_loss: 0.8376 - val_acc: 0.7640 - val_f1: 0.7537\n",
      "\n",
      "Epoch 00009: val_loss did not improve from 0.65560\n",
      "Epoch 10/100\n",
      "3756/3756 [==============================] - 18s 5ms/step - loss: 0.2203 - acc: 0.9318 - f1: 0.9318 - val_loss: 0.8582 - val_acc: 0.7453 - val_f1: 0.7343\n",
      "\n",
      "Epoch 00010: val_loss did not improve from 0.65560\n",
      "Epoch 11/100\n",
      "3756/3756 [==============================] - 18s 5ms/step - loss: 0.1974 - acc: 0.9417 - f1: 0.9398 - val_loss: 0.9434 - val_acc: 0.7056 - val_f1: 0.6965\n",
      "\n",
      "Epoch 00011: val_loss did not improve from 0.65560\n",
      "Epoch 12/100\n",
      "3756/3756 [==============================] - 19s 5ms/step - loss: 0.1952 - acc: 0.9353 - f1: 0.9350 - val_loss: 0.9087 - val_acc: 0.7528 - val_f1: 0.7434\n",
      "\n",
      "Epoch 00012: val_loss did not improve from 0.65560\n",
      "Epoch 13/100\n",
      "3756/3756 [==============================] - 19s 5ms/step - loss: 0.1769 - acc: 0.9414 - f1: 0.9427 - val_loss: 0.9263 - val_acc: 0.7590 - val_f1: 0.7470\n",
      "\n",
      "Epoch 00013: val_loss did not improve from 0.65560\n",
      "Epoch 14/100\n",
      "3756/3756 [==============================] - 19s 5ms/step - loss: 0.1744 - acc: 0.9449 - f1: 0.9452 - val_loss: 0.9251 - val_acc: 0.7441 - val_f1: 0.7317\n",
      "\n",
      "Epoch 00014: val_loss did not improve from 0.65560\n",
      "Epoch 15/100\n",
      "3756/3756 [==============================] - 18s 5ms/step - loss: 0.1671 - acc: 0.9438 - f1: 0.9442 - val_loss: 0.9659 - val_acc: 0.7466 - val_f1: 0.7358\n",
      "\n",
      "Epoch 00015: val_loss did not improve from 0.65560\n",
      "Epoch 16/100\n",
      "3756/3756 [==============================] - 18s 5ms/step - loss: 0.1610 - acc: 0.9465 - f1: 0.9473 - val_loss: 0.9725 - val_acc: 0.7677 - val_f1: 0.7698\n",
      "\n",
      "Epoch 00016: val_loss did not improve from 0.65560\n",
      "Epoch 17/100\n",
      "3756/3756 [==============================] - 18s 5ms/step - loss: 0.1503 - acc: 0.9505 - f1: 0.9504 - val_loss: 1.0066 - val_acc: 0.7516 - val_f1: 0.7398\n",
      "\n",
      "Epoch 00017: val_loss did not improve from 0.65560\n",
      "Epoch 18/100\n",
      "3756/3756 [==============================] - 18s 5ms/step - loss: 0.1442 - acc: 0.9550 - f1: 0.9556 - val_loss: 1.0167 - val_acc: 0.7441 - val_f1: 0.7335\n",
      "\n",
      "Epoch 00018: val_loss did not improve from 0.65560\n",
      "Epoch 19/100\n",
      "3756/3756 [==============================] - 18s 5ms/step - loss: 0.1503 - acc: 0.9510 - f1: 0.9515 - val_loss: 1.0503 - val_acc: 0.7528 - val_f1: 0.7410\n",
      "\n",
      "Epoch 00019: val_loss did not improve from 0.65560\n",
      "Epoch 20/100\n",
      "3756/3756 [==============================] - 18s 5ms/step - loss: 0.1220 - acc: 0.9606 - f1: 0.9597 - val_loss: 1.0248 - val_acc: 0.7627 - val_f1: 0.7530\n",
      "\n",
      "Epoch 00020: val_loss did not improve from 0.65560\n",
      "Epoch 21/100\n",
      "3756/3756 [==============================] - 18s 5ms/step - loss: 0.1276 - acc: 0.9614 - f1: 0.9614 - val_loss: 1.0401 - val_acc: 0.7553 - val_f1: 0.7448\n",
      "\n",
      "Epoch 00021: val_loss did not improve from 0.65560\n",
      "Epoch 22/100\n",
      "3756/3756 [==============================] - 18s 5ms/step - loss: 0.1239 - acc: 0.9579 - f1: 0.9579 - val_loss: 1.0662 - val_acc: 0.7602 - val_f1: 0.7504\n",
      "\n",
      "Epoch 00022: val_loss did not improve from 0.65560\n",
      "Epoch 00022: early stopping\n"
     ]
    }
   ],
   "source": [
    "tesis_model_rnn_unres = model_rnn_unres.fit(x_train, y_train, batch_size=12, epochs=100, \n",
    "                                            validation_data=(x_val, y_val), callbacks=callbacks_unres, shuffle=True, verbose=1)"
   ]
  },
  {
   "cell_type": "code",
   "execution_count": null,
   "metadata": {
    "colab": {
     "base_uri": "https://localhost:8080/",
     "height": 1000
    },
    "colab_type": "code",
    "id": "uwtCigXnLnSE",
    "outputId": "65b7b517-a056-472e-e8a3-7550d0eda97e"
   },
   "outputs": [
    {
     "name": "stderr",
     "output_type": "stream",
     "text": [
      "/usr/local/lib/python3.6/dist-packages/tensorflow/python/framework/indexed_slices.py:434: UserWarning: Converting sparse IndexedSlices to a dense Tensor of unknown shape. This may consume a large amount of memory.\n",
      "  \"Converting sparse IndexedSlices to a dense Tensor of unknown shape. \"\n"
     ]
    },
    {
     "name": "stdout",
     "output_type": "stream",
     "text": [
      "Train on 8145 samples, validate on 805 samples\n",
      "Epoch 1/100\n",
      "8145/8145 [==============================] - 44s 5ms/step - loss: 1.0178 - acc: 0.5510 - f1: 0.5027 - val_loss: 0.9581 - val_acc: 0.6012 - val_f1: 0.5607\n",
      "\n",
      "Epoch 00001: val_loss improved from inf to 0.95807, saving model to /content/drive/My Drive/Tesis/Hasil NN Tesis/RNN/tesis_model_rnn_res.h5\n",
      "Epoch 2/100\n",
      "8145/8145 [==============================] - 43s 5ms/step - loss: 0.7876 - acc: 0.6519 - f1: 0.6136 - val_loss: 0.9646 - val_acc: 0.6149 - val_f1: 0.5733\n",
      "\n",
      "Epoch 00002: val_loss did not improve from 0.95807\n",
      "Epoch 3/100\n",
      "8145/8145 [==============================] - 44s 5ms/step - loss: 0.7134 - acc: 0.6977 - f1: 0.6703 - val_loss: 1.0632 - val_acc: 0.5888 - val_f1: 0.5749\n",
      "\n",
      "Epoch 00003: val_loss did not improve from 0.95807\n",
      "Epoch 4/100\n",
      "8145/8145 [==============================] - 44s 5ms/step - loss: 0.6555 - acc: 0.7236 - f1: 0.7085 - val_loss: 1.2092 - val_acc: 0.5689 - val_f1: 0.5486\n",
      "\n",
      "Epoch 00004: val_loss did not improve from 0.95807\n",
      "Epoch 5/100\n",
      "8145/8145 [==============================] - 43s 5ms/step - loss: 0.6040 - acc: 0.7556 - f1: 0.7470 - val_loss: 1.2045 - val_acc: 0.5789 - val_f1: 0.5593\n",
      "\n",
      "Epoch 00005: val_loss did not improve from 0.95807\n",
      "Epoch 6/100\n",
      "8145/8145 [==============================] - 43s 5ms/step - loss: 0.5859 - acc: 0.7675 - f1: 0.7574 - val_loss: 1.1709 - val_acc: 0.6062 - val_f1: 0.5792\n",
      "\n",
      "Epoch 00006: val_loss did not improve from 0.95807\n",
      "Epoch 7/100\n",
      "8145/8145 [==============================] - 44s 5ms/step - loss: 0.5392 - acc: 0.7899 - f1: 0.7838 - val_loss: 1.2836 - val_acc: 0.5478 - val_f1: 0.5260\n",
      "\n",
      "Epoch 00007: val_loss did not improve from 0.95807\n",
      "Epoch 8/100\n",
      "8145/8145 [==============================] - 44s 5ms/step - loss: 0.5208 - acc: 0.7912 - f1: 0.7886 - val_loss: 1.2131 - val_acc: 0.6099 - val_f1: 0.5962\n",
      "\n",
      "Epoch 00008: val_loss did not improve from 0.95807\n",
      "Epoch 9/100\n",
      "8145/8145 [==============================] - 44s 5ms/step - loss: 0.5037 - acc: 0.8106 - f1: 0.8069 - val_loss: 1.3089 - val_acc: 0.5764 - val_f1: 0.5793\n",
      "\n",
      "Epoch 00009: val_loss did not improve from 0.95807\n",
      "Epoch 10/100\n",
      "8145/8145 [==============================] - 44s 5ms/step - loss: 0.4701 - acc: 0.8250 - f1: 0.8202 - val_loss: 1.3313 - val_acc: 0.5863 - val_f1: 0.5727\n",
      "\n",
      "Epoch 00010: val_loss did not improve from 0.95807\n",
      "Epoch 11/100\n",
      "8145/8145 [==============================] - 44s 5ms/step - loss: 0.4613 - acc: 0.8276 - f1: 0.8254 - val_loss: 1.3357 - val_acc: 0.5839 - val_f1: 0.5826\n",
      "\n",
      "Epoch 00011: val_loss did not improve from 0.95807\n",
      "Epoch 12/100\n",
      "8145/8145 [==============================] - 43s 5ms/step - loss: 0.4369 - acc: 0.8384 - f1: 0.8361 - val_loss: 1.4519 - val_acc: 0.5578 - val_f1: 0.5558\n",
      "\n",
      "Epoch 00012: val_loss did not improve from 0.95807\n",
      "Epoch 13/100\n",
      "8145/8145 [==============================] - 42s 5ms/step - loss: 0.4261 - acc: 0.8428 - f1: 0.8408 - val_loss: 1.3996 - val_acc: 0.5627 - val_f1: 0.5648\n",
      "\n",
      "Epoch 00013: val_loss did not improve from 0.95807\n",
      "Epoch 14/100\n",
      "8145/8145 [==============================] - 44s 5ms/step - loss: 0.4182 - acc: 0.8422 - f1: 0.8399 - val_loss: 1.5055 - val_acc: 0.5590 - val_f1: 0.5312\n",
      "\n",
      "Epoch 00014: val_loss did not improve from 0.95807\n",
      "Epoch 15/100\n",
      "8145/8145 [==============================] - 44s 5ms/step - loss: 0.4042 - acc: 0.8548 - f1: 0.8525 - val_loss: 1.5215 - val_acc: 0.5553 - val_f1: 0.5350\n",
      "\n",
      "Epoch 00015: val_loss did not improve from 0.95807\n",
      "Epoch 16/100\n",
      "8145/8145 [==============================] - 44s 5ms/step - loss: 0.3972 - acc: 0.8577 - f1: 0.8550 - val_loss: 1.4633 - val_acc: 0.5789 - val_f1: 0.5585\n",
      "\n",
      "Epoch 00016: val_loss did not improve from 0.95807\n",
      "Epoch 17/100\n",
      "8145/8145 [==============================] - 44s 5ms/step - loss: 0.3756 - acc: 0.8630 - f1: 0.8608 - val_loss: 1.5907 - val_acc: 0.5342 - val_f1: 0.5216\n",
      "\n",
      "Epoch 00017: val_loss did not improve from 0.95807\n",
      "Epoch 18/100\n",
      "8145/8145 [==============================] - 44s 5ms/step - loss: 0.3614 - acc: 0.8696 - f1: 0.8687 - val_loss: 1.5537 - val_acc: 0.5540 - val_f1: 0.5458\n",
      "\n",
      "Epoch 00018: val_loss did not improve from 0.95807\n",
      "Epoch 19/100\n",
      "8145/8145 [==============================] - 44s 5ms/step - loss: 0.3696 - acc: 0.8648 - f1: 0.8642 - val_loss: 1.5696 - val_acc: 0.5466 - val_f1: 0.5306\n",
      "\n",
      "Epoch 00019: val_loss did not improve from 0.95807\n",
      "Epoch 20/100\n",
      "8145/8145 [==============================] - 44s 5ms/step - loss: 0.3577 - acc: 0.8727 - f1: 0.8694 - val_loss: 1.5018 - val_acc: 0.5863 - val_f1: 0.5697\n",
      "\n",
      "Epoch 00020: val_loss did not improve from 0.95807\n",
      "Epoch 21/100\n",
      "8145/8145 [==============================] - 44s 5ms/step - loss: 0.3529 - acc: 0.8719 - f1: 0.8701 - val_loss: 1.4951 - val_acc: 0.5776 - val_f1: 0.5680\n",
      "\n",
      "Epoch 00021: val_loss did not improve from 0.95807\n",
      "Epoch 00021: early stopping\n"
     ]
    }
   ],
   "source": [
    "tesis_model_rnn_res = model_rnn_res.fit(x_res, y_res, batch_size=12, epochs=100, \n",
    "                                        validation_data=(x_val, y_val), callbacks=callbacks_res, shuffle=True, verbose=1)"
   ]
  },
  {
   "cell_type": "code",
   "execution_count": null,
   "metadata": {
    "colab": {
     "base_uri": "https://localhost:8080/",
     "height": 564
    },
    "colab_type": "code",
    "id": "tWG-jfs7aFlh",
    "outputId": "fd44909e-1864-409b-ef51-03c44c79a729"
   },
   "outputs": [
    {
     "data": {
      "image/png": "[encoded data removed]",
      "text/plain": [
       "<IPython.core.display.Image object>"
      ]
     },
     "execution_count": 38,
     "metadata": {
      "tags": []
     },
     "output_type": "execute_result"
    }
   ],
   "source": [
    "plot_model(model_rnn_unres, to_file='/content/drive/My Drive/Tesis/Hasil NN Tesis/RNN/tesis_model_rnn_unres2.png', \n",
    "           show_shapes=False, show_layer_names=False)"
   ]
  },
  {
   "cell_type": "code",
   "execution_count": null,
   "metadata": {
    "colab": {},
    "colab_type": "code",
    "id": "pNlKx3wraGeY"
   },
   "outputs": [],
   "source": []
  },
  {
   "cell_type": "code",
   "execution_count": null,
   "metadata": {
    "colab": {
     "base_uri": "https://localhost:8080/",
     "height": 781
    },
    "colab_type": "code",
    "id": "oCCZMLdzHSr2",
    "outputId": "c69b40f6-d841-4807-9dad-f0eeddbc647e"
   },
   "outputs": [
    {
     "name": "stdout",
     "output_type": "stream",
     "text": [
      "Model RNN UNRES VEC\n",
      "Model: \"model_55\"\n",
      "_________________________________________________________________\n",
      "Layer (type)                 Output Shape              Param #   \n",
      "=================================================================\n",
      "input_28 (InputLayer)        (None, 1000)              0         \n",
      "_________________________________________________________________\n",
      "embedding_7 (Embedding)      (None, 1000, 300)         1905000   \n",
      "_________________________________________________________________\n",
      "spatial_dropout1d_7 (Spatial (None, 1000, 300)         0         \n",
      "_________________________________________________________________\n",
      "simple_rnn_5 (SimpleRNN)     (None, 16)                5072      \n",
      "_________________________________________________________________\n",
      "dropout_7 (Dropout)          (None, 16)                0         \n",
      "_________________________________________________________________\n",
      "dense_72 (Dense)             (None, 3)                 51        \n",
      "=================================================================\n",
      "Total params: 1,910,123\n",
      "Trainable params: 1,910,123\n",
      "Non-trainable params: 0\n",
      "_________________________________________________________________\n",
      "Model RNN RES VEC\n",
      "Model: \"model_56\"\n",
      "_________________________________________________________________\n",
      "Layer (type)                 Output Shape              Param #   \n",
      "=================================================================\n",
      "input_28 (InputLayer)        (None, 1000)              0         \n",
      "_________________________________________________________________\n",
      "embedding_7 (Embedding)      (None, 1000, 300)         1905000   \n",
      "_________________________________________________________________\n",
      "spatial_dropout1d_7 (Spatial (None, 1000, 300)         0         \n",
      "_________________________________________________________________\n",
      "simple_rnn_5 (SimpleRNN)     (None, 16)                5072      \n",
      "_________________________________________________________________\n",
      "dropout_7 (Dropout)          (None, 16)                0         \n",
      "_________________________________________________________________\n",
      "dense_72 (Dense)             (None, 3)                 51        \n",
      "=================================================================\n",
      "Total params: 1,910,123\n",
      "Trainable params: 1,910,123\n",
      "Non-trainable params: 0\n",
      "_________________________________________________________________\n"
     ]
    }
   ],
   "source": [
    "dropout_rate = 0.2\n",
    "output_size = 16\n",
    "maxlen = MAX_SEQUENCE_LENGTH\n",
    "maxlen_vec = td\n",
    "rnn_activation = 'tanh' #'relu' \n",
    "\n",
    "inputs = Input(shape=(maxlen_vec,))\n",
    "#embedding_layer = Embedding(len(word_index) + 1,\n",
    "                           # EMBEDDING_DIM,\n",
    "                            #weights=[embedding_matrix],\n",
    "                           # trainable=True)\n",
    "#embedding = embedding_layer(inputs)\n",
    "\n",
    "emb2 = Embedding(embedding_matrix.shape[0], embedding_matrix.shape[1], \n",
    "                 weights=[embedding_matrix], trainable=True)(inputs)\n",
    "\n",
    "s_drop = SpatialDropout1D(dropout_rate)(emb2)\n",
    "rnn = SimpleRNN(\n",
    "    units=output_size, \n",
    "    activation=rnn_activation, \n",
    "    kernel_regularizer=regularizers.l2(0.1))(s_drop)\n",
    "drop = Dropout(dropout_rate)(rnn)\n",
    "output = Dense(units=num_classes, activation='softmax')(drop)\n",
    "\n",
    "model_rnn_unres_vec = Model(inputs, output)\n",
    "model_rnn_res_vec = Model(inputs, output)\n",
    "\n",
    "\n",
    "model_rnn_unres_vec.compile(loss='categorical_crossentropy', metrics=['acc', f1_vec], optimizer=Adam(learning_rate=1e-3))\n",
    "model_rnn_res_vec.compile(loss='categorical_crossentropy', metrics=['acc', f1_vec], optimizer=Adam(learning_rate=1e-3))\n",
    "\n",
    "callbacks_unres_vec = [EarlyStopping(monitor='val_loss', verbose= 1, patience=20, mode='auto'), \n",
    "                       ModelCheckpoint('/content/drive/My Drive/Tesis/Hasil NN Tesis/RNN/tesis_model_rnn_unres_vec.h5', monitor='val_loss', verbose=1, save_best_only=True, mode='auto'), \n",
    "                       ReduceLROnPlateau(monitor='val_loss', factor=0.2, patience=4, min_lr=0.001)]\n",
    "\n",
    "callbacks_res_vec = [EarlyStopping(monitor='val_loss', verbose= 1, patience=20, mode='auto'), \n",
    "                     ModelCheckpoint('/content/drive/My Drive/Tesis/Hasil NN Tesis/RNN/tesis_model_rnn_res_vec.h5', monitor='val_loss', verbose=1, save_best_only=True, mode='auto'), \n",
    "                     ReduceLROnPlateau(monitor='val_loss', factor=0.2, patience=4, min_lr=0.001)]\n",
    "\n",
    "print('Model RNN UNRES VEC')\n",
    "model_rnn_unres_vec.summary()\n",
    "print('Model RNN RES VEC')\n",
    "model_rnn_res_vec.summary()"
   ]
  },
  {
   "cell_type": "code",
   "execution_count": null,
   "metadata": {
    "colab": {
     "base_uri": "https://localhost:8080/",
     "height": 1000
    },
    "colab_type": "code",
    "id": "noETNCfjlJbP",
    "outputId": "02b7d002-d1ab-475e-d883-7c4734842d8b"
   },
   "outputs": [
    {
     "name": "stderr",
     "output_type": "stream",
     "text": [
      "/usr/local/lib/python3.6/dist-packages/tensorflow/python/framework/indexed_slices.py:434: UserWarning: Converting sparse IndexedSlices to a dense Tensor of unknown shape. This may consume a large amount of memory.\n",
      "  \"Converting sparse IndexedSlices to a dense Tensor of unknown shape. \"\n"
     ]
    },
    {
     "name": "stdout",
     "output_type": "stream",
     "text": [
      "Train on 4025 samples, validate on 1006 samples\n",
      "Epoch 1/100\n",
      "4025/4025 [==============================] - 102s 25ms/step - loss: 1.4740 - acc: 0.7180 - f1_vec: 0.7070 - val_loss: 0.8118 - val_acc: 0.7276 - val_f1_vec: 0.7276\n",
      "\n",
      "Epoch 00001: val_loss improved from inf to 0.81179, saving model to /content/drive/My Drive/Tesis/Hasil NN Tesis/RNN/tesis_model_rnn_unres_vec.h5\n",
      "Epoch 2/100\n",
      "4025/4025 [==============================] - 103s 26ms/step - loss: 0.8105 - acc: 0.7262 - f1_vec: 0.7211 - val_loss: 0.7986 - val_acc: 0.7276 - val_f1_vec: 0.7276\n",
      "\n",
      "Epoch 00002: val_loss improved from 0.81179 to 0.79863, saving model to /content/drive/My Drive/Tesis/Hasil NN Tesis/RNN/tesis_model_rnn_unres_vec.h5\n",
      "Epoch 3/100\n",
      "4025/4025 [==============================] - 102s 25ms/step - loss: 0.7913 - acc: 0.7277 - f1_vec: 0.7253 - val_loss: 0.7798 - val_acc: 0.7276 - val_f1_vec: 0.7276\n",
      "\n",
      "Epoch 00003: val_loss improved from 0.79863 to 0.77979, saving model to /content/drive/My Drive/Tesis/Hasil NN Tesis/RNN/tesis_model_rnn_unres_vec.h5\n",
      "Epoch 4/100\n",
      "4025/4025 [==============================] - 101s 25ms/step - loss: 0.7869 - acc: 0.7277 - f1_vec: 0.7267 - val_loss: 0.7773 - val_acc: 0.7276 - val_f1_vec: 0.7276\n",
      "\n",
      "Epoch 00004: val_loss improved from 0.77979 to 0.77732, saving model to /content/drive/My Drive/Tesis/Hasil NN Tesis/RNN/tesis_model_rnn_unres_vec.h5\n",
      "Epoch 5/100\n",
      "4025/4025 [==============================] - 101s 25ms/step - loss: 0.7898 - acc: 0.7277 - f1_vec: 0.7245 - val_loss: 0.7762 - val_acc: 0.7276 - val_f1_vec: 0.7276\n",
      "\n",
      "Epoch 00005: val_loss improved from 0.77732 to 0.77618, saving model to /content/drive/My Drive/Tesis/Hasil NN Tesis/RNN/tesis_model_rnn_unres_vec.h5\n",
      "Epoch 6/100\n",
      "4025/4025 [==============================] - 101s 25ms/step - loss: 0.7798 - acc: 0.7277 - f1_vec: 0.7278 - val_loss: 0.7974 - val_acc: 0.7276 - val_f1_vec: 0.7276\n",
      "\n",
      "Epoch 00006: val_loss did not improve from 0.77618\n",
      "Epoch 7/100\n",
      "4025/4025 [==============================] - 101s 25ms/step - loss: 0.7788 - acc: 0.7277 - f1_vec: 0.7268 - val_loss: 0.7655 - val_acc: 0.7276 - val_f1_vec: 0.7276\n",
      "\n",
      "Epoch 00007: val_loss improved from 0.77618 to 0.76547, saving model to /content/drive/My Drive/Tesis/Hasil NN Tesis/RNN/tesis_model_rnn_unres_vec.h5\n",
      "Epoch 8/100\n",
      "4025/4025 [==============================] - 101s 25ms/step - loss: 0.7795 - acc: 0.7277 - f1_vec: 0.7276 - val_loss: 0.7657 - val_acc: 0.7276 - val_f1_vec: 0.7276\n",
      "\n",
      "Epoch 00008: val_loss did not improve from 0.76547\n",
      "Epoch 9/100\n",
      "4025/4025 [==============================] - 101s 25ms/step - loss: 0.7759 - acc: 0.7277 - f1_vec: 0.7280 - val_loss: 0.7665 - val_acc: 0.7276 - val_f1_vec: 0.7276\n",
      "\n",
      "Epoch 00009: val_loss did not improve from 0.76547\n",
      "Epoch 10/100\n",
      "4025/4025 [==============================] - 101s 25ms/step - loss: 0.7791 - acc: 0.7277 - f1_vec: 0.7278 - val_loss: 0.7713 - val_acc: 0.7276 - val_f1_vec: 0.7276\n",
      "\n",
      "Epoch 00010: val_loss did not improve from 0.76547\n",
      "Epoch 11/100\n",
      "4025/4025 [==============================] - 101s 25ms/step - loss: 0.7763 - acc: 0.7277 - f1_vec: 0.7271 - val_loss: 0.7654 - val_acc: 0.7276 - val_f1_vec: 0.7276\n",
      "\n",
      "Epoch 00011: val_loss improved from 0.76547 to 0.76536, saving model to /content/drive/My Drive/Tesis/Hasil NN Tesis/RNN/tesis_model_rnn_unres_vec.h5\n",
      "Epoch 12/100\n",
      "4025/4025 [==============================] - 101s 25ms/step - loss: 0.7837 - acc: 0.7277 - f1_vec: 0.7276 - val_loss: 0.7689 - val_acc: 0.7276 - val_f1_vec: 0.7276\n",
      "\n",
      "Epoch 00012: val_loss did not improve from 0.76536\n",
      "Epoch 13/100\n",
      "4025/4025 [==============================] - 101s 25ms/step - loss: 0.7932 - acc: 0.7277 - f1_vec: 0.7268 - val_loss: 0.7667 - val_acc: 0.7276 - val_f1_vec: 0.7276\n",
      "\n",
      "Epoch 00013: val_loss did not improve from 0.76536\n",
      "Epoch 14/100\n",
      "4025/4025 [==============================] - 101s 25ms/step - loss: 0.7746 - acc: 0.7277 - f1_vec: 0.7279 - val_loss: 0.7654 - val_acc: 0.7276 - val_f1_vec: 0.7276\n",
      "\n",
      "Epoch 00014: val_loss did not improve from 0.76536\n",
      "Epoch 15/100\n",
      "4025/4025 [==============================] - 101s 25ms/step - loss: 0.8337 - acc: 0.7275 - f1_vec: 0.7191 - val_loss: 0.7888 - val_acc: 0.7276 - val_f1_vec: 0.7276\n",
      "\n",
      "Epoch 00015: val_loss did not improve from 0.76536\n",
      "Epoch 16/100\n",
      "4025/4025 [==============================] - 101s 25ms/step - loss: 0.7899 - acc: 0.7277 - f1_vec: 0.7276 - val_loss: 0.7722 - val_acc: 0.7276 - val_f1_vec: 0.7276\n",
      "\n",
      "Epoch 00016: val_loss did not improve from 0.76536\n",
      "Epoch 17/100\n",
      "4025/4025 [==============================] - 101s 25ms/step - loss: 0.8413 - acc: 0.7225 - f1_vec: 0.7013 - val_loss: 0.9903 - val_acc: 0.7276 - val_f1_vec: 0.7276\n",
      "\n",
      "Epoch 00017: val_loss did not improve from 0.76536\n",
      "Epoch 18/100\n",
      "4025/4025 [==============================] - 101s 25ms/step - loss: 0.8450 - acc: 0.7277 - f1_vec: 0.7275 - val_loss: 0.7814 - val_acc: 0.7276 - val_f1_vec: 0.7276\n",
      "\n",
      "Epoch 00018: val_loss did not improve from 0.76536\n",
      "Epoch 19/100\n",
      "4025/4025 [==============================] - 101s 25ms/step - loss: 0.8074 - acc: 0.7267 - f1_vec: 0.7068 - val_loss: 0.8555 - val_acc: 0.7276 - val_f1_vec: 0.7276\n",
      "\n",
      "Epoch 00019: val_loss did not improve from 0.76536\n",
      "Epoch 20/100\n",
      "4025/4025 [==============================] - 102s 25ms/step - loss: 0.8285 - acc: 0.7277 - f1_vec: 0.7275 - val_loss: 0.7979 - val_acc: 0.7276 - val_f1_vec: 0.7276\n",
      "\n",
      "Epoch 00020: val_loss did not improve from 0.76536\n",
      "Epoch 21/100\n",
      "4025/4025 [==============================] - 102s 25ms/step - loss: 0.7911 - acc: 0.7277 - f1_vec: 0.7282 - val_loss: 0.7851 - val_acc: 0.7276 - val_f1_vec: 0.7276\n",
      "\n",
      "Epoch 00021: val_loss did not improve from 0.76536\n",
      "Epoch 00021: early stopping\n"
     ]
    }
   ],
   "source": [
    "tesis_model_rnn_unres_vec = model_rnn_unres_vec.fit(x2train_vec, y2train, batch_size=12, epochs=100, \n",
    "                                                    validation_data=(x2val_vec, y2val), callbacks=callbacks_unres_vec, shuffle=True, verbose=1)"
   ]
  },
  {
   "cell_type": "code",
   "execution_count": null,
   "metadata": {
    "colab": {
     "base_uri": "https://localhost:8080/",
     "height": 910
    },
    "colab_type": "code",
    "id": "dpWK8o2LQrVE",
    "outputId": "05344353-4706-492d-9dc8-34f554d98048"
   },
   "outputs": [
    {
     "name": "stderr",
     "output_type": "stream",
     "text": [
      "/usr/local/lib/python3.6/dist-packages/tensorflow/python/framework/indexed_slices.py:434: UserWarning: Converting sparse IndexedSlices to a dense Tensor of unknown shape. This may consume a large amount of memory.\n",
      "  \"Converting sparse IndexedSlices to a dense Tensor of unknown shape. \"\n"
     ]
    },
    {
     "name": "stdout",
     "output_type": "stream",
     "text": [
      "Train on 8786 samples, validate on 1006 samples\n",
      "Epoch 1/100\n",
      "8786/8786 [==============================] - 252s 29ms/step - loss: 1.1536 - acc: 0.3270 - f1_vec: 0.0303 - val_loss: 0.9806 - val_acc: 0.7276 - val_f1_vec: 0.0000e+00\n",
      "\n",
      "Epoch 00001: val_loss improved from inf to 0.98055, saving model to /content/drive/My Drive/Tesis/Hasil NN Tesis/RNN/tesis_model_rnn_res_vec.h5\n",
      "Epoch 2/100\n",
      "8786/8786 [==============================] - 254s 29ms/step - loss: 1.1839 - acc: 0.3407 - f1_vec: 0.0013 - val_loss: 1.1379 - val_acc: 0.7276 - val_f1_vec: 0.0000e+00\n",
      "\n",
      "Epoch 00002: val_loss did not improve from 0.98055\n",
      "Epoch 3/100\n",
      "8786/8786 [==============================] - 254s 29ms/step - loss: 1.1365 - acc: 0.3408 - f1_vec: 0.0000e+00 - val_loss: 1.0435 - val_acc: 0.7276 - val_f1_vec: 0.0000e+00\n",
      "\n",
      "Epoch 00003: val_loss did not improve from 0.98055\n",
      "Epoch 4/100\n",
      "8786/8786 [==============================] - 263s 30ms/step - loss: 1.1222 - acc: 0.3326 - f1_vec: 2.0989e-04 - val_loss: 1.1382 - val_acc: 0.1809 - val_f1_vec: 0.0000e+00\n",
      "\n",
      "Epoch 00004: val_loss did not improve from 0.98055\n",
      "Epoch 5/100\n",
      "8786/8786 [==============================] - 260s 30ms/step - loss: 1.1169 - acc: 0.3366 - f1_vec: 0.0000e+00 - val_loss: 1.0708 - val_acc: 0.7276 - val_f1_vec: 0.0000e+00\n",
      "\n",
      "Epoch 00005: val_loss did not improve from 0.98055\n",
      "Epoch 6/100\n",
      "8786/8786 [==============================] - 261s 30ms/step - loss: 1.1144 - acc: 0.3399 - f1_vec: 0.0000e+00 - val_loss: 1.0779 - val_acc: 0.7276 - val_f1_vec: 0.0000e+00\n",
      "\n",
      "Epoch 00006: val_loss did not improve from 0.98055\n",
      "Epoch 7/100\n",
      "8786/8786 [==============================] - 261s 30ms/step - loss: 1.1082 - acc: 0.3326 - f1_vec: 0.0000e+00 - val_loss: 1.0446 - val_acc: 0.7276 - val_f1_vec: 0.0000e+00\n",
      "\n",
      "Epoch 00007: val_loss did not improve from 0.98055\n",
      "Epoch 8/100\n",
      "8786/8786 [==============================] - 261s 30ms/step - loss: 1.1258 - acc: 0.3397 - f1_vec: 0.0078 - val_loss: 1.1324 - val_acc: 0.0915 - val_f1_vec: 0.0000e+00\n",
      "\n",
      "Epoch 00008: val_loss did not improve from 0.98055\n",
      "Epoch 9/100\n",
      "8786/8786 [==============================] - 262s 30ms/step - loss: 1.1800 - acc: 0.3294 - f1_vec: 0.0106 - val_loss: 1.2010 - val_acc: 0.1809 - val_f1_vec: 0.0000e+00\n",
      "\n",
      "Epoch 00009: val_loss did not improve from 0.98055\n",
      "Epoch 10/100\n",
      "8786/8786 [==============================] - 263s 30ms/step - loss: 1.1748 - acc: 0.3384 - f1_vec: 0.0000e+00 - val_loss: 1.2219 - val_acc: 0.1809 - val_f1_vec: 0.0000e+00\n",
      "\n",
      "Epoch 00010: val_loss did not improve from 0.98055\n",
      "Epoch 11/100\n",
      "8786/8786 [==============================] - 262s 30ms/step - loss: 1.1577 - acc: 0.3402 - f1_vec: 0.0000e+00 - val_loss: 1.1505 - val_acc: 0.7276 - val_f1_vec: 0.0000e+00\n",
      "\n",
      "Epoch 00011: val_loss did not improve from 0.98055\n",
      "Epoch 00011: early stopping\n"
     ]
    }
   ],
   "source": [
    "tesis_model_rnn_res_vec = model_rnn_res_vec.fit(x2res, y2res, batch_size=12, epochs=100, \n",
    "                                                validation_data=(x2val_vec, y2val), callbacks=callbacks_res_vec, shuffle=True, verbose=1)"
   ]
  },
  {
   "cell_type": "markdown",
   "metadata": {
    "colab_type": "text",
    "id": "IDcLu6E2NXl0"
   },
   "source": [
    "### **GRU**"
   ]
  },
  {
   "cell_type": "code",
   "execution_count": null,
   "metadata": {
    "colab": {
     "base_uri": "https://localhost:8080/",
     "height": 781
    },
    "colab_type": "code",
    "id": "l3Y6JosERZST",
    "outputId": "b60471f4-b247-477f-ff51-0b140d9731ce"
   },
   "outputs": [
    {
     "name": "stdout",
     "output_type": "stream",
     "text": [
      "Model GRU UNRES\n",
      "Model: \"model_11\"\n",
      "_________________________________________________________________\n",
      "Layer (type)                 Output Shape              Param #   \n",
      "=================================================================\n",
      "input_7 (InputLayer)         (None, 50)                0         \n",
      "_________________________________________________________________\n",
      "embedding_7 (Embedding)      (None, 50, 300)           1905000   \n",
      "_________________________________________________________________\n",
      "spatial_dropout1d_7 (Spatial (None, 50, 300)           0         \n",
      "_________________________________________________________________\n",
      "gru_2 (GRU)                  (None, 16)                15216     \n",
      "_________________________________________________________________\n",
      "dropout_6 (Dropout)          (None, 16)                0         \n",
      "_________________________________________________________________\n",
      "dense_9 (Dense)              (None, 3)                 51        \n",
      "=================================================================\n",
      "Total params: 1,920,267\n",
      "Trainable params: 1,920,267\n",
      "Non-trainable params: 0\n",
      "_________________________________________________________________\n",
      "Model GRU RES\n",
      "Model: \"model_12\"\n",
      "_________________________________________________________________\n",
      "Layer (type)                 Output Shape              Param #   \n",
      "=================================================================\n",
      "input_7 (InputLayer)         (None, 50)                0         \n",
      "_________________________________________________________________\n",
      "embedding_7 (Embedding)      (None, 50, 300)           1905000   \n",
      "_________________________________________________________________\n",
      "spatial_dropout1d_7 (Spatial (None, 50, 300)           0         \n",
      "_________________________________________________________________\n",
      "gru_2 (GRU)                  (None, 16)                15216     \n",
      "_________________________________________________________________\n",
      "dropout_6 (Dropout)          (None, 16)                0         \n",
      "_________________________________________________________________\n",
      "dense_9 (Dense)              (None, 3)                 51        \n",
      "=================================================================\n",
      "Total params: 1,920,267\n",
      "Trainable params: 1,920,267\n",
      "Non-trainable params: 0\n",
      "_________________________________________________________________\n"
     ]
    }
   ],
   "source": [
    "dropout_rate = 0.5\n",
    "output_size = 16\n",
    "maxlen = MAX_SEQUENCE_LENGTH\n",
    "    \n",
    "inputs = Input(shape=(maxlen,))\n",
    "embedding_layer = Embedding(len(word_index) + 1,\n",
    "                            EMBEDDING_DIM,\n",
    "                            weights=[embedding_matrix],\n",
    "                            trainable=True)\n",
    "embedding = embedding_layer(inputs)\n",
    "\n",
    "#emb2 = Embedding(embedding_matrix.shape[0], embedding_matrix.shape[1], \n",
    "#                 weights=[embedding_matrix], trainable=True)(inputs)\n",
    "\n",
    "s_drop = SpatialDropout1D(dropout_rate)(embedding)\n",
    "gru = GRU(units=output_size, return_sequences=True)(s_drop)\n",
    "gru = GRU(units=output_size, return_sequences=False)(s_drop)\n",
    "drop = Dropout(dropout_rate)(gru)\n",
    "output = Dense(units=num_classes, activation='softmax')(drop)\n",
    "\n",
    "model_gru_unres = Model(inputs, output)\n",
    "model_gru_res = Model(inputs, output)\n",
    "\n",
    "model_gru_unres.compile(loss='categorical_crossentropy', optimizer=adam, metrics=['acc', f1])\n",
    "model_gru_res.compile(loss='categorical_crossentropy', optimizer=adam, metrics=['acc', f1])\n",
    "\n",
    "callbacks_unres = [EarlyStopping(monitor='val_loss', verbose= 1, patience=10, mode='auto'), \n",
    "                   ModelCheckpoint('/content/drive/My Drive/Tesis/Hasil NN Tesis/GRU/tesis_model_gru_unres.h5', monitor='val_loss', verbose=1, save_best_only=True, mode='auto'), \n",
    "                   ReduceLROnPlateau(monitor='val_loss', factor=0.2, patience=10, min_lr=0.001)]\n",
    "\n",
    "callbacks_res = [EarlyStopping(monitor='val_loss', verbose= 1, patience=10, mode='auto'), \n",
    "                 ModelCheckpoint('/content/drive/My Drive/Tesis/Hasil NN Tesis/GRU/tesis_model_gru_res.h5', monitor='val_loss', verbose=1, save_best_only=True, mode='auto'), \n",
    "                 ReduceLROnPlateau(monitor='val_loss', factor=0.2, patience=10, min_lr=0.001)]\n",
    "\n",
    "print('Model GRU UNRES')\n",
    "model_gru_unres.summary()\n",
    "print('Model GRU RES')\n",
    "model_gru_res.summary()"
   ]
  },
  {
   "cell_type": "code",
   "execution_count": null,
   "metadata": {
    "colab": {
     "base_uri": "https://localhost:8080/",
     "height": 983
    },
    "colab_type": "code",
    "id": "WtM2ondXqR-F",
    "outputId": "c3da802c-5b3e-4563-fc44-d4f2e4e685da"
   },
   "outputs": [
    {
     "name": "stderr",
     "output_type": "stream",
     "text": [
      "/usr/local/lib/python3.6/dist-packages/tensorflow/python/framework/indexed_slices.py:434: UserWarning: Converting sparse IndexedSlices to a dense Tensor of unknown shape. This may consume a large amount of memory.\n",
      "  \"Converting sparse IndexedSlices to a dense Tensor of unknown shape. \"\n"
     ]
    },
    {
     "name": "stdout",
     "output_type": "stream",
     "text": [
      "Train on 3756 samples, validate on 805 samples\n",
      "Epoch 1/100\n",
      "3756/3756 [==============================] - 57s 15ms/step - loss: 0.7090 - acc: 0.7460 - f1: 0.7222 - val_loss: 0.6062 - val_acc: 0.7677 - val_f1: 0.7697\n",
      "\n",
      "Epoch 00001: val_loss improved from inf to 0.60624, saving model to /content/drive/My Drive/Tesis/Hasil NN Tesis/GRU/tesis_model_gru_unres.h5\n",
      "Epoch 2/100\n",
      "3756/3756 [==============================] - 56s 15ms/step - loss: 0.4997 - acc: 0.8198 - f1: 0.8150 - val_loss: 0.5614 - val_acc: 0.7888 - val_f1: 0.7772\n",
      "\n",
      "Epoch 00002: val_loss improved from 0.60624 to 0.56144, saving model to /content/drive/My Drive/Tesis/Hasil NN Tesis/GRU/tesis_model_gru_unres.h5\n",
      "Epoch 3/100\n",
      "3756/3756 [==============================] - 56s 15ms/step - loss: 0.3700 - acc: 0.8717 - f1: 0.8654 - val_loss: 0.5662 - val_acc: 0.7950 - val_f1: 0.7844\n",
      "\n",
      "Epoch 00003: val_loss did not improve from 0.56144\n",
      "Epoch 4/100\n",
      "3756/3756 [==============================] - 56s 15ms/step - loss: 0.2731 - acc: 0.9058 - f1: 0.9032 - val_loss: 0.6183 - val_acc: 0.7988 - val_f1: 0.8005\n",
      "\n",
      "Epoch 00004: val_loss did not improve from 0.56144\n",
      "Epoch 5/100\n",
      "3756/3756 [==============================] - 56s 15ms/step - loss: 0.2252 - acc: 0.9225 - f1: 0.9222 - val_loss: 0.6680 - val_acc: 0.7876 - val_f1: 0.7874\n",
      "\n",
      "Epoch 00005: val_loss did not improve from 0.56144\n",
      "Epoch 6/100\n",
      "3756/3756 [==============================] - 56s 15ms/step - loss: 0.1952 - acc: 0.9326 - f1: 0.9326 - val_loss: 0.7347 - val_acc: 0.7814 - val_f1: 0.7696\n",
      "\n",
      "Epoch 00006: val_loss did not improve from 0.56144\n",
      "Epoch 7/100\n",
      "3756/3756 [==============================] - 56s 15ms/step - loss: 0.1607 - acc: 0.9507 - f1: 0.9501 - val_loss: 0.7858 - val_acc: 0.7727 - val_f1: 0.7745\n",
      "\n",
      "Epoch 00007: val_loss did not improve from 0.56144\n",
      "Epoch 8/100\n",
      "3756/3756 [==============================] - 57s 15ms/step - loss: 0.1393 - acc: 0.9579 - f1: 0.9581 - val_loss: 0.8243 - val_acc: 0.7652 - val_f1: 0.7555\n",
      "\n",
      "Epoch 00008: val_loss did not improve from 0.56144\n",
      "Epoch 9/100\n",
      "3756/3756 [==============================] - 56s 15ms/step - loss: 0.1237 - acc: 0.9601 - f1: 0.9584 - val_loss: 0.9120 - val_acc: 0.7714 - val_f1: 0.7741\n",
      "\n",
      "Epoch 00009: val_loss did not improve from 0.56144\n",
      "Epoch 10/100\n",
      "3756/3756 [==============================] - 56s 15ms/step - loss: 0.1151 - acc: 0.9638 - f1: 0.9631 - val_loss: 0.9552 - val_acc: 0.7640 - val_f1: 0.7672\n",
      "\n",
      "Epoch 00010: val_loss did not improve from 0.56144\n",
      "Epoch 11/100\n",
      "3756/3756 [==============================] - 56s 15ms/step - loss: 0.1032 - acc: 0.9678 - f1: 0.9678 - val_loss: 1.0160 - val_acc: 0.7702 - val_f1: 0.7731\n",
      "\n",
      "Epoch 00011: val_loss did not improve from 0.56144\n",
      "Epoch 12/100\n",
      "3756/3756 [==============================] - 56s 15ms/step - loss: 0.0852 - acc: 0.9728 - f1: 0.9725 - val_loss: 1.0422 - val_acc: 0.7615 - val_f1: 0.7649\n",
      "\n",
      "Epoch 00012: val_loss did not improve from 0.56144\n",
      "Epoch 00012: early stopping\n"
     ]
    }
   ],
   "source": [
    "tesis_model_gru_unres = model_gru_unres.fit(x_train, y_train, batch_size=12, epochs=100,\n",
    "                                            validation_data=(x_val, y_val), callbacks=callbacks_unres, shuffle=True, verbose=1)"
   ]
  },
  {
   "cell_type": "code",
   "execution_count": null,
   "metadata": {
    "colab": {
     "base_uri": "https://localhost:8080/",
     "height": 710
    },
    "colab_type": "code",
    "id": "wkH1K6lJLw39",
    "outputId": "a36b6ccd-e6f8-4671-810e-b02e5b76c2a5"
   },
   "outputs": [
    {
     "name": "stderr",
     "output_type": "stream",
     "text": [
      "/usr/local/lib/python3.6/dist-packages/tensorflow/python/framework/indexed_slices.py:434: UserWarning: Converting sparse IndexedSlices to a dense Tensor of unknown shape. This may consume a large amount of memory.\n",
      "  \"Converting sparse IndexedSlices to a dense Tensor of unknown shape. \"\n"
     ]
    },
    {
     "name": "stdout",
     "output_type": "stream",
     "text": [
      "Train on 8145 samples, validate on 805 samples\n",
      "Epoch 1/100\n",
      "8145/8145 [==============================] - 112s 14ms/step - loss: 0.9606 - acc: 0.5785 - f1: 0.5328 - val_loss: 0.9644 - val_acc: 0.6025 - val_f1: 0.5819\n",
      "\n",
      "Epoch 00001: val_loss improved from inf to 0.96442, saving model to /content/drive/My Drive/Tesis/Hasil NN Tesis/GRU/tesis_model_gru_res.h5\n",
      "Epoch 2/100\n",
      "8145/8145 [==============================] - 111s 14ms/step - loss: 0.7248 - acc: 0.6819 - f1: 0.6465 - val_loss: 1.1201 - val_acc: 0.5801 - val_f1: 0.5471\n",
      "\n",
      "Epoch 00002: val_loss did not improve from 0.96442\n",
      "Epoch 3/100\n",
      "8145/8145 [==============================] - 110s 14ms/step - loss: 0.6112 - acc: 0.7449 - f1: 0.7303 - val_loss: 1.2435 - val_acc: 0.5640 - val_f1: 0.5534\n",
      "\n",
      "Epoch 00003: val_loss did not improve from 0.96442\n",
      "Epoch 4/100\n",
      "8145/8145 [==============================] - 111s 14ms/step - loss: 0.5388 - acc: 0.7849 - f1: 0.7730 - val_loss: 1.3620 - val_acc: 0.5677 - val_f1: 0.5518\n",
      "\n",
      "Epoch 00004: val_loss did not improve from 0.96442\n",
      "Epoch 5/100\n",
      "8145/8145 [==============================] - 110s 13ms/step - loss: 0.4766 - acc: 0.8081 - f1: 0.8034 - val_loss: 1.6538 - val_acc: 0.5155 - val_f1: 0.4999\n",
      "\n",
      "Epoch 00005: val_loss did not improve from 0.96442\n",
      "Epoch 6/100\n",
      "8145/8145 [==============================] - 109s 13ms/step - loss: 0.4219 - acc: 0.8432 - f1: 0.8403 - val_loss: 1.6167 - val_acc: 0.5503 - val_f1: 0.5335\n",
      "\n",
      "Epoch 00006: val_loss did not improve from 0.96442\n",
      "Epoch 7/100\n",
      "8145/8145 [==============================] - 110s 13ms/step - loss: 0.3778 - acc: 0.8527 - f1: 0.8504 - val_loss: 1.8664 - val_acc: 0.5242 - val_f1: 0.5085\n",
      "\n",
      "Epoch 00007: val_loss did not improve from 0.96442\n",
      "Epoch 8/100\n",
      "8145/8145 [==============================] - 109s 13ms/step - loss: 0.3470 - acc: 0.8767 - f1: 0.8736 - val_loss: 1.8373 - val_acc: 0.5342 - val_f1: 0.5178\n",
      "\n",
      "Epoch 00008: val_loss did not improve from 0.96442\n",
      "Epoch 9/100\n",
      "2208/8145 [=======>......................] - ETA: 1:19 - loss: 0.2939 - acc: 0.8976 - f1: 0.8970"
     ]
    }
   ],
   "source": [
    "tesis_model_gru_res = model_gru_res.fit(x_res, y_res, batch_size=12, epochs=100, \n",
    "                                        validation_data=(x_val, y_val), callbacks=callbacks_res, shuffle=True, verbose=1)"
   ]
  },
  {
   "cell_type": "code",
   "execution_count": null,
   "metadata": {
    "colab": {
     "base_uri": "https://localhost:8080/",
     "height": 564
    },
    "colab_type": "code",
    "id": "ud3dhUGlgGOK",
    "outputId": "716333ce-51ee-4c76-f261-b22fc0e773ac"
   },
   "outputs": [
    {
     "data": {
      "image/png": "[encoded data removed]",
      "text/plain": [
       "<IPython.core.display.Image object>"
      ]
     },
     "execution_count": 71,
     "metadata": {
      "tags": []
     },
     "output_type": "execute_result"
    }
   ],
   "source": [
    "plot_model(model_gru_unres, to_file='/content/drive/My Drive/Tesis/Hasil NN Tesis/GRU/tesis_model_gru_unres2.png', \n",
    "           show_shapes=False, show_layer_names=False)"
   ]
  },
  {
   "cell_type": "code",
   "execution_count": null,
   "metadata": {
    "colab": {
     "base_uri": "https://localhost:8080/",
     "height": 799
    },
    "colab_type": "code",
    "id": "dFZ3v1TSH6fv",
    "outputId": "21633299-bf41-45ba-9462-71a55252d3ce"
   },
   "outputs": [
    {
     "name": "stdout",
     "output_type": "stream",
     "text": [
      "Model GRU UNRES VEC\n",
      "Model: \"model_67\"\n",
      "_________________________________________________________________\n",
      "Layer (type)                 Output Shape              Param #   \n",
      "=================================================================\n",
      "input_34 (InputLayer)        (None, 1000)              0         \n",
      "_________________________________________________________________\n",
      "embedding_13 (Embedding)     (None, 1000, 300)         1905000   \n",
      "_________________________________________________________________\n",
      "spatial_dropout1d_13 (Spatia (None, 1000, 300)         0         \n",
      "_________________________________________________________________\n",
      "gru_6 (GRU)                  (None, 16)                15216     \n",
      "_________________________________________________________________\n",
      "dropout_13 (Dropout)         (None, 16)                0         \n",
      "_________________________________________________________________\n",
      "dense_78 (Dense)             (None, 3)                 51        \n",
      "=================================================================\n",
      "Total params: 1,920,267\n",
      "Trainable params: 1,920,267\n",
      "Non-trainable params: 0\n",
      "_________________________________________________________________\n",
      "          \n",
      "Model GRU RES VEC\n",
      "Model: \"model_68\"\n",
      "_________________________________________________________________\n",
      "Layer (type)                 Output Shape              Param #   \n",
      "=================================================================\n",
      "input_34 (InputLayer)        (None, 1000)              0         \n",
      "_________________________________________________________________\n",
      "embedding_13 (Embedding)     (None, 1000, 300)         1905000   \n",
      "_________________________________________________________________\n",
      "spatial_dropout1d_13 (Spatia (None, 1000, 300)         0         \n",
      "_________________________________________________________________\n",
      "gru_6 (GRU)                  (None, 16)                15216     \n",
      "_________________________________________________________________\n",
      "dropout_13 (Dropout)         (None, 16)                0         \n",
      "_________________________________________________________________\n",
      "dense_78 (Dense)             (None, 3)                 51        \n",
      "=================================================================\n",
      "Total params: 1,920,267\n",
      "Trainable params: 1,920,267\n",
      "Non-trainable params: 0\n",
      "_________________________________________________________________\n"
     ]
    }
   ],
   "source": [
    "dropout_rate = 0.2\n",
    "output_size = 16\n",
    "maxlen = MAX_SEQUENCE_LENGTH\n",
    "maxlen_vec = td\n",
    "    \n",
    "inputs = Input(shape=(maxlen_vec,))\n",
    "#embedding_layer = Embedding(len(word_index) + 1,\n",
    "                           # EMBEDDING_DIM,\n",
    "                            #weights=[embedding_matrix],\n",
    "                           # trainable=True)\n",
    "#embedding = embedding_layer(inputs)\n",
    "\n",
    "emb2 = Embedding(embedding_matrix.shape[0], embedding_matrix.shape[1], \n",
    "                 weights=[embedding_matrix], trainable=True)(inputs)\n",
    "\n",
    "s_drop = SpatialDropout1D(dropout_rate)(emb2)\n",
    "gru = GRU(units=output_size, return_sequences=False, kernel_regularizer=regularizers.l2(0.1))(s_drop)\n",
    "drop = Dropout(dropout_rate)(gru)\n",
    "output = Dense(units=num_classes, activation='softmax')(drop)\n",
    "\n",
    "model_gru_unres_vec = Model(inputs, output)\n",
    "model_gru_res_vec = Model(inputs, output)\n",
    "\n",
    "model_gru_unres_vec.compile(loss='categorical_crossentropy', optimizer=Adam(learning_rate=1e-3), metrics=['acc', f1_vec])\n",
    "model_gru_res_vec.compile(loss='categorical_crossentropy', optimizer=Adam(learning_rate=1e-3), metrics=['acc', f1_vec])\n",
    "\n",
    "callbacks_unres_vec = [EarlyStopping(monitor='val_loss', verbose= 1, patience=10, mode='auto'), \n",
    "                       ModelCheckpoint('/content/drive/My Drive/Tesis/Hasil NN Tesis/GRU/tesis_model_gru_unres_vec.h5', monitor='val_loss', verbose=1, save_best_only=True, mode='auto'),\n",
    "                       ReduceLROnPlateau(monitor='val_loss', factor=0.2, patience=10, min_lr=0.001)]\n",
    "\n",
    "callbacks_res_vec = [EarlyStopping(monitor='val_loss', verbose= 1, patience=10, mode='auto'), \n",
    "                     ModelCheckpoint('/content/drive/My Drive/Tesis/Hasil NN Tesis/GRU/tesis_model_gru_res_vec.h5', monitor='val_loss', verbose=1, save_best_only=True, mode='auto'),\n",
    "                     ReduceLROnPlateau(monitor='val_loss', factor=0.2, patience=10, min_lr=0.001)]\n",
    "\n",
    "print('Model GRU UNRES VEC')\n",
    "model_gru_unres_vec.summary()\n",
    "print(' '*10)\n",
    "print('Model GRU RES VEC')\n",
    "model_gru_res_vec.summary()"
   ]
  },
  {
   "cell_type": "code",
   "execution_count": null,
   "metadata": {
    "colab": {
     "base_uri": "https://localhost:8080/",
     "height": 1000
    },
    "colab_type": "code",
    "id": "eoSdWo_xqmI7",
    "outputId": "6be57f61-9929-4784-de48-565ca2cb15eb"
   },
   "outputs": [
    {
     "name": "stderr",
     "output_type": "stream",
     "text": [
      "/usr/local/lib/python3.6/dist-packages/tensorflow/python/framework/indexed_slices.py:434: UserWarning: Converting sparse IndexedSlices to a dense Tensor of unknown shape. This may consume a large amount of memory.\n",
      "  \"Converting sparse IndexedSlices to a dense Tensor of unknown shape. \"\n"
     ]
    },
    {
     "name": "stdout",
     "output_type": "stream",
     "text": [
      "Train on 4025 samples, validate on 1006 samples\n",
      "Epoch 1/100\n",
      "4025/4025 [==============================] - 214s 53ms/step - loss: 2.0961 - acc: 0.7178 - f1_vec: 0.7055 - val_loss: 0.8579 - val_acc: 0.7276 - val_f1_vec: 0.7276\n",
      "\n",
      "Epoch 00001: val_loss improved from inf to 0.85793, saving model to /content/drive/My Drive/Tesis/Hasil NN Tesis/GRU/tesis_model_gru_unres_vec.h5\n",
      "Epoch 2/100\n",
      "4025/4025 [==============================] - 215s 53ms/step - loss: 0.8179 - acc: 0.7272 - f1_vec: 0.7185 - val_loss: 0.8140 - val_acc: 0.7276 - val_f1_vec: 0.7276\n",
      "\n",
      "Epoch 00002: val_loss improved from 0.85793 to 0.81398, saving model to /content/drive/My Drive/Tesis/Hasil NN Tesis/GRU/tesis_model_gru_unres_vec.h5\n",
      "Epoch 3/100\n",
      "4025/4025 [==============================] - 215s 54ms/step - loss: 0.7900 - acc: 0.7275 - f1_vec: 0.7258 - val_loss: 0.7782 - val_acc: 0.7276 - val_f1_vec: 0.7276\n",
      "\n",
      "Epoch 00003: val_loss improved from 0.81398 to 0.77818, saving model to /content/drive/My Drive/Tesis/Hasil NN Tesis/GRU/tesis_model_gru_unres_vec.h5\n",
      "Epoch 4/100\n",
      "4025/4025 [==============================] - 215s 54ms/step - loss: 0.7875 - acc: 0.7277 - f1_vec: 0.7255 - val_loss: 0.7754 - val_acc: 0.7276 - val_f1_vec: 0.7276\n",
      "\n",
      "Epoch 00004: val_loss improved from 0.77818 to 0.77535, saving model to /content/drive/My Drive/Tesis/Hasil NN Tesis/GRU/tesis_model_gru_unres_vec.h5\n",
      "Epoch 5/100\n",
      "4025/4025 [==============================] - 215s 53ms/step - loss: 0.7903 - acc: 0.7277 - f1_vec: 0.7269 - val_loss: 0.7813 - val_acc: 0.7276 - val_f1_vec: 0.7276\n",
      "\n",
      "Epoch 00005: val_loss did not improve from 0.77535\n",
      "Epoch 6/100\n",
      "4025/4025 [==============================] - 214s 53ms/step - loss: 0.7828 - acc: 0.7277 - f1_vec: 0.7265 - val_loss: 0.7745 - val_acc: 0.7276 - val_f1_vec: 0.7276\n",
      "\n",
      "Epoch 00006: val_loss improved from 0.77535 to 0.77446, saving model to /content/drive/My Drive/Tesis/Hasil NN Tesis/GRU/tesis_model_gru_unres_vec.h5\n",
      "Epoch 7/100\n",
      "4025/4025 [==============================] - 220s 55ms/step - loss: 0.7811 - acc: 0.7277 - f1_vec: 0.7269 - val_loss: 0.7912 - val_acc: 0.7276 - val_f1_vec: 0.7276\n",
      "\n",
      "Epoch 00007: val_loss did not improve from 0.77446\n",
      "Epoch 8/100\n",
      "4025/4025 [==============================] - 226s 56ms/step - loss: 0.7800 - acc: 0.7277 - f1_vec: 0.7276 - val_loss: 0.7702 - val_acc: 0.7276 - val_f1_vec: 0.7276\n",
      "\n",
      "Epoch 00008: val_loss improved from 0.77446 to 0.77021, saving model to /content/drive/My Drive/Tesis/Hasil NN Tesis/GRU/tesis_model_gru_unres_vec.h5\n",
      "Epoch 9/100\n",
      "4025/4025 [==============================] - 224s 56ms/step - loss: 0.7792 - acc: 0.7277 - f1_vec: 0.7283 - val_loss: 0.7655 - val_acc: 0.7276 - val_f1_vec: 0.7276\n",
      "\n",
      "Epoch 00009: val_loss improved from 0.77021 to 0.76546, saving model to /content/drive/My Drive/Tesis/Hasil NN Tesis/GRU/tesis_model_gru_unres_vec.h5\n",
      "Epoch 10/100\n",
      "4025/4025 [==============================] - 223s 55ms/step - loss: 0.7740 - acc: 0.7277 - f1_vec: 0.7273 - val_loss: 0.7660 - val_acc: 0.7276 - val_f1_vec: 0.7276\n",
      "\n",
      "Epoch 00010: val_loss did not improve from 0.76546\n",
      "Epoch 11/100\n",
      "4025/4025 [==============================] - 222s 55ms/step - loss: 0.7735 - acc: 0.7277 - f1_vec: 0.7278 - val_loss: 0.7649 - val_acc: 0.7276 - val_f1_vec: 0.7276\n",
      "\n",
      "Epoch 00011: val_loss improved from 0.76546 to 0.76486, saving model to /content/drive/My Drive/Tesis/Hasil NN Tesis/GRU/tesis_model_gru_unres_vec.h5\n",
      "Epoch 12/100\n",
      "4025/4025 [==============================] - 213s 53ms/step - loss: 0.7734 - acc: 0.7277 - f1_vec: 0.7282 - val_loss: 0.7669 - val_acc: 0.7276 - val_f1_vec: 0.7276\n",
      "\n",
      "Epoch 00012: val_loss did not improve from 0.76486\n",
      "Epoch 13/100\n",
      "4025/4025 [==============================] - 215s 53ms/step - loss: 0.7697 - acc: 0.7277 - f1_vec: 0.7279 - val_loss: 0.7646 - val_acc: 0.7276 - val_f1_vec: 0.7276\n",
      "\n",
      "Epoch 00013: val_loss improved from 0.76486 to 0.76462, saving model to /content/drive/My Drive/Tesis/Hasil NN Tesis/GRU/tesis_model_gru_unres_vec.h5\n",
      "Epoch 14/100\n",
      "4025/4025 [==============================] - 215s 53ms/step - loss: 0.7718 - acc: 0.7277 - f1_vec: 0.7278 - val_loss: 0.7685 - val_acc: 0.7276 - val_f1_vec: 0.7276\n",
      "\n",
      "Epoch 00014: val_loss did not improve from 0.76462\n",
      "Epoch 15/100\n",
      "4025/4025 [==============================] - 214s 53ms/step - loss: 0.7694 - acc: 0.7277 - f1_vec: 0.7278 - val_loss: 0.7689 - val_acc: 0.7276 - val_f1_vec: 0.7276\n",
      "\n",
      "Epoch 00015: val_loss did not improve from 0.76462\n",
      "Epoch 16/100\n",
      "4025/4025 [==============================] - 214s 53ms/step - loss: 0.7701 - acc: 0.7277 - f1_vec: 0.7278 - val_loss: 0.7636 - val_acc: 0.7276 - val_f1_vec: 0.7276\n",
      "\n",
      "Epoch 00016: val_loss improved from 0.76462 to 0.76360, saving model to /content/drive/My Drive/Tesis/Hasil NN Tesis/GRU/tesis_model_gru_unres_vec.h5\n",
      "Epoch 17/100\n",
      "4025/4025 [==============================] - 214s 53ms/step - loss: 0.7703 - acc: 0.7277 - f1_vec: 0.7275 - val_loss: 0.7684 - val_acc: 0.7276 - val_f1_vec: 0.7276\n",
      "\n",
      "Epoch 00017: val_loss did not improve from 0.76360\n",
      "Epoch 18/100\n",
      "4025/4025 [==============================] - 216s 54ms/step - loss: 0.7681 - acc: 0.7277 - f1_vec: 0.7278 - val_loss: 0.7621 - val_acc: 0.7276 - val_f1_vec: 0.7276\n",
      "\n",
      "Epoch 00018: val_loss improved from 0.76360 to 0.76213, saving model to /content/drive/My Drive/Tesis/Hasil NN Tesis/GRU/tesis_model_gru_unres_vec.h5\n",
      "Epoch 19/100\n",
      "4025/4025 [==============================] - 215s 53ms/step - loss: 0.7669 - acc: 0.7277 - f1_vec: 0.7282 - val_loss: 0.7671 - val_acc: 0.7276 - val_f1_vec: 0.7276\n",
      "\n",
      "Epoch 00019: val_loss did not improve from 0.76213\n",
      "Epoch 20/100\n",
      "4025/4025 [==============================] - 214s 53ms/step - loss: 0.7689 - acc: 0.7277 - f1_vec: 0.7278 - val_loss: 0.7630 - val_acc: 0.7276 - val_f1_vec: 0.7276\n",
      "\n",
      "Epoch 00020: val_loss did not improve from 0.76213\n",
      "Epoch 21/100\n",
      "4025/4025 [==============================] - 215s 54ms/step - loss: 0.7653 - acc: 0.7277 - f1_vec: 0.7275 - val_loss: 0.7640 - val_acc: 0.7276 - val_f1_vec: 0.7276\n",
      "\n",
      "Epoch 00021: val_loss did not improve from 0.76213\n",
      "Epoch 22/100\n",
      "4025/4025 [==============================] - 213s 53ms/step - loss: 0.7657 - acc: 0.7277 - f1_vec: 0.7275 - val_loss: 0.7616 - val_acc: 0.7276 - val_f1_vec: 0.7276\n",
      "\n",
      "Epoch 00022: val_loss improved from 0.76213 to 0.76162, saving model to /content/drive/My Drive/Tesis/Hasil NN Tesis/GRU/tesis_model_gru_unres_vec.h5\n",
      "Epoch 23/100\n",
      "4025/4025 [==============================] - 214s 53ms/step - loss: 0.7643 - acc: 0.7277 - f1_vec: 0.7268 - val_loss: 0.7624 - val_acc: 0.7276 - val_f1_vec: 0.7276\n",
      "\n",
      "Epoch 00023: val_loss did not improve from 0.76162\n",
      "Epoch 24/100\n",
      "4025/4025 [==============================] - 215s 53ms/step - loss: 0.7670 - acc: 0.7277 - f1_vec: 0.7278 - val_loss: 0.7607 - val_acc: 0.7276 - val_f1_vec: 0.7276\n",
      "\n",
      "Epoch 00024: val_loss improved from 0.76162 to 0.76070, saving model to /content/drive/My Drive/Tesis/Hasil NN Tesis/GRU/tesis_model_gru_unres_vec.h5\n",
      "Epoch 25/100\n",
      "4025/4025 [==============================] - 216s 54ms/step - loss: 0.7638 - acc: 0.7277 - f1_vec: 0.7278 - val_loss: 0.7607 - val_acc: 0.7276 - val_f1_vec: 0.7276\n",
      "\n",
      "Epoch 00025: val_loss improved from 0.76070 to 0.76068, saving model to /content/drive/My Drive/Tesis/Hasil NN Tesis/GRU/tesis_model_gru_unres_vec.h5\n",
      "Epoch 26/100\n",
      "4025/4025 [==============================] - 217s 54ms/step - loss: 0.7642 - acc: 0.7277 - f1_vec: 0.7275 - val_loss: 0.7609 - val_acc: 0.7276 - val_f1_vec: 0.7276\n",
      "\n",
      "Epoch 00026: val_loss did not improve from 0.76068\n",
      "Epoch 27/100\n",
      "4025/4025 [==============================] - 216s 54ms/step - loss: 0.7634 - acc: 0.7277 - f1_vec: 0.7275 - val_loss: 0.7610 - val_acc: 0.7276 - val_f1_vec: 0.7276\n",
      "\n",
      "Epoch 00027: val_loss did not improve from 0.76068\n",
      "Epoch 28/100\n",
      "4025/4025 [==============================] - 216s 54ms/step - loss: 0.7626 - acc: 0.7277 - f1_vec: 0.7278 - val_loss: 0.7606 - val_acc: 0.7276 - val_f1_vec: 0.7276\n",
      "\n",
      "Epoch 00028: val_loss improved from 0.76068 to 0.76055, saving model to /content/drive/My Drive/Tesis/Hasil NN Tesis/GRU/tesis_model_gru_unres_vec.h5\n",
      "Epoch 29/100\n",
      "4025/4025 [==============================] - 217s 54ms/step - loss: 0.7631 - acc: 0.7277 - f1_vec: 0.7278 - val_loss: 0.7603 - val_acc: 0.7276 - val_f1_vec: 0.7276\n",
      "\n",
      "Epoch 00029: val_loss improved from 0.76055 to 0.76031, saving model to /content/drive/My Drive/Tesis/Hasil NN Tesis/GRU/tesis_model_gru_unres_vec.h5\n",
      "Epoch 30/100\n",
      "4025/4025 [==============================] - 216s 54ms/step - loss: 0.7632 - acc: 0.7277 - f1_vec: 0.7282 - val_loss: 0.7620 - val_acc: 0.7276 - val_f1_vec: 0.7276\n",
      "\n",
      "Epoch 00030: val_loss did not improve from 0.76031\n",
      "Epoch 31/100\n",
      "4025/4025 [==============================] - 215s 53ms/step - loss: 0.7622 - acc: 0.7277 - f1_vec: 0.7268 - val_loss: 0.7603 - val_acc: 0.7276 - val_f1_vec: 0.7276\n",
      "\n",
      "Epoch 00031: val_loss did not improve from 0.76031\n",
      "Epoch 32/100\n",
      "4025/4025 [==============================] - 217s 54ms/step - loss: 0.7623 - acc: 0.7277 - f1_vec: 0.7275 - val_loss: 0.7629 - val_acc: 0.7276 - val_f1_vec: 0.7276\n",
      "\n",
      "Epoch 00032: val_loss did not improve from 0.76031\n",
      "Epoch 33/100\n",
      "4025/4025 [==============================] - 217s 54ms/step - loss: 0.7603 - acc: 0.7277 - f1_vec: 0.7271 - val_loss: 0.7606 - val_acc: 0.7276 - val_f1_vec: 0.7276\n",
      "\n",
      "Epoch 00033: val_loss did not improve from 0.76031\n",
      "Epoch 34/100\n",
      "4025/4025 [==============================] - 217s 54ms/step - loss: 0.7627 - acc: 0.7277 - f1_vec: 0.7275 - val_loss: 0.7633 - val_acc: 0.7276 - val_f1_vec: 0.7276\n",
      "\n",
      "Epoch 00034: val_loss did not improve from 0.76031\n",
      "Epoch 35/100\n",
      "4025/4025 [==============================] - 215s 53ms/step - loss: 0.7616 - acc: 0.7277 - f1_vec: 0.7282 - val_loss: 0.7601 - val_acc: 0.7276 - val_f1_vec: 0.7276\n",
      "\n",
      "Epoch 00035: val_loss improved from 0.76031 to 0.76010, saving model to /content/drive/My Drive/Tesis/Hasil NN Tesis/GRU/tesis_model_gru_unres_vec.h5\n",
      "Epoch 36/100\n",
      "4025/4025 [==============================] - 215s 53ms/step - loss: 0.7628 - acc: 0.7277 - f1_vec: 0.7275 - val_loss: 0.7607 - val_acc: 0.7276 - val_f1_vec: 0.7276\n",
      "\n",
      "Epoch 00036: val_loss did not improve from 0.76010\n",
      "Epoch 37/100\n",
      "4025/4025 [==============================] - 214s 53ms/step - loss: 0.7632 - acc: 0.7277 - f1_vec: 0.7278 - val_loss: 0.7607 - val_acc: 0.7276 - val_f1_vec: 0.7276\n",
      "\n",
      "Epoch 00037: val_loss did not improve from 0.76010\n",
      "Epoch 38/100\n",
      "4025/4025 [==============================] - 214s 53ms/step - loss: 0.7627 - acc: 0.7277 - f1_vec: 0.7282 - val_loss: 0.7603 - val_acc: 0.7276 - val_f1_vec: 0.7276\n",
      "\n",
      "Epoch 00038: val_loss did not improve from 0.76010\n",
      "Epoch 39/100\n",
      "4025/4025 [==============================] - 214s 53ms/step - loss: 0.7615 - acc: 0.7277 - f1_vec: 0.7275 - val_loss: 0.7614 - val_acc: 0.7276 - val_f1_vec: 0.7276\n",
      "\n",
      "Epoch 00039: val_loss did not improve from 0.76010\n",
      "Epoch 40/100\n",
      "4025/4025 [==============================] - 214s 53ms/step - loss: 0.7616 - acc: 0.7277 - f1_vec: 0.7282 - val_loss: 0.7603 - val_acc: 0.7276 - val_f1_vec: 0.7276\n",
      "\n",
      "Epoch 00040: val_loss did not improve from 0.76010\n",
      "Epoch 41/100\n",
      "4025/4025 [==============================] - 213s 53ms/step - loss: 0.7623 - acc: 0.7277 - f1_vec: 0.7278 - val_loss: 0.7606 - val_acc: 0.7276 - val_f1_vec: 0.7276\n",
      "\n",
      "Epoch 00041: val_loss did not improve from 0.76010\n",
      "Epoch 42/100\n",
      "4025/4025 [==============================] - 214s 53ms/step - loss: 0.7618 - acc: 0.7277 - f1_vec: 0.7282 - val_loss: 0.7606 - val_acc: 0.7276 - val_f1_vec: 0.7276\n",
      "\n",
      "Epoch 00042: val_loss did not improve from 0.76010\n",
      "Epoch 43/100\n",
      "4025/4025 [==============================] - 215s 53ms/step - loss: 0.7612 - acc: 0.7277 - f1_vec: 0.7271 - val_loss: 0.7607 - val_acc: 0.7276 - val_f1_vec: 0.7276\n",
      "\n",
      "Epoch 00043: val_loss did not improve from 0.76010\n",
      "Epoch 44/100\n",
      "4025/4025 [==============================] - 215s 53ms/step - loss: 0.7614 - acc: 0.7277 - f1_vec: 0.7275 - val_loss: 0.7602 - val_acc: 0.7276 - val_f1_vec: 0.7276\n",
      "\n",
      "Epoch 00044: val_loss did not improve from 0.76010\n",
      "Epoch 45/100\n",
      "4025/4025 [==============================] - 215s 53ms/step - loss: 0.7623 - acc: 0.7277 - f1_vec: 0.7275 - val_loss: 0.7599 - val_acc: 0.7276 - val_f1_vec: 0.7276\n",
      "\n",
      "Epoch 00045: val_loss improved from 0.76010 to 0.75991, saving model to /content/drive/My Drive/Tesis/Hasil NN Tesis/GRU/tesis_model_gru_unres_vec.h5\n",
      "Epoch 46/100\n",
      "4025/4025 [==============================] - 215s 53ms/step - loss: 0.7622 - acc: 0.7277 - f1_vec: 0.7278 - val_loss: 0.7599 - val_acc: 0.7276 - val_f1_vec: 0.7276\n",
      "\n",
      "Epoch 00046: val_loss improved from 0.75991 to 0.75985, saving model to /content/drive/My Drive/Tesis/Hasil NN Tesis/GRU/tesis_model_gru_unres_vec.h5\n",
      "Epoch 47/100\n",
      "4025/4025 [==============================] - 215s 53ms/step - loss: 0.7604 - acc: 0.7277 - f1_vec: 0.7275 - val_loss: 0.7611 - val_acc: 0.7276 - val_f1_vec: 0.7276\n",
      "\n",
      "Epoch 00047: val_loss did not improve from 0.75985\n",
      "Epoch 48/100\n",
      "4025/4025 [==============================] - 215s 53ms/step - loss: 0.7616 - acc: 0.7277 - f1_vec: 0.7278 - val_loss: 0.7605 - val_acc: 0.7276 - val_f1_vec: 0.7276\n",
      "\n",
      "Epoch 00048: val_loss did not improve from 0.75985\n",
      "Epoch 49/100\n",
      "4025/4025 [==============================] - 214s 53ms/step - loss: 0.7609 - acc: 0.7277 - f1_vec: 0.7275 - val_loss: 0.7598 - val_acc: 0.7276 - val_f1_vec: 0.7276\n",
      "\n",
      "Epoch 00049: val_loss improved from 0.75985 to 0.75979, saving model to /content/drive/My Drive/Tesis/Hasil NN Tesis/GRU/tesis_model_gru_unres_vec.h5\n",
      "Epoch 50/100\n",
      "4025/4025 [==============================] - 214s 53ms/step - loss: 0.7611 - acc: 0.7277 - f1_vec: 0.7278 - val_loss: 0.7601 - val_acc: 0.7276 - val_f1_vec: 0.7276\n",
      "\n",
      "Epoch 00050: val_loss did not improve from 0.75979\n",
      "Epoch 51/100\n",
      "4025/4025 [==============================] - 214s 53ms/step - loss: 0.7610 - acc: 0.7277 - f1_vec: 0.7275 - val_loss: 0.7597 - val_acc: 0.7276 - val_f1_vec: 0.7276\n",
      "\n",
      "Epoch 00051: val_loss improved from 0.75979 to 0.75965, saving model to /content/drive/My Drive/Tesis/Hasil NN Tesis/GRU/tesis_model_gru_unres_vec.h5\n",
      "Epoch 52/100\n",
      "4025/4025 [==============================] - 214s 53ms/step - loss: 0.7600 - acc: 0.7277 - f1_vec: 0.7268 - val_loss: 0.7603 - val_acc: 0.7276 - val_f1_vec: 0.7276\n",
      "\n",
      "Epoch 00052: val_loss did not improve from 0.75965\n",
      "Epoch 53/100\n",
      "4025/4025 [==============================] - 213s 53ms/step - loss: 0.7613 - acc: 0.7277 - f1_vec: 0.7278 - val_loss: 0.7601 - val_acc: 0.7276 - val_f1_vec: 0.7276\n",
      "\n",
      "Epoch 00053: val_loss did not improve from 0.75965\n",
      "Epoch 54/100\n",
      "4025/4025 [==============================] - 212s 53ms/step - loss: 0.7604 - acc: 0.7277 - f1_vec: 0.7271 - val_loss: 0.7605 - val_acc: 0.7276 - val_f1_vec: 0.7276\n",
      "\n",
      "Epoch 00054: val_loss did not improve from 0.75965\n",
      "Epoch 55/100\n",
      "4025/4025 [==============================] - 212s 53ms/step - loss: 0.7614 - acc: 0.7277 - f1_vec: 0.7282 - val_loss: 0.7600 - val_acc: 0.7276 - val_f1_vec: 0.7276\n",
      "\n",
      "Epoch 00055: val_loss did not improve from 0.75965\n",
      "Epoch 56/100\n",
      "4025/4025 [==============================] - 212s 53ms/step - loss: 0.7616 - acc: 0.7277 - f1_vec: 0.7278 - val_loss: 0.7599 - val_acc: 0.7276 - val_f1_vec: 0.7276\n",
      "\n",
      "Epoch 00056: val_loss did not improve from 0.75965\n",
      "Epoch 57/100\n",
      "4025/4025 [==============================] - 212s 53ms/step - loss: 0.7600 - acc: 0.7277 - f1_vec: 0.7264 - val_loss: 0.7600 - val_acc: 0.7276 - val_f1_vec: 0.7276\n",
      "\n",
      "Epoch 00057: val_loss did not improve from 0.75965\n",
      "Epoch 58/100\n",
      "4025/4025 [==============================] - 212s 53ms/step - loss: 0.7611 - acc: 0.7277 - f1_vec: 0.7275 - val_loss: 0.7597 - val_acc: 0.7276 - val_f1_vec: 0.7276\n",
      "\n",
      "Epoch 00058: val_loss did not improve from 0.75965\n",
      "Epoch 59/100\n",
      "4025/4025 [==============================] - 215s 53ms/step - loss: 0.7608 - acc: 0.7277 - f1_vec: 0.7278 - val_loss: 0.7596 - val_acc: 0.7276 - val_f1_vec: 0.7276\n",
      "\n",
      "Epoch 00059: val_loss improved from 0.75965 to 0.75961, saving model to /content/drive/My Drive/Tesis/Hasil NN Tesis/GRU/tesis_model_gru_unres_vec.h5\n",
      "Epoch 60/100\n",
      "4025/4025 [==============================] - 216s 54ms/step - loss: 0.7614 - acc: 0.7277 - f1_vec: 0.7282 - val_loss: 0.7599 - val_acc: 0.7276 - val_f1_vec: 0.7276\n",
      "\n",
      "Epoch 00060: val_loss did not improve from 0.75961\n",
      "Epoch 61/100\n",
      "4025/4025 [==============================] - 221s 55ms/step - loss: 0.7602 - acc: 0.7277 - f1_vec: 0.7282 - val_loss: 0.7596 - val_acc: 0.7276 - val_f1_vec: 0.7276\n",
      "\n",
      "Epoch 00061: val_loss improved from 0.75961 to 0.75958, saving model to /content/drive/My Drive/Tesis/Hasil NN Tesis/GRU/tesis_model_gru_unres_vec.h5\n",
      "Epoch 62/100\n",
      "4025/4025 [==============================] - 221s 55ms/step - loss: 0.7611 - acc: 0.7277 - f1_vec: 0.7282 - val_loss: 0.7598 - val_acc: 0.7276 - val_f1_vec: 0.7276\n",
      "\n",
      "Epoch 00062: val_loss did not improve from 0.75958\n",
      "Epoch 63/100\n",
      "4025/4025 [==============================] - 222s 55ms/step - loss: 0.7603 - acc: 0.7277 - f1_vec: 0.7282 - val_loss: 0.7600 - val_acc: 0.7276 - val_f1_vec: 0.7276\n",
      "\n",
      "Epoch 00063: val_loss did not improve from 0.75958\n",
      "Epoch 64/100\n",
      "4025/4025 [==============================] - 220s 55ms/step - loss: 0.7610 - acc: 0.7277 - f1_vec: 0.7271 - val_loss: 0.7598 - val_acc: 0.7276 - val_f1_vec: 0.7276\n",
      "\n",
      "Epoch 00064: val_loss did not improve from 0.75958\n",
      "Epoch 65/100\n",
      "4025/4025 [==============================] - 220s 55ms/step - loss: 0.7608 - acc: 0.7277 - f1_vec: 0.7275 - val_loss: 0.7608 - val_acc: 0.7276 - val_f1_vec: 0.7276\n",
      "\n",
      "Epoch 00065: val_loss did not improve from 0.75958\n",
      "Epoch 66/100\n",
      "4025/4025 [==============================] - 220s 55ms/step - loss: 0.7618 - acc: 0.7277 - f1_vec: 0.7278 - val_loss: 0.7600 - val_acc: 0.7276 - val_f1_vec: 0.7276\n",
      "\n",
      "Epoch 00066: val_loss did not improve from 0.75958\n",
      "Epoch 67/100\n",
      "4025/4025 [==============================] - 221s 55ms/step - loss: 0.7604 - acc: 0.7277 - f1_vec: 0.7278 - val_loss: 0.7597 - val_acc: 0.7276 - val_f1_vec: 0.7276\n",
      "\n",
      "Epoch 00067: val_loss did not improve from 0.75958\n",
      "Epoch 68/100\n",
      "4025/4025 [==============================] - 222s 55ms/step - loss: 0.7603 - acc: 0.7277 - f1_vec: 0.7282 - val_loss: 0.7597 - val_acc: 0.7276 - val_f1_vec: 0.7276\n",
      "\n",
      "Epoch 00068: val_loss did not improve from 0.75958\n",
      "Epoch 69/100\n",
      "4025/4025 [==============================] - 222s 55ms/step - loss: 0.7600 - acc: 0.7277 - f1_vec: 0.7278 - val_loss: 0.7605 - val_acc: 0.7276 - val_f1_vec: 0.7276\n",
      "\n",
      "Epoch 00069: val_loss did not improve from 0.75958\n",
      "Epoch 70/100\n",
      "4025/4025 [==============================] - 222s 55ms/step - loss: 0.7619 - acc: 0.7277 - f1_vec: 0.7275 - val_loss: 0.7610 - val_acc: 0.7276 - val_f1_vec: 0.7276\n",
      "\n",
      "Epoch 00070: val_loss did not improve from 0.75958\n",
      "Epoch 71/100\n",
      "4025/4025 [==============================] - 222s 55ms/step - loss: 0.7619 - acc: 0.7277 - f1_vec: 0.7275 - val_loss: 0.7604 - val_acc: 0.7276 - val_f1_vec: 0.7276\n",
      "\n",
      "Epoch 00071: val_loss did not improve from 0.75958\n",
      "Epoch 00071: early stopping\n"
     ]
    }
   ],
   "source": [
    "tesis_model_gru_unres_vec = model_gru_unres_vec.fit(x2train_vec, y2train, batch_size=12, epochs=100, \n",
    "                                                    validation_data=(x2val_vec, y2val), callbacks=callbacks_unres_vec, shuffle=True, verbose=1)"
   ]
  },
  {
   "cell_type": "code",
   "execution_count": null,
   "metadata": {
    "colab": {
     "base_uri": "https://localhost:8080/",
     "height": 1000
    },
    "colab_type": "code",
    "id": "XP8YTUW8quTP",
    "outputId": "566aa231-4adc-4b75-fc0e-e9f983e2cc20"
   },
   "outputs": [
    {
     "name": "stderr",
     "output_type": "stream",
     "text": [
      "/usr/local/lib/python3.6/dist-packages/tensorflow/python/framework/indexed_slices.py:434: UserWarning: Converting sparse IndexedSlices to a dense Tensor of unknown shape. This may consume a large amount of memory.\n",
      "  \"Converting sparse IndexedSlices to a dense Tensor of unknown shape. \"\n"
     ]
    },
    {
     "name": "stdout",
     "output_type": "stream",
     "text": [
      "Train on 8786 samples, validate on 1006 samples\n",
      "Epoch 1/100\n",
      "8786/8786 [==============================] - 496s 56ms/step - loss: 1.1397 - acc: 0.3383 - f1_vec: 0.0373 - val_loss: 1.1066 - val_acc: 0.0915 - val_f1_vec: 0.0000e+00\n",
      "\n",
      "Epoch 00001: val_loss improved from inf to 1.10656, saving model to /content/drive/My Drive/Tesis/Hasil NN Tesis/GRU/tesis_model_gru_res_vec.h5\n",
      "Epoch 2/100\n",
      "8786/8786 [==============================] - 503s 57ms/step - loss: 1.1073 - acc: 0.3318 - f1_vec: 8.3954e-04 - val_loss: 1.0468 - val_acc: 0.7276 - val_f1_vec: 0.0000e+00\n",
      "\n",
      "Epoch 00002: val_loss improved from 1.10656 to 1.04675, saving model to /content/drive/My Drive/Tesis/Hasil NN Tesis/GRU/tesis_model_gru_res_vec.h5\n",
      "Epoch 3/100\n",
      "8786/8786 [==============================] - 501s 57ms/step - loss: 1.1066 - acc: 0.3206 - f1_vec: 0.0000e+00 - val_loss: 1.0435 - val_acc: 0.7276 - val_f1_vec: 0.0000e+00\n",
      "\n",
      "Epoch 00003: val_loss improved from 1.04675 to 1.04345, saving model to /content/drive/My Drive/Tesis/Hasil NN Tesis/GRU/tesis_model_gru_res_vec.h5\n",
      "Epoch 4/100\n",
      "8786/8786 [==============================] - 502s 57ms/step - loss: 1.1022 - acc: 0.3375 - f1_vec: 0.0000e+00 - val_loss: 1.0854 - val_acc: 0.7276 - val_f1_vec: 0.0000e+00\n",
      "\n",
      "Epoch 00004: val_loss did not improve from 1.04345\n",
      "Epoch 5/100\n",
      "8786/8786 [==============================] - 498s 57ms/step - loss: 1.1030 - acc: 0.3321 - f1_vec: 0.0000e+00 - val_loss: 1.0912 - val_acc: 0.0915 - val_f1_vec: 0.0000e+00\n",
      "\n",
      "Epoch 00005: val_loss did not improve from 1.04345\n",
      "Epoch 6/100\n",
      "8786/8786 [==============================] - 498s 57ms/step - loss: 1.1026 - acc: 0.3356 - f1_vec: 0.0000e+00 - val_loss: 1.1414 - val_acc: 0.0915 - val_f1_vec: 0.0000e+00\n",
      "\n",
      "Epoch 00006: val_loss did not improve from 1.04345\n",
      "Epoch 7/100\n",
      "8786/8786 [==============================] - 497s 57ms/step - loss: 1.1037 - acc: 0.3296 - f1_vec: 0.0000e+00 - val_loss: 1.0613 - val_acc: 0.7276 - val_f1_vec: 0.0000e+00\n",
      "\n",
      "Epoch 00007: val_loss did not improve from 1.04345\n",
      "Epoch 8/100\n",
      "8786/8786 [==============================] - 499s 57ms/step - loss: 1.1018 - acc: 0.3341 - f1_vec: 0.0000e+00 - val_loss: 1.0957 - val_acc: 0.0915 - val_f1_vec: 0.0000e+00\n",
      "\n",
      "Epoch 00008: val_loss did not improve from 1.04345\n",
      "Epoch 9/100\n",
      "8786/8786 [==============================] - 498s 57ms/step - loss: 1.1020 - acc: 0.3321 - f1_vec: 0.0000e+00 - val_loss: 1.1165 - val_acc: 0.0915 - val_f1_vec: 0.0000e+00\n",
      "\n",
      "Epoch 00009: val_loss did not improve from 1.04345\n",
      "Epoch 10/100\n",
      "8786/8786 [==============================] - 500s 57ms/step - loss: 1.1007 - acc: 0.3384 - f1_vec: 0.0000e+00 - val_loss: 1.1773 - val_acc: 0.0915 - val_f1_vec: 0.0000e+00\n",
      "\n",
      "Epoch 00010: val_loss did not improve from 1.04345\n",
      "Epoch 11/100\n",
      "8786/8786 [==============================] - 506s 58ms/step - loss: 1.1017 - acc: 0.3231 - f1_vec: 0.0000e+00 - val_loss: 1.0971 - val_acc: 0.1809 - val_f1_vec: 0.0000e+00\n",
      "\n",
      "Epoch 00011: val_loss did not improve from 1.04345\n",
      "Epoch 12/100\n",
      "8786/8786 [==============================] - 506s 58ms/step - loss: 1.1000 - acc: 0.3438 - f1_vec: 0.0000e+00 - val_loss: 1.0802 - val_acc: 0.7276 - val_f1_vec: 0.0000e+00\n",
      "\n",
      "Epoch 00012: val_loss did not improve from 1.04345\n",
      "Epoch 13/100\n",
      "8786/8786 [==============================] - 506s 58ms/step - loss: 1.1011 - acc: 0.3305 - f1_vec: 0.0000e+00 - val_loss: 1.0748 - val_acc: 0.7276 - val_f1_vec: 0.0000e+00\n",
      "\n",
      "Epoch 00013: val_loss did not improve from 1.04345\n",
      "Epoch 00013: early stopping\n"
     ]
    }
   ],
   "source": [
    "tesis_model_gru_res_vec = model_gru_res_vec.fit(x2res, y2res, batch_size=12, epochs=100, \n",
    "                                                validation_data=(x2val_vec, y2val), callbacks=callbacks_res_vec, shuffle=True, verbose=1)"
   ]
  },
  {
   "cell_type": "markdown",
   "metadata": {
    "colab_type": "text",
    "id": "ongj2Jaty29o"
   },
   "source": [
    "### **CNN**"
   ]
  },
  {
   "cell_type": "markdown",
   "metadata": {
    "colab_type": "text",
    "id": "VYogn-MKPEIH"
   },
   "source": [
    "#### CNN"
   ]
  },
  {
   "cell_type": "code",
   "execution_count": null,
   "metadata": {
    "colab": {
     "base_uri": "https://localhost:8080/",
     "height": 1000
    },
    "colab_type": "code",
    "id": "eaUVVY_IOFg_",
    "outputId": "59a3f042-f33a-464f-ee1c-f3b752da554b"
   },
   "outputs": [
    {
     "name": "stdout",
     "output_type": "stream",
     "text": [
      "Model CNN UNRES\n",
      "Model: \"model_13\"\n",
      "__________________________________________________________________________________________________\n",
      "Layer (type)                    Output Shape         Param #     Connected to                     \n",
      "==================================================================================================\n",
      "input_8 (InputLayer)            (None, 50)           0                                            \n",
      "__________________________________________________________________________________________________\n",
      "embedding_8 (Embedding)         (None, 50, 300)      1905000     input_8[0][0]                    \n",
      "__________________________________________________________________________________________________\n",
      "conv1d_13 (Conv1D)              (None, 46, 128)      192128      embedding_8[0][0]                \n",
      "__________________________________________________________________________________________________\n",
      "conv1d_14 (Conv1D)              (None, 46, 128)      192128      embedding_8[0][0]                \n",
      "__________________________________________________________________________________________________\n",
      "conv1d_15 (Conv1D)              (None, 46, 128)      192128      embedding_8[0][0]                \n",
      "__________________________________________________________________________________________________\n",
      "batch_normalization_13 (BatchNo (None, 46, 128)      512         conv1d_13[0][0]                  \n",
      "__________________________________________________________________________________________________\n",
      "batch_normalization_14 (BatchNo (None, 46, 128)      512         conv1d_14[0][0]                  \n",
      "__________________________________________________________________________________________________\n",
      "batch_normalization_15 (BatchNo (None, 46, 128)      512         conv1d_15[0][0]                  \n",
      "__________________________________________________________________________________________________\n",
      "max_pooling1d_13 (MaxPooling1D) (None, 1, 128)       0           batch_normalization_13[0][0]     \n",
      "__________________________________________________________________________________________________\n",
      "max_pooling1d_14 (MaxPooling1D) (None, 1, 128)       0           batch_normalization_14[0][0]     \n",
      "__________________________________________________________________________________________________\n",
      "max_pooling1d_15 (MaxPooling1D) (None, 1, 128)       0           batch_normalization_15[0][0]     \n",
      "__________________________________________________________________________________________________\n",
      "concatenate_5 (Concatenate)     (None, 3, 128)       0           max_pooling1d_13[0][0]           \n",
      "                                                                 max_pooling1d_14[0][0]           \n",
      "                                                                 max_pooling1d_15[0][0]           \n",
      "__________________________________________________________________________________________________\n",
      "flatten_4 (Flatten)             (None, 384)          0           concatenate_5[0][0]              \n",
      "__________________________________________________________________________________________________\n",
      "dropout_7 (Dropout)             (None, 384)          0           flatten_4[0][0]                  \n",
      "__________________________________________________________________________________________________\n",
      "dense_10 (Dense)                (None, 3)            1155        dropout_7[0][0]                  \n",
      "==================================================================================================\n",
      "Total params: 2,484,075\n",
      "Trainable params: 2,483,307\n",
      "Non-trainable params: 768\n",
      "__________________________________________________________________________________________________\n",
      "Model CNN RES\n",
      "Model: \"model_14\"\n",
      "__________________________________________________________________________________________________\n",
      "Layer (type)                    Output Shape         Param #     Connected to                     \n",
      "==================================================================================================\n",
      "input_8 (InputLayer)            (None, 50)           0                                            \n",
      "__________________________________________________________________________________________________\n",
      "embedding_8 (Embedding)         (None, 50, 300)      1905000     input_8[0][0]                    \n",
      "__________________________________________________________________________________________________\n",
      "conv1d_13 (Conv1D)              (None, 46, 128)      192128      embedding_8[0][0]                \n",
      "__________________________________________________________________________________________________\n",
      "conv1d_14 (Conv1D)              (None, 46, 128)      192128      embedding_8[0][0]                \n",
      "__________________________________________________________________________________________________\n",
      "conv1d_15 (Conv1D)              (None, 46, 128)      192128      embedding_8[0][0]                \n",
      "__________________________________________________________________________________________________\n",
      "batch_normalization_13 (BatchNo (None, 46, 128)      512         conv1d_13[0][0]                  \n",
      "__________________________________________________________________________________________________\n",
      "batch_normalization_14 (BatchNo (None, 46, 128)      512         conv1d_14[0][0]                  \n",
      "__________________________________________________________________________________________________\n",
      "batch_normalization_15 (BatchNo (None, 46, 128)      512         conv1d_15[0][0]                  \n",
      "__________________________________________________________________________________________________\n",
      "max_pooling1d_13 (MaxPooling1D) (None, 1, 128)       0           batch_normalization_13[0][0]     \n",
      "__________________________________________________________________________________________________\n",
      "max_pooling1d_14 (MaxPooling1D) (None, 1, 128)       0           batch_normalization_14[0][0]     \n",
      "__________________________________________________________________________________________________\n",
      "max_pooling1d_15 (MaxPooling1D) (None, 1, 128)       0           batch_normalization_15[0][0]     \n",
      "__________________________________________________________________________________________________\n",
      "concatenate_5 (Concatenate)     (None, 3, 128)       0           max_pooling1d_13[0][0]           \n",
      "                                                                 max_pooling1d_14[0][0]           \n",
      "                                                                 max_pooling1d_15[0][0]           \n",
      "__________________________________________________________________________________________________\n",
      "flatten_4 (Flatten)             (None, 384)          0           concatenate_5[0][0]              \n",
      "__________________________________________________________________________________________________\n",
      "dropout_7 (Dropout)             (None, 384)          0           flatten_4[0][0]                  \n",
      "__________________________________________________________________________________________________\n",
      "dense_10 (Dense)                (None, 3)            1155        dropout_7[0][0]                  \n",
      "==================================================================================================\n",
      "Total params: 2,484,075\n",
      "Trainable params: 2,483,307\n",
      "Non-trainable params: 768\n",
      "__________________________________________________________________________________________________\n"
     ]
    }
   ],
   "source": [
    "num_filters = 128\n",
    "border_mode = 'same'\n",
    "maxlen = MAX_SEQUENCE_LENGTH\n",
    "#maxlen_vec = td\n",
    "kernel_sizes = [5,5,5]\n",
    "dropout_rate = 0.5\n",
    "\n",
    "inputs = Input(shape=(maxlen,))\n",
    "embedding_layer = Embedding(len(word_index) + 1,\n",
    "                            EMBEDDING_DIM,\n",
    "                            weights=[embedding_matrix],\n",
    "                            trainable=True)\n",
    "embedding = embedding_layer(inputs)\n",
    "\n",
    "#emb2 = Embedding(embedding_matrix.shape[0], embedding_matrix.shape[1], \n",
    "#                 weights=[embedding_matrix], trainable=True)(inputs)\n",
    "\n",
    "conv_0 = Conv1D(num_filters, kernel_sizes[0], activation = 'relu')(embedding) #padding=border_mode,\n",
    "conv_0 = BatchNormalization()(conv_0)\n",
    "maxpool_0 = MaxPooling1D(pool_size = (maxlen - kernel_sizes[0] + 1), strides=1, padding='valid')(conv_0)\n",
    "    \n",
    "conv_1 = Conv1D(num_filters, kernel_sizes[1], activation = 'relu')(embedding) #padding=border_mode,\n",
    "conv_1 = BatchNormalization()(conv_1)\n",
    "maxpool_1 = MaxPooling1D(pool_size = (maxlen - kernel_sizes[1] + 1), strides=1, padding='valid')(conv_1)\n",
    "    \n",
    "conv_2 = Conv1D(num_filters, kernel_sizes[2], activation = 'relu')(embedding) #padding=border_mode,\n",
    "conv_2 = BatchNormalization()(conv_2)\n",
    "maxpool_2 = MaxPooling1D(pool_size = (maxlen - kernel_sizes[2] + 1), strides=1, padding='valid')(conv_2)\n",
    "    \n",
    "merged = Concatenate(axis=1)([maxpool_0, maxpool_1, maxpool_2])\n",
    "flatten = Flatten()(merged)\n",
    "drop = Dropout(dropout_rate)(flatten)\n",
    "output = Dense(units=num_classes, activation='softmax')(drop)\n",
    "\n",
    "model_cnn_unres = Model(inputs, output)\n",
    "model_cnn_res = Model(inputs, output)\n",
    "\n",
    "model_cnn_unres.compile(loss='categorical_crossentropy', optimizer=rmsprop, metrics=['acc', f1])\n",
    "model_cnn_res.compile(loss='categorical_crossentropy', optimizer=rmsprop, metrics=['acc', f1])\n",
    "\n",
    "callbacks_unres = [EarlyStopping(monitor='val_loss', verbose= 1, patience=10, mode='auto'), \n",
    "                   ModelCheckpoint('/content/drive/My Drive/Tesis/Hasil NN Tesis/CNN/tesis_model_cnn_unres.h5', monitor='val_loss', verbose=1, save_best_only=True, mode='auto'), \n",
    "                   ReduceLROnPlateau(monitor='val_loss', factor=0.2, patience=10, min_lr=0.001)]\n",
    "\n",
    "callbacks_res = [EarlyStopping(monitor='val_loss', verbose= 1, patience=10, mode='auto'), \n",
    "                 ModelCheckpoint('/content/drive/My Drive/Tesis/Hasil NN Tesis/CNN/tesis_model_cnn_res.h5', monitor='val_loss', verbose=1, save_best_only=True, mode='auto'), \n",
    "                 ReduceLROnPlateau(monitor='val_loss', factor=0.2, patience=10, min_lr=0.001)]\n",
    "\n",
    "print('Model CNN UNRES')\n",
    "model_cnn_unres.summary()\n",
    "print('Model CNN RES')\n",
    "model_cnn_res.summary()"
   ]
  },
  {
   "cell_type": "code",
   "execution_count": null,
   "metadata": {
    "colab": {
     "base_uri": "https://localhost:8080/",
     "height": 1000
    },
    "colab_type": "code",
    "id": "82Q_u97repXH",
    "outputId": "356a6307-2890-4ec2-fb66-53e2bf7d8a2e"
   },
   "outputs": [
    {
     "name": "stderr",
     "output_type": "stream",
     "text": [
      "/usr/local/lib/python3.6/dist-packages/tensorflow/python/framework/indexed_slices.py:434: UserWarning: Converting sparse IndexedSlices to a dense Tensor of unknown shape. This may consume a large amount of memory.\n",
      "  \"Converting sparse IndexedSlices to a dense Tensor of unknown shape. \"\n"
     ]
    },
    {
     "name": "stdout",
     "output_type": "stream",
     "text": [
      "Train on 3756 samples, validate on 805 samples\n",
      "Epoch 1/100\n",
      "3756/3756 [==============================] - 6s 2ms/step - loss: 2.0938 - acc: 0.6374 - f1: 0.6339 - val_loss: 0.9706 - val_acc: 0.7292 - val_f1: 0.7328\n",
      "\n",
      "Epoch 00001: val_loss improved from inf to 0.97059, saving model to /content/drive/My Drive/Tesis/Hasil NN Tesis/CNN/tesis_model_cnn_unres.h5\n",
      "Epoch 2/100\n",
      "3756/3756 [==============================] - 5s 1ms/step - loss: 0.8859 - acc: 0.7274 - f1: 0.7247 - val_loss: 0.7658 - val_acc: 0.7453 - val_f1: 0.7519\n",
      "\n",
      "Epoch 00002: val_loss improved from 0.97059 to 0.76583, saving model to /content/drive/My Drive/Tesis/Hasil NN Tesis/CNN/tesis_model_cnn_unres.h5\n",
      "Epoch 3/100\n",
      "3756/3756 [==============================] - 5s 1ms/step - loss: 0.6677 - acc: 0.7833 - f1: 0.7822 - val_loss: 0.7127 - val_acc: 0.7627 - val_f1: 0.7612\n",
      "\n",
      "Epoch 00003: val_loss improved from 0.76583 to 0.71267, saving model to /content/drive/My Drive/Tesis/Hasil NN Tesis/CNN/tesis_model_cnn_unres.h5\n",
      "Epoch 4/100\n",
      "3756/3756 [==============================] - 5s 1ms/step - loss: 0.4864 - acc: 0.8357 - f1: 0.8338 - val_loss: 0.7677 - val_acc: 0.7590 - val_f1: 0.7601\n",
      "\n",
      "Epoch 00004: val_loss did not improve from 0.71267\n",
      "Epoch 5/100\n",
      "3756/3756 [==============================] - 5s 1ms/step - loss: 0.4107 - acc: 0.8618 - f1: 0.8636 - val_loss: 0.8178 - val_acc: 0.7453 - val_f1: 0.7464\n",
      "\n",
      "Epoch 00005: val_loss did not improve from 0.71267\n",
      "Epoch 6/100\n",
      "3756/3756 [==============================] - 5s 1ms/step - loss: 0.3410 - acc: 0.8834 - f1: 0.8822 - val_loss: 0.8955 - val_acc: 0.7652 - val_f1: 0.7715\n",
      "\n",
      "Epoch 00006: val_loss did not improve from 0.71267\n",
      "Epoch 7/100\n",
      "3756/3756 [==============================] - 5s 1ms/step - loss: 0.3153 - acc: 0.8938 - f1: 0.8922 - val_loss: 0.9723 - val_acc: 0.7627 - val_f1: 0.7623\n",
      "\n",
      "Epoch 00007: val_loss did not improve from 0.71267\n",
      "Epoch 8/100\n",
      "3756/3756 [==============================] - 5s 1ms/step - loss: 0.2859 - acc: 0.9065 - f1: 0.9061 - val_loss: 1.0097 - val_acc: 0.7466 - val_f1: 0.7515\n",
      "\n",
      "Epoch 00008: val_loss did not improve from 0.71267\n",
      "Epoch 9/100\n",
      "3756/3756 [==============================] - 5s 1ms/step - loss: 0.2681 - acc: 0.9116 - f1: 0.9110 - val_loss: 1.0582 - val_acc: 0.7665 - val_f1: 0.7544\n",
      "\n",
      "Epoch 00009: val_loss did not improve from 0.71267\n",
      "Epoch 10/100\n",
      "3756/3756 [==============================] - 5s 1ms/step - loss: 0.2570 - acc: 0.9132 - f1: 0.9136 - val_loss: 1.1965 - val_acc: 0.7329 - val_f1: 0.7179\n",
      "\n",
      "Epoch 00010: val_loss did not improve from 0.71267\n",
      "Epoch 11/100\n",
      "3756/3756 [==============================] - 5s 1ms/step - loss: 0.2426 - acc: 0.9153 - f1: 0.9156 - val_loss: 1.2450 - val_acc: 0.7528 - val_f1: 0.7411\n",
      "\n",
      "Epoch 00011: val_loss did not improve from 0.71267\n",
      "Epoch 12/100\n",
      "3756/3756 [==============================] - 5s 1ms/step - loss: 0.2632 - acc: 0.9180 - f1: 0.9161 - val_loss: 1.3745 - val_acc: 0.7540 - val_f1: 0.7454\n",
      "\n",
      "Epoch 00012: val_loss did not improve from 0.71267\n",
      "Epoch 13/100\n",
      "3756/3756 [==============================] - 5s 1ms/step - loss: 0.1980 - acc: 0.9297 - f1: 0.9297 - val_loss: 1.5177 - val_acc: 0.7578 - val_f1: 0.7490\n",
      "\n",
      "Epoch 00013: val_loss did not improve from 0.71267\n",
      "Epoch 00013: early stopping\n"
     ]
    }
   ],
   "source": [
    "tesis_model_cnn_unres = model_cnn_unres.fit(x_train, y_train, batch_size=12, epochs=100,\n",
    "                                            validation_data=(x_val, y_val), callbacks=callbacks_unres, shuffle=True, verbose=1)"
   ]
  },
  {
   "cell_type": "code",
   "execution_count": null,
   "metadata": {
    "colab": {
     "base_uri": "https://localhost:8080/",
     "height": 983
    },
    "colab_type": "code",
    "id": "KLLXIHsFepgi",
    "outputId": "f85fab9f-18c3-4654-ae5d-f228a1dd2d52"
   },
   "outputs": [
    {
     "name": "stderr",
     "output_type": "stream",
     "text": [
      "/usr/local/lib/python3.6/dist-packages/tensorflow/python/framework/indexed_slices.py:434: UserWarning: Converting sparse IndexedSlices to a dense Tensor of unknown shape. This may consume a large amount of memory.\n",
      "  \"Converting sparse IndexedSlices to a dense Tensor of unknown shape. \"\n"
     ]
    },
    {
     "name": "stdout",
     "output_type": "stream",
     "text": [
      "Train on 8145 samples, validate on 805 samples\n",
      "Epoch 1/100\n",
      "8145/8145 [==============================] - 11s 1ms/step - loss: 1.8133 - acc: 0.4265 - f1: 0.3957 - val_loss: 1.1102 - val_acc: 0.4075 - val_f1: 0.3298\n",
      "\n",
      "Epoch 00001: val_loss improved from inf to 1.11016, saving model to /content/drive/My Drive/Tesis/Hasil NN Tesis/CNN/tesis_model_cnn_res.h5\n",
      "Epoch 2/100\n",
      "8145/8145 [==============================] - 10s 1ms/step - loss: 1.0908 - acc: 0.4981 - f1: 0.4469 - val_loss: 0.8754 - val_acc: 0.6422 - val_f1: 0.5614\n",
      "\n",
      "Epoch 00002: val_loss improved from 1.11016 to 0.87537, saving model to /content/drive/My Drive/Tesis/Hasil NN Tesis/CNN/tesis_model_cnn_res.h5\n",
      "Epoch 3/100\n",
      "8145/8145 [==============================] - 10s 1ms/step - loss: 0.9333 - acc: 0.5723 - f1: 0.5369 - val_loss: 1.2009 - val_acc: 0.4932 - val_f1: 0.4581\n",
      "\n",
      "Epoch 00003: val_loss did not improve from 0.87537\n",
      "Epoch 4/100\n",
      "8145/8145 [==============================] - 10s 1ms/step - loss: 0.8442 - acc: 0.6303 - f1: 0.6075 - val_loss: 0.9183 - val_acc: 0.6596 - val_f1: 0.6259\n",
      "\n",
      "Epoch 00004: val_loss did not improve from 0.87537\n",
      "Epoch 5/100\n",
      "8145/8145 [==============================] - 10s 1ms/step - loss: 0.7325 - acc: 0.6859 - f1: 0.6706 - val_loss: 1.2576 - val_acc: 0.5304 - val_f1: 0.4860\n",
      "\n",
      "Epoch 00005: val_loss did not improve from 0.87537\n",
      "Epoch 6/100\n",
      "8145/8145 [==============================] - 10s 1ms/step - loss: 0.6243 - acc: 0.7380 - f1: 0.7276 - val_loss: 1.2928 - val_acc: 0.5578 - val_f1: 0.5325\n",
      "\n",
      "Epoch 00006: val_loss did not improve from 0.87537\n",
      "Epoch 7/100\n",
      "8145/8145 [==============================] - 10s 1ms/step - loss: 0.5457 - acc: 0.7738 - f1: 0.7648 - val_loss: 1.4445 - val_acc: 0.5665 - val_f1: 0.5248\n",
      "\n",
      "Epoch 00007: val_loss did not improve from 0.87537\n",
      "Epoch 8/100\n",
      "8145/8145 [==============================] - 10s 1ms/step - loss: 0.4937 - acc: 0.7967 - f1: 0.7895 - val_loss: 1.4236 - val_acc: 0.5876 - val_f1: 0.5503\n",
      "\n",
      "Epoch 00008: val_loss did not improve from 0.87537\n",
      "Epoch 9/100\n",
      "8145/8145 [==============================] - 10s 1ms/step - loss: 0.4573 - acc: 0.8110 - f1: 0.8070 - val_loss: 1.7238 - val_acc: 0.5888 - val_f1: 0.5639\n",
      "\n",
      "Epoch 00009: val_loss did not improve from 0.87537\n",
      "Epoch 10/100\n",
      "8145/8145 [==============================] - 10s 1ms/step - loss: 0.4282 - acc: 0.8303 - f1: 0.8292 - val_loss: 1.8862 - val_acc: 0.5143 - val_f1: 0.4858\n",
      "\n",
      "Epoch 00010: val_loss did not improve from 0.87537\n",
      "Epoch 11/100\n",
      "8145/8145 [==============================] - 10s 1ms/step - loss: 0.3766 - acc: 0.8506 - f1: 0.8469 - val_loss: 1.8239 - val_acc: 0.6025 - val_f1: 0.5787\n",
      "\n",
      "Epoch 00011: val_loss did not improve from 0.87537\n",
      "Epoch 12/100\n",
      "8145/8145 [==============================] - 10s 1ms/step - loss: 0.3764 - acc: 0.8577 - f1: 0.8558 - val_loss: 1.9502 - val_acc: 0.6037 - val_f1: 0.5771\n",
      "\n",
      "Epoch 00012: val_loss did not improve from 0.87537\n",
      "Epoch 00012: early stopping\n"
     ]
    }
   ],
   "source": [
    "tesis_model_cnn_res = model_cnn_res.fit(x_res, y_res, batch_size=12, epochs=100, \n",
    "                                        validation_data=(x_val, y_val), callbacks=callbacks_res, shuffle=True, verbose=1)"
   ]
  },
  {
   "cell_type": "code",
   "execution_count": null,
   "metadata": {
    "colab": {
     "base_uri": "https://localhost:8080/",
     "height": 856
    },
    "colab_type": "code",
    "id": "4iwww1SvgV7X",
    "outputId": "5de95bc5-490c-4a4f-913d-3bc440690839"
   },
   "outputs": [
    {
     "data": {
      "image/png": "[encoded data removed]",
      "text/plain": [
       "<IPython.core.display.Image object>"
      ]
     },
     "execution_count": 73,
     "metadata": {
      "tags": []
     },
     "output_type": "execute_result"
    }
   ],
   "source": [
    "plot_model(model_cnn_unres, to_file='/content/drive/My Drive/Tesis/Hasil NN Tesis/CNN/tesis_model_cnn_unres2.png', \n",
    "           show_shapes=False, show_layer_names=False)"
   ]
  },
  {
   "cell_type": "code",
   "execution_count": null,
   "metadata": {
    "colab": {
     "base_uri": "https://localhost:8080/",
     "height": 1000
    },
    "colab_type": "code",
    "id": "mjUnuqiyLzgt",
    "outputId": "5355bb0a-3b48-4705-fd72-edc6369c1dab"
   },
   "outputs": [
    {
     "name": "stdout",
     "output_type": "stream",
     "text": [
      "Model CNN UNRES VEC\n",
      "Model: \"model_3\"\n",
      "__________________________________________________________________________________________________\n",
      "Layer (type)                    Output Shape         Param #     Connected to                     \n",
      "==================================================================================================\n",
      "input_2 (InputLayer)            (None, 1000)         0                                            \n",
      "__________________________________________________________________________________________________\n",
      "embedding_2 (Embedding)         (None, 1000, 300)    1905000     input_2[0][0]                    \n",
      "__________________________________________________________________________________________________\n",
      "conv1d_4 (Conv1D)               (None, 1000, 128)    115328      embedding_2[0][0]                \n",
      "__________________________________________________________________________________________________\n",
      "conv1d_5 (Conv1D)               (None, 1000, 128)    153728      embedding_2[0][0]                \n",
      "__________________________________________________________________________________________________\n",
      "conv1d_6 (Conv1D)               (None, 1000, 128)    192128      embedding_2[0][0]                \n",
      "__________________________________________________________________________________________________\n",
      "batch_normalization_4 (BatchNor (None, 1000, 128)    512         conv1d_4[0][0]                   \n",
      "__________________________________________________________________________________________________\n",
      "batch_normalization_5 (BatchNor (None, 1000, 128)    512         conv1d_5[0][0]                   \n",
      "__________________________________________________________________________________________________\n",
      "batch_normalization_6 (BatchNor (None, 1000, 128)    512         conv1d_6[0][0]                   \n",
      "__________________________________________________________________________________________________\n",
      "max_pooling1d_4 (MaxPooling1D)  (None, 3, 128)       0           batch_normalization_4[0][0]      \n",
      "__________________________________________________________________________________________________\n",
      "max_pooling1d_5 (MaxPooling1D)  (None, 4, 128)       0           batch_normalization_5[0][0]      \n",
      "__________________________________________________________________________________________________\n",
      "max_pooling1d_6 (MaxPooling1D)  (None, 5, 128)       0           batch_normalization_6[0][0]      \n",
      "__________________________________________________________________________________________________\n",
      "concatenate_2 (Concatenate)     (None, 12, 128)      0           max_pooling1d_4[0][0]            \n",
      "                                                                 max_pooling1d_5[0][0]            \n",
      "                                                                 max_pooling1d_6[0][0]            \n",
      "__________________________________________________________________________________________________\n",
      "flatten_2 (Flatten)             (None, 1536)         0           concatenate_2[0][0]              \n",
      "__________________________________________________________________________________________________\n",
      "dropout_2 (Dropout)             (None, 1536)         0           flatten_2[0][0]                  \n",
      "__________________________________________________________________________________________________\n",
      "dense_2 (Dense)                 (None, 3)            4611        dropout_2[0][0]                  \n",
      "==================================================================================================\n",
      "Total params: 2,372,331\n",
      "Trainable params: 2,371,563\n",
      "Non-trainable params: 768\n",
      "__________________________________________________________________________________________________\n",
      "Model CNN RES VEC\n",
      "Model: \"model_4\"\n",
      "__________________________________________________________________________________________________\n",
      "Layer (type)                    Output Shape         Param #     Connected to                     \n",
      "==================================================================================================\n",
      "input_2 (InputLayer)            (None, 1000)         0                                            \n",
      "__________________________________________________________________________________________________\n",
      "embedding_2 (Embedding)         (None, 1000, 300)    1905000     input_2[0][0]                    \n",
      "__________________________________________________________________________________________________\n",
      "conv1d_4 (Conv1D)               (None, 1000, 128)    115328      embedding_2[0][0]                \n",
      "__________________________________________________________________________________________________\n",
      "conv1d_5 (Conv1D)               (None, 1000, 128)    153728      embedding_2[0][0]                \n",
      "__________________________________________________________________________________________________\n",
      "conv1d_6 (Conv1D)               (None, 1000, 128)    192128      embedding_2[0][0]                \n",
      "__________________________________________________________________________________________________\n",
      "batch_normalization_4 (BatchNor (None, 1000, 128)    512         conv1d_4[0][0]                   \n",
      "__________________________________________________________________________________________________\n",
      "batch_normalization_5 (BatchNor (None, 1000, 128)    512         conv1d_5[0][0]                   \n",
      "__________________________________________________________________________________________________\n",
      "batch_normalization_6 (BatchNor (None, 1000, 128)    512         conv1d_6[0][0]                   \n",
      "__________________________________________________________________________________________________\n",
      "max_pooling1d_4 (MaxPooling1D)  (None, 3, 128)       0           batch_normalization_4[0][0]      \n",
      "__________________________________________________________________________________________________\n",
      "max_pooling1d_5 (MaxPooling1D)  (None, 4, 128)       0           batch_normalization_5[0][0]      \n",
      "__________________________________________________________________________________________________\n",
      "max_pooling1d_6 (MaxPooling1D)  (None, 5, 128)       0           batch_normalization_6[0][0]      \n",
      "__________________________________________________________________________________________________\n",
      "concatenate_2 (Concatenate)     (None, 12, 128)      0           max_pooling1d_4[0][0]            \n",
      "                                                                 max_pooling1d_5[0][0]            \n",
      "                                                                 max_pooling1d_6[0][0]            \n",
      "__________________________________________________________________________________________________\n",
      "flatten_2 (Flatten)             (None, 1536)         0           concatenate_2[0][0]              \n",
      "__________________________________________________________________________________________________\n",
      "dropout_2 (Dropout)             (None, 1536)         0           flatten_2[0][0]                  \n",
      "__________________________________________________________________________________________________\n",
      "dense_2 (Dense)                 (None, 3)            4611        dropout_2[0][0]                  \n",
      "==================================================================================================\n",
      "Total params: 2,372,331\n",
      "Trainable params: 2,371,563\n",
      "Non-trainable params: 768\n",
      "__________________________________________________________________________________________________\n"
     ]
    }
   ],
   "source": [
    "num_filters = 128\n",
    "border_mode = 'same'\n",
    "maxlen = MAX_SEQUENCE_LENGTH\n",
    "maxlen_vec = td\n",
    "kernel_sizes = [3,4,5]\n",
    "dropout_rate = 0.5\n",
    "\n",
    "inputs = Input(shape=(maxlen_vec,))\n",
    "#embedding_layer = Embedding(len(word_index) + 1,\n",
    "                           # EMBEDDING_DIM,\n",
    "                            #weights=[embedding_matrix],\n",
    "                           # trainable=True)\n",
    "#embedding = embedding_layer(inputs)\n",
    "\n",
    "emb2 = Embedding(embedding_matrix.shape[0], embedding_matrix.shape[1], \n",
    "                 weights=[embedding_matrix], \n",
    "                 trainable=True)(inputs)\n",
    "\n",
    "conv_0 = Conv1D(num_filters, kernel_sizes[0], padding=border_mode, activation = 'relu', kernel_regularizer=regularizers.l2(0.1))(emb2)\n",
    "conv_0 = BatchNormalization()(conv_0)\n",
    "maxpool_0 = MaxPooling1D(pool_size = (maxlen_vec - kernel_sizes[0] + 1), strides=1, padding='valid')(conv_0)\n",
    "    \n",
    "conv_1 = Conv1D(num_filters, kernel_sizes[1], padding=border_mode, activation = 'relu', kernel_regularizer=regularizers.l2(0.1))(emb2)\n",
    "conv_1 = BatchNormalization()(conv_1)\n",
    "maxpool_1 = MaxPooling1D(pool_size = (maxlen_vec - kernel_sizes[1] + 1), strides=1, padding='valid')(conv_1)\n",
    "    \n",
    "conv_2 = Conv1D(num_filters, kernel_sizes[2], padding=border_mode, activation = 'relu', kernel_regularizer=regularizers.l2(0.1))(emb2)\n",
    "conv_2 = BatchNormalization()(conv_2)\n",
    "maxpool_2 = MaxPooling1D(pool_size = (maxlen_vec - kernel_sizes[2] + 1), strides=1, padding='valid')(conv_2)\n",
    "    \n",
    "merged = Concatenate(axis=1)([maxpool_0, maxpool_1, maxpool_2])\n",
    "flatten = Flatten()(merged)\n",
    "drop = Dropout(dropout_rate)(flatten)\n",
    "output = Dense(units=num_classes, activation='softmax')(drop)\n",
    "\n",
    "model_cnn_unres_vec = Model(inputs, output)\n",
    "model_cnn_res_vec = Model(inputs, output)\n",
    "\n",
    "model_cnn_unres_vec.compile(loss='categorical_crossentropy', optimizer=Adam(learning_rate=1e-3), metrics=['acc', f1_vec])\n",
    "model_cnn_res_vec.compile(loss='categorical_crossentropy', optimizer=Adam(learning_rate=1e-3), metrics=['acc', f1_vec])\n",
    "\n",
    "callbacks_unres_vec = [EarlyStopping(monitor='val_loss', verbose= 1, patience=10, mode='auto'), \n",
    "                   ModelCheckpoint('/content/drive/My Drive/Tesis/Hasil NN Tesis/CNN/tesis_model_cnn_unres_vec.h5', monitor='val_loss', verbose=1, save_best_only=True, mode='auto'), \n",
    "                   ReduceLROnPlateau(monitor='val_loss', factor=0.2, patience=10, min_lr=0.001)]\n",
    "\n",
    "callbacks_res_vec = [EarlyStopping(monitor='val_loss', verbose= 1, patience=10, mode='auto'), \n",
    "                 ModelCheckpoint('/content/drive/My Drive/Tesis/Hasil NN Tesis/CNN/tesis_model_cnn_res_vec.h5', monitor='val_loss', verbose=1, save_best_only=True, mode='auto'), \n",
    "                 ReduceLROnPlateau(monitor='val_loss', factor=0.2, patience=10, min_lr=0.001)]\n",
    "\n",
    "print('Model CNN UNRES VEC')\n",
    "model_cnn_unres_vec.summary()\n",
    "print('Model CNN RES VEC')\n",
    "model_cnn_res_vec.summary()"
   ]
  },
  {
   "cell_type": "code",
   "execution_count": null,
   "metadata": {
    "colab": {
     "base_uri": "https://localhost:8080/",
     "height": 1000
    },
    "colab_type": "code",
    "id": "9CWFUID4DoGF",
    "outputId": "4a03a609-f063-4c1e-fe84-7de8bf7694c0"
   },
   "outputs": [
    {
     "name": "stderr",
     "output_type": "stream",
     "text": [
      "/usr/local/lib/python3.6/dist-packages/tensorflow/python/framework/indexed_slices.py:434: UserWarning: Converting sparse IndexedSlices to a dense Tensor of unknown shape. This may consume a large amount of memory.\n",
      "  \"Converting sparse IndexedSlices to a dense Tensor of unknown shape. \"\n"
     ]
    },
    {
     "name": "stdout",
     "output_type": "stream",
     "text": [
      "Train on 4025 samples, validate on 1006 samples\n",
      "Epoch 1/50\n",
      "4025/4025 [==============================] - 303s 75ms/step - loss: 2.9654 - acc: 0.7257 - f1_vec: 0.7203 - val_loss: 0.7870 - val_acc: 0.7276 - val_f1_vec: 0.7276\n",
      "\n",
      "Epoch 00001: val_loss improved from inf to 0.78704, saving model to /content/drive/My Drive/Tesis/Hasil NN Tesis/CNN/tesis_model_cnn_unres_vec.h5\n",
      "Epoch 2/50\n",
      "4025/4025 [==============================] - 298s 74ms/step - loss: 0.7881 - acc: 0.7277 - f1_vec: 0.7275 - val_loss: 0.8121 - val_acc: 0.7276 - val_f1_vec: 0.7276\n",
      "\n",
      "Epoch 00002: val_loss did not improve from 0.78704\n",
      "Epoch 3/50\n",
      "4025/4025 [==============================] - 295s 73ms/step - loss: 0.7792 - acc: 0.7277 - f1_vec: 0.7271 - val_loss: 0.7948 - val_acc: 0.7276 - val_f1_vec: 0.7276\n",
      "\n",
      "Epoch 00003: val_loss did not improve from 0.78704\n",
      "Epoch 4/50\n",
      "4025/4025 [==============================] - 292s 73ms/step - loss: 0.7803 - acc: 0.7277 - f1_vec: 0.7278 - val_loss: 0.8748 - val_acc: 0.7276 - val_f1_vec: 0.7276\n",
      "\n",
      "Epoch 00004: val_loss did not improve from 0.78704\n",
      "Epoch 5/50\n",
      "4025/4025 [==============================] - 292s 72ms/step - loss: 0.7810 - acc: 0.7277 - f1_vec: 0.7278 - val_loss: 0.8591 - val_acc: 0.7276 - val_f1_vec: 0.7276\n",
      "\n",
      "Epoch 00005: val_loss did not improve from 0.78704\n",
      "Epoch 6/50\n",
      "4025/4025 [==============================] - 292s 72ms/step - loss: 0.7840 - acc: 0.7277 - f1_vec: 0.7275 - val_loss: 0.7858 - val_acc: 0.7276 - val_f1_vec: 0.7276\n",
      "\n",
      "Epoch 00006: val_loss improved from 0.78704 to 0.78575, saving model to /content/drive/My Drive/Tesis/Hasil NN Tesis/CNN/tesis_model_cnn_unres_vec.h5\n",
      "Epoch 7/50\n",
      "4025/4025 [==============================] - 289s 72ms/step - loss: 0.7822 - acc: 0.7272 - f1_vec: 0.7266 - val_loss: 0.8044 - val_acc: 0.7276 - val_f1_vec: 0.7276\n",
      "\n",
      "Epoch 00007: val_loss did not improve from 0.78575\n",
      "Epoch 8/50\n",
      "4025/4025 [==============================] - 292s 73ms/step - loss: 0.7865 - acc: 0.7275 - f1_vec: 0.7276 - val_loss: 0.9835 - val_acc: 0.7276 - val_f1_vec: 0.7276\n",
      "\n",
      "Epoch 00008: val_loss did not improve from 0.78575\n",
      "Epoch 9/50\n",
      "4025/4025 [==============================] - 297s 74ms/step - loss: 0.7896 - acc: 0.7275 - f1_vec: 0.7272 - val_loss: 0.7999 - val_acc: 0.7276 - val_f1_vec: 0.7276\n",
      "\n",
      "Epoch 00009: val_loss did not improve from 0.78575\n",
      "Epoch 10/50\n",
      "4025/4025 [==============================] - 297s 74ms/step - loss: 0.7912 - acc: 0.7275 - f1_vec: 0.7279 - val_loss: 0.9299 - val_acc: 0.7276 - val_f1_vec: 0.7276\n",
      "\n",
      "Epoch 00010: val_loss did not improve from 0.78575\n",
      "Epoch 11/50\n",
      "4025/4025 [==============================] - 296s 74ms/step - loss: 0.7809 - acc: 0.7277 - f1_vec: 0.7282 - val_loss: 0.8754 - val_acc: 0.7276 - val_f1_vec: 0.7276\n",
      "\n",
      "Epoch 00011: val_loss did not improve from 0.78575\n",
      "Epoch 12/50\n",
      "4025/4025 [==============================] - 295s 73ms/step - loss: 0.7850 - acc: 0.7275 - f1_vec: 0.7279 - val_loss: 0.8410 - val_acc: 0.7276 - val_f1_vec: 0.7276\n",
      "\n",
      "Epoch 00012: val_loss did not improve from 0.78575\n",
      "Epoch 13/50\n",
      "4025/4025 [==============================] - 295s 73ms/step - loss: 0.7793 - acc: 0.7277 - f1_vec: 0.7278 - val_loss: 0.8128 - val_acc: 0.7276 - val_f1_vec: 0.7276\n",
      "\n",
      "Epoch 00013: val_loss did not improve from 0.78575\n",
      "Epoch 14/50\n",
      "4025/4025 [==============================] - 293s 73ms/step - loss: 0.7807 - acc: 0.7277 - f1_vec: 0.7278 - val_loss: 0.8251 - val_acc: 0.7276 - val_f1_vec: 0.7276\n",
      "\n",
      "Epoch 00014: val_loss did not improve from 0.78575\n",
      "Epoch 15/50\n",
      "4025/4025 [==============================] - 291s 72ms/step - loss: 0.7813 - acc: 0.7277 - f1_vec: 0.7275 - val_loss: 0.8425 - val_acc: 0.7276 - val_f1_vec: 0.7276\n",
      "\n",
      "Epoch 00015: val_loss did not improve from 0.78575\n",
      "Epoch 16/50\n",
      "4025/4025 [==============================] - 291s 72ms/step - loss: 0.7889 - acc: 0.7275 - f1_vec: 0.7279 - val_loss: 0.8937 - val_acc: 0.7276 - val_f1_vec: 0.7276\n",
      "\n",
      "Epoch 00016: val_loss did not improve from 0.78575\n",
      "Epoch 00016: early stopping\n"
     ]
    }
   ],
   "source": [
    "tesis_model_cnn_unres_vec = model_cnn_unres_vec.fit(x2train_vec, y2train, batch_size=12, epochs=100, \n",
    "                                                    validation_data=(x2val_vec, y2val), callbacks=callbacks_unres_vec, shuffle=True, verbose=1)"
   ]
  },
  {
   "cell_type": "code",
   "execution_count": null,
   "metadata": {
    "colab": {
     "base_uri": "https://localhost:8080/",
     "height": 1000
    },
    "colab_type": "code",
    "id": "rxpuvB9LDuF-",
    "outputId": "7290db4d-eca4-4843-d4d7-be1a0101d5e4"
   },
   "outputs": [
    {
     "name": "stderr",
     "output_type": "stream",
     "text": [
      "/usr/local/lib/python3.6/dist-packages/tensorflow/python/framework/indexed_slices.py:434: UserWarning: Converting sparse IndexedSlices to a dense Tensor of unknown shape. This may consume a large amount of memory.\n",
      "  \"Converting sparse IndexedSlices to a dense Tensor of unknown shape. \"\n"
     ]
    },
    {
     "name": "stdout",
     "output_type": "stream",
     "text": [
      "Train on 8786 samples, validate on 1006 samples\n",
      "Epoch 1/100\n",
      "8786/8786 [==============================] - 56s 6ms/step - loss: 5.8211 - acc: 0.3393 - f1_vec: 0.0905 - val_loss: 16.1502 - val_acc: 0.1809 - val_f1_vec: 0.1808\n",
      "\n",
      "Epoch 00001: val_loss improved from inf to 16.15022, saving model to /content/drive/My Drive/Tesis/Hasil NN Tesis/CNN/tesis_model_cnn_res_vec.h5\n",
      "Epoch 2/100\n",
      "8786/8786 [==============================] - 49s 6ms/step - loss: 1.3756 - acc: 0.3405 - f1_vec: 0.0412 - val_loss: 12.9978 - val_acc: 0.1809 - val_f1_vec: 0.1808\n",
      "\n",
      "Epoch 00002: val_loss improved from 16.15022 to 12.99776, saving model to /content/drive/My Drive/Tesis/Hasil NN Tesis/CNN/tesis_model_cnn_res_vec.h5\n",
      "Epoch 3/100\n",
      "8786/8786 [==============================] - 49s 6ms/step - loss: 1.2734 - acc: 0.3440 - f1_vec: 0.0365 - val_loss: 16.7113 - val_acc: 0.7276 - val_f1_vec: 0.7276\n",
      "\n",
      "Epoch 00003: val_loss did not improve from 12.99776\n",
      "Epoch 4/100\n",
      "8786/8786 [==============================] - 48s 6ms/step - loss: 1.2221 - acc: 0.3309 - f1_vec: 0.0285 - val_loss: 9.2815 - val_acc: 0.7276 - val_f1_vec: 0.7276\n",
      "\n",
      "Epoch 00004: val_loss improved from 12.99776 to 9.28153, saving model to /content/drive/My Drive/Tesis/Hasil NN Tesis/CNN/tesis_model_cnn_res_vec.h5\n",
      "Epoch 5/100\n",
      "8786/8786 [==============================] - 49s 6ms/step - loss: 1.2026 - acc: 0.3325 - f1_vec: 0.0208 - val_loss: 9.8767 - val_acc: 0.1809 - val_f1_vec: 0.1808\n",
      "\n",
      "Epoch 00005: val_loss did not improve from 9.28153\n",
      "Epoch 6/100\n",
      "8786/8786 [==============================] - 49s 6ms/step - loss: 1.1909 - acc: 0.3443 - f1_vec: 0.0272 - val_loss: 11.8231 - val_acc: 0.0915 - val_f1_vec: 0.0917\n",
      "\n",
      "Epoch 00006: val_loss did not improve from 9.28153\n",
      "Epoch 7/100\n",
      "8786/8786 [==============================] - 50s 6ms/step - loss: 1.1586 - acc: 0.3384 - f1_vec: 0.0182 - val_loss: 14.2645 - val_acc: 0.0915 - val_f1_vec: 0.0917\n",
      "\n",
      "Epoch 00007: val_loss did not improve from 9.28153\n",
      "Epoch 8/100\n",
      "8786/8786 [==============================] - 51s 6ms/step - loss: 1.1394 - acc: 0.3418 - f1_vec: 0.0237 - val_loss: 1.0001 - val_acc: 0.7276 - val_f1_vec: 0.7276\n",
      "\n",
      "Epoch 00008: val_loss improved from 9.28153 to 1.00012, saving model to /content/drive/My Drive/Tesis/Hasil NN Tesis/CNN/tesis_model_cnn_res_vec.h5\n",
      "Epoch 9/100\n",
      "8786/8786 [==============================] - 50s 6ms/step - loss: 1.1272 - acc: 0.3366 - f1_vec: 0.0170 - val_loss: 5.3780 - val_acc: 0.7276 - val_f1_vec: 0.7276\n",
      "\n",
      "Epoch 00009: val_loss did not improve from 1.00012\n",
      "Epoch 10/100\n",
      "8786/8786 [==============================] - 49s 6ms/step - loss: 1.1277 - acc: 0.3420 - f1_vec: 0.0195 - val_loss: 7.7153 - val_acc: 0.0915 - val_f1_vec: 0.0908\n",
      "\n",
      "Epoch 00010: val_loss did not improve from 1.00012\n",
      "Epoch 11/100\n",
      "8786/8786 [==============================] - 49s 6ms/step - loss: 1.1160 - acc: 0.3337 - f1_vec: 0.0183 - val_loss: 10.0656 - val_acc: 0.1809 - val_f1_vec: 0.1808\n",
      "\n",
      "Epoch 00011: val_loss did not improve from 1.00012\n",
      "Epoch 12/100\n",
      "8786/8786 [==============================] - 48s 6ms/step - loss: 1.1141 - acc: 0.3420 - f1_vec: 0.0162 - val_loss: 7.8445 - val_acc: 0.7276 - val_f1_vec: 0.7276\n",
      "\n",
      "Epoch 00012: val_loss did not improve from 1.00012\n",
      "Epoch 13/100\n",
      "8786/8786 [==============================] - 48s 6ms/step - loss: 1.1097 - acc: 0.3455 - f1_vec: 0.0162 - val_loss: 2.7951 - val_acc: 0.1988 - val_f1_vec: 0.1988\n",
      "\n",
      "Epoch 00013: val_loss did not improve from 1.00012\n",
      "Epoch 14/100\n",
      "8786/8786 [==============================] - 49s 6ms/step - loss: 1.1080 - acc: 0.3327 - f1_vec: 0.0153 - val_loss: 6.7362 - val_acc: 0.1809 - val_f1_vec: 0.1808\n",
      "\n",
      "Epoch 00014: val_loss did not improve from 1.00012\n",
      "Epoch 15/100\n",
      "8786/8786 [==============================] - 48s 6ms/step - loss: 1.1098 - acc: 0.3437 - f1_vec: 0.0177 - val_loss: 1.1074 - val_acc: 0.7276 - val_f1_vec: 0.7276\n",
      "\n",
      "Epoch 00015: val_loss did not improve from 1.00012\n",
      "Epoch 16/100\n",
      "8786/8786 [==============================] - 48s 6ms/step - loss: 1.1122 - acc: 0.3350 - f1_vec: 0.0180 - val_loss: 1.5401 - val_acc: 0.7276 - val_f1_vec: 0.7276\n",
      "\n",
      "Epoch 00016: val_loss did not improve from 1.00012\n",
      "Epoch 17/100\n",
      "8786/8786 [==============================] - 48s 6ms/step - loss: 1.1027 - acc: 0.3442 - f1_vec: 0.0169 - val_loss: 3.1276 - val_acc: 0.1988 - val_f1_vec: 0.1988\n",
      "\n",
      "Epoch 00017: val_loss did not improve from 1.00012\n",
      "Epoch 18/100\n",
      "8786/8786 [==============================] - 48s 6ms/step - loss: 1.0973 - acc: 0.3408 - f1_vec: 0.0156 - val_loss: 3.2320 - val_acc: 0.1988 - val_f1_vec: 0.1988\n",
      "\n",
      "Epoch 00018: val_loss did not improve from 1.00012\n",
      "Epoch 00018: early stopping\n"
     ]
    }
   ],
   "source": [
    "tesis_model_cnn_res_vec = model_cnn_res_vec.fit(x2res, y2res, batch_size=12, epochs=100, \n",
    "                                                validation_data=(x2val_vec, y2val), callbacks=callbacks_res_vec, shuffle=True, verbose=1)"
   ]
  },
  {
   "cell_type": "code",
   "execution_count": null,
   "metadata": {
    "colab": {},
    "colab_type": "code",
    "id": "OdrgR2xtDuPh"
   },
   "outputs": [],
   "source": []
  },
  {
   "cell_type": "code",
   "execution_count": null,
   "metadata": {
    "colab": {},
    "colab_type": "code",
    "id": "wJIBzWiODuXr"
   },
   "outputs": [],
   "source": []
  },
  {
   "cell_type": "markdown",
   "metadata": {
    "colab_type": "text",
    "id": "4Wqx9y0oXYML"
   },
   "source": [
    "### **LSTM**"
   ]
  },
  {
   "cell_type": "markdown",
   "metadata": {
    "colab_type": "text",
    "id": "oSFb7e4F-Ov5"
   },
   "source": [
    "##### LSTM"
   ]
  },
  {
   "cell_type": "code",
   "execution_count": null,
   "metadata": {
    "colab": {
     "base_uri": "https://localhost:8080/",
     "height": 781
    },
    "colab_type": "code",
    "id": "2e9yq4LV-Nj0",
    "outputId": "74b8fc7b-8ff0-4e8b-befc-56bc6061a266"
   },
   "outputs": [
    {
     "name": "stdout",
     "output_type": "stream",
     "text": [
      "Model LSTM UNRES\n",
      "Model: \"model_15\"\n",
      "_________________________________________________________________\n",
      "Layer (type)                 Output Shape              Param #   \n",
      "=================================================================\n",
      "input_9 (InputLayer)         (None, 50)                0         \n",
      "_________________________________________________________________\n",
      "embedding_9 (Embedding)      (None, 50, 300)           1905000   \n",
      "_________________________________________________________________\n",
      "spatial_dropout1d_8 (Spatial (None, 50, 300)           0         \n",
      "_________________________________________________________________\n",
      "lstm_8 (LSTM)                (None, 128)               219648    \n",
      "_________________________________________________________________\n",
      "dropout_8 (Dropout)          (None, 128)               0         \n",
      "_________________________________________________________________\n",
      "dense_11 (Dense)             (None, 3)                 387       \n",
      "=================================================================\n",
      "Total params: 2,125,035\n",
      "Trainable params: 2,125,035\n",
      "Non-trainable params: 0\n",
      "_________________________________________________________________\n",
      "Model LSTM RES\n",
      "Model: \"model_16\"\n",
      "_________________________________________________________________\n",
      "Layer (type)                 Output Shape              Param #   \n",
      "=================================================================\n",
      "input_9 (InputLayer)         (None, 50)                0         \n",
      "_________________________________________________________________\n",
      "embedding_9 (Embedding)      (None, 50, 300)           1905000   \n",
      "_________________________________________________________________\n",
      "spatial_dropout1d_8 (Spatial (None, 50, 300)           0         \n",
      "_________________________________________________________________\n",
      "lstm_8 (LSTM)                (None, 128)               219648    \n",
      "_________________________________________________________________\n",
      "dropout_8 (Dropout)          (None, 128)               0         \n",
      "_________________________________________________________________\n",
      "dense_11 (Dense)             (None, 3)                 387       \n",
      "=================================================================\n",
      "Total params: 2,125,035\n",
      "Trainable params: 2,125,035\n",
      "Non-trainable params: 0\n",
      "_________________________________________________________________\n"
     ]
    }
   ],
   "source": [
    "maxlen = MAX_SEQUENCE_LENGTH\n",
    "#maxlen_vec = td\n",
    "lstm_cell = 128\n",
    "dropout_rate = 0.5\n",
    "\n",
    "inputs = Input(shape=(maxlen,))\n",
    "embedding_layer = Embedding(len(word_index) + 1,\n",
    "                            EMBEDDING_DIM,\n",
    "                            weights=[embedding_matrix],\n",
    "                            trainable=True)\n",
    "embedding = embedding_layer(inputs)\n",
    "\n",
    "#emb2 = Embedding(embedding_matrix.shape[0], embedding_matrix.shape[1], \n",
    "#                 weights=[embedding_matrix], trainable=True)(inputs)\n",
    "\n",
    "s_drop = SpatialDropout1D(dropout_rate)(embedding)\n",
    "lstm = LSTM((lstm_cell), return_sequences=True)(s_drop)\n",
    "lstm = LSTM((lstm_cell), return_sequences=False)(s_drop)\n",
    "drop = Dropout(dropout_rate)(lstm)\n",
    "output = Dense(units=num_classes, activation='softmax')(drop)\n",
    "\n",
    "model_lstm_unres = Model(inputs, output)\n",
    "model_lstm_res = Model(inputs, output)\n",
    "\n",
    "model_lstm_unres.compile(loss='categorical_crossentropy', optimizer=rmsprop, metrics=['acc', f1, TP, TN])\n",
    "model_lstm_res.compile(loss='categorical_crossentropy', optimizer=rmsprop, metrics=['acc', f1, TP, TN])\n",
    "\n",
    "callbacks_unres = [EarlyStopping(monitor='val_loss', verbose= 1, patience=10, mode='auto'), \n",
    "                   ModelCheckpoint('/content/drive/My Drive/Tesis/Hasil NN Tesis/LSTM/tesis_model_lstm_unres2.h5', monitor='val_loss', verbose=1, save_best_only=True, mode='auto'), \n",
    "                   ReduceLROnPlateau(monitor='val_loss', factor=0.2, patience=10, min_lr=0.001)]\n",
    "\n",
    "callbacks_res = [EarlyStopping(monitor='val_loss', verbose= 1, patience=10, mode='auto'), \n",
    "                 ModelCheckpoint('/content/drive/My Drive/Tesis/Hasil NN Tesis/LSTM/tesis_model_lstm_res2.h5', monitor='val_loss', verbose=1, save_best_only=True, mode='auto'), \n",
    "                 ReduceLROnPlateau(monitor='val_loss', factor=0.2, patience=10, min_lr=0.001)]\n",
    "\n",
    "print('Model LSTM UNRES')\n",
    "model_lstm_unres.summary()\n",
    "print('Model LSTM RES')\n",
    "model_lstm_res.summary()"
   ]
  },
  {
   "cell_type": "code",
   "execution_count": null,
   "metadata": {
    "colab": {
     "base_uri": "https://localhost:8080/",
     "height": 983
    },
    "colab_type": "code",
    "id": "yFv2ip8S-T5i",
    "outputId": "80d7a4e4-6c32-442d-9f74-f2ad99e1c506"
   },
   "outputs": [
    {
     "name": "stderr",
     "output_type": "stream",
     "text": [
      "/usr/local/lib/python3.6/dist-packages/tensorflow/python/framework/indexed_slices.py:434: UserWarning: Converting sparse IndexedSlices to a dense Tensor of unknown shape. This may consume a large amount of memory.\n",
      "  \"Converting sparse IndexedSlices to a dense Tensor of unknown shape. \"\n"
     ]
    },
    {
     "name": "stdout",
     "output_type": "stream",
     "text": [
      "Train on 3756 samples, validate on 805 samples\n",
      "Epoch 1/100\n",
      "3756/3756 [==============================] - 47s 12ms/step - loss: 0.6882 - acc: 0.7463 - f1: 0.7368 - val_loss: 0.6056 - val_acc: 0.7752 - val_f1: 0.7591\n",
      "\n",
      "Epoch 00001: val_loss improved from inf to 0.60560, saving model to /content/drive/My Drive/Tesis/Hasil NN Tesis/LSTM/tesis_model_lstm_unres.h5\n",
      "Epoch 2/100\n",
      "3756/3756 [==============================] - 46s 12ms/step - loss: 0.4634 - acc: 0.8320 - f1: 0.8241 - val_loss: 0.5684 - val_acc: 0.7901 - val_f1: 0.7745\n",
      "\n",
      "Epoch 00002: val_loss improved from 0.60560 to 0.56845, saving model to /content/drive/My Drive/Tesis/Hasil NN Tesis/LSTM/tesis_model_lstm_unres.h5\n",
      "Epoch 3/100\n",
      "3756/3756 [==============================] - 47s 12ms/step - loss: 0.3058 - acc: 0.8932 - f1: 0.8915 - val_loss: 0.5864 - val_acc: 0.7801 - val_f1: 0.7677\n",
      "\n",
      "Epoch 00003: val_loss did not improve from 0.56845\n",
      "Epoch 4/100\n",
      "3756/3756 [==============================] - 46s 12ms/step - loss: 0.2211 - acc: 0.9183 - f1: 0.9172 - val_loss: 0.7318 - val_acc: 0.7689 - val_f1: 0.7600\n",
      "\n",
      "Epoch 00004: val_loss did not improve from 0.56845\n",
      "Epoch 5/100\n",
      "3756/3756 [==============================] - 46s 12ms/step - loss: 0.1792 - acc: 0.9361 - f1: 0.9353 - val_loss: 0.7418 - val_acc: 0.7602 - val_f1: 0.7503\n",
      "\n",
      "Epoch 00005: val_loss did not improve from 0.56845\n",
      "Epoch 6/100\n",
      "3756/3756 [==============================] - 45s 12ms/step - loss: 0.1424 - acc: 0.9497 - f1: 0.9483 - val_loss: 0.8298 - val_acc: 0.7714 - val_f1: 0.7576\n",
      "\n",
      "Epoch 00006: val_loss did not improve from 0.56845\n",
      "Epoch 7/100\n",
      "3756/3756 [==============================] - 46s 12ms/step - loss: 0.1145 - acc: 0.9609 - f1: 0.9605 - val_loss: 0.9203 - val_acc: 0.7727 - val_f1: 0.7610\n",
      "\n",
      "Epoch 00007: val_loss did not improve from 0.56845\n",
      "Epoch 8/100\n",
      "3756/3756 [==============================] - 45s 12ms/step - loss: 0.0935 - acc: 0.9681 - f1: 0.9678 - val_loss: 1.0286 - val_acc: 0.7640 - val_f1: 0.7514\n",
      "\n",
      "Epoch 00008: val_loss did not improve from 0.56845\n",
      "Epoch 9/100\n",
      "3756/3756 [==============================] - 45s 12ms/step - loss: 0.0788 - acc: 0.9731 - f1: 0.9726 - val_loss: 0.9903 - val_acc: 0.7689 - val_f1: 0.7726\n",
      "\n",
      "Epoch 00009: val_loss did not improve from 0.56845\n",
      "Epoch 10/100\n",
      "3756/3756 [==============================] - 46s 12ms/step - loss: 0.0713 - acc: 0.9763 - f1: 0.9755 - val_loss: 1.0908 - val_acc: 0.7516 - val_f1: 0.7558\n",
      "\n",
      "Epoch 00010: val_loss did not improve from 0.56845\n",
      "Epoch 11/100\n",
      "3756/3756 [==============================] - 46s 12ms/step - loss: 0.0643 - acc: 0.9766 - f1: 0.9759 - val_loss: 1.2091 - val_acc: 0.7665 - val_f1: 0.7720\n",
      "\n",
      "Epoch 00011: val_loss did not improve from 0.56845\n",
      "Epoch 12/100\n",
      "3756/3756 [==============================] - 47s 12ms/step - loss: 0.0553 - acc: 0.9806 - f1: 0.9798 - val_loss: 1.3651 - val_acc: 0.7578 - val_f1: 0.7600\n",
      "\n",
      "Epoch 00012: val_loss did not improve from 0.56845\n",
      "Epoch 00012: early stopping\n"
     ]
    }
   ],
   "source": [
    "tesis_model_lstm_unres = model_lstm_unres.fit(x_train, y_train, batch_size=12, epochs=100,\n",
    "                                            validation_data=(x_val, y_val), callbacks=callbacks_unres, shuffle=True, verbose=1)"
   ]
  },
  {
   "cell_type": "code",
   "execution_count": null,
   "metadata": {
    "colab": {
     "base_uri": "https://localhost:8080/",
     "height": 910
    },
    "colab_type": "code",
    "id": "jNvv20sa-ULi",
    "outputId": "c9a2e38d-06a8-4cec-cda1-a2207eb88c2d"
   },
   "outputs": [
    {
     "name": "stderr",
     "output_type": "stream",
     "text": [
      "/usr/local/lib/python3.6/dist-packages/tensorflow/python/framework/indexed_slices.py:434: UserWarning: Converting sparse IndexedSlices to a dense Tensor of unknown shape. This may consume a large amount of memory.\n",
      "  \"Converting sparse IndexedSlices to a dense Tensor of unknown shape. \"\n"
     ]
    },
    {
     "name": "stdout",
     "output_type": "stream",
     "text": [
      "Train on 8145 samples, validate on 805 samples\n",
      "Epoch 1/100\n",
      "8145/8145 [==============================] - 86s 11ms/step - loss: 0.8559 - acc: 0.6041 - f1: 0.5675 - val_loss: 0.8053 - val_acc: 0.6882 - val_f1: 0.6663\n",
      "\n",
      "Epoch 00001: val_loss improved from inf to 0.80527, saving model to /content/drive/My Drive/Tesis/Hasil NN Tesis/LSTM/tesis_model_lstm_res.h5\n",
      "Epoch 2/100\n",
      "8145/8145 [==============================] - 85s 10ms/step - loss: 0.6054 - acc: 0.7254 - f1: 0.7169 - val_loss: 1.3855 - val_acc: 0.5789 - val_f1: 0.5682\n",
      "\n",
      "Epoch 00002: val_loss did not improve from 0.80527\n",
      "Epoch 3/100\n",
      "8145/8145 [==============================] - 84s 10ms/step - loss: 0.4822 - acc: 0.7929 - f1: 0.7855 - val_loss: 1.3981 - val_acc: 0.5789 - val_f1: 0.5684\n",
      "\n",
      "Epoch 00003: val_loss did not improve from 0.80527\n",
      "Epoch 4/100\n",
      "8145/8145 [==============================] - 85s 10ms/step - loss: 0.3894 - acc: 0.8381 - f1: 0.8362 - val_loss: 1.6045 - val_acc: 0.6099 - val_f1: 0.5915\n",
      "\n",
      "Epoch 00004: val_loss did not improve from 0.80527\n",
      "Epoch 5/100\n",
      "8145/8145 [==============================] - 84s 10ms/step - loss: 0.3258 - acc: 0.8697 - f1: 0.8677 - val_loss: 1.7278 - val_acc: 0.5839 - val_f1: 0.5798\n",
      "\n",
      "Epoch 00005: val_loss did not improve from 0.80527\n",
      "Epoch 6/100\n",
      "8145/8145 [==============================] - 83s 10ms/step - loss: 0.2569 - acc: 0.8982 - f1: 0.8973 - val_loss: 1.9543 - val_acc: 0.5789 - val_f1: 0.5700\n",
      "\n",
      "Epoch 00006: val_loss did not improve from 0.80527\n",
      "Epoch 7/100\n",
      "8145/8145 [==============================] - 84s 10ms/step - loss: 0.2201 - acc: 0.9142 - f1: 0.9137 - val_loss: 2.2334 - val_acc: 0.5814 - val_f1: 0.5600\n",
      "\n",
      "Epoch 00007: val_loss did not improve from 0.80527\n",
      "Epoch 8/100\n",
      "8145/8145 [==============================] - 84s 10ms/step - loss: 0.1915 - acc: 0.9244 - f1: 0.9237 - val_loss: 2.1304 - val_acc: 0.5963 - val_f1: 0.5845\n",
      "\n",
      "Epoch 00008: val_loss did not improve from 0.80527\n",
      "Epoch 9/100\n",
      "8145/8145 [==============================] - 84s 10ms/step - loss: 0.1562 - acc: 0.9412 - f1: 0.9423 - val_loss: 2.2959 - val_acc: 0.6062 - val_f1: 0.5953\n",
      "\n",
      "Epoch 00009: val_loss did not improve from 0.80527\n",
      "Epoch 10/100\n",
      "8145/8145 [==============================] - 84s 10ms/step - loss: 0.1344 - acc: 0.9483 - f1: 0.9481 - val_loss: 2.4828 - val_acc: 0.5727 - val_f1: 0.5611\n",
      "\n",
      "Epoch 00010: val_loss did not improve from 0.80527\n",
      "Epoch 11/100\n",
      "8145/8145 [==============================] - 84s 10ms/step - loss: 0.1238 - acc: 0.9559 - f1: 0.9559 - val_loss: 2.5713 - val_acc: 0.5814 - val_f1: 0.5729\n",
      "\n",
      "Epoch 00011: val_loss did not improve from 0.80527\n",
      "Epoch 00011: early stopping\n"
     ]
    }
   ],
   "source": [
    "tesis_model_lstm_res = model_lstm_res.fit(x_res, y_res, batch_size=12, epochs=100, \n",
    "                                        validation_data=(x_val, y_val), callbacks=callbacks_res, shuffle=True, verbose=1)"
   ]
  },
  {
   "cell_type": "code",
   "execution_count": null,
   "metadata": {
    "colab": {
     "base_uri": "https://localhost:8080/",
     "height": 564
    },
    "colab_type": "code",
    "id": "jaI_AmOlgi9Q",
    "outputId": "cab7439f-e1cd-4d4a-901e-2c8888055f30"
   },
   "outputs": [
    {
     "data": {
      "image/png": "[encoded data removed]",
      "text/plain": [
       "<IPython.core.display.Image object>"
      ]
     },
     "execution_count": 75,
     "metadata": {
      "tags": []
     },
     "output_type": "execute_result"
    }
   ],
   "source": [
    "plot_model(model_lstm_unres, to_file='/content/drive/My Drive/Tesis/Hasil NN Tesis/LSTM/tesis_model_lstm_unres2.png', \n",
    "           show_shapes=False, show_layer_names=False)"
   ]
  },
  {
   "cell_type": "markdown",
   "metadata": {
    "colab_type": "text",
    "id": "Dq6zVwCiIIJx"
   },
   "source": [
    "##### BiLSTM"
   ]
  },
  {
   "cell_type": "code",
   "execution_count": null,
   "metadata": {
    "colab": {
     "base_uri": "https://localhost:8080/",
     "height": 781
    },
    "colab_type": "code",
    "id": "1c65R5DrOU3M",
    "outputId": "0e21ea74-787c-4999-95ba-72ed9f4514e7"
   },
   "outputs": [
    {
     "name": "stdout",
     "output_type": "stream",
     "text": [
      "Model BiLSTM UNRES\n",
      "Model: \"model_29\"\n",
      "_________________________________________________________________\n",
      "Layer (type)                 Output Shape              Param #   \n",
      "=================================================================\n",
      "input_17 (InputLayer)        (None, 50)                0         \n",
      "_________________________________________________________________\n",
      "embedding_17 (Embedding)     (None, 50, 300)           1905000   \n",
      "_________________________________________________________________\n",
      "spatial_dropout1d_11 (Spatia (None, 50, 300)           0         \n",
      "_________________________________________________________________\n",
      "bidirectional_10 (Bidirectio (None, 256)               439296    \n",
      "_________________________________________________________________\n",
      "dropout_14 (Dropout)         (None, 256)               0         \n",
      "_________________________________________________________________\n",
      "dense_27 (Dense)             (None, 3)                 771       \n",
      "=================================================================\n",
      "Total params: 2,345,067\n",
      "Trainable params: 2,345,067\n",
      "Non-trainable params: 0\n",
      "_________________________________________________________________\n",
      "Model BiLSTM RES\n",
      "Model: \"model_30\"\n",
      "_________________________________________________________________\n",
      "Layer (type)                 Output Shape              Param #   \n",
      "=================================================================\n",
      "input_17 (InputLayer)        (None, 50)                0         \n",
      "_________________________________________________________________\n",
      "embedding_17 (Embedding)     (None, 50, 300)           1905000   \n",
      "_________________________________________________________________\n",
      "spatial_dropout1d_11 (Spatia (None, 50, 300)           0         \n",
      "_________________________________________________________________\n",
      "bidirectional_10 (Bidirectio (None, 256)               439296    \n",
      "_________________________________________________________________\n",
      "dropout_14 (Dropout)         (None, 256)               0         \n",
      "_________________________________________________________________\n",
      "dense_27 (Dense)             (None, 3)                 771       \n",
      "=================================================================\n",
      "Total params: 2,345,067\n",
      "Trainable params: 2,345,067\n",
      "Non-trainable params: 0\n",
      "_________________________________________________________________\n"
     ]
    }
   ],
   "source": [
    "maxlen = MAX_SEQUENCE_LENGTH\n",
    "#maxlen_vec = td\n",
    "lstm_cell = 128\n",
    "dropout_rate = 0.5\n",
    "\n",
    "inputs = Input(shape=(maxlen,))\n",
    "embedding_layer = Embedding(len(word_index) + 1,\n",
    "                            EMBEDDING_DIM,\n",
    "                            weights=[embedding_matrix],\n",
    "                            trainable=True)\n",
    "embedding = embedding_layer(inputs)\n",
    "\n",
    "#emb2 = Embedding(embedding_matrix.shape[0], embedding_matrix.shape[1], \n",
    "#                 weights=[embedding_matrix], trainable=True)(inputs)\n",
    "\n",
    "s_drop = SpatialDropout1D(dropout_rate)(embedding)\n",
    "lstm = Bidirectional(LSTM((lstm_cell), return_sequences=True))(s_drop)\n",
    "lstm = Bidirectional(LSTM((lstm_cell), return_sequences=False))(s_drop)\n",
    "drop = Dropout(dropout_rate)(lstm)\n",
    "output = Dense(units=num_classes, activation='softmax')(drop)\n",
    "\n",
    "model_bilstm_unres = Model(inputs, output)\n",
    "model_bilstm_res = Model(inputs, output)\n",
    "\n",
    "model_bilstm_unres.compile(loss='categorical_crossentropy', optimizer=rmsprop, metrics=['acc', f1])\n",
    "model_bilstm_res.compile(loss='categorical_crossentropy', optimizer=rmsprop, metrics=['acc', f1])\n",
    "\n",
    "callbacks_unres = [EarlyStopping(monitor='val_loss', verbose= 1, patience=10, mode='auto'), \n",
    "                   ModelCheckpoint('/content/drive/My Drive/Tesis/Hasil NN Tesis/LSTM/tesis_model_bilstm_unres.h5', monitor='val_loss', verbose=1, save_best_only=True, mode='auto'), \n",
    "                   ReduceLROnPlateau(monitor='val_loss', factor=0.2, patience=10, min_lr=0.001)]\n",
    "\n",
    "callbacks_res = [EarlyStopping(monitor='val_loss', verbose= 1, patience=10, mode='auto'), \n",
    "                 ModelCheckpoint('/content/drive/My Drive/Tesis/Hasil NN Tesis/LSTM/tesis_model_bilstm_res.h5', monitor='val_loss', verbose=1, save_best_only=True, mode='auto'), \n",
    "                 ReduceLROnPlateau(monitor='val_loss', factor=0.2, patience=10, min_lr=0.001)]\n",
    "\n",
    "print('Model BiLSTM UNRES')\n",
    "model_bilstm_unres.summary()\n",
    "print('Model BiLSTM RES')\n",
    "model_bilstm_res.summary()"
   ]
  },
  {
   "cell_type": "code",
   "execution_count": null,
   "metadata": {
    "colab": {
     "base_uri": "https://localhost:8080/",
     "height": 781
    },
    "colab_type": "code",
    "id": "Q974H5resfhW",
    "outputId": "fcf06a02-e867-4b25-c135-e5b51d9bf4bc"
   },
   "outputs": [
    {
     "name": "stdout",
     "output_type": "stream",
     "text": [
      "Model LSTM UNRES VEC\n",
      "Model: \"model_8\"\n",
      "_________________________________________________________________\n",
      "Layer (type)                 Output Shape              Param #   \n",
      "=================================================================\n",
      "input_5 (InputLayer)         (None, 1000)              0         \n",
      "_________________________________________________________________\n",
      "embedding_5 (Embedding)      (None, 1000, 300)         1905000   \n",
      "_________________________________________________________________\n",
      "spatial_dropout1d_2 (Spatial (None, 1000, 300)         0         \n",
      "_________________________________________________________________\n",
      "lstm_2 (LSTM)                (None, 128)               219648    \n",
      "_________________________________________________________________\n",
      "dropout_5 (Dropout)          (None, 128)               0         \n",
      "_________________________________________________________________\n",
      "dense_6 (Dense)              (None, 3)                 387       \n",
      "=================================================================\n",
      "Total params: 2,125,035\n",
      "Trainable params: 2,125,035\n",
      "Non-trainable params: 0\n",
      "_________________________________________________________________\n",
      "Model LSTM RES VEC\n",
      "Model: \"model_9\"\n",
      "_________________________________________________________________\n",
      "Layer (type)                 Output Shape              Param #   \n",
      "=================================================================\n",
      "input_5 (InputLayer)         (None, 1000)              0         \n",
      "_________________________________________________________________\n",
      "embedding_5 (Embedding)      (None, 1000, 300)         1905000   \n",
      "_________________________________________________________________\n",
      "spatial_dropout1d_2 (Spatial (None, 1000, 300)         0         \n",
      "_________________________________________________________________\n",
      "lstm_2 (LSTM)                (None, 128)               219648    \n",
      "_________________________________________________________________\n",
      "dropout_5 (Dropout)          (None, 128)               0         \n",
      "_________________________________________________________________\n",
      "dense_6 (Dense)              (None, 3)                 387       \n",
      "=================================================================\n",
      "Total params: 2,125,035\n",
      "Trainable params: 2,125,035\n",
      "Non-trainable params: 0\n",
      "_________________________________________________________________\n"
     ]
    }
   ],
   "source": [
    "maxlen = MAX_SEQUENCE_LENGTH\n",
    "maxlen_vec = td\n",
    "lstm_cell = 128\n",
    "dropout_rate = 0.5\n",
    "\n",
    "inputs = Input(shape=(maxlen_vec,))\n",
    "#embedding_layer = Embedding(len(word_index) + 1,\n",
    "                           # EMBEDDING_DIM,\n",
    "                            #weights=[embedding_matrix],\n",
    "                           # trainable=True)\n",
    "#embedding = embedding_layer(inputs)\n",
    "\n",
    "emb2 = Embedding(embedding_matrix.shape[0], embedding_matrix.shape[1], \n",
    "                 weights=[embedding_matrix], trainable=True)(inputs)\n",
    "\n",
    "s_drop = SpatialDropout1D(dropout_rate)(emb2)\n",
    "lstm = LSTM((lstm_cell), return_sequences=False)(s_drop)\n",
    "drop = Dropout(dropout_rate)(lstm)\n",
    "output = Dense(units=num_classes, activation='softmax')(drop)\n",
    "\n",
    "model_lstm_unres_vec = Model(inputs, output)\n",
    "model_lstm_res_vec = Model(inputs, output)\n",
    "\n",
    "model_lstm_unres_vec.compile(loss='categorical_crossentropy', optimizer=rmsprop, metrics=['acc', f1])\n",
    "model_lstm_res_vec.compile(loss='categorical_crossentropy', optimizer=adam, metrics=['acc', f1])\n",
    "\n",
    "callbacks_unres_vec = [EarlyStopping(monitor='val_loss', verbose= 1, patience=10, mode='auto'), \n",
    "                   ModelCheckpoint('/content/drive/My Drive/Tesis/Hasil NN Tesis/LSTM/tesis_model_lstm_unres_vec.h5', monitor='val_loss', verbose=1, save_best_only=True, mode='auto'), \n",
    "                   ReduceLROnPlateau(monitor='val_loss', factor=0.2, patience=10, min_lr=0.001)]\n",
    "\n",
    "callbacks_res_vec = [EarlyStopping(monitor='val_loss', verbose= 1, patience=10, mode='auto'), \n",
    "                 ModelCheckpoint('/content/drive/My Drive/Tesis/Hasil NN Tesis/LSTM/tesis_model_lstm_res_vec.h5', monitor='val_loss', verbose=1, save_best_only=True, mode='auto'), \n",
    "                 ReduceLROnPlateau(monitor='val_loss', factor=0.2, patience=10, min_lr=0.001)]\n",
    "\n",
    "print('Model LSTM UNRES VEC')\n",
    "model_lstm_unres_vec.summary()\n",
    "print('Model LSTM RES VEC')\n",
    "model_lstm_res_vec.summary()"
   ]
  },
  {
   "cell_type": "code",
   "execution_count": null,
   "metadata": {
    "colab": {
     "base_uri": "https://localhost:8080/",
     "height": 1000
    },
    "colab_type": "code",
    "id": "iVlJT1Avsfxv",
    "outputId": "b97bcd51-faf9-4201-e2c7-36db7524653d"
   },
   "outputs": [
    {
     "name": "stderr",
     "output_type": "stream",
     "text": [
      "/usr/local/lib/python3.6/dist-packages/tensorflow/python/framework/indexed_slices.py:434: UserWarning: Converting sparse IndexedSlices to a dense Tensor of unknown shape. This may consume a large amount of memory.\n",
      "  \"Converting sparse IndexedSlices to a dense Tensor of unknown shape. \"\n"
     ]
    },
    {
     "name": "stdout",
     "output_type": "stream",
     "text": [
      "Train on 3756 samples, validate on 805 samples\n",
      "Epoch 1/100\n",
      "3756/3756 [==============================] - 88s 23ms/step - loss: 0.7625 - acc: 0.7228 - f1: 0.7096 - val_loss: 0.6915 - val_acc: 0.7354 - val_f1: 0.7393\n",
      "\n",
      "Epoch 00001: val_loss improved from inf to 0.69148, saving model to /content/drive/My Drive/Tesis/Hasil NN Tesis/LSTM/tesis_model_lstm_unres.h5\n",
      "Epoch 2/100\n",
      "3756/3756 [==============================] - 86s 23ms/step - loss: 0.6363 - acc: 0.7654 - f1: 0.7567 - val_loss: 0.6082 - val_acc: 0.7689 - val_f1: 0.7669\n",
      "\n",
      "Epoch 00002: val_loss improved from 0.69148 to 0.60825, saving model to /content/drive/My Drive/Tesis/Hasil NN Tesis/LSTM/tesis_model_lstm_unres.h5\n",
      "Epoch 3/100\n",
      "3756/3756 [==============================] - 87s 23ms/step - loss: 0.5388 - acc: 0.7913 - f1: 0.7892 - val_loss: 0.5706 - val_acc: 0.7752 - val_f1: 0.7580\n",
      "\n",
      "Epoch 00003: val_loss improved from 0.60825 to 0.57055, saving model to /content/drive/My Drive/Tesis/Hasil NN Tesis/LSTM/tesis_model_lstm_unres.h5\n",
      "Epoch 4/100\n",
      "3756/3756 [==============================] - 86s 23ms/step - loss: 0.4898 - acc: 0.8182 - f1: 0.8139 - val_loss: 0.5800 - val_acc: 0.7988 - val_f1: 0.7895\n",
      "\n",
      "Epoch 00004: val_loss did not improve from 0.57055\n",
      "Epoch 5/100\n",
      "3756/3756 [==============================] - 87s 23ms/step - loss: 0.4388 - acc: 0.8400 - f1: 0.8370 - val_loss: 0.5505 - val_acc: 0.7851 - val_f1: 0.7603\n",
      "\n",
      "Epoch 00005: val_loss improved from 0.57055 to 0.55051, saving model to /content/drive/My Drive/Tesis/Hasil NN Tesis/LSTM/tesis_model_lstm_unres.h5\n",
      "Epoch 6/100\n",
      "3756/3756 [==============================] - 87s 23ms/step - loss: 0.3978 - acc: 0.8517 - f1: 0.8495 - val_loss: 0.5536 - val_acc: 0.8025 - val_f1: 0.7855\n",
      "\n",
      "Epoch 00006: val_loss did not improve from 0.55051\n",
      "Epoch 7/100\n",
      "3756/3756 [==============================] - 85s 23ms/step - loss: 0.3732 - acc: 0.8613 - f1: 0.8618 - val_loss: 0.5459 - val_acc: 0.7888 - val_f1: 0.7724\n",
      "\n",
      "Epoch 00007: val_loss improved from 0.55051 to 0.54588, saving model to /content/drive/My Drive/Tesis/Hasil NN Tesis/LSTM/tesis_model_lstm_unres.h5\n",
      "Epoch 8/100\n",
      "3756/3756 [==============================] - 86s 23ms/step - loss: 0.3394 - acc: 0.8757 - f1: 0.8749 - val_loss: 0.5498 - val_acc: 0.8000 - val_f1: 0.7885\n",
      "\n",
      "Epoch 00008: val_loss did not improve from 0.54588\n",
      "Epoch 9/100\n",
      "3756/3756 [==============================] - 86s 23ms/step - loss: 0.3088 - acc: 0.8884 - f1: 0.8866 - val_loss: 0.6286 - val_acc: 0.8000 - val_f1: 0.7990\n",
      "\n",
      "Epoch 00009: val_loss did not improve from 0.54588\n",
      "Epoch 10/100\n",
      "3756/3756 [==============================] - 84s 22ms/step - loss: 0.2920 - acc: 0.8932 - f1: 0.8923 - val_loss: 0.5910 - val_acc: 0.7963 - val_f1: 0.7814\n",
      "\n",
      "Epoch 00010: val_loss did not improve from 0.54588\n",
      "Epoch 11/100\n",
      "3756/3756 [==============================] - 84s 22ms/step - loss: 0.2656 - acc: 0.9073 - f1: 0.9065 - val_loss: 0.6224 - val_acc: 0.7950 - val_f1: 0.7830\n",
      "\n",
      "Epoch 00011: val_loss did not improve from 0.54588\n",
      "Epoch 12/100\n",
      "3756/3756 [==============================] - 84s 22ms/step - loss: 0.2414 - acc: 0.9105 - f1: 0.9109 - val_loss: 0.6567 - val_acc: 0.7727 - val_f1: 0.7618\n",
      "\n",
      "Epoch 00012: val_loss did not improve from 0.54588\n",
      "Epoch 13/100\n",
      "3756/3756 [==============================] - 84s 22ms/step - loss: 0.2244 - acc: 0.9153 - f1: 0.9157 - val_loss: 0.6957 - val_acc: 0.7901 - val_f1: 0.7793\n",
      "\n",
      "Epoch 00013: val_loss did not improve from 0.54588\n",
      "Epoch 14/100\n",
      "3756/3756 [==============================] - 86s 23ms/step - loss: 0.2108 - acc: 0.9223 - f1: 0.9216 - val_loss: 0.7482 - val_acc: 0.7677 - val_f1: 0.7652\n",
      "\n",
      "Epoch 00014: val_loss did not improve from 0.54588\n",
      "Epoch 15/100\n",
      "3756/3756 [==============================] - 86s 23ms/step - loss: 0.2006 - acc: 0.9342 - f1: 0.9340 - val_loss: 0.7000 - val_acc: 0.7826 - val_f1: 0.7850\n",
      "\n",
      "Epoch 00015: val_loss did not improve from 0.54588\n",
      "Epoch 16/100\n",
      "3756/3756 [==============================] - 86s 23ms/step - loss: 0.1803 - acc: 0.9385 - f1: 0.9388 - val_loss: 0.8235 - val_acc: 0.7590 - val_f1: 0.7481\n",
      "\n",
      "Epoch 00016: val_loss did not improve from 0.54588\n",
      "Epoch 17/100\n",
      "3756/3756 [==============================] - 86s 23ms/step - loss: 0.1677 - acc: 0.9420 - f1: 0.9415 - val_loss: 0.8201 - val_acc: 0.7503 - val_f1: 0.7522\n",
      "\n",
      "Epoch 00017: val_loss did not improve from 0.54588\n",
      "Epoch 00017: early stopping\n"
     ]
    }
   ],
   "source": [
    "tesis_model_bilstm_unres = model_bilstm_unres.fit(x_train, y_train, batch_size=12, epochs=100,\n",
    "                                            validation_data=(x_val, y_val), callbacks=callbacks_unres, shuffle=True, verbose=1)"
   ]
  },
  {
   "cell_type": "code",
   "execution_count": null,
   "metadata": {
    "colab": {
     "base_uri": "https://localhost:8080/",
     "height": 1000
    },
    "colab_type": "code",
    "id": "8iJGZgzosgCP",
    "outputId": "fd337103-1b03-46ad-e8c2-c8f239600d7a"
   },
   "outputs": [
    {
     "name": "stderr",
     "output_type": "stream",
     "text": [
      "/usr/local/lib/python3.6/dist-packages/tensorflow/python/framework/indexed_slices.py:434: UserWarning: Converting sparse IndexedSlices to a dense Tensor of unknown shape. This may consume a large amount of memory.\n",
      "  \"Converting sparse IndexedSlices to a dense Tensor of unknown shape. \"\n"
     ]
    },
    {
     "name": "stdout",
     "output_type": "stream",
     "text": [
      "Train on 8145 samples, validate on 805 samples\n",
      "Epoch 1/100\n",
      "8145/8145 [==============================] - 185s 23ms/step - loss: 1.0306 - acc: 0.4653 - f1: 0.3174 - val_loss: 0.8370 - val_acc: 0.6547 - val_f1: 0.5342\n",
      "\n",
      "Epoch 00001: val_loss improved from inf to 0.83699, saving model to /content/drive/My Drive/Tesis/Hasil NN Tesis/LSTM/tesis_model_lstm_res.h5\n",
      "Epoch 2/100\n",
      "8145/8145 [==============================] - 183s 23ms/step - loss: 0.9061 - acc: 0.5599 - f1: 0.4954 - val_loss: 0.7982 - val_acc: 0.6832 - val_f1: 0.6132\n",
      "\n",
      "Epoch 00002: val_loss improved from 0.83699 to 0.79819, saving model to /content/drive/My Drive/Tesis/Hasil NN Tesis/LSTM/tesis_model_lstm_res.h5\n",
      "Epoch 3/100\n",
      "8145/8145 [==============================] - 182s 22ms/step - loss: 0.8312 - acc: 0.6180 - f1: 0.5755 - val_loss: 0.8145 - val_acc: 0.6522 - val_f1: 0.6321\n",
      "\n",
      "Epoch 00003: val_loss did not improve from 0.79819\n",
      "Epoch 4/100\n",
      "8145/8145 [==============================] - 182s 22ms/step - loss: 0.7640 - acc: 0.6546 - f1: 0.6304 - val_loss: 0.7399 - val_acc: 0.6832 - val_f1: 0.6787\n",
      "\n",
      "Epoch 00004: val_loss improved from 0.79819 to 0.73995, saving model to /content/drive/My Drive/Tesis/Hasil NN Tesis/LSTM/tesis_model_lstm_res.h5\n",
      "Epoch 5/100\n",
      "8145/8145 [==============================] - 183s 22ms/step - loss: 0.7007 - acc: 0.6952 - f1: 0.6758 - val_loss: 0.8532 - val_acc: 0.6696 - val_f1: 0.6618\n",
      "\n",
      "Epoch 00005: val_loss did not improve from 0.73995\n",
      "Epoch 6/100\n",
      "8145/8145 [==============================] - 182s 22ms/step - loss: 0.6465 - acc: 0.7184 - f1: 0.7084 - val_loss: 0.8034 - val_acc: 0.6882 - val_f1: 0.6765\n",
      "\n",
      "Epoch 00006: val_loss did not improve from 0.73995\n",
      "Epoch 7/100\n",
      "8145/8145 [==============================] - 181s 22ms/step - loss: 0.5916 - acc: 0.7537 - f1: 0.7447 - val_loss: 0.7445 - val_acc: 0.7205 - val_f1: 0.7122\n",
      "\n",
      "Epoch 00007: val_loss did not improve from 0.73995\n",
      "Epoch 8/100\n",
      "8145/8145 [==============================] - 181s 22ms/step - loss: 0.5451 - acc: 0.7692 - f1: 0.7649 - val_loss: 0.8075 - val_acc: 0.7093 - val_f1: 0.7132\n",
      "\n",
      "Epoch 00008: val_loss did not improve from 0.73995\n",
      "Epoch 9/100\n",
      "8145/8145 [==============================] - 181s 22ms/step - loss: 0.4988 - acc: 0.7914 - f1: 0.7880 - val_loss: 0.9647 - val_acc: 0.6261 - val_f1: 0.6278\n",
      "\n",
      "Epoch 00009: val_loss did not improve from 0.73995\n",
      "Epoch 10/100\n",
      "8145/8145 [==============================] - 181s 22ms/step - loss: 0.4618 - acc: 0.8130 - f1: 0.8135 - val_loss: 1.0010 - val_acc: 0.6435 - val_f1: 0.6252\n",
      "\n",
      "Epoch 00010: val_loss did not improve from 0.73995\n",
      "Epoch 11/100\n",
      "8145/8145 [==============================] - 179s 22ms/step - loss: 0.4213 - acc: 0.8318 - f1: 0.8285 - val_loss: 0.8425 - val_acc: 0.6919 - val_f1: 0.6942\n",
      "\n",
      "Epoch 00011: val_loss did not improve from 0.73995\n",
      "Epoch 12/100\n",
      "8145/8145 [==============================] - 182s 22ms/step - loss: 0.3880 - acc: 0.8485 - f1: 0.8487 - val_loss: 1.0466 - val_acc: 0.6422 - val_f1: 0.6349\n",
      "\n",
      "Epoch 00012: val_loss did not improve from 0.73995\n",
      "Epoch 13/100\n",
      "8145/8145 [==============================] - 179s 22ms/step - loss: 0.3455 - acc: 0.8638 - f1: 0.8640 - val_loss: 1.0598 - val_acc: 0.6509 - val_f1: 0.6448\n",
      "\n",
      "Epoch 00013: val_loss did not improve from 0.73995\n",
      "Epoch 14/100\n",
      "8145/8145 [==============================] - 180s 22ms/step - loss: 0.3153 - acc: 0.8796 - f1: 0.8792 - val_loss: 1.0445 - val_acc: 0.6733 - val_f1: 0.6602\n",
      "\n",
      "Epoch 00014: val_loss did not improve from 0.73995\n",
      "Epoch 00014: early stopping\n"
     ]
    }
   ],
   "source": [
    "tesis_model_bilstm_res = model_bilstm_res.fit(x_res, y_res, batch_size=12, epochs=100, \n",
    "                                        validation_data=(x_val, y_val), callbacks=callbacks_res, shuffle=True, verbose=1)"
   ]
  },
  {
   "cell_type": "code",
   "execution_count": null,
   "metadata": {
    "colab": {
     "base_uri": "https://localhost:8080/",
     "height": 1000
    },
    "colab_type": "code",
    "id": "0YyjYKX9sgUH",
    "outputId": "626cc506-b414-4b5c-ed07-23b883fba466"
   },
   "outputs": [
    {
     "name": "stderr",
     "output_type": "stream",
     "text": [
      "/usr/local/lib/python3.6/dist-packages/tensorflow/python/framework/indexed_slices.py:434: UserWarning: Converting sparse IndexedSlices to a dense Tensor of unknown shape. This may consume a large amount of memory.\n",
      "  \"Converting sparse IndexedSlices to a dense Tensor of unknown shape. \"\n"
     ]
    },
    {
     "name": "stdout",
     "output_type": "stream",
     "text": [
      "Train on 4025 samples, validate on 1006 samples\n",
      "Epoch 1/100\n",
      "4025/4025 [==============================] - 1096s 272ms/step - loss: 0.7984 - acc: 0.7215 - f1: 0.7176 - val_loss: 0.7928 - val_acc: 0.7276 - val_f1: 0.7276\n",
      "\n",
      "Epoch 00001: val_loss improved from inf to 0.79276, saving model to /content/drive/My Drive/Tesis/Hasil NN Tesis/LSTM/tesis_model_lstm_unres_vec.h5\n",
      "Epoch 2/100\n",
      "4025/4025 [==============================] - 1091s 271ms/step - loss: 0.7832 - acc: 0.7277 - f1: 0.7275 - val_loss: 0.7815 - val_acc: 0.7276 - val_f1: 0.7276\n",
      "\n",
      "Epoch 00002: val_loss improved from 0.79276 to 0.78146, saving model to /content/drive/My Drive/Tesis/Hasil NN Tesis/LSTM/tesis_model_lstm_unres_vec.h5\n",
      "Epoch 3/100\n",
      "4025/4025 [==============================] - 1112s 276ms/step - loss: 0.7892 - acc: 0.7277 - f1: 0.7276 - val_loss: 0.7631 - val_acc: 0.7276 - val_f1: 0.7276\n",
      "\n",
      "Epoch 00003: val_loss improved from 0.78146 to 0.76305, saving model to /content/drive/My Drive/Tesis/Hasil NN Tesis/LSTM/tesis_model_lstm_unres_vec.h5\n",
      "Epoch 4/100\n",
      "4025/4025 [==============================] - 1065s 265ms/step - loss: 0.7837 - acc: 0.7277 - f1: 0.7278 - val_loss: 0.7677 - val_acc: 0.7276 - val_f1: 0.7276\n",
      "\n",
      "Epoch 00004: val_loss did not improve from 0.76305\n",
      "Epoch 5/100\n",
      "4025/4025 [==============================] - 1025s 255ms/step - loss: 0.7816 - acc: 0.7277 - f1: 0.7278 - val_loss: 0.7727 - val_acc: 0.7276 - val_f1: 0.7276\n",
      "\n",
      "Epoch 00005: val_loss did not improve from 0.76305\n",
      "Epoch 6/100\n",
      "4025/4025 [==============================] - 1045s 260ms/step - loss: 0.7790 - acc: 0.7277 - f1: 0.7272 - val_loss: 0.7619 - val_acc: 0.7276 - val_f1: 0.7276\n",
      "\n",
      "Epoch 00006: val_loss improved from 0.76305 to 0.76190, saving model to /content/drive/My Drive/Tesis/Hasil NN Tesis/LSTM/tesis_model_lstm_unres_vec.h5\n",
      "Epoch 7/100\n",
      "4025/4025 [==============================] - 1034s 257ms/step - loss: 0.7823 - acc: 0.7277 - f1: 0.7278 - val_loss: 0.7646 - val_acc: 0.7276 - val_f1: 0.7276\n",
      "\n",
      "Epoch 00007: val_loss did not improve from 0.76190\n",
      "Epoch 8/100\n",
      "4025/4025 [==============================] - 1131s 281ms/step - loss: 0.7765 - acc: 0.7277 - f1: 0.7279 - val_loss: 0.7792 - val_acc: 0.7276 - val_f1: 0.7276\n",
      "\n",
      "Epoch 00008: val_loss did not improve from 0.76190\n",
      "Epoch 9/100\n",
      "4025/4025 [==============================] - 1104s 274ms/step - loss: 0.7796 - acc: 0.7277 - f1: 0.7275 - val_loss: 0.7600 - val_acc: 0.7276 - val_f1: 0.7276\n",
      "\n",
      "Epoch 00009: val_loss improved from 0.76190 to 0.75998, saving model to /content/drive/My Drive/Tesis/Hasil NN Tesis/LSTM/tesis_model_lstm_unres_vec.h5\n",
      "Epoch 10/100\n",
      "4025/4025 [==============================] - 1116s 277ms/step - loss: 0.7809 - acc: 0.7277 - f1: 0.7276 - val_loss: 0.7604 - val_acc: 0.7276 - val_f1: 0.7276\n",
      "\n",
      "Epoch 00010: val_loss did not improve from 0.75998\n",
      "Epoch 11/100\n",
      "4025/4025 [==============================] - 1112s 276ms/step - loss: 0.7754 - acc: 0.7277 - f1: 0.7270 - val_loss: 0.7623 - val_acc: 0.7276 - val_f1: 0.7276\n",
      "\n",
      "Epoch 00011: val_loss did not improve from 0.75998\n",
      "Epoch 12/100\n",
      "4025/4025 [==============================] - 1115s 277ms/step - loss: 0.7787 - acc: 0.7277 - f1: 0.7273 - val_loss: 0.7597 - val_acc: 0.7276 - val_f1: 0.7276\n",
      "\n",
      "Epoch 00012: val_loss improved from 0.75998 to 0.75971, saving model to /content/drive/My Drive/Tesis/Hasil NN Tesis/LSTM/tesis_model_lstm_unres_vec.h5\n",
      "Epoch 13/100\n",
      "4025/4025 [==============================] - 1100s 273ms/step - loss: 0.7783 - acc: 0.7277 - f1: 0.7274 - val_loss: 0.7636 - val_acc: 0.7276 - val_f1: 0.7276\n",
      "\n",
      "Epoch 00013: val_loss did not improve from 0.75971\n",
      "Epoch 14/100\n",
      "4025/4025 [==============================] - 1090s 271ms/step - loss: 0.7780 - acc: 0.7277 - f1: 0.7278 - val_loss: 0.7662 - val_acc: 0.7276 - val_f1: 0.7276\n",
      "\n",
      "Epoch 00014: val_loss did not improve from 0.75971\n",
      "Epoch 15/100\n",
      "4025/4025 [==============================] - 1052s 261ms/step - loss: 0.7797 - acc: 0.7277 - f1: 0.7280 - val_loss: 0.7724 - val_acc: 0.7276 - val_f1: 0.7276\n",
      "\n",
      "Epoch 00015: val_loss did not improve from 0.75971\n",
      "Epoch 16/100\n",
      "4025/4025 [==============================] - 1045s 260ms/step - loss: 0.7763 - acc: 0.7277 - f1: 0.7278 - val_loss: 0.7681 - val_acc: 0.7276 - val_f1: 0.7276\n",
      "\n",
      "Epoch 00016: val_loss did not improve from 0.75971\n",
      "Epoch 17/100\n",
      "4025/4025 [==============================] - 1026s 255ms/step - loss: 0.7730 - acc: 0.7277 - f1: 0.7272 - val_loss: 0.7649 - val_acc: 0.7276 - val_f1: 0.7276\n",
      "\n",
      "Epoch 00017: val_loss did not improve from 0.75971\n",
      "Epoch 18/100\n",
      "4025/4025 [==============================] - 1036s 257ms/step - loss: 0.7777 - acc: 0.7277 - f1: 0.7279 - val_loss: 0.7697 - val_acc: 0.7276 - val_f1: 0.7276\n",
      "\n",
      "Epoch 00018: val_loss did not improve from 0.75971\n",
      "Epoch 19/100\n",
      "4025/4025 [==============================] - 1059s 263ms/step - loss: 0.7779 - acc: 0.7277 - f1: 0.7277 - val_loss: 0.7614 - val_acc: 0.7276 - val_f1: 0.7276\n",
      "\n",
      "Epoch 00019: val_loss did not improve from 0.75971\n",
      "Epoch 20/100\n",
      "4025/4025 [==============================] - 1063s 264ms/step - loss: 0.7790 - acc: 0.7277 - f1: 0.7278 - val_loss: 0.7596 - val_acc: 0.7276 - val_f1: 0.7276\n",
      "\n",
      "Epoch 00020: val_loss improved from 0.75971 to 0.75958, saving model to /content/drive/My Drive/Tesis/Hasil NN Tesis/LSTM/tesis_model_lstm_unres_vec.h5\n",
      "Epoch 21/100\n",
      "4025/4025 [==============================] - 1053s 262ms/step - loss: 0.7749 - acc: 0.7277 - f1: 0.7276 - val_loss: 0.7669 - val_acc: 0.7276 - val_f1: 0.7276\n",
      "\n",
      "Epoch 00021: val_loss did not improve from 0.75958\n",
      "Epoch 22/100\n",
      "4025/4025 [==============================] - 1066s 265ms/step - loss: 0.7778 - acc: 0.7277 - f1: 0.7274 - val_loss: 0.7639 - val_acc: 0.7276 - val_f1: 0.7276\n",
      "\n",
      "Epoch 00022: val_loss did not improve from 0.75958\n",
      "Epoch 23/100\n",
      "4025/4025 [==============================] - 1060s 263ms/step - loss: 0.7763 - acc: 0.7277 - f1: 0.7277 - val_loss: 0.7599 - val_acc: 0.7276 - val_f1: 0.7276\n",
      "\n",
      "Epoch 00023: val_loss did not improve from 0.75958\n",
      "Epoch 24/100\n",
      "4025/4025 [==============================] - 1058s 263ms/step - loss: 0.7788 - acc: 0.7277 - f1: 0.7273 - val_loss: 0.7600 - val_acc: 0.7276 - val_f1: 0.7276\n",
      "\n",
      "Epoch 00024: val_loss did not improve from 0.75958\n",
      "Epoch 25/100\n",
      "4025/4025 [==============================] - 1025s 255ms/step - loss: 0.7761 - acc: 0.7277 - f1: 0.7274 - val_loss: 0.7600 - val_acc: 0.7276 - val_f1: 0.7276\n",
      "\n",
      "Epoch 00025: val_loss did not improve from 0.75958\n",
      "Epoch 26/100\n",
      "4025/4025 [==============================] - 1105s 275ms/step - loss: 0.7761 - acc: 0.7277 - f1: 0.7278 - val_loss: 0.7680 - val_acc: 0.7276 - val_f1: 0.7276\n",
      "\n",
      "Epoch 00026: val_loss did not improve from 0.75958\n",
      "Epoch 27/100\n",
      "4025/4025 [==============================] - 1050s 261ms/step - loss: 0.7777 - acc: 0.7277 - f1: 0.7278 - val_loss: 0.7640 - val_acc: 0.7276 - val_f1: 0.7276\n",
      "\n",
      "Epoch 00027: val_loss did not improve from 0.75958\n",
      "Epoch 28/100\n",
      "3660/4025 [==========================>...] - ETA: 1:36 - loss: 0.7708 - acc: 0.7303 - f1: 0.7301"
     ]
    }
   ],
   "source": [
    "tesis_model_lstm_unres_vec = model_lstm_unres_vec.fit(x2train_vec, y2train, batch_size=12, epochs=100, \n",
    "                                                    validation_data=(x2val_vec, y2val), callbacks=callbacks_unres_vec, shuffle=True, verbose=1)"
   ]
  },
  {
   "cell_type": "code",
   "execution_count": null,
   "metadata": {
    "colab": {},
    "colab_type": "code",
    "id": "PfNdk7KXsglS"
   },
   "outputs": [],
   "source": [
    "tesis_model_lstm_res_vec = model_lstm_res_vec.fit(x2res, y2res, batch_size=32, epochs=100, \n",
    "                                                validation_data=(x2val_vec, y2val), callbacks=callbacks_res_vec, shuffle=True, verbose=1)"
   ]
  },
  {
   "cell_type": "code",
   "execution_count": null,
   "metadata": {
    "colab": {},
    "colab_type": "code",
    "id": "n1DN1kGds2Xd"
   },
   "outputs": [],
   "source": []
  },
  {
   "cell_type": "markdown",
   "metadata": {
    "colab_type": "text",
    "id": "8QHJBxeRCrEn"
   },
   "source": [
    "### **CNN LSTM**"
   ]
  },
  {
   "cell_type": "code",
   "execution_count": null,
   "metadata": {
    "colab": {
     "base_uri": "https://localhost:8080/",
     "height": 346
    },
    "colab_type": "code",
    "id": "N27Gi8brQxgd",
    "outputId": "75cd8299-d232-421c-e354-5d18cf94e2a1"
   },
   "outputs": [
    {
     "name": "stdout",
     "output_type": "stream",
     "text": [
      "Collecting keras-self-attention\n",
      "  Downloading https://files.pythonhosted.org/packages/15/6b/c804924a056955fa1f3ff767945187103cfc851ba9bd0fc5a6c6bc18e2eb/keras-self-attention-0.46.0.tar.gz\n",
      "Requirement already satisfied: numpy in /usr/local/lib/python3.6/dist-packages (from keras-self-attention) (1.18.5)\n",
      "Requirement already satisfied: Keras in /usr/local/lib/python3.6/dist-packages (from keras-self-attention) (2.3.1)\n",
      "Requirement already satisfied: pyyaml in /usr/local/lib/python3.6/dist-packages (from Keras->keras-self-attention) (3.13)\n",
      "Requirement already satisfied: keras-preprocessing>=1.0.5 in /usr/local/lib/python3.6/dist-packages (from Keras->keras-self-attention) (1.1.2)\n",
      "Requirement already satisfied: h5py in /usr/local/lib/python3.6/dist-packages (from Keras->keras-self-attention) (2.10.0)\n",
      "Requirement already satisfied: scipy>=0.14 in /usr/local/lib/python3.6/dist-packages (from Keras->keras-self-attention) (1.4.1)\n",
      "Requirement already satisfied: keras-applications>=1.0.6 in /usr/local/lib/python3.6/dist-packages (from Keras->keras-self-attention) (1.0.8)\n",
      "Requirement already satisfied: six>=1.9.0 in /usr/local/lib/python3.6/dist-packages (from Keras->keras-self-attention) (1.12.0)\n",
      "Building wheels for collected packages: keras-self-attention\n",
      "  Building wheel for keras-self-attention (setup.py) ... \u001b[?25l\u001b[?25hdone\n",
      "  Created wheel for keras-self-attention: filename=keras_self_attention-0.46.0-cp36-none-any.whl size=17278 sha256=1f775888026d2157a966503a3e30374057d5e189932aad5c6e185204c910a33d\n",
      "  Stored in directory: /root/.cache/pip/wheels/d2/2e/80/fec4c05eb23c8e13b790e26d207d6e0ffe8013fad8c6bdd4d2\n",
      "Successfully built keras-self-attention\n",
      "Installing collected packages: keras-self-attention\n",
      "Successfully installed keras-self-attention-0.46.0\n"
     ]
    }
   ],
   "source": [
    "pip install keras-self-attention"
   ]
  },
  {
   "cell_type": "code",
   "execution_count": null,
   "metadata": {
    "colab": {},
    "colab_type": "code",
    "id": "84y0G-VjQ3vv"
   },
   "outputs": [],
   "source": [
    "from keras_self_attention import SeqSelfAttention"
   ]
  },
  {
   "cell_type": "markdown",
   "metadata": {
    "colab_type": "text",
    "id": "jWPXQiP0Vr1P"
   },
   "source": [
    "##### CNN LSTM"
   ]
  },
  {
   "cell_type": "code",
   "execution_count": null,
   "metadata": {
    "colab": {
     "base_uri": "https://localhost:8080/",
     "height": 1000
    },
    "colab_type": "code",
    "id": "5L3d8MvfOb1R",
    "outputId": "d3965d29-0a95-4756-e78b-095aa26660e7"
   },
   "outputs": [
    {
     "name": "stdout",
     "output_type": "stream",
     "text": [
      "Model CNN LSTM UNRES\n",
      "Model: \"model_1\"\n",
      "__________________________________________________________________________________________________\n",
      "Layer (type)                    Output Shape         Param #     Connected to                     \n",
      "==================================================================================================\n",
      "input_1 (InputLayer)            (None, 50)           0                                            \n",
      "__________________________________________________________________________________________________\n",
      "embedding_1 (Embedding)         (None, 50, 300)      1905000     input_1[0][0]                    \n",
      "__________________________________________________________________________________________________\n",
      "spatial_dropout1d_1 (SpatialDro (None, 50, 300)      0           embedding_1[0][0]                \n",
      "__________________________________________________________________________________________________\n",
      "conv1d_1 (Conv1D)               (None, 50, 128)      38528       spatial_dropout1d_1[0][0]        \n",
      "__________________________________________________________________________________________________\n",
      "conv1d_2 (Conv1D)               (None, 50, 128)      76928       spatial_dropout1d_1[0][0]        \n",
      "__________________________________________________________________________________________________\n",
      "conv1d_3 (Conv1D)               (None, 50, 128)      115328      spatial_dropout1d_1[0][0]        \n",
      "__________________________________________________________________________________________________\n",
      "batch_normalization_1 (BatchNor (None, 50, 128)      512         conv1d_1[0][0]                   \n",
      "__________________________________________________________________________________________________\n",
      "batch_normalization_2 (BatchNor (None, 50, 128)      512         conv1d_2[0][0]                   \n",
      "__________________________________________________________________________________________________\n",
      "batch_normalization_3 (BatchNor (None, 50, 128)      512         conv1d_3[0][0]                   \n",
      "__________________________________________________________________________________________________\n",
      "max_pooling1d_1 (MaxPooling1D)  (None, 1, 128)       0           batch_normalization_1[0][0]      \n",
      "__________________________________________________________________________________________________\n",
      "max_pooling1d_2 (MaxPooling1D)  (None, 2, 128)       0           batch_normalization_2[0][0]      \n",
      "__________________________________________________________________________________________________\n",
      "max_pooling1d_3 (MaxPooling1D)  (None, 3, 128)       0           batch_normalization_3[0][0]      \n",
      "__________________________________________________________________________________________________\n",
      "concatenate_1 (Concatenate)     (None, 6, 128)       0           max_pooling1d_1[0][0]            \n",
      "                                                                 max_pooling1d_2[0][0]            \n",
      "                                                                 max_pooling1d_3[0][0]            \n",
      "__________________________________________________________________________________________________\n",
      "lstm_1 (LSTM)                   (None, 6, 128)       131584      concatenate_1[0][0]              \n",
      "__________________________________________________________________________________________________\n",
      "seq_self_attention_1 (SeqSelfAt (None, 6, 128)       33025       lstm_1[0][0]                     \n",
      "__________________________________________________________________________________________________\n",
      "flatten_1 (Flatten)             (None, 768)          0           seq_self_attention_1[0][0]       \n",
      "__________________________________________________________________________________________________\n",
      "dropout_1 (Dropout)             (None, 768)          0           flatten_1[0][0]                  \n",
      "__________________________________________________________________________________________________\n",
      "dense_1 (Dense)                 (None, 3)            2307        dropout_1[0][0]                  \n",
      "==================================================================================================\n",
      "Total params: 2,304,236\n",
      "Trainable params: 2,303,468\n",
      "Non-trainable params: 768\n",
      "__________________________________________________________________________________________________\n",
      "Model CNN LSTM RES\n",
      "Model: \"model_2\"\n",
      "__________________________________________________________________________________________________\n",
      "Layer (type)                    Output Shape         Param #     Connected to                     \n",
      "==================================================================================================\n",
      "input_1 (InputLayer)            (None, 50)           0                                            \n",
      "__________________________________________________________________________________________________\n",
      "embedding_1 (Embedding)         (None, 50, 300)      1905000     input_1[0][0]                    \n",
      "__________________________________________________________________________________________________\n",
      "spatial_dropout1d_1 (SpatialDro (None, 50, 300)      0           embedding_1[0][0]                \n",
      "__________________________________________________________________________________________________\n",
      "conv1d_1 (Conv1D)               (None, 50, 128)      38528       spatial_dropout1d_1[0][0]        \n",
      "__________________________________________________________________________________________________\n",
      "conv1d_2 (Conv1D)               (None, 50, 128)      76928       spatial_dropout1d_1[0][0]        \n",
      "__________________________________________________________________________________________________\n",
      "conv1d_3 (Conv1D)               (None, 50, 128)      115328      spatial_dropout1d_1[0][0]        \n",
      "__________________________________________________________________________________________________\n",
      "batch_normalization_1 (BatchNor (None, 50, 128)      512         conv1d_1[0][0]                   \n",
      "__________________________________________________________________________________________________\n",
      "batch_normalization_2 (BatchNor (None, 50, 128)      512         conv1d_2[0][0]                   \n",
      "__________________________________________________________________________________________________\n",
      "batch_normalization_3 (BatchNor (None, 50, 128)      512         conv1d_3[0][0]                   \n",
      "__________________________________________________________________________________________________\n",
      "max_pooling1d_1 (MaxPooling1D)  (None, 1, 128)       0           batch_normalization_1[0][0]      \n",
      "__________________________________________________________________________________________________\n",
      "max_pooling1d_2 (MaxPooling1D)  (None, 2, 128)       0           batch_normalization_2[0][0]      \n",
      "__________________________________________________________________________________________________\n",
      "max_pooling1d_3 (MaxPooling1D)  (None, 3, 128)       0           batch_normalization_3[0][0]      \n",
      "__________________________________________________________________________________________________\n",
      "concatenate_1 (Concatenate)     (None, 6, 128)       0           max_pooling1d_1[0][0]            \n",
      "                                                                 max_pooling1d_2[0][0]            \n",
      "                                                                 max_pooling1d_3[0][0]            \n",
      "__________________________________________________________________________________________________\n",
      "lstm_1 (LSTM)                   (None, 6, 128)       131584      concatenate_1[0][0]              \n",
      "__________________________________________________________________________________________________\n",
      "seq_self_attention_1 (SeqSelfAt (None, 6, 128)       33025       lstm_1[0][0]                     \n",
      "__________________________________________________________________________________________________\n",
      "flatten_1 (Flatten)             (None, 768)          0           seq_self_attention_1[0][0]       \n",
      "__________________________________________________________________________________________________\n",
      "dropout_1 (Dropout)             (None, 768)          0           flatten_1[0][0]                  \n",
      "__________________________________________________________________________________________________\n",
      "dense_1 (Dense)                 (None, 3)            2307        dropout_1[0][0]                  \n",
      "==================================================================================================\n",
      "Total params: 2,304,236\n",
      "Trainable params: 2,303,468\n",
      "Non-trainable params: 768\n",
      "__________________________________________________________________________________________________\n"
     ]
    }
   ],
   "source": [
    "maxlen = MAX_SEQUENCE_LENGTH\n",
    "#maxlen_vec = td\n",
    "num_filters = 128\n",
    "border_mode = 'same'\n",
    "filter_length = 5\n",
    "dropout_rate = 0.5\n",
    "lstm_cell = 128\n",
    "fc_cell = 128\n",
    "pool_length = 2\n",
    "kernel_sizes = [1,2,3]\n",
    "\n",
    "\n",
    "inputs = Input(shape=(maxlen,))\n",
    "embedding_layer = Embedding(len(word_index) + 1,\n",
    "                            EMBEDDING_DIM,\n",
    "                            weights=[embedding_matrix],\n",
    "                            trainable=True)\n",
    "embedding = embedding_layer(inputs)\n",
    "\n",
    "#emb2 = Embedding(embedding_matrix.shape[0], embedding_matrix.shape[1], \n",
    "#                 weights=[embedding_matrix], trainable=True)(inputs)\n",
    "\n",
    "s_drop = SpatialDropout1D(dropout_rate)(embedding)\n",
    "#conv = Conv1D(num_filters, kernel_size=filter_length, activation = 'relu')(s_drop) #padding=border_mode,\n",
    "#conv = BatchNormalization()(conv)\n",
    "#maxpool = MaxPooling1D(pool_size=pool_length)(conv)\n",
    "\n",
    "conv_0 = Conv1D(num_filters, kernel_sizes[0], padding=border_mode, activation = 'relu')(s_drop) #padding=border_mode,\n",
    "conv_0 = BatchNormalization()(conv_0)\n",
    "maxpool_0 = MaxPooling1D(pool_size = (maxlen - kernel_sizes[0] + 1), strides=1, padding='valid')(conv_0)\n",
    "    \n",
    "conv_1 = Conv1D(num_filters, kernel_sizes[1], padding=border_mode, activation = 'relu')(s_drop) #padding=border_mode,\n",
    "conv_1 = BatchNormalization()(conv_1)\n",
    "maxpool_1 = MaxPooling1D(pool_size = (maxlen - kernel_sizes[1] + 1), strides=1, padding='valid')(conv_1)\n",
    "    \n",
    "conv_2 = Conv1D(num_filters, kernel_sizes[2], padding=border_mode, activation = 'relu')(s_drop) #padding=border_mode,\n",
    "conv_2 = BatchNormalization()(conv_2)\n",
    "maxpool_2 = MaxPooling1D(pool_size = (maxlen - kernel_sizes[2] + 1), strides=1, padding='valid')(conv_2)\n",
    "    \n",
    "merged = Concatenate(axis=1)([maxpool_0, maxpool_1, maxpool_2])\n",
    "lstm = LSTM((lstm_cell), return_sequences=True)(merged)\n",
    "seq = SeqSelfAttention(units=lstm_cell)(lstm)\n",
    "flatten = Flatten()(seq)\n",
    "\n",
    "\n",
    "#dense1 = Dense(fc_cell*2)(flatten)\n",
    "#lstm = Bidirectional(LSTM((lstm_cell), return_sequences=False))(dense1)\n",
    "drop = Dropout(dropout_rate)(flatten)\n",
    "output = Dense(units=num_classes, activation='softmax')(drop)\n",
    "\n",
    "\n",
    "model_cnn_lstm_unres = Model(inputs, output)\n",
    "model_cnn_lstm_res = Model(inputs, output)\n",
    "\n",
    "model_cnn_lstm_unres.compile(loss='categorical_crossentropy', optimizer=rmsprop, metrics=['acc', f1])\n",
    "model_cnn_lstm_res.compile(loss='categorical_crossentropy', optimizer=rmsprop, metrics=['acc', f1])\n",
    "\n",
    "callbacks_unres = [EarlyStopping(monitor='val_loss', verbose= 1, patience=10, mode='auto'), \n",
    "                   ModelCheckpoint('/content/drive/My Drive/Tesis/Hasil NN Tesis/CNN LSTM/tesis_model_cnn_lstm_unres2.h5', monitor='val_loss', verbose=1, save_best_only=True, mode='auto'), \n",
    "                   ReduceLROnPlateau(monitor='val_loss', factor=0.2, patience=10, min_lr=0.001)]\n",
    "\n",
    "callbacks_res = [EarlyStopping(monitor='val_loss', verbose= 1, patience=10, mode='auto'), \n",
    "                 ModelCheckpoint('/content/drive/My Drive/Tesis/Hasil NN Tesis/CNN LSTM/tesis_model_cnn_lstm_res2.h5', monitor='val_loss', verbose=1, save_best_only=True, mode='auto'), \n",
    "                 ReduceLROnPlateau(monitor='val_loss', factor=0.2, patience=10, min_lr=0.001)]\n",
    "\n",
    "print('Model CNN LSTM UNRES')\n",
    "model_cnn_lstm_unres.summary()\n",
    "print('Model CNN LSTM RES')\n",
    "model_cnn_lstm_res.summary()"
   ]
  },
  {
   "cell_type": "code",
   "execution_count": null,
   "metadata": {
    "colab": {
     "base_uri": "https://localhost:8080/",
     "height": 1000
    },
    "colab_type": "code",
    "id": "c0bDbH0e42Uv",
    "outputId": "151c4c8c-1cc2-4145-eb0f-58a3625f3b22"
   },
   "outputs": [
    {
     "name": "stderr",
     "output_type": "stream",
     "text": [
      "/usr/local/lib/python3.6/dist-packages/tensorflow/python/framework/indexed_slices.py:434: UserWarning: Converting sparse IndexedSlices to a dense Tensor of unknown shape. This may consume a large amount of memory.\n",
      "  \"Converting sparse IndexedSlices to a dense Tensor of unknown shape. \"\n"
     ]
    },
    {
     "name": "stdout",
     "output_type": "stream",
     "text": [
      "Train on 3756 samples, validate on 805 samples\n",
      "Epoch 1/50\n",
      "3756/3756 [==============================] - 36s 10ms/step - loss: 0.7695 - acc: 0.7181 - f1: 0.6997 - val_loss: 1.0481 - val_acc: 0.7280 - val_f1: 0.7316\n",
      "\n",
      "Epoch 00001: val_loss improved from inf to 1.04806, saving model to /content/drive/My Drive/Tesis/Hasil NN Tesis/CNN LSTM/tesis_model_cnn_lstm_unres2.h5\n",
      "Epoch 2/50\n",
      "3756/3756 [==============================] - 35s 9ms/step - loss: 0.6441 - acc: 0.7716 - f1: 0.7605 - val_loss: 0.6568 - val_acc: 0.8000 - val_f1: 0.8028\n",
      "\n",
      "Epoch 00002: val_loss improved from 1.04806 to 0.65680, saving model to /content/drive/My Drive/Tesis/Hasil NN Tesis/CNN LSTM/tesis_model_cnn_lstm_unres2.h5\n",
      "Epoch 3/50\n",
      "3756/3756 [==============================] - 37s 10ms/step - loss: 0.5661 - acc: 0.7854 - f1: 0.7801 - val_loss: 0.5902 - val_acc: 0.8062 - val_f1: 0.8119\n",
      "\n",
      "Epoch 00003: val_loss improved from 0.65680 to 0.59016, saving model to /content/drive/My Drive/Tesis/Hasil NN Tesis/CNN LSTM/tesis_model_cnn_lstm_unres2.h5\n",
      "Epoch 4/50\n",
      "3756/3756 [==============================] - 35s 9ms/step - loss: 0.5159 - acc: 0.8072 - f1: 0.8051 - val_loss: 0.5558 - val_acc: 0.8161 - val_f1: 0.8182\n",
      "\n",
      "Epoch 00004: val_loss improved from 0.59016 to 0.55577, saving model to /content/drive/My Drive/Tesis/Hasil NN Tesis/CNN LSTM/tesis_model_cnn_lstm_unres2.h5\n",
      "Epoch 5/50\n",
      "3756/3756 [==============================] - 30s 8ms/step - loss: 0.4780 - acc: 0.8341 - f1: 0.8282 - val_loss: 0.5448 - val_acc: 0.8112 - val_f1: 0.8130\n",
      "\n",
      "Epoch 00005: val_loss improved from 0.55577 to 0.54476, saving model to /content/drive/My Drive/Tesis/Hasil NN Tesis/CNN LSTM/tesis_model_cnn_lstm_unres2.h5\n",
      "Epoch 6/50\n",
      "3756/3756 [==============================] - 30s 8ms/step - loss: 0.4337 - acc: 0.8453 - f1: 0.8425 - val_loss: 0.5246 - val_acc: 0.8099 - val_f1: 0.8118\n",
      "\n",
      "Epoch 00006: val_loss improved from 0.54476 to 0.52461, saving model to /content/drive/My Drive/Tesis/Hasil NN Tesis/CNN LSTM/tesis_model_cnn_lstm_unres2.h5\n",
      "Epoch 7/50\n",
      "3756/3756 [==============================] - 34s 9ms/step - loss: 0.4058 - acc: 0.8522 - f1: 0.8479 - val_loss: 0.5516 - val_acc: 0.8099 - val_f1: 0.8092\n",
      "\n",
      "Epoch 00007: val_loss did not improve from 0.52461\n",
      "Epoch 8/50\n",
      "3756/3756 [==============================] - 30s 8ms/step - loss: 0.3696 - acc: 0.8671 - f1: 0.8647 - val_loss: 0.5639 - val_acc: 0.8211 - val_f1: 0.8210\n",
      "\n",
      "Epoch 00008: val_loss did not improve from 0.52461\n",
      "Epoch 9/50\n",
      "3756/3756 [==============================] - 27s 7ms/step - loss: 0.3307 - acc: 0.8858 - f1: 0.8848 - val_loss: 0.5777 - val_acc: 0.8149 - val_f1: 0.8200\n",
      "\n",
      "Epoch 00009: val_loss did not improve from 0.52461\n",
      "Epoch 10/50\n",
      "3756/3756 [==============================] - 30s 8ms/step - loss: 0.3131 - acc: 0.8940 - f1: 0.8934 - val_loss: 0.7265 - val_acc: 0.8075 - val_f1: 0.8113\n",
      "\n",
      "Epoch 00010: val_loss did not improve from 0.52461\n",
      "Epoch 11/50\n",
      "3756/3756 [==============================] - 30s 8ms/step - loss: 0.2883 - acc: 0.9015 - f1: 0.9004 - val_loss: 0.5969 - val_acc: 0.7876 - val_f1: 0.7909\n",
      "\n",
      "Epoch 00011: val_loss did not improve from 0.52461\n",
      "Epoch 12/50\n",
      "3756/3756 [==============================] - 28s 7ms/step - loss: 0.2600 - acc: 0.9156 - f1: 0.9148 - val_loss: 0.7415 - val_acc: 0.7938 - val_f1: 0.7973\n",
      "\n",
      "Epoch 00012: val_loss did not improve from 0.52461\n",
      "Epoch 13/50\n",
      "3756/3756 [==============================] - 29s 8ms/step - loss: 0.2573 - acc: 0.9188 - f1: 0.9189 - val_loss: 0.6798 - val_acc: 0.7913 - val_f1: 0.7947\n",
      "\n",
      "Epoch 00013: val_loss did not improve from 0.52461\n",
      "Epoch 14/50\n",
      "3756/3756 [==============================] - 28s 7ms/step - loss: 0.2167 - acc: 0.9255 - f1: 0.9244 - val_loss: 0.7777 - val_acc: 0.7863 - val_f1: 0.7904\n",
      "\n",
      "Epoch 00014: val_loss did not improve from 0.52461\n",
      "Epoch 15/50\n",
      "3756/3756 [==============================] - 28s 7ms/step - loss: 0.2070 - acc: 0.9332 - f1: 0.9330 - val_loss: 0.7554 - val_acc: 0.8025 - val_f1: 0.8044\n",
      "\n",
      "Epoch 00015: val_loss did not improve from 0.52461\n",
      "Epoch 16/50\n",
      "3756/3756 [==============================] - 31s 8ms/step - loss: 0.1954 - acc: 0.9369 - f1: 0.9366 - val_loss: 0.8397 - val_acc: 0.8037 - val_f1: 0.8054\n",
      "\n",
      "Epoch 00016: val_loss did not improve from 0.52461\n",
      "Epoch 00016: early stopping\n"
     ]
    }
   ],
   "source": [
    "tesis_model_cnn_lstm_unres = model_cnn_lstm_unres.fit(x_train, y_train, batch_size=12, epochs=50,\n",
    "                                            validation_data=(x_val, y_val), callbacks=callbacks_unres, shuffle=True, verbose=1)"
   ]
  },
  {
   "cell_type": "code",
   "execution_count": null,
   "metadata": {
    "colab": {
     "base_uri": "https://localhost:8080/",
     "height": 1000
    },
    "colab_type": "code",
    "id": "zWY2t1QB42gc",
    "outputId": "bac7a0cb-974b-47a9-936a-819c9f681772"
   },
   "outputs": [
    {
     "name": "stderr",
     "output_type": "stream",
     "text": [
      "/usr/local/lib/python3.6/dist-packages/tensorflow/python/framework/indexed_slices.py:434: UserWarning: Converting sparse IndexedSlices to a dense Tensor of unknown shape. This may consume a large amount of memory.\n",
      "  \"Converting sparse IndexedSlices to a dense Tensor of unknown shape. \"\n"
     ]
    },
    {
     "name": "stdout",
     "output_type": "stream",
     "text": [
      "Train on 8145 samples, validate on 805 samples\n",
      "Epoch 1/100\n",
      "8145/8145 [==============================] - 60s 7ms/step - loss: 1.0399 - acc: 0.4438 - f1: 0.2704 - val_loss: 0.9995 - val_acc: 0.4758 - val_f1: 0.4275\n",
      "\n",
      "Epoch 00001: val_loss improved from inf to 0.99953, saving model to /content/drive/My Drive/Tesis/Hasil NN Tesis/CNN LSTM/tesis_model_cnn_lstm_res.h5\n",
      "Epoch 2/100\n",
      "8145/8145 [==============================] - 60s 7ms/step - loss: 0.9619 - acc: 0.5012 - f1: 0.3819 - val_loss: 0.9528 - val_acc: 0.5739 - val_f1: 0.4925\n",
      "\n",
      "Epoch 00002: val_loss improved from 0.99953 to 0.95285, saving model to /content/drive/My Drive/Tesis/Hasil NN Tesis/CNN LSTM/tesis_model_cnn_lstm_res.h5\n",
      "Epoch 3/100\n",
      "8145/8145 [==============================] - 61s 8ms/step - loss: 0.9153 - acc: 0.5405 - f1: 0.4550 - val_loss: 0.7605 - val_acc: 0.7093 - val_f1: 0.6892\n",
      "\n",
      "Epoch 00003: val_loss improved from 0.95285 to 0.76047, saving model to /content/drive/My Drive/Tesis/Hasil NN Tesis/CNN LSTM/tesis_model_cnn_lstm_res.h5\n",
      "Epoch 4/100\n",
      "8145/8145 [==============================] - 61s 8ms/step - loss: 0.8587 - acc: 0.5789 - f1: 0.5193 - val_loss: 0.7447 - val_acc: 0.7155 - val_f1: 0.7087\n",
      "\n",
      "Epoch 00004: val_loss improved from 0.76047 to 0.74467, saving model to /content/drive/My Drive/Tesis/Hasil NN Tesis/CNN LSTM/tesis_model_cnn_lstm_res.h5\n",
      "Epoch 5/100\n",
      "8145/8145 [==============================] - 61s 7ms/step - loss: 0.8030 - acc: 0.6250 - f1: 0.5928 - val_loss: 0.9101 - val_acc: 0.6273 - val_f1: 0.6094\n",
      "\n",
      "Epoch 00005: val_loss did not improve from 0.74467\n",
      "Epoch 6/100\n",
      "8145/8145 [==============================] - 61s 7ms/step - loss: 0.7629 - acc: 0.6533 - f1: 0.6289 - val_loss: 0.7351 - val_acc: 0.7491 - val_f1: 0.7367\n",
      "\n",
      "Epoch 00006: val_loss improved from 0.74467 to 0.73507, saving model to /content/drive/My Drive/Tesis/Hasil NN Tesis/CNN LSTM/tesis_model_cnn_lstm_res.h5\n",
      "Epoch 7/100\n",
      "8145/8145 [==============================] - 61s 7ms/step - loss: 0.6922 - acc: 0.6948 - f1: 0.6805 - val_loss: 0.7918 - val_acc: 0.6981 - val_f1: 0.6886\n",
      "\n",
      "Epoch 00007: val_loss did not improve from 0.73507\n",
      "Epoch 8/100\n",
      "8145/8145 [==============================] - 61s 7ms/step - loss: 0.6305 - acc: 0.7343 - f1: 0.7216 - val_loss: 0.9617 - val_acc: 0.6720 - val_f1: 0.6732\n",
      "\n",
      "Epoch 00008: val_loss did not improve from 0.73507\n",
      "Epoch 9/100\n",
      "8145/8145 [==============================] - 60s 7ms/step - loss: 0.5856 - acc: 0.7548 - f1: 0.7485 - val_loss: 0.8785 - val_acc: 0.7143 - val_f1: 0.7105\n",
      "\n",
      "Epoch 00009: val_loss did not improve from 0.73507\n",
      "Epoch 10/100\n",
      "8145/8145 [==============================] - 60s 7ms/step - loss: 0.5395 - acc: 0.7827 - f1: 0.7772 - val_loss: 0.9157 - val_acc: 0.6646 - val_f1: 0.6573\n",
      "\n",
      "Epoch 00010: val_loss did not improve from 0.73507\n",
      "Epoch 11/100\n",
      "8145/8145 [==============================] - 61s 7ms/step - loss: 0.5007 - acc: 0.7993 - f1: 0.7956 - val_loss: 1.0916 - val_acc: 0.6584 - val_f1: 0.6612\n",
      "\n",
      "Epoch 00011: val_loss did not improve from 0.73507\n",
      "Epoch 12/100\n",
      "8145/8145 [==============================] - 61s 7ms/step - loss: 0.4597 - acc: 0.8201 - f1: 0.8159 - val_loss: 1.1444 - val_acc: 0.6137 - val_f1: 0.6037\n",
      "\n",
      "Epoch 00012: val_loss did not improve from 0.73507\n",
      "Epoch 13/100\n",
      "8145/8145 [==============================] - 61s 7ms/step - loss: 0.4205 - acc: 0.8379 - f1: 0.8344 - val_loss: 1.1694 - val_acc: 0.6534 - val_f1: 0.6369\n",
      "\n",
      "Epoch 00013: val_loss did not improve from 0.73507\n",
      "Epoch 14/100\n",
      "8145/8145 [==============================] - 61s 7ms/step - loss: 0.3967 - acc: 0.8517 - f1: 0.8505 - val_loss: 1.0491 - val_acc: 0.6944 - val_f1: 0.6983\n",
      "\n",
      "Epoch 00014: val_loss did not improve from 0.73507\n",
      "Epoch 15/100\n",
      "8145/8145 [==============================] - 61s 7ms/step - loss: 0.3685 - acc: 0.8607 - f1: 0.8599 - val_loss: 1.1221 - val_acc: 0.6634 - val_f1: 0.6650\n",
      "\n",
      "Epoch 00015: val_loss did not improve from 0.73507\n",
      "Epoch 16/100\n",
      "8145/8145 [==============================] - 61s 7ms/step - loss: 0.3498 - acc: 0.8722 - f1: 0.8710 - val_loss: 1.1911 - val_acc: 0.6559 - val_f1: 0.6456\n",
      "\n",
      "Epoch 00016: val_loss did not improve from 0.73507\n",
      "Epoch 00016: early stopping\n"
     ]
    }
   ],
   "source": [
    "tesis_model_cnn_lstm_res = model_cnn_lstm_res.fit(x_res, y_res, batch_size=12, epochs=50,\n",
    "                                            validation_data=(x_val, y_val), callbacks=callbacks_res, shuffle=True, verbose=1)"
   ]
  },
  {
   "cell_type": "code",
   "execution_count": null,
   "metadata": {
    "colab": {
     "base_uri": "https://localhost:8080/",
     "height": 1000
    },
    "colab_type": "code",
    "id": "KJ_incpYgwu-",
    "outputId": "29f35c8d-24c9-4ed3-9175-f56891c008f9"
   },
   "outputs": [
    {
     "data": {
      "image/png": "[encoded data removed]",
      "text/plain": [
       "<IPython.core.display.Image object>"
      ]
     },
     "execution_count": 40,
     "metadata": {
      "tags": []
     },
     "output_type": "execute_result"
    }
   ],
   "source": [
    "plot_model(model_cnn_lstm_unres, to_file='/content/drive/My Drive/Tesis/Hasil NN Tesis/CNN LSTM/tesis_model_cnn_lstm_unres3.png', \n",
    "           show_shapes=False, show_layer_names=False)"
   ]
  },
  {
   "cell_type": "code",
   "execution_count": null,
   "metadata": {
    "colab": {},
    "colab_type": "code",
    "id": "aoR1T2Az4z6Y"
   },
   "outputs": [],
   "source": [
    "maxlen = MAX_SEQUENCE_LENGTH\n",
    "maxlen_vec = td\n",
    "num_filters = 128\n",
    "border_mode = 'same'\n",
    "filter_length = 3\n",
    "dropout_rate = 0.5\n",
    "lstm_cell = 128\n",
    "fc_cell = 128\n",
    "pool_length = 2\n",
    "\n",
    "\n",
    "inputs = Input(shape=(maxlen_vec,))\n",
    "embedding_layer = Embedding(len(word_index) + 1,\n",
    "                            EMBEDDING_DIM,\n",
    "                            weights=[embedding_matrix],\n",
    "                            trainable=True)\n",
    "#embedding = embedding_layer(inputs)\n",
    "\n",
    "emb2 = Embedding(embedding_matrix.shape[0], embedding_matrix.shape[1], \n",
    "                 weights=[embedding_matrix], trainable=True)(inputs)\n",
    "\n",
    "s_drop = SpatialDropout1D(dropout_rate)(emb2)\n",
    "conv = Conv1D(num_filters, kernel_size=filter_length, padding=border_mode, activation = 'relu')(s_drop)\n",
    "conv = BatchNormalization()(conv)\n",
    "maxpool = MaxPooling1D(pool_size=pool_length)(conv)\n",
    "\n",
    "lstm = LSTM((lstm_cell), return_sequences=False)(maxpool)\n",
    "dense1 = Dense(fc_cell*2)(lstm)\n",
    "drop = Dropout(dropout_rate)(dense1)\n",
    "output = Dense(units=num_classes, activation='softmax')(drop)\n",
    "\n",
    "\n",
    "model_cnn_lstm_unres_vec = Model(inputs, output)\n",
    "model_cnn_lstm_res_vec = Model(inputs, output)\n",
    "\n",
    "model_cnn_lstm_unres_vec.compile(loss='categorical_crossentropy', optimizer=rmsprop, metrics=['acc', f1])\n",
    "model_cnn_lstm_res_vec.compile(loss='categorical_crossentropy', optimizer=adam, metrics=['acc', f1])\n",
    "\n",
    "callbacks_unres_vec = [EarlyStopping(monitor='val_loss', verbose= 1, patience=10, mode='auto'), \n",
    "                   ModelCheckpoint('/content/drive/My Drive/Tesis/Hasil NN Tesis/CNN LSTM/tesis_model_cnn_lstm_unres_vec.h5', monitor='val_loss', verbose=1, save_best_only=True, mode='auto'), \n",
    "                   ReduceLROnPlateau(monitor='val_loss', factor=0.2, patience=10, min_lr=0.001)]\n",
    "\n",
    "callbacks_res_vec = [EarlyStopping(monitor='val_loss', verbose= 1, patience=10, mode='auto'), \n",
    "                 ModelCheckpoint('/content/drive/My Drive/Tesis/Hasil NN Tesis/CNN LSTM/tesis_model_cnn_lstm_res_vec.h5', monitor='val_loss', verbose=1, save_best_only=True, mode='auto'), \n",
    "                 ReduceLROnPlateau(monitor='val_loss', factor=0.2, patience=10, min_lr=0.001)]\n",
    "\n",
    "print('Model CNN LSTM UNRES VEC')\n",
    "model_cnn_lstm_unres_vec.summary()\n",
    "print('Model CNN LSTM RES VEC')\n",
    "model_cnn_lstm_res_vec.summary()"
   ]
  },
  {
   "cell_type": "code",
   "execution_count": null,
   "metadata": {
    "colab": {},
    "colab_type": "code",
    "id": "Es2fFrjM42ye"
   },
   "outputs": [],
   "source": [
    "tesis_model_cnn_lstm_unres_vec = model_cnn_lstm_unres_vec.fit(x2train_vec, y2train, batch_size=32, epochs=100, \n",
    "                                                    validation_data=(x2val_vec, y2val), callbacks=callbacks_unres_vec, shuffle=True, verbose=1)"
   ]
  },
  {
   "cell_type": "code",
   "execution_count": null,
   "metadata": {
    "colab": {},
    "colab_type": "code",
    "id": "j2zHkKPH43A_"
   },
   "outputs": [],
   "source": [
    "tesis_model_cnn_lstm_res_vec = model_cnn_lstm_res_vec.fit(x2res, y2res, batch_size=32, epochs=100, \n",
    "                                                    validation_data=(x2val_vec, y2val), callbacks=callbacks_res_vec, shuffle=True, verbose=1)"
   ]
  },
  {
   "cell_type": "code",
   "execution_count": null,
   "metadata": {
    "colab": {},
    "colab_type": "code",
    "id": "Sr6Geij243PP"
   },
   "outputs": [],
   "source": []
  },
  {
   "cell_type": "markdown",
   "metadata": {
    "colab_type": "text",
    "id": "4joQNlpEVicX"
   },
   "source": [
    "##### CNN BiLSTM"
   ]
  },
  {
   "cell_type": "code",
   "execution_count": null,
   "metadata": {
    "colab": {
     "base_uri": "https://localhost:8080/",
     "height": 1000
    },
    "colab_type": "code",
    "id": "RvY6_r2043uz",
    "outputId": "2eaf0304-15ff-403e-d07c-aa7ccf0e29c3"
   },
   "outputs": [
    {
     "name": "stdout",
     "output_type": "stream",
     "text": [
      "Model CNN BiLSTM UNRES\n",
      "Model: \"model_35\"\n",
      "_________________________________________________________________\n",
      "Layer (type)                 Output Shape              Param #   \n",
      "=================================================================\n",
      "input_21 (InputLayer)        (None, 50)                0         \n",
      "_________________________________________________________________\n",
      "embedding_21 (Embedding)     (None, 50, 300)           1905000   \n",
      "_________________________________________________________________\n",
      "spatial_dropout1d_15 (Spatia (None, 50, 300)           0         \n",
      "_________________________________________________________________\n",
      "conv1d_43 (Conv1D)           (None, 50, 128)           192128    \n",
      "_________________________________________________________________\n",
      "batch_normalization_43 (Batc (None, 50, 128)           512       \n",
      "_________________________________________________________________\n",
      "lstm_22 (LSTM)               (None, 50, 128)           131584    \n",
      "_________________________________________________________________\n",
      "seq_self_attention_3 (SeqSel (None, 50, 128)           33025     \n",
      "_________________________________________________________________\n",
      "flatten_3 (Flatten)          (None, 6400)              0         \n",
      "_________________________________________________________________\n",
      "dense_32 (Dense)             (None, 256)               1638656   \n",
      "_________________________________________________________________\n",
      "dropout_17 (Dropout)         (None, 256)               0         \n",
      "_________________________________________________________________\n",
      "dense_33 (Dense)             (None, 3)                 771       \n",
      "=================================================================\n",
      "Total params: 3,901,676\n",
      "Trainable params: 3,901,420\n",
      "Non-trainable params: 256\n",
      "_________________________________________________________________\n",
      "Model CNN BiLSTM RES\n",
      "Model: \"model_36\"\n",
      "_________________________________________________________________\n",
      "Layer (type)                 Output Shape              Param #   \n",
      "=================================================================\n",
      "input_21 (InputLayer)        (None, 50)                0         \n",
      "_________________________________________________________________\n",
      "embedding_21 (Embedding)     (None, 50, 300)           1905000   \n",
      "_________________________________________________________________\n",
      "spatial_dropout1d_15 (Spatia (None, 50, 300)           0         \n",
      "_________________________________________________________________\n",
      "conv1d_43 (Conv1D)           (None, 50, 128)           192128    \n",
      "_________________________________________________________________\n",
      "batch_normalization_43 (Batc (None, 50, 128)           512       \n",
      "_________________________________________________________________\n",
      "lstm_22 (LSTM)               (None, 50, 128)           131584    \n",
      "_________________________________________________________________\n",
      "seq_self_attention_3 (SeqSel (None, 50, 128)           33025     \n",
      "_________________________________________________________________\n",
      "flatten_3 (Flatten)          (None, 6400)              0         \n",
      "_________________________________________________________________\n",
      "dense_32 (Dense)             (None, 256)               1638656   \n",
      "_________________________________________________________________\n",
      "dropout_17 (Dropout)         (None, 256)               0         \n",
      "_________________________________________________________________\n",
      "dense_33 (Dense)             (None, 3)                 771       \n",
      "=================================================================\n",
      "Total params: 3,901,676\n",
      "Trainable params: 3,901,420\n",
      "Non-trainable params: 256\n",
      "_________________________________________________________________\n"
     ]
    }
   ],
   "source": [
    "maxlen = MAX_SEQUENCE_LENGTH\n",
    "#maxlen_vec = td\n",
    "num_filters = 128\n",
    "border_mode = 'same'\n",
    "filter_length = 5\n",
    "dropout_rate = 0.5\n",
    "lstm_cell = 128\n",
    "fc_cell = 128\n",
    "pool_length = 2\n",
    "kernel_sizes = [5,5,5]\n",
    "\n",
    "\n",
    "inputs = Input(shape=(maxlen,))\n",
    "embedding_layer = Embedding(len(word_index) + 1,\n",
    "                            EMBEDDING_DIM,\n",
    "                            weights=[embedding_matrix],\n",
    "                            trainable=True)\n",
    "embedding = embedding_layer(inputs)\n",
    "\n",
    "#emb2 = Embedding(embedding_matrix.shape[0], embedding_matrix.shape[1], \n",
    "#                 weights=[embedding_matrix], trainable=True)(inputs)\n",
    "\n",
    "s_drop = SpatialDropout1D(dropout_rate)(embedding)\n",
    "#conv = Conv1D(num_filters, kernel_size=filter_length, activation = 'relu')(s_drop) #padding=border_mode,\n",
    "#conv = BatchNormalization()(conv)\n",
    "#maxpool = MaxPooling1D(pool_size=pool_length)(conv)\n",
    "\n",
    "\n",
    "\n",
    "conv = Conv1D(num_filters, kernel_sizes[0], padding=border_mode, activation = 'relu')(s_drop) #padding=border_mode,\n",
    "conv = BatchNormalization()(conv)\n",
    "maxpool = MaxPooling1D(pool_size = (maxlen - kernel_sizes[0] + 1), strides=1, padding='valid')(conv)\n",
    "    \n",
    "conv = Conv1D(num_filters, kernel_sizes[1], padding=border_mode, activation = 'relu')(s_drop) #padding=border_mode,\n",
    "conv = BatchNormalization()(conv)\n",
    "maxpool = MaxPooling1D(pool_size = (maxlen - kernel_sizes[1] + 1), strides=1, padding='valid')(conv)\n",
    "    \n",
    "conv = Conv1D(num_filters, kernel_sizes[2], padding=border_mode, activation = 'relu')(s_drop) #padding=border_mode,\n",
    "conv = BatchNormalization()(conv)\n",
    "maxpool = MaxPooling1D(pool_size = (maxlen - kernel_sizes[2] + 1), strides=1, padding='valid')(conv)\n",
    "    \n",
    "#merged = Concatenate(axis=1)([maxpool_0, maxpool_1, maxpool_2])\n",
    "lstm = Bidirectional(LSTM((lstm_cell), return_sequences=True))(conv)\n",
    "seq = SeqSelfAttention(units=lstm_cell)(lstm)\n",
    "flatten = Flatten()(seq)\n",
    "\n",
    "\n",
    "dense1 = Dense(fc_cell*2)(flatten)\n",
    "#lstm = Bidirectional(LSTM((lstm_cell), return_sequences=False))(dense1)\n",
    "drop = Dropout(dropout_rate)(dense1)\n",
    "output = Dense(units=num_classes, activation='softmax')(drop)\n",
    "\n",
    "\n",
    "model_cnn_bilstm_unres = Model(inputs, output)\n",
    "model_cnn_bilstm_res = Model(inputs, output)\n",
    "\n",
    "model_cnn_bilstm_unres.compile(loss='categorical_crossentropy', optimizer=rmsprop, metrics=['acc', f1])\n",
    "model_cnn_bilstm_res.compile(loss='categorical_crossentropy', optimizer=rmsprop, metrics=['acc', f1])\n",
    "\n",
    "callbacks_unres = [EarlyStopping(monitor='val_loss', verbose= 1, patience=10, mode='auto'), \n",
    "                   ModelCheckpoint('/content/drive/My Drive/Tesis/Hasil NN Tesis/CNN LSTM/tesis_model_cnn_bilstm_unres.h5', monitor='val_loss', verbose=1, save_best_only=True, mode='auto'), \n",
    "                   ReduceLROnPlateau(monitor='val_loss', factor=0.2, patience=10, min_lr=0.001)]\n",
    "\n",
    "callbacks_res = [EarlyStopping(monitor='val_loss', verbose= 1, patience=10, mode='auto'), \n",
    "                 ModelCheckpoint('/content/drive/My Drive/Tesis/Hasil NN Tesis/CNN LSTM/tesis_model_cnn_bilstm_res.h5', monitor='val_loss', verbose=1, save_best_only=True, mode='auto'), \n",
    "                 ReduceLROnPlateau(monitor='val_loss', factor=0.2, patience=10, min_lr=0.001)]\n",
    "\n",
    "print('Model CNN BiLSTM UNRES')\n",
    "model_cnn_lstm_unres.summary()\n",
    "print('Model CNN BiLSTM RES')\n",
    "model_cnn_lstm_res.summary()"
   ]
  },
  {
   "cell_type": "code",
   "execution_count": null,
   "metadata": {
    "colab": {
     "base_uri": "https://localhost:8080/",
     "height": 1000
    },
    "colab_type": "code",
    "id": "gpsg2azB42sF",
    "outputId": "cda0a205-5716-45ea-b1a8-d93c44da660c"
   },
   "outputs": [
    {
     "name": "stderr",
     "output_type": "stream",
     "text": [
      "/usr/local/lib/python3.6/dist-packages/tensorflow/python/framework/indexed_slices.py:434: UserWarning: Converting sparse IndexedSlices to a dense Tensor of unknown shape. This may consume a large amount of memory.\n",
      "  \"Converting sparse IndexedSlices to a dense Tensor of unknown shape. \"\n"
     ]
    },
    {
     "name": "stdout",
     "output_type": "stream",
     "text": [
      "Train on 3756 samples, validate on 805 samples\n",
      "Epoch 1/100\n",
      "3756/3756 [==============================] - 88s 23ms/step - loss: 2.1310 - acc: 0.6368 - f1: 0.6171 - val_loss: 0.7634 - val_acc: 0.7280 - val_f1: 0.6823\n",
      "\n",
      "Epoch 00001: val_loss improved from inf to 0.76337, saving model to /content/drive/My Drive/Tesis/Hasil NN Tesis/CNN LSTM/tesis_model_cnn_bilstm_unres.h5\n",
      "Epoch 2/100\n",
      "3756/3756 [==============================] - 87s 23ms/step - loss: 0.7195 - acc: 0.7441 - f1: 0.7359 - val_loss: 0.6571 - val_acc: 0.7478 - val_f1: 0.7487\n",
      "\n",
      "Epoch 00002: val_loss improved from 0.76337 to 0.65709, saving model to /content/drive/My Drive/Tesis/Hasil NN Tesis/CNN LSTM/tesis_model_cnn_bilstm_unres.h5\n",
      "Epoch 3/100\n",
      "3756/3756 [==============================] - 86s 23ms/step - loss: 0.6329 - acc: 0.7766 - f1: 0.7731 - val_loss: 0.5987 - val_acc: 0.7851 - val_f1: 0.7732\n",
      "\n",
      "Epoch 00003: val_loss improved from 0.65709 to 0.59869, saving model to /content/drive/My Drive/Tesis/Hasil NN Tesis/CNN LSTM/tesis_model_cnn_bilstm_unres.h5\n",
      "Epoch 4/100\n",
      "3756/3756 [==============================] - 87s 23ms/step - loss: 0.5789 - acc: 0.8056 - f1: 0.8018 - val_loss: 0.6066 - val_acc: 0.7814 - val_f1: 0.7681\n",
      "\n",
      "Epoch 00004: val_loss did not improve from 0.59869\n",
      "Epoch 5/100\n",
      "3756/3756 [==============================] - 86s 23ms/step - loss: 0.5164 - acc: 0.8219 - f1: 0.8205 - val_loss: 0.6103 - val_acc: 0.7727 - val_f1: 0.7765\n",
      "\n",
      "Epoch 00005: val_loss did not improve from 0.59869\n",
      "Epoch 6/100\n",
      "3756/3756 [==============================] - 87s 23ms/step - loss: 0.4703 - acc: 0.8395 - f1: 0.8385 - val_loss: 0.5893 - val_acc: 0.8062 - val_f1: 0.7964\n",
      "\n",
      "Epoch 00006: val_loss improved from 0.59869 to 0.58929, saving model to /content/drive/My Drive/Tesis/Hasil NN Tesis/CNN LSTM/tesis_model_cnn_bilstm_unres.h5\n",
      "Epoch 7/100\n",
      "3756/3756 [==============================] - 86s 23ms/step - loss: 0.4299 - acc: 0.8549 - f1: 0.8545 - val_loss: 0.6657 - val_acc: 0.7851 - val_f1: 0.7743\n",
      "\n",
      "Epoch 00007: val_loss did not improve from 0.58929\n",
      "Epoch 8/100\n",
      "3756/3756 [==============================] - 87s 23ms/step - loss: 0.3917 - acc: 0.8749 - f1: 0.8738 - val_loss: 0.6253 - val_acc: 0.7975 - val_f1: 0.7834\n",
      "\n",
      "Epoch 00008: val_loss did not improve from 0.58929\n",
      "Epoch 9/100\n",
      "3756/3756 [==============================] - 86s 23ms/step - loss: 0.3562 - acc: 0.8791 - f1: 0.8777 - val_loss: 0.6780 - val_acc: 0.7938 - val_f1: 0.7954\n",
      "\n",
      "Epoch 00009: val_loss did not improve from 0.58929\n",
      "Epoch 10/100\n",
      "3756/3756 [==============================] - 87s 23ms/step - loss: 0.3484 - acc: 0.8943 - f1: 0.8945 - val_loss: 0.8033 - val_acc: 0.7901 - val_f1: 0.7935\n",
      "\n",
      "Epoch 00010: val_loss did not improve from 0.58929\n",
      "Epoch 11/100\n",
      "3756/3756 [==============================] - 88s 23ms/step - loss: 0.3275 - acc: 0.8988 - f1: 0.8978 - val_loss: 0.6685 - val_acc: 0.7988 - val_f1: 0.7975\n",
      "\n",
      "Epoch 00011: val_loss did not improve from 0.58929\n",
      "Epoch 12/100\n",
      "3756/3756 [==============================] - 87s 23ms/step - loss: 0.3073 - acc: 0.9097 - f1: 0.9097 - val_loss: 0.9085 - val_acc: 0.7988 - val_f1: 0.8022\n",
      "\n",
      "Epoch 00012: val_loss did not improve from 0.58929\n",
      "Epoch 13/100\n",
      "3756/3756 [==============================] - 86s 23ms/step - loss: 0.2759 - acc: 0.9167 - f1: 0.9151 - val_loss: 0.8309 - val_acc: 0.8012 - val_f1: 0.8042\n",
      "\n",
      "Epoch 00013: val_loss did not improve from 0.58929\n",
      "Epoch 14/100\n",
      "3756/3756 [==============================] - 87s 23ms/step - loss: 0.3004 - acc: 0.9156 - f1: 0.9156 - val_loss: 0.8736 - val_acc: 0.7789 - val_f1: 0.7846\n",
      "\n",
      "Epoch 00014: val_loss did not improve from 0.58929\n",
      "Epoch 15/100\n",
      "3756/3756 [==============================] - 88s 23ms/step - loss: 0.2662 - acc: 0.9225 - f1: 0.9222 - val_loss: 0.9149 - val_acc: 0.7801 - val_f1: 0.7707\n",
      "\n",
      "Epoch 00015: val_loss did not improve from 0.58929\n",
      "Epoch 16/100\n",
      "3756/3756 [==============================] - 88s 23ms/step - loss: 0.2418 - acc: 0.9308 - f1: 0.9306 - val_loss: 0.9284 - val_acc: 0.7950 - val_f1: 0.7827\n",
      "\n",
      "Epoch 00016: val_loss did not improve from 0.58929\n",
      "Epoch 00016: early stopping\n"
     ]
    }
   ],
   "source": [
    "tesis_model_cnn_bilstm_unres = model_cnn_bilstm_unres.fit(x_train, y_train, batch_size=12, epochs=100, \n",
    "                                                      validation_data=(x_val, y_val), callbacks=callbacks_unres, shuffle=True, verbose=1)"
   ]
  },
  {
   "cell_type": "code",
   "execution_count": null,
   "metadata": {
    "colab": {
     "base_uri": "https://localhost:8080/",
     "height": 1000
    },
    "colab_type": "code",
    "id": "mfOCCdVqWBRG",
    "outputId": "0dc15fa0-3c70-4a2c-a36e-b4a0bd3aca92"
   },
   "outputs": [
    {
     "name": "stderr",
     "output_type": "stream",
     "text": [
      "/usr/local/lib/python3.6/dist-packages/tensorflow/python/framework/indexed_slices.py:434: UserWarning: Converting sparse IndexedSlices to a dense Tensor of unknown shape. This may consume a large amount of memory.\n",
      "  \"Converting sparse IndexedSlices to a dense Tensor of unknown shape. \"\n"
     ]
    },
    {
     "name": "stdout",
     "output_type": "stream",
     "text": [
      "Train on 8145 samples, validate on 805 samples\n",
      "Epoch 1/100\n",
      "8145/8145 [==============================] - 162s 20ms/step - loss: 0.9439 - acc: 0.5538 - f1: 0.4712 - val_loss: 0.9141 - val_acc: 0.6497 - val_f1: 0.5568\n",
      "\n",
      "Epoch 00001: val_loss improved from inf to 0.91406, saving model to /content/drive/My Drive/Tesis/Hasil NN Tesis/CNN LSTM/tesis_model_cnn_bilstm_res.h5\n",
      "Epoch 2/100\n",
      "8145/8145 [==============================] - 161s 20ms/step - loss: 0.8536 - acc: 0.6106 - f1: 0.5589 - val_loss: 0.8099 - val_acc: 0.7230 - val_f1: 0.6608\n",
      "\n",
      "Epoch 00002: val_loss improved from 0.91406 to 0.80994, saving model to /content/drive/My Drive/Tesis/Hasil NN Tesis/CNN LSTM/tesis_model_cnn_bilstm_res.h5\n",
      "Epoch 3/100\n",
      "8145/8145 [==============================] - 161s 20ms/step - loss: 0.7958 - acc: 0.6394 - f1: 0.6035 - val_loss: 0.8067 - val_acc: 0.7006 - val_f1: 0.6557\n",
      "\n",
      "Epoch 00003: val_loss improved from 0.80994 to 0.80672, saving model to /content/drive/My Drive/Tesis/Hasil NN Tesis/CNN LSTM/tesis_model_cnn_bilstm_res.h5\n",
      "Epoch 4/100\n",
      "8145/8145 [==============================] - 161s 20ms/step - loss: 0.7681 - acc: 0.6566 - f1: 0.6320 - val_loss: 0.8521 - val_acc: 0.6708 - val_f1: 0.6293\n",
      "\n",
      "Epoch 00004: val_loss did not improve from 0.80672\n",
      "Epoch 5/100\n",
      "8145/8145 [==============================] - 160s 20ms/step - loss: 0.7322 - acc: 0.6814 - f1: 0.6602 - val_loss: 0.8367 - val_acc: 0.7006 - val_f1: 0.6701\n",
      "\n",
      "Epoch 00005: val_loss did not improve from 0.80672\n",
      "Epoch 6/100\n",
      "8145/8145 [==============================] - 160s 20ms/step - loss: 0.6839 - acc: 0.7024 - f1: 0.6859 - val_loss: 0.8816 - val_acc: 0.6894 - val_f1: 0.6592\n",
      "\n",
      "Epoch 00006: val_loss did not improve from 0.80672\n",
      "Epoch 7/100\n",
      "8145/8145 [==============================] - 160s 20ms/step - loss: 0.6569 - acc: 0.7164 - f1: 0.7042 - val_loss: 1.0142 - val_acc: 0.6634 - val_f1: 0.6372\n",
      "\n",
      "Epoch 00007: val_loss did not improve from 0.80672\n",
      "Epoch 8/100\n",
      "8145/8145 [==============================] - 160s 20ms/step - loss: 0.6400 - acc: 0.7337 - f1: 0.7222 - val_loss: 1.0351 - val_acc: 0.6298 - val_f1: 0.6088\n",
      "\n",
      "Epoch 00008: val_loss did not improve from 0.80672\n",
      "Epoch 9/100\n",
      "8145/8145 [==============================] - 160s 20ms/step - loss: 0.6026 - acc: 0.7495 - f1: 0.7415 - val_loss: 1.0352 - val_acc: 0.6335 - val_f1: 0.6190\n",
      "\n",
      "Epoch 00009: val_loss did not improve from 0.80672\n",
      "Epoch 10/100\n",
      "8145/8145 [==============================] - 160s 20ms/step - loss: 0.5607 - acc: 0.7699 - f1: 0.7647 - val_loss: 1.1260 - val_acc: 0.6087 - val_f1: 0.5903\n",
      "\n",
      "Epoch 00010: val_loss did not improve from 0.80672\n",
      "Epoch 11/100\n",
      "8145/8145 [==============================] - 161s 20ms/step - loss: 0.5430 - acc: 0.7801 - f1: 0.7747 - val_loss: 1.2641 - val_acc: 0.6559 - val_f1: 0.6477\n",
      "\n",
      "Epoch 00011: val_loss did not improve from 0.80672\n",
      "Epoch 12/100\n",
      "8145/8145 [==============================] - 160s 20ms/step - loss: 0.5182 - acc: 0.7934 - f1: 0.7888 - val_loss: 1.4062 - val_acc: 0.6149 - val_f1: 0.5919\n",
      "\n",
      "Epoch 00012: val_loss did not improve from 0.80672\n",
      "Epoch 13/100\n",
      "8145/8145 [==============================] - 161s 20ms/step - loss: 0.4989 - acc: 0.8025 - f1: 0.8017 - val_loss: 1.0826 - val_acc: 0.6646 - val_f1: 0.6365\n",
      "\n",
      "Epoch 00013: val_loss did not improve from 0.80672\n",
      "Epoch 00013: early stopping\n"
     ]
    }
   ],
   "source": [
    "tesis_model_cnn_bilstm_res = model_cnn_bilstm_res.fit(x_res, y_res, batch_size=12, epochs=100,\n",
    "                                            validation_data=(x_val, y_val), callbacks=callbacks_res, shuffle=True, verbose=1)"
   ]
  },
  {
   "cell_type": "code",
   "execution_count": null,
   "metadata": {
    "colab": {},
    "colab_type": "code",
    "id": "aXTczluqBeqy"
   },
   "outputs": [],
   "source": []
  }
 ],
 "metadata": {
  "colab": {
   "collapsed_sections": [
    "O2vAZuaSb4qv",
    "4oK_DLvUluim",
    "KxJeqfNhPsAC",
    "M4I5XAkDuMcs",
    "kdAMjcSrKLd1"
   ],
   "name": "FINAL TESIS SUMMARY",
   "provenance": [],
   "toc_visible": true
  },
  "kernelspec": {
   "display_name": "Python 3",
   "language": "python",
   "name": "python3"
  },
  "language_info": {
   "codemirror_mode": {
    "name": "ipython",
    "version": 3
   },
   "file_extension": ".py",
   "mimetype": "text/x-python",
   "name": "python",
   "nbconvert_exporter": "python",
   "pygments_lexer": "ipython3",
   "version": "3.7.7"
  }
 },
 "nbformat": 4,
 "nbformat_minor": 1
}
